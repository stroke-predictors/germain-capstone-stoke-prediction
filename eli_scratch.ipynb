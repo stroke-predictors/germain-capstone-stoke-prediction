{
 "cells": [
  {
   "cell_type": "code",
   "execution_count": 1,
   "id": "0c6ebd91-d47f-4b03-875c-5c4aa110f3f1",
   "metadata": {},
   "outputs": [],
   "source": [
    "import pandas as pd\n",
    "import numpy as np\n",
    "import prepare as p\n",
    "\n",
    "import warnings\n",
    "warnings.filterwarnings(\"ignore\")\n",
    "\n",
    "import matplotlib.pyplot as plt\n",
    "import seaborn as sns\n",
    "from sklearn.model_selection import train_test_split\n",
    "\n",
    "from sklearn.ensemble import RandomForestClassifier\n",
    "from sklearn.linear_model import LogisticRegression\n",
    "from sklearn.tree import DecisionTreeClassifier\n",
    "from sklearn.tree import export_graphviz\n",
    "from sklearn.metrics import classification_report\n",
    "from sklearn.metrics import confusion_matrix\n",
    "                                  \n",
    "import graphviz\n",
    "from graphviz import Graph\n",
    "\n",
    "from scipy import stats"
   ]
  },
  {
   "cell_type": "code",
   "execution_count": 2,
   "id": "0eb6f527-45a9-4019-b8bc-05812e2621a7",
   "metadata": {
    "tags": []
   },
   "outputs": [],
   "source": [
    "df = pd.read_csv('data/healthcare-dataset-stroke-data.csv')"
   ]
  },
  {
   "cell_type": "code",
   "execution_count": 3,
   "id": "77beb6dd-0f07-47e2-9ac0-71376e4b1f46",
   "metadata": {},
   "outputs": [],
   "source": [
    "import prepare"
   ]
  },
  {
   "cell_type": "code",
   "execution_count": 4,
   "id": "7f29fddd-9270-473a-98fa-754510d3ff54",
   "metadata": {},
   "outputs": [],
   "source": [
    "df = prepare.prep_data(df)"
   ]
  },
  {
   "cell_type": "code",
   "execution_count": 8,
   "id": "0fb33bdb-5e4f-4675-9d8e-3cd98b5bdb7a",
   "metadata": {},
   "outputs": [
    {
     "data": {
      "text/plain": [
       "Index(['gender', 'age', 'hypertension', 'heart_disease', 'ever_married',\n",
       "       'work_type', 'residence_type', 'avg_glucose_level', 'bmi',\n",
       "       'smoking_status', 'stroke', 'age_range'],\n",
       "      dtype='object')"
      ]
     },
     "execution_count": 8,
     "metadata": {},
     "output_type": "execute_result"
    }
   ],
   "source": [
    "df.columns"
   ]
  },
  {
   "cell_type": "code",
   "execution_count": 5,
   "id": "aeb3b200-623f-4f0a-b453-72621daede00",
   "metadata": {},
   "outputs": [],
   "source": [
    "df = df.drop(columns='age_range')"
   ]
  },
  {
   "cell_type": "code",
   "execution_count": 6,
   "id": "5f4366c6-43a8-4974-ac8b-ebd4f8ee7333",
   "metadata": {},
   "outputs": [
    {
     "data": {
      "text/html": [
       "<div>\n",
       "<style scoped>\n",
       "    .dataframe tbody tr th:only-of-type {\n",
       "        vertical-align: middle;\n",
       "    }\n",
       "\n",
       "    .dataframe tbody tr th {\n",
       "        vertical-align: top;\n",
       "    }\n",
       "\n",
       "    .dataframe thead th {\n",
       "        text-align: right;\n",
       "    }\n",
       "</style>\n",
       "<table border=\"1\" class=\"dataframe\">\n",
       "  <thead>\n",
       "    <tr style=\"text-align: right;\">\n",
       "      <th></th>\n",
       "      <th>gender</th>\n",
       "      <th>age</th>\n",
       "      <th>hypertension</th>\n",
       "      <th>heart_disease</th>\n",
       "      <th>ever_married</th>\n",
       "      <th>work_type</th>\n",
       "      <th>residence_type</th>\n",
       "      <th>avg_glucose_level</th>\n",
       "      <th>bmi</th>\n",
       "      <th>smoking_status</th>\n",
       "      <th>stroke</th>\n",
       "    </tr>\n",
       "  </thead>\n",
       "  <tbody>\n",
       "    <tr>\n",
       "      <th>0</th>\n",
       "      <td>Male</td>\n",
       "      <td>67.0</td>\n",
       "      <td>0</td>\n",
       "      <td>1</td>\n",
       "      <td>Yes</td>\n",
       "      <td>Private</td>\n",
       "      <td>Urban</td>\n",
       "      <td>228.69</td>\n",
       "      <td>36.6</td>\n",
       "      <td>formerly smoked</td>\n",
       "      <td>1</td>\n",
       "    </tr>\n",
       "    <tr>\n",
       "      <th>1</th>\n",
       "      <td>Female</td>\n",
       "      <td>61.0</td>\n",
       "      <td>0</td>\n",
       "      <td>0</td>\n",
       "      <td>Yes</td>\n",
       "      <td>Self-employed</td>\n",
       "      <td>Rural</td>\n",
       "      <td>202.21</td>\n",
       "      <td>30.6</td>\n",
       "      <td>never smoked</td>\n",
       "      <td>1</td>\n",
       "    </tr>\n",
       "    <tr>\n",
       "      <th>2</th>\n",
       "      <td>Male</td>\n",
       "      <td>80.0</td>\n",
       "      <td>0</td>\n",
       "      <td>1</td>\n",
       "      <td>Yes</td>\n",
       "      <td>Private</td>\n",
       "      <td>Rural</td>\n",
       "      <td>105.92</td>\n",
       "      <td>32.5</td>\n",
       "      <td>never smoked</td>\n",
       "      <td>1</td>\n",
       "    </tr>\n",
       "    <tr>\n",
       "      <th>3</th>\n",
       "      <td>Female</td>\n",
       "      <td>49.0</td>\n",
       "      <td>0</td>\n",
       "      <td>0</td>\n",
       "      <td>Yes</td>\n",
       "      <td>Private</td>\n",
       "      <td>Urban</td>\n",
       "      <td>171.23</td>\n",
       "      <td>34.4</td>\n",
       "      <td>smokes</td>\n",
       "      <td>1</td>\n",
       "    </tr>\n",
       "    <tr>\n",
       "      <th>4</th>\n",
       "      <td>Female</td>\n",
       "      <td>79.0</td>\n",
       "      <td>1</td>\n",
       "      <td>0</td>\n",
       "      <td>Yes</td>\n",
       "      <td>Self-employed</td>\n",
       "      <td>Rural</td>\n",
       "      <td>174.12</td>\n",
       "      <td>24.0</td>\n",
       "      <td>never smoked</td>\n",
       "      <td>1</td>\n",
       "    </tr>\n",
       "  </tbody>\n",
       "</table>\n",
       "</div>"
      ],
      "text/plain": [
       "   gender   age hypertension heart_disease ever_married      work_type  \\\n",
       "0    Male  67.0            0             1          Yes        Private   \n",
       "1  Female  61.0            0             0          Yes  Self-employed   \n",
       "2    Male  80.0            0             1          Yes        Private   \n",
       "3  Female  49.0            0             0          Yes        Private   \n",
       "4  Female  79.0            1             0          Yes  Self-employed   \n",
       "\n",
       "  residence_type  avg_glucose_level   bmi   smoking_status  stroke  \n",
       "0          Urban             228.69  36.6  formerly smoked       1  \n",
       "1          Rural             202.21  30.6     never smoked       1  \n",
       "2          Rural             105.92  32.5     never smoked       1  \n",
       "3          Urban             171.23  34.4           smokes       1  \n",
       "4          Rural             174.12  24.0     never smoked       1  "
      ]
     },
     "execution_count": 6,
     "metadata": {},
     "output_type": "execute_result"
    }
   ],
   "source": [
    "df.head()"
   ]
  },
  {
   "cell_type": "code",
   "execution_count": 7,
   "id": "e923b7ee-35be-49bd-ac6e-49155a670d61",
   "metadata": {},
   "outputs": [],
   "source": [
    "# create age group dataFrames\n",
    "\n",
    "over_65 = df[df.age >= 65]\n",
    "adult_40_65 = df[(df.age >= 40) & (df.age < 65)]\n",
    "adult_25_40 = df[(df.age >= 25) & (df.age < 40)] # greater than or equal to 25, under 40\n",
    "adult_18_25 = df[(df.age >= 18) & (df.age < 25)]"
   ]
  },
  {
   "cell_type": "code",
   "execution_count": 8,
   "id": "455e388c-4d25-4431-a186-616d05c0c896",
   "metadata": {},
   "outputs": [
    {
     "data": {
      "image/png": "[encoded data removed]",
      "text/plain": [
       "<Figure size 432x288 with 1 Axes>"
      ]
     },
     "metadata": {
      "needs_background": "light"
     },
     "output_type": "display_data"
    }
   ],
   "source": [
    "heights = [round(over_65.stroke.mean(), 3), round(adult_40_65.stroke.mean(), 3), round(adult_25_40.stroke.mean(), 3), round(adult_18_25.stroke.mean(), 3)]\n",
    "x_labels = ['Over 65', '40-64', '25-40', '18-25']\n",
    "plt.bar(x=x_labels, height=heights)\n",
    "plt.ylabel(\"Mean Stroke Probability\")\n",
    "plt.title('Stroke Probability by Age Group')\n",
    "plt.show()"
   ]
  },
  {
   "cell_type": "markdown",
   "id": "f5343442-5cb1-4081-9d98-789c9b965fb8",
   "metadata": {},
   "source": [
    "Adult Body Mass Index or BMI\n",
    "> - If your BMI is less than 18.5, it falls within the underweight range.\n",
    "> - If your BMI is 18.5 to 24.9, it falls within the normal or Healthy Weight range.\n",
    "> - If your BMI is 25.0 to 29.9, it falls within the overweight range.\n",
    "> - If your BMI is 30.0 or higher, it falls within the obese range."
   ]
  },
  {
   "cell_type": "code",
   "execution_count": 9,
   "id": "cc651778-5138-4e0b-90b7-395039bdfbf8",
   "metadata": {},
   "outputs": [
    {
     "data": {
      "image/png": "[encoded data removed]",
      "text/plain": [
       "<Figure size 432x288 with 1 Axes>"
      ]
     },
     "metadata": {
      "needs_background": "light"
     },
     "output_type": "display_data"
    }
   ],
   "source": [
    "heights = [round(over_65.bmi.mean(), 3), round(adult_40_65.bmi.mean(), 3), round(adult_25_40.bmi.mean(), 3), round(adult_18_25.bmi.mean(), 3)]\n",
    "x_labels = ['Over 65', '40-64', '25-40', '18-25']\n",
    "plt.bar(x=x_labels, height=heights)\n",
    "plt.ylabel(\"Mean BMI\")\n",
    "plt.title('Mean BMI by Age Group')\n",
    "plt.show()"
   ]
  },
  {
   "cell_type": "markdown",
   "id": "437cdf29-2770-4b13-9e67-26884e7e8d84",
   "metadata": {},
   "source": [
    "# Looking specifically at age group 25 - 40"
   ]
  },
  {
   "cell_type": "code",
   "execution_count": 16,
   "id": "5c6e8a5a-5531-4158-8b2f-6a1fc2f2af62",
   "metadata": {},
   "outputs": [
    {
     "data": {
      "text/plain": [
       "(10263, (933, 11))"
      ]
     },
     "execution_count": 16,
     "metadata": {},
     "output_type": "execute_result"
    }
   ],
   "source": [
    "adult_25_40.size, adult_25_40.shape"
   ]
  },
  {
   "cell_type": "code",
   "execution_count": 17,
   "id": "2c35203e-509c-4309-9664-151864b7a355",
   "metadata": {},
   "outputs": [
    {
     "name": "stdout",
     "output_type": "stream",
     "text": [
      "<class 'pandas.core.frame.DataFrame'>\n",
      "Int64Index: 933 entries, 49 to 5106\n",
      "Data columns (total 11 columns):\n",
      " #   Column             Non-Null Count  Dtype  \n",
      "---  ------             --------------  -----  \n",
      " 0   gender             933 non-null    object \n",
      " 1   age                933 non-null    float64\n",
      " 2   hypertension       933 non-null    object \n",
      " 3   heart_disease      933 non-null    object \n",
      " 4   ever_married       933 non-null    object \n",
      " 5   work_type          933 non-null    object \n",
      " 6   residence_type     933 non-null    object \n",
      " 7   avg_glucose_level  933 non-null    float64\n",
      " 8   bmi                933 non-null    float64\n",
      " 9   smoking_status     933 non-null    object \n",
      " 10  stroke             933 non-null    int64  \n",
      "dtypes: float64(3), int64(1), object(7)\n",
      "memory usage: 87.5+ KB\n"
     ]
    }
   ],
   "source": [
    "adult_25_40.info()"
   ]
  },
  {
   "cell_type": "code",
   "execution_count": 10,
   "id": "9982b46f-76cc-452f-8652-6ba6dc5c952c",
   "metadata": {},
   "outputs": [
    {
     "data": {
      "text/plain": [
       "30.452840300107166"
      ]
     },
     "execution_count": 10,
     "metadata": {},
     "output_type": "execute_result"
    }
   ],
   "source": [
    "adult_25_40.bmi.mean()"
   ]
  },
  {
   "cell_type": "code",
   "execution_count": 18,
   "id": "80a70e68-7b19-4318-b298-e171c03efebd",
   "metadata": {},
   "outputs": [],
   "source": [
    "uw = adult_25_40[adult_25_40.bmi < 18.5]\n",
    "normal = adult_25_40[(adult_25_40.bmi >= 18.5) & (adult_25_40.bmi < 25)]\n",
    "ow = adult_25_40[(adult_25_40.bmi >= 25) & (adult_25_40.bmi < 30)]\n",
    "obese = adult_25_40[adult_25_40.bmi >= 30]"
   ]
  },
  {
   "cell_type": "code",
   "execution_count": 19,
   "id": "60b7d712-f636-4d26-9754-bffbc92de398",
   "metadata": {},
   "outputs": [
    {
     "data": {
      "text/plain": [
       "((5, 11), (235, 11), (281, 11), (412, 11))"
      ]
     },
     "execution_count": 19,
     "metadata": {},
     "output_type": "execute_result"
    }
   ],
   "source": [
    "uw.shape, normal.shape, ow.shape, obese.shape"
   ]
  },
  {
   "cell_type": "code",
   "execution_count": 20,
   "id": "ae18f7c4-046a-410d-afc4-89bbf6edac2f",
   "metadata": {},
   "outputs": [
    {
     "data": {
      "image/png": "[encoded data removed]",
      "text/plain": [
       "<Figure size 432x288 with 1 Axes>"
      ]
     },
     "metadata": {
      "needs_background": "light"
     },
     "output_type": "display_data"
    }
   ],
   "source": [
    "heights = [round(uw.stroke.mean(), 3), round(normal.stroke.mean(), 3), round(ow.stroke.mean(), 3), round(obese.stroke.mean(), 3)]\n",
    "x_labels = ['Underweight', 'Normal', 'Overweight', 'Obese']\n",
    "plt.bar(x=x_labels, height=heights)\n",
    "plt.ylabel(\"Mean Stroke Probability\")\n",
    "plt.title('Stroke Probability by BMI category')\n",
    "plt.show()"
   ]
  },
  {
   "cell_type": "code",
   "execution_count": 21,
   "id": "c5cd8d41-fc21-4887-baa2-23e453ea5be5",
   "metadata": {},
   "outputs": [
    {
     "data": {
      "text/html": [
       "<div>\n",
       "<style scoped>\n",
       "    .dataframe tbody tr th:only-of-type {\n",
       "        vertical-align: middle;\n",
       "    }\n",
       "\n",
       "    .dataframe tbody tr th {\n",
       "        vertical-align: top;\n",
       "    }\n",
       "\n",
       "    .dataframe thead th {\n",
       "        text-align: right;\n",
       "    }\n",
       "</style>\n",
       "<table border=\"1\" class=\"dataframe\">\n",
       "  <thead>\n",
       "    <tr style=\"text-align: right;\">\n",
       "      <th></th>\n",
       "      <th>gender</th>\n",
       "      <th>age</th>\n",
       "      <th>hypertension</th>\n",
       "      <th>heart_disease</th>\n",
       "      <th>ever_married</th>\n",
       "      <th>work_type</th>\n",
       "      <th>residence_type</th>\n",
       "      <th>avg_glucose_level</th>\n",
       "      <th>bmi</th>\n",
       "      <th>smoking_status</th>\n",
       "      <th>stroke</th>\n",
       "    </tr>\n",
       "  </thead>\n",
       "  <tbody>\n",
       "    <tr>\n",
       "      <th>49</th>\n",
       "      <td>Female</td>\n",
       "      <td>39.0</td>\n",
       "      <td>1</td>\n",
       "      <td>0</td>\n",
       "      <td>Yes</td>\n",
       "      <td>Private</td>\n",
       "      <td>Rural</td>\n",
       "      <td>58.09</td>\n",
       "      <td>39.2</td>\n",
       "      <td>smokes</td>\n",
       "      <td>1</td>\n",
       "    </tr>\n",
       "    <tr>\n",
       "      <th>133</th>\n",
       "      <td>Female</td>\n",
       "      <td>38.0</td>\n",
       "      <td>0</td>\n",
       "      <td>0</td>\n",
       "      <td>Yes</td>\n",
       "      <td>Private</td>\n",
       "      <td>Rural</td>\n",
       "      <td>101.45</td>\n",
       "      <td>31.1</td>\n",
       "      <td>formerly smoked</td>\n",
       "      <td>1</td>\n",
       "    </tr>\n",
       "    <tr>\n",
       "      <th>257</th>\n",
       "      <td>Female</td>\n",
       "      <td>32.0</td>\n",
       "      <td>0</td>\n",
       "      <td>0</td>\n",
       "      <td>Yes</td>\n",
       "      <td>Private</td>\n",
       "      <td>Rural</td>\n",
       "      <td>77.67</td>\n",
       "      <td>32.3</td>\n",
       "      <td>smokes</td>\n",
       "      <td>0</td>\n",
       "    </tr>\n",
       "    <tr>\n",
       "      <th>261</th>\n",
       "      <td>Female</td>\n",
       "      <td>37.0</td>\n",
       "      <td>0</td>\n",
       "      <td>0</td>\n",
       "      <td>Yes</td>\n",
       "      <td>Private</td>\n",
       "      <td>Rural</td>\n",
       "      <td>162.96</td>\n",
       "      <td>39.4</td>\n",
       "      <td>never smoked</td>\n",
       "      <td>0</td>\n",
       "    </tr>\n",
       "    <tr>\n",
       "      <th>264</th>\n",
       "      <td>Male</td>\n",
       "      <td>35.0</td>\n",
       "      <td>0</td>\n",
       "      <td>0</td>\n",
       "      <td>No</td>\n",
       "      <td>Private</td>\n",
       "      <td>Rural</td>\n",
       "      <td>85.37</td>\n",
       "      <td>33.0</td>\n",
       "      <td>never smoked</td>\n",
       "      <td>0</td>\n",
       "    </tr>\n",
       "  </tbody>\n",
       "</table>\n",
       "</div>"
      ],
      "text/plain": [
       "     gender   age hypertension heart_disease ever_married work_type  \\\n",
       "49   Female  39.0            1             0          Yes   Private   \n",
       "133  Female  38.0            0             0          Yes   Private   \n",
       "257  Female  32.0            0             0          Yes   Private   \n",
       "261  Female  37.0            0             0          Yes   Private   \n",
       "264    Male  35.0            0             0           No   Private   \n",
       "\n",
       "    residence_type  avg_glucose_level   bmi   smoking_status  stroke  \n",
       "49           Rural              58.09  39.2           smokes       1  \n",
       "133          Rural             101.45  31.1  formerly smoked       1  \n",
       "257          Rural              77.67  32.3           smokes       0  \n",
       "261          Rural             162.96  39.4     never smoked       0  \n",
       "264          Rural              85.37  33.0     never smoked       0  "
      ]
     },
     "execution_count": 21,
     "metadata": {},
     "output_type": "execute_result"
    }
   ],
   "source": [
    "obese.head()"
   ]
  },
  {
   "cell_type": "code",
   "execution_count": 27,
   "id": "37dcff64-83d1-448f-85f7-1bda5d114218",
   "metadata": {},
   "outputs": [
    {
     "data": {
      "image/png": "[encoded data removed]",
      "text/plain": [
       "<Figure size 432x288 with 1 Axes>"
      ]
     },
     "metadata": {
      "needs_background": "light"
     },
     "output_type": "display_data"
    },
    {
     "data": {
      "image/png": "[encoded data removed]",
      "text/plain": [
       "<Figure size 432x288 with 1 Axes>"
      ]
     },
     "metadata": {
      "needs_background": "light"
     },
     "output_type": "display_data"
    },
    {
     "data": {
      "image/png": "[encoded data removed]",
      "text/plain": [
       "<Figure size 432x288 with 1 Axes>"
      ]
     },
     "metadata": {
      "needs_background": "light"
     },
     "output_type": "display_data"
    },
    {
     "data": {
      "image/png": "[encoded data removed]",
      "text/plain": [
       "<Figure size 432x288 with 1 Axes>"
      ]
     },
     "metadata": {
      "needs_background": "light"
     },
     "output_type": "display_data"
    }
   ],
   "source": [
    "list_of_df = [uw, normal, ow, obese]\n",
    "list_of_df_names = ['underweight', 'normalweight', 'overweight', 'obese']\n",
    "\n",
    "i=0\n",
    "\n",
    "for df in list_of_df:\n",
    "    plt.title(f\"Avg glucose levels for {list_of_df_names[i]} individuals with/without stroke\")\n",
    "    i+=1\n",
    "    sns.boxplot(x=\"hypertension\", y=\"avg_glucose_level\", data=df, hue=\"stroke\")\n",
    "    population_survival_rate = df.stroke.mean()\n",
    "    plt.axhline(population_survival_rate)\n",
    "    plt.show()"
   ]
  },
  {
   "cell_type": "code",
   "execution_count": null,
   "id": "8471330e-c749-4b19-9e99-74eb609bf460",
   "metadata": {},
   "outputs": [],
   "source": [
    "# Takeaways: for models\n",
    "- No strokes or hypertension for underweight individuals\n",
    "- No hypertension for normalweight individuals\n",
    "- OW individuals with hypertension have higher avg_glucose_levels\n",
    "- Avg_glucose_level is about the same regardless of hypertension for obese individuals. "
   ]
  },
  {
   "cell_type": "code",
   "execution_count": 28,
   "id": "700cb379-437b-4bd9-aca6-0a6d7bb0262f",
   "metadata": {},
   "outputs": [
    {
     "data": {
      "text/plain": [
       "1"
      ]
     },
     "execution_count": 28,
     "metadata": {},
     "output_type": "execute_result"
    }
   ],
   "source": [
    "normal.stroke.sum()"
   ]
  },
  {
   "cell_type": "code",
   "execution_count": 29,
   "id": "7995f6fc-27f7-44e3-9484-83388e6664da",
   "metadata": {},
   "outputs": [
    {
     "data": {
      "image/png": "[encoded data removed]",
      "text/plain": [
       "<Figure size 432x288 with 1 Axes>"
      ]
     },
     "metadata": {
      "needs_background": "light"
     },
     "output_type": "display_data"
    },
    {
     "data": {
      "image/png": "[encoded data removed]",
      "text/plain": [
       "<Figure size 432x288 with 1 Axes>"
      ]
     },
     "metadata": {
      "needs_background": "light"
     },
     "output_type": "display_data"
    },
    {
     "data": {
      "image/png": "[encoded data removed]",
      "text/plain": [
       "<Figure size 432x288 with 1 Axes>"
      ]
     },
     "metadata": {
      "needs_background": "light"
     },
     "output_type": "display_data"
    },
    {
     "data": {
      "image/png": "[encoded data removed]",
      "text/plain": [
       "<Figure size 432x288 with 1 Axes>"
      ]
     },
     "metadata": {
      "needs_background": "light"
     },
     "output_type": "display_data"
    }
   ],
   "source": [
    "list_of_df = [uw, normal, ow, obese]\n",
    "list_of_df_names = ['underweight', 'normalweight', 'overweight', 'obese']\n",
    "\n",
    "i=0\n",
    "\n",
    "for df in list_of_df:\n",
    "    plt.title(f\"Avg age levels for {list_of_df_names[i]} individuals with/without stroke\")\n",
    "    i+=1\n",
    "    sns.boxplot(x=\"hypertension\", y=\"age\", data=df, hue=\"stroke\")\n",
    "    population_survival_rate = df.stroke.mean()\n",
    "    plt.axhline(population_survival_rate)\n",
    "    plt.show()"
   ]
  },
  {
   "cell_type": "code",
   "execution_count": 31,
   "id": "c270f649-a390-4d70-bc88-3978480cd605",
   "metadata": {},
   "outputs": [
    {
     "data": {
      "image/png": "[encoded data removed]",
      "text/plain": [
       "<Figure size 432x288 with 1 Axes>"
      ]
     },
     "metadata": {
      "needs_background": "light"
     },
     "output_type": "display_data"
    },
    {
     "data": {
      "image/png": "[encoded data removed]",
      "text/plain": [
       "<Figure size 432x288 with 1 Axes>"
      ]
     },
     "metadata": {
      "needs_background": "light"
     },
     "output_type": "display_data"
    },
    {
     "data": {
      "image/png": "[encoded data removed]",
      "text/plain": [
       "<Figure size 432x288 with 1 Axes>"
      ]
     },
     "metadata": {
      "needs_background": "light"
     },
     "output_type": "display_data"
    },
    {
     "data": {
      "image/png": "[encoded data removed]",
      "text/plain": [
       "<Figure size 432x288 with 1 Axes>"
      ]
     },
     "metadata": {
      "needs_background": "light"
     },
     "output_type": "display_data"
    }
   ],
   "source": [
    "list_of_df = [uw, normal, ow, obese]\n",
    "list_of_df_names = ['underweight', 'normalweight', 'overweight', 'obese']\n",
    "\n",
    "i=0\n",
    "\n",
    "for df in list_of_df:\n",
    "    plt.title(f\"Avg age levels for {list_of_df_names[i]} individuals with/without stroke\")\n",
    "    i+=1\n",
    "    sns.boxplot(x=\"smoking_status\", y=\"age\", data=df, hue=\"stroke\")\n",
    "    population_survival_rate = df.stroke.mean()\n",
    "    plt.axhline(population_survival_rate)\n",
    "    plt.show()"
   ]
  },
  {
   "cell_type": "code",
   "execution_count": 34,
   "id": "9e68e3c3-e074-427e-ab35-a13937e13da6",
   "metadata": {},
   "outputs": [
    {
     "data": {
      "text/plain": [
       "(0, 1, 3, 2)"
      ]
     },
     "execution_count": 34,
     "metadata": {},
     "output_type": "execute_result"
    }
   ],
   "source": [
    "uw.stroke.sum(), normal.stroke.sum(), ow.stroke.sum(), obese.stroke.sum()"
   ]
  },
  {
   "cell_type": "code",
   "execution_count": 35,
   "id": "c1738e64-70e3-46e3-9240-5b4da4eb33ae",
   "metadata": {},
   "outputs": [
    {
     "data": {
      "text/html": [
       "<div>\n",
       "<style scoped>\n",
       "    .dataframe tbody tr th:only-of-type {\n",
       "        vertical-align: middle;\n",
       "    }\n",
       "\n",
       "    .dataframe tbody tr th {\n",
       "        vertical-align: top;\n",
       "    }\n",
       "\n",
       "    .dataframe thead th {\n",
       "        text-align: right;\n",
       "    }\n",
       "</style>\n",
       "<table border=\"1\" class=\"dataframe\">\n",
       "  <thead>\n",
       "    <tr style=\"text-align: right;\">\n",
       "      <th></th>\n",
       "      <th>gender</th>\n",
       "      <th>age</th>\n",
       "      <th>hypertension</th>\n",
       "      <th>heart_disease</th>\n",
       "      <th>ever_married</th>\n",
       "      <th>work_type</th>\n",
       "      <th>residence_type</th>\n",
       "      <th>avg_glucose_level</th>\n",
       "      <th>bmi</th>\n",
       "      <th>smoking_status</th>\n",
       "      <th>stroke</th>\n",
       "    </tr>\n",
       "  </thead>\n",
       "  <tbody>\n",
       "    <tr>\n",
       "      <th>49</th>\n",
       "      <td>Female</td>\n",
       "      <td>39.0</td>\n",
       "      <td>1</td>\n",
       "      <td>0</td>\n",
       "      <td>Yes</td>\n",
       "      <td>Private</td>\n",
       "      <td>Rural</td>\n",
       "      <td>58.09</td>\n",
       "      <td>39.2</td>\n",
       "      <td>smokes</td>\n",
       "      <td>1</td>\n",
       "    </tr>\n",
       "    <tr>\n",
       "      <th>118</th>\n",
       "      <td>Female</td>\n",
       "      <td>38.0</td>\n",
       "      <td>0</td>\n",
       "      <td>0</td>\n",
       "      <td>No</td>\n",
       "      <td>Self-employed</td>\n",
       "      <td>Urban</td>\n",
       "      <td>82.28</td>\n",
       "      <td>24.0</td>\n",
       "      <td>formerly smoked</td>\n",
       "      <td>1</td>\n",
       "    </tr>\n",
       "    <tr>\n",
       "      <th>133</th>\n",
       "      <td>Female</td>\n",
       "      <td>38.0</td>\n",
       "      <td>0</td>\n",
       "      <td>0</td>\n",
       "      <td>Yes</td>\n",
       "      <td>Private</td>\n",
       "      <td>Rural</td>\n",
       "      <td>101.45</td>\n",
       "      <td>31.1</td>\n",
       "      <td>formerly smoked</td>\n",
       "      <td>1</td>\n",
       "    </tr>\n",
       "    <tr>\n",
       "      <th>182</th>\n",
       "      <td>Female</td>\n",
       "      <td>32.0</td>\n",
       "      <td>0</td>\n",
       "      <td>0</td>\n",
       "      <td>Yes</td>\n",
       "      <td>Private</td>\n",
       "      <td>Rural</td>\n",
       "      <td>76.13</td>\n",
       "      <td>29.9</td>\n",
       "      <td>smokes</td>\n",
       "      <td>1</td>\n",
       "    </tr>\n",
       "    <tr>\n",
       "      <th>210</th>\n",
       "      <td>Female</td>\n",
       "      <td>39.0</td>\n",
       "      <td>0</td>\n",
       "      <td>0</td>\n",
       "      <td>Yes</td>\n",
       "      <td>Private</td>\n",
       "      <td>Urban</td>\n",
       "      <td>83.24</td>\n",
       "      <td>26.3</td>\n",
       "      <td>never smoked</td>\n",
       "      <td>1</td>\n",
       "    </tr>\n",
       "    <tr>\n",
       "      <th>228</th>\n",
       "      <td>Female</td>\n",
       "      <td>39.0</td>\n",
       "      <td>0</td>\n",
       "      <td>0</td>\n",
       "      <td>Yes</td>\n",
       "      <td>Self-employed</td>\n",
       "      <td>Urban</td>\n",
       "      <td>97.76</td>\n",
       "      <td>29.6</td>\n",
       "      <td>smokes</td>\n",
       "      <td>1</td>\n",
       "    </tr>\n",
       "  </tbody>\n",
       "</table>\n",
       "</div>"
      ],
      "text/plain": [
       "     gender   age hypertension heart_disease ever_married      work_type  \\\n",
       "49   Female  39.0            1             0          Yes        Private   \n",
       "118  Female  38.0            0             0           No  Self-employed   \n",
       "133  Female  38.0            0             0          Yes        Private   \n",
       "182  Female  32.0            0             0          Yes        Private   \n",
       "210  Female  39.0            0             0          Yes        Private   \n",
       "228  Female  39.0            0             0          Yes  Self-employed   \n",
       "\n",
       "    residence_type  avg_glucose_level   bmi   smoking_status  stroke  \n",
       "49           Rural              58.09  39.2           smokes       1  \n",
       "118          Urban              82.28  24.0  formerly smoked       1  \n",
       "133          Rural             101.45  31.1  formerly smoked       1  \n",
       "182          Rural              76.13  29.9           smokes       1  \n",
       "210          Urban              83.24  26.3     never smoked       1  \n",
       "228          Urban              97.76  29.6           smokes       1  "
      ]
     },
     "execution_count": 35,
     "metadata": {},
     "output_type": "execute_result"
    }
   ],
   "source": [
    "adult_25_40[adult_25_40.stroke == 1]"
   ]
  },
  {
   "cell_type": "code",
   "execution_count": 36,
   "id": "64625a34-09c6-4ea7-a86d-354d8a55aaa2",
   "metadata": {},
   "outputs": [],
   "source": [
    "# all female, 1 hypertension, 0 heart_disease, 5 married, 4 private 2 self employed, \n",
    "# half rural half urban, glucose 60-100, bmi 24-39, 5 smoked once"
   ]
  },
  {
   "cell_type": "code",
   "execution_count": 45,
   "id": "4fc87417-e167-440c-aeb0-c252667aa8cf",
   "metadata": {},
   "outputs": [
    {
     "data": {
      "text/plain": [
       "Private          2534\n",
       "children          687\n",
       "Govt_job          564\n",
       "Self-employed     493\n",
       "Never_worked       22\n",
       "Name: work_type, dtype: int64"
      ]
     },
     "execution_count": 45,
     "metadata": {},
     "output_type": "execute_result"
    }
   ],
   "source": [
    "df[df.age < 69].work_type.value_counts()"
   ]
  },
  {
   "cell_type": "code",
   "execution_count": 43,
   "id": "9f897648-6d77-4e03-90e9-589ac8aeee1c",
   "metadata": {},
   "outputs": [
    {
     "data": {
      "text/plain": [
       "(5109, 12)"
      ]
     },
     "execution_count": 43,
     "metadata": {},
     "output_type": "execute_result"
    }
   ],
   "source": [
    "df.shape"
   ]
  },
  {
   "cell_type": "code",
   "execution_count": 48,
   "id": "20d61005-fd03-44db-923f-d43e904d6fdc",
   "metadata": {},
   "outputs": [
    {
     "data": {
      "text/plain": [
       "(71.0, 67.72819277108434)"
      ]
     },
     "execution_count": 48,
     "metadata": {},
     "output_type": "execute_result"
    }
   ],
   "source": [
    "df[df.stroke==1].age.median(), df[df.stroke==1].age.mean()"
   ]
  },
  {
   "cell_type": "code",
   "execution_count": null,
   "id": "1e710b13-97f4-4a10-ac6e-3f8cfe9f3248",
   "metadata": {},
   "outputs": [],
   "source": []
  },
  {
   "cell_type": "code",
   "execution_count": null,
   "id": "ccfdde89-c5e4-4f05-a8fe-2cb4360c2bc3",
   "metadata": {},
   "outputs": [],
   "source": []
  },
  {
   "cell_type": "code",
   "execution_count": null,
   "id": "bdda0f61-1b18-40eb-a054-c680f78805b8",
   "metadata": {},
   "outputs": [],
   "source": []
  },
  {
   "cell_type": "code",
   "execution_count": 2,
   "id": "867f1a90-a1bd-4568-9d46-9bf2bb329502",
   "metadata": {},
   "outputs": [],
   "source": [
    "from sklearn.naive_bayes import GaussianNB"
   ]
  },
  {
   "cell_type": "code",
   "execution_count": 4,
   "id": "f0b987f2-d4fa-429d-b4a2-2436a54678b4",
   "metadata": {},
   "outputs": [],
   "source": [
    "df = pd.read_csv('healthcare-dataset-stroke-data.csv')\n",
    "df = p.prep_data(df).drop(columns=['age_range',])\n",
    "df['stroke'] = df['stroke'].astype('int64')\n",
    "# set list of columns to one-hot encode\n",
    "col_list = ['gender','ever_married','work_type','residence_type','smoking_status']\n",
    "# apply one-hot encoding using above list\n",
    "df = pd.get_dummies(df, columns=col_list, drop_first=True)\n",
    "# split using same random state as explore stage\n",
    "trainvalidate, test = train_test_split(df, test_size=.2, random_state=777)\n",
    "train, validate = train_test_split(trainvalidate, test_size=.25, random_state=777)\n",
    "# isolate target\n",
    "X_train, y_train = train.drop(columns='stroke'), train.stroke\n",
    "X_validate, y_validate = validate.drop(columns='stroke'), validate.stroke\n",
    "X_test, y_test = test.drop(columns='stroke'), test.stroke"
   ]
  },
  {
   "cell_type": "code",
   "execution_count": null,
   "id": "c85df658-4f99-4982-a062-c302397f8441",
   "metadata": {},
   "outputs": [],
   "source": []
  },
  {
   "cell_type": "code",
   "execution_count": null,
   "id": "1e1d85a2-febd-4684-86b4-12417e7ca38e",
   "metadata": {},
   "outputs": [],
   "source": []
  },
  {
   "cell_type": "code",
   "execution_count": 5,
   "id": "3244c368-a561-4a78-a7f6-a4560af90838",
   "metadata": {},
   "outputs": [],
   "source": [
    "                                   \n",
    "# build, fit our best model inline (store model into cache)\n",
    "# create naive bayes model\n",
    "nb = GaussianNB(var_smoothing=0.00001).fit(X_train, y_train)\n",
    "# make predictions in new column\n",
    "y_train = pd.DataFrame(y_train)\n",
    "y_train['nb_best_model'] = nb.predict(X_train)\n",
    "y_test = pd.DataFrame(y_test).rename(columns={'stroke':'out_actuals'})\n",
    "y_test['nb_best_model']= nb.predict(X_test)"
   ]
  },
  {
   "cell_type": "code",
   "execution_count": 6,
   "id": "4915601d-af57-4b54-b2f8-08e12642f607",
   "metadata": {},
   "outputs": [
    {
     "data": {
      "text/html": [
       "<div>\n",
       "<style scoped>\n",
       "    .dataframe tbody tr th:only-of-type {\n",
       "        vertical-align: middle;\n",
       "    }\n",
       "\n",
       "    .dataframe tbody tr th {\n",
       "        vertical-align: top;\n",
       "    }\n",
       "\n",
       "    .dataframe thead th {\n",
       "        text-align: right;\n",
       "    }\n",
       "</style>\n",
       "<table border=\"1\" class=\"dataframe\">\n",
       "  <thead>\n",
       "    <tr style=\"text-align: right;\">\n",
       "      <th></th>\n",
       "      <th>stroke</th>\n",
       "      <th>nb_best_model</th>\n",
       "    </tr>\n",
       "  </thead>\n",
       "  <tbody>\n",
       "    <tr>\n",
       "      <th>448</th>\n",
       "      <td>0</td>\n",
       "      <td>0</td>\n",
       "    </tr>\n",
       "    <tr>\n",
       "      <th>4128</th>\n",
       "      <td>0</td>\n",
       "      <td>1</td>\n",
       "    </tr>\n",
       "    <tr>\n",
       "      <th>4699</th>\n",
       "      <td>0</td>\n",
       "      <td>0</td>\n",
       "    </tr>\n",
       "    <tr>\n",
       "      <th>5035</th>\n",
       "      <td>0</td>\n",
       "      <td>0</td>\n",
       "    </tr>\n",
       "    <tr>\n",
       "      <th>3007</th>\n",
       "      <td>0</td>\n",
       "      <td>0</td>\n",
       "    </tr>\n",
       "  </tbody>\n",
       "</table>\n",
       "</div>"
      ],
      "text/plain": [
       "      stroke  nb_best_model\n",
       "448        0              0\n",
       "4128       0              1\n",
       "4699       0              0\n",
       "5035       0              0\n",
       "3007       0              0"
      ]
     },
     "execution_count": 6,
     "metadata": {},
     "output_type": "execute_result"
    }
   ],
   "source": [
    "y_train.head()"
   ]
  },
  {
   "cell_type": "code",
   "execution_count": 9,
   "id": "7ac45e54-7adf-4e52-bc36-1a3491f1cf98",
   "metadata": {},
   "outputs": [
    {
     "data": {
      "text/html": [
       "<div>\n",
       "<style scoped>\n",
       "    .dataframe tbody tr th:only-of-type {\n",
       "        vertical-align: middle;\n",
       "    }\n",
       "\n",
       "    .dataframe tbody tr th {\n",
       "        vertical-align: top;\n",
       "    }\n",
       "\n",
       "    .dataframe thead th {\n",
       "        text-align: right;\n",
       "    }\n",
       "</style>\n",
       "<table border=\"1\" class=\"dataframe\">\n",
       "  <thead>\n",
       "    <tr style=\"text-align: right;\">\n",
       "      <th></th>\n",
       "      <th>age</th>\n",
       "      <th>hypertension</th>\n",
       "      <th>heart_disease</th>\n",
       "      <th>avg_glucose_level</th>\n",
       "      <th>bmi</th>\n",
       "      <th>gender_Male</th>\n",
       "      <th>ever_married_Yes</th>\n",
       "      <th>work_type_Never_worked</th>\n",
       "      <th>work_type_Private</th>\n",
       "      <th>work_type_Self-employed</th>\n",
       "      <th>work_type_children</th>\n",
       "      <th>residence_type_Urban</th>\n",
       "      <th>smoking_status_formerly smoked</th>\n",
       "      <th>smoking_status_never smoked</th>\n",
       "      <th>smoking_status_smokes</th>\n",
       "    </tr>\n",
       "  </thead>\n",
       "  <tbody>\n",
       "    <tr>\n",
       "      <th>1590</th>\n",
       "      <td>13.00</td>\n",
       "      <td>0</td>\n",
       "      <td>0</td>\n",
       "      <td>99.13</td>\n",
       "      <td>22.8</td>\n",
       "      <td>0</td>\n",
       "      <td>0</td>\n",
       "      <td>0</td>\n",
       "      <td>0</td>\n",
       "      <td>0</td>\n",
       "      <td>1</td>\n",
       "      <td>1</td>\n",
       "      <td>0</td>\n",
       "      <td>0</td>\n",
       "      <td>0</td>\n",
       "    </tr>\n",
       "    <tr>\n",
       "      <th>3323</th>\n",
       "      <td>9.00</td>\n",
       "      <td>0</td>\n",
       "      <td>0</td>\n",
       "      <td>82.64</td>\n",
       "      <td>14.5</td>\n",
       "      <td>0</td>\n",
       "      <td>0</td>\n",
       "      <td>0</td>\n",
       "      <td>0</td>\n",
       "      <td>0</td>\n",
       "      <td>1</td>\n",
       "      <td>1</td>\n",
       "      <td>0</td>\n",
       "      <td>0</td>\n",
       "      <td>0</td>\n",
       "    </tr>\n",
       "    <tr>\n",
       "      <th>4163</th>\n",
       "      <td>82.00</td>\n",
       "      <td>1</td>\n",
       "      <td>0</td>\n",
       "      <td>222.52</td>\n",
       "      <td>28.1</td>\n",
       "      <td>0</td>\n",
       "      <td>1</td>\n",
       "      <td>0</td>\n",
       "      <td>1</td>\n",
       "      <td>0</td>\n",
       "      <td>0</td>\n",
       "      <td>1</td>\n",
       "      <td>1</td>\n",
       "      <td>0</td>\n",
       "      <td>0</td>\n",
       "    </tr>\n",
       "    <tr>\n",
       "      <th>2527</th>\n",
       "      <td>78.00</td>\n",
       "      <td>0</td>\n",
       "      <td>1</td>\n",
       "      <td>145.03</td>\n",
       "      <td>26.8</td>\n",
       "      <td>1</td>\n",
       "      <td>1</td>\n",
       "      <td>0</td>\n",
       "      <td>1</td>\n",
       "      <td>0</td>\n",
       "      <td>0</td>\n",
       "      <td>1</td>\n",
       "      <td>1</td>\n",
       "      <td>0</td>\n",
       "      <td>0</td>\n",
       "    </tr>\n",
       "    <tr>\n",
       "      <th>3274</th>\n",
       "      <td>50.00</td>\n",
       "      <td>0</td>\n",
       "      <td>0</td>\n",
       "      <td>151.25</td>\n",
       "      <td>31.5</td>\n",
       "      <td>0</td>\n",
       "      <td>1</td>\n",
       "      <td>0</td>\n",
       "      <td>0</td>\n",
       "      <td>0</td>\n",
       "      <td>0</td>\n",
       "      <td>1</td>\n",
       "      <td>0</td>\n",
       "      <td>1</td>\n",
       "      <td>0</td>\n",
       "    </tr>\n",
       "    <tr>\n",
       "      <th>...</th>\n",
       "      <td>...</td>\n",
       "      <td>...</td>\n",
       "      <td>...</td>\n",
       "      <td>...</td>\n",
       "      <td>...</td>\n",
       "      <td>...</td>\n",
       "      <td>...</td>\n",
       "      <td>...</td>\n",
       "      <td>...</td>\n",
       "      <td>...</td>\n",
       "      <td>...</td>\n",
       "      <td>...</td>\n",
       "      <td>...</td>\n",
       "      <td>...</td>\n",
       "      <td>...</td>\n",
       "    </tr>\n",
       "    <tr>\n",
       "      <th>2533</th>\n",
       "      <td>60.00</td>\n",
       "      <td>0</td>\n",
       "      <td>0</td>\n",
       "      <td>70.52</td>\n",
       "      <td>26.5</td>\n",
       "      <td>1</td>\n",
       "      <td>1</td>\n",
       "      <td>0</td>\n",
       "      <td>1</td>\n",
       "      <td>0</td>\n",
       "      <td>0</td>\n",
       "      <td>0</td>\n",
       "      <td>1</td>\n",
       "      <td>0</td>\n",
       "      <td>0</td>\n",
       "    </tr>\n",
       "    <tr>\n",
       "      <th>1798</th>\n",
       "      <td>56.00</td>\n",
       "      <td>0</td>\n",
       "      <td>0</td>\n",
       "      <td>224.63</td>\n",
       "      <td>42.8</td>\n",
       "      <td>0</td>\n",
       "      <td>1</td>\n",
       "      <td>0</td>\n",
       "      <td>0</td>\n",
       "      <td>1</td>\n",
       "      <td>0</td>\n",
       "      <td>1</td>\n",
       "      <td>0</td>\n",
       "      <td>1</td>\n",
       "      <td>0</td>\n",
       "    </tr>\n",
       "    <tr>\n",
       "      <th>4584</th>\n",
       "      <td>9.00</td>\n",
       "      <td>0</td>\n",
       "      <td>0</td>\n",
       "      <td>75.84</td>\n",
       "      <td>21.5</td>\n",
       "      <td>1</td>\n",
       "      <td>0</td>\n",
       "      <td>0</td>\n",
       "      <td>0</td>\n",
       "      <td>0</td>\n",
       "      <td>1</td>\n",
       "      <td>1</td>\n",
       "      <td>0</td>\n",
       "      <td>0</td>\n",
       "      <td>0</td>\n",
       "    </tr>\n",
       "    <tr>\n",
       "      <th>3704</th>\n",
       "      <td>1.08</td>\n",
       "      <td>0</td>\n",
       "      <td>0</td>\n",
       "      <td>74.50</td>\n",
       "      <td>18.9</td>\n",
       "      <td>1</td>\n",
       "      <td>0</td>\n",
       "      <td>0</td>\n",
       "      <td>0</td>\n",
       "      <td>0</td>\n",
       "      <td>1</td>\n",
       "      <td>0</td>\n",
       "      <td>0</td>\n",
       "      <td>0</td>\n",
       "      <td>0</td>\n",
       "    </tr>\n",
       "    <tr>\n",
       "      <th>1702</th>\n",
       "      <td>3.00</td>\n",
       "      <td>0</td>\n",
       "      <td>0</td>\n",
       "      <td>65.85</td>\n",
       "      <td>17.0</td>\n",
       "      <td>1</td>\n",
       "      <td>0</td>\n",
       "      <td>0</td>\n",
       "      <td>0</td>\n",
       "      <td>0</td>\n",
       "      <td>1</td>\n",
       "      <td>0</td>\n",
       "      <td>0</td>\n",
       "      <td>0</td>\n",
       "      <td>0</td>\n",
       "    </tr>\n",
       "  </tbody>\n",
       "</table>\n",
       "<p>1022 rows × 15 columns</p>\n",
       "</div>"
      ],
      "text/plain": [
       "        age hypertension heart_disease  avg_glucose_level   bmi  gender_Male  \\\n",
       "1590  13.00            0             0              99.13  22.8            0   \n",
       "3323   9.00            0             0              82.64  14.5            0   \n",
       "4163  82.00            1             0             222.52  28.1            0   \n",
       "2527  78.00            0             1             145.03  26.8            1   \n",
       "3274  50.00            0             0             151.25  31.5            0   \n",
       "...     ...          ...           ...                ...   ...          ...   \n",
       "2533  60.00            0             0              70.52  26.5            1   \n",
       "1798  56.00            0             0             224.63  42.8            0   \n",
       "4584   9.00            0             0              75.84  21.5            1   \n",
       "3704   1.08            0             0              74.50  18.9            1   \n",
       "1702   3.00            0             0              65.85  17.0            1   \n",
       "\n",
       "      ever_married_Yes  work_type_Never_worked  work_type_Private  \\\n",
       "1590                 0                       0                  0   \n",
       "3323                 0                       0                  0   \n",
       "4163                 1                       0                  1   \n",
       "2527                 1                       0                  1   \n",
       "3274                 1                       0                  0   \n",
       "...                ...                     ...                ...   \n",
       "2533                 1                       0                  1   \n",
       "1798                 1                       0                  0   \n",
       "4584                 0                       0                  0   \n",
       "3704                 0                       0                  0   \n",
       "1702                 0                       0                  0   \n",
       "\n",
       "      work_type_Self-employed  work_type_children  residence_type_Urban  \\\n",
       "1590                        0                   1                     1   \n",
       "3323                        0                   1                     1   \n",
       "4163                        0                   0                     1   \n",
       "2527                        0                   0                     1   \n",
       "3274                        0                   0                     1   \n",
       "...                       ...                 ...                   ...   \n",
       "2533                        0                   0                     0   \n",
       "1798                        1                   0                     1   \n",
       "4584                        0                   1                     1   \n",
       "3704                        0                   1                     0   \n",
       "1702                        0                   1                     0   \n",
       "\n",
       "      smoking_status_formerly smoked  smoking_status_never smoked  \\\n",
       "1590                               0                            0   \n",
       "3323                               0                            0   \n",
       "4163                               1                            0   \n",
       "2527                               1                            0   \n",
       "3274                               0                            1   \n",
       "...                              ...                          ...   \n",
       "2533                               1                            0   \n",
       "1798                               0                            1   \n",
       "4584                               0                            0   \n",
       "3704                               0                            0   \n",
       "1702                               0                            0   \n",
       "\n",
       "      smoking_status_smokes  \n",
       "1590                      0  \n",
       "3323                      0  \n",
       "4163                      0  \n",
       "2527                      0  \n",
       "3274                      0  \n",
       "...                     ...  \n",
       "2533                      0  \n",
       "1798                      0  \n",
       "4584                      0  \n",
       "3704                      0  \n",
       "1702                      0  \n",
       "\n",
       "[1022 rows x 15 columns]"
      ]
     },
     "execution_count": 9,
     "metadata": {},
     "output_type": "execute_result"
    }
   ],
   "source": [
    "X_test"
   ]
  },
  {
   "cell_type": "code",
   "execution_count": 19,
   "id": "f110f7db-68af-471b-bfdd-29e8d0c36eb1",
   "metadata": {},
   "outputs": [],
   "source": [
    "y_proba = nb.predict_proba(X_test)"
   ]
  },
  {
   "cell_type": "code",
   "execution_count": 27,
   "id": "a47d8d6b-1b6a-4bf9-b7b3-010a95fdf512",
   "metadata": {},
   "outputs": [
    {
     "data": {
      "text/plain": [
       "array([[1.00000000e+00, 4.42990327e-12],\n",
       "       [1.00000000e+00, 3.43364089e-13],\n",
       "       [5.65130535e-03, 9.94348695e-01],\n",
       "       ...,\n",
       "       [1.00000000e+00, 1.36993123e-12],\n",
       "       [1.00000000e+00, 8.62440252e-14],\n",
       "       [1.00000000e+00, 1.02975041e-13]])"
      ]
     },
     "execution_count": 27,
     "metadata": {},
     "output_type": "execute_result"
    }
   ],
   "source": [
    "y_proba"
   ]
  },
  {
   "cell_type": "code",
   "execution_count": 33,
   "id": "3675c46e-9427-4638-b425-01221a696f05",
   "metadata": {},
   "outputs": [],
   "source": [
    "Probabilities = pd. DataFrame(y_proba, columns=['Prob of No Stroke', 'Stroke'])"
   ]
  },
  {
   "cell_type": "code",
   "execution_count": 34,
   "id": "9ab8540f-03ba-477b-a5b7-22e647d3c9f7",
   "metadata": {},
   "outputs": [
    {
     "data": {
      "text/html": [
       "<div>\n",
       "<style scoped>\n",
       "    .dataframe tbody tr th:only-of-type {\n",
       "        vertical-align: middle;\n",
       "    }\n",
       "\n",
       "    .dataframe tbody tr th {\n",
       "        vertical-align: top;\n",
       "    }\n",
       "\n",
       "    .dataframe thead th {\n",
       "        text-align: right;\n",
       "    }\n",
       "</style>\n",
       "<table border=\"1\" class=\"dataframe\">\n",
       "  <thead>\n",
       "    <tr style=\"text-align: right;\">\n",
       "      <th></th>\n",
       "      <th>Prob of No Stroke</th>\n",
       "      <th>Stroke</th>\n",
       "    </tr>\n",
       "  </thead>\n",
       "  <tbody>\n",
       "    <tr>\n",
       "      <th>0</th>\n",
       "      <td>1.000000</td>\n",
       "      <td>4.429903e-12</td>\n",
       "    </tr>\n",
       "    <tr>\n",
       "      <th>1</th>\n",
       "      <td>1.000000</td>\n",
       "      <td>3.433641e-13</td>\n",
       "    </tr>\n",
       "    <tr>\n",
       "      <th>2</th>\n",
       "      <td>0.005651</td>\n",
       "      <td>9.943487e-01</td>\n",
       "    </tr>\n",
       "    <tr>\n",
       "      <th>3</th>\n",
       "      <td>0.002358</td>\n",
       "      <td>9.976416e-01</td>\n",
       "    </tr>\n",
       "    <tr>\n",
       "      <th>4</th>\n",
       "      <td>0.962513</td>\n",
       "      <td>3.748732e-02</td>\n",
       "    </tr>\n",
       "    <tr>\n",
       "      <th>...</th>\n",
       "      <td>...</td>\n",
       "      <td>...</td>\n",
       "    </tr>\n",
       "    <tr>\n",
       "      <th>1017</th>\n",
       "      <td>0.848536</td>\n",
       "      <td>1.514643e-01</td>\n",
       "    </tr>\n",
       "    <tr>\n",
       "      <th>1018</th>\n",
       "      <td>0.489260</td>\n",
       "      <td>5.107397e-01</td>\n",
       "    </tr>\n",
       "    <tr>\n",
       "      <th>1019</th>\n",
       "      <td>1.000000</td>\n",
       "      <td>1.369931e-12</td>\n",
       "    </tr>\n",
       "    <tr>\n",
       "      <th>1020</th>\n",
       "      <td>1.000000</td>\n",
       "      <td>8.624403e-14</td>\n",
       "    </tr>\n",
       "    <tr>\n",
       "      <th>1021</th>\n",
       "      <td>1.000000</td>\n",
       "      <td>1.029750e-13</td>\n",
       "    </tr>\n",
       "  </tbody>\n",
       "</table>\n",
       "<p>1022 rows × 2 columns</p>\n",
       "</div>"
      ],
      "text/plain": [
       "      Prob of No Stroke        Stroke\n",
       "0              1.000000  4.429903e-12\n",
       "1              1.000000  3.433641e-13\n",
       "2              0.005651  9.943487e-01\n",
       "3              0.002358  9.976416e-01\n",
       "4              0.962513  3.748732e-02\n",
       "...                 ...           ...\n",
       "1017           0.848536  1.514643e-01\n",
       "1018           0.489260  5.107397e-01\n",
       "1019           1.000000  1.369931e-12\n",
       "1020           1.000000  8.624403e-14\n",
       "1021           1.000000  1.029750e-13\n",
       "\n",
       "[1022 rows x 2 columns]"
      ]
     },
     "execution_count": 34,
     "metadata": {},
     "output_type": "execute_result"
    }
   ],
   "source": [
    "Probabilities"
   ]
  },
  {
   "cell_type": "code",
   "execution_count": 40,
   "id": "feb4acdd-1a84-4058-9ded-fbaff03d279f",
   "metadata": {},
   "outputs": [
    {
     "data": {
      "text/html": [
       "<div>\n",
       "<style scoped>\n",
       "    .dataframe tbody tr th:only-of-type {\n",
       "        vertical-align: middle;\n",
       "    }\n",
       "\n",
       "    .dataframe tbody tr th {\n",
       "        vertical-align: top;\n",
       "    }\n",
       "\n",
       "    .dataframe thead th {\n",
       "        text-align: right;\n",
       "    }\n",
       "</style>\n",
       "<table border=\"1\" class=\"dataframe\">\n",
       "  <thead>\n",
       "    <tr style=\"text-align: right;\">\n",
       "      <th></th>\n",
       "      <th>index</th>\n",
       "      <th>out_actuals</th>\n",
       "      <th>nb_best_model</th>\n",
       "    </tr>\n",
       "  </thead>\n",
       "  <tbody>\n",
       "    <tr>\n",
       "      <th>0</th>\n",
       "      <td>1590</td>\n",
       "      <td>0</td>\n",
       "      <td>0</td>\n",
       "    </tr>\n",
       "    <tr>\n",
       "      <th>1</th>\n",
       "      <td>3323</td>\n",
       "      <td>0</td>\n",
       "      <td>0</td>\n",
       "    </tr>\n",
       "    <tr>\n",
       "      <th>2</th>\n",
       "      <td>4163</td>\n",
       "      <td>0</td>\n",
       "      <td>1</td>\n",
       "    </tr>\n",
       "    <tr>\n",
       "      <th>3</th>\n",
       "      <td>2527</td>\n",
       "      <td>0</td>\n",
       "      <td>1</td>\n",
       "    </tr>\n",
       "    <tr>\n",
       "      <th>4</th>\n",
       "      <td>3274</td>\n",
       "      <td>0</td>\n",
       "      <td>0</td>\n",
       "    </tr>\n",
       "  </tbody>\n",
       "</table>\n",
       "</div>"
      ],
      "text/plain": [
       "   index  out_actuals  nb_best_model\n",
       "0   1590            0              0\n",
       "1   3323            0              0\n",
       "2   4163            0              1\n",
       "3   2527            0              1\n",
       "4   3274            0              0"
      ]
     },
     "execution_count": 40,
     "metadata": {},
     "output_type": "execute_result"
    }
   ],
   "source": [
    "y_test.reset_index().head()"
   ]
  },
  {
   "cell_type": "code",
   "execution_count": 41,
   "id": "1d434d54-7d62-4edf-b35d-e302d2d89480",
   "metadata": {},
   "outputs": [],
   "source": [
    "Predictions = pd.concat([y_test, Probabilities], axis=1, ignore_index=True)"
   ]
  },
  {
   "cell_type": "code",
   "execution_count": 42,
   "id": "f21fb453-f87e-47e2-8ab3-1b85000b4000",
   "metadata": {},
   "outputs": [
    {
     "data": {
      "text/html": [
       "<div>\n",
       "<style scoped>\n",
       "    .dataframe tbody tr th:only-of-type {\n",
       "        vertical-align: middle;\n",
       "    }\n",
       "\n",
       "    .dataframe tbody tr th {\n",
       "        vertical-align: top;\n",
       "    }\n",
       "\n",
       "    .dataframe thead th {\n",
       "        text-align: right;\n",
       "    }\n",
       "</style>\n",
       "<table border=\"1\" class=\"dataframe\">\n",
       "  <thead>\n",
       "    <tr style=\"text-align: right;\">\n",
       "      <th></th>\n",
       "      <th>0</th>\n",
       "      <th>1</th>\n",
       "      <th>2</th>\n",
       "      <th>3</th>\n",
       "    </tr>\n",
       "  </thead>\n",
       "  <tbody>\n",
       "    <tr>\n",
       "      <th>0</th>\n",
       "      <td>NaN</td>\n",
       "      <td>NaN</td>\n",
       "      <td>1.000000</td>\n",
       "      <td>4.429903e-12</td>\n",
       "    </tr>\n",
       "    <tr>\n",
       "      <th>1</th>\n",
       "      <td>NaN</td>\n",
       "      <td>NaN</td>\n",
       "      <td>1.000000</td>\n",
       "      <td>3.433641e-13</td>\n",
       "    </tr>\n",
       "    <tr>\n",
       "      <th>2</th>\n",
       "      <td>1.0</td>\n",
       "      <td>1.0</td>\n",
       "      <td>0.005651</td>\n",
       "      <td>9.943487e-01</td>\n",
       "    </tr>\n",
       "    <tr>\n",
       "      <th>3</th>\n",
       "      <td>1.0</td>\n",
       "      <td>0.0</td>\n",
       "      <td>0.002358</td>\n",
       "      <td>9.976416e-01</td>\n",
       "    </tr>\n",
       "    <tr>\n",
       "      <th>4</th>\n",
       "      <td>1.0</td>\n",
       "      <td>1.0</td>\n",
       "      <td>0.962513</td>\n",
       "      <td>3.748732e-02</td>\n",
       "    </tr>\n",
       "  </tbody>\n",
       "</table>\n",
       "</div>"
      ],
      "text/plain": [
       "     0    1         2             3\n",
       "0  NaN  NaN  1.000000  4.429903e-12\n",
       "1  NaN  NaN  1.000000  3.433641e-13\n",
       "2  1.0  1.0  0.005651  9.943487e-01\n",
       "3  1.0  0.0  0.002358  9.976416e-01\n",
       "4  1.0  1.0  0.962513  3.748732e-02"
      ]
     },
     "execution_count": 42,
     "metadata": {},
     "output_type": "execute_result"
    }
   ],
   "source": [
    "Predictions.head()"
   ]
  },
  {
   "cell_type": "code",
   "execution_count": null,
   "id": "f753a7eb-d205-4ef2-99dc-c92c655b4254",
   "metadata": {},
   "outputs": [],
   "source": []
  }
 ],
 "metadata": {
  "kernelspec": {
   "display_name": "Python 3",
   "language": "python",
   "name": "python3"
  },
  "language_info": {
   "codemirror_mode": {
    "name": "ipython",
    "version": 3
   },
   "file_extension": ".py",
   "mimetype": "text/x-python",
   "name": "python",
   "nbconvert_exporter": "python",
   "pygments_lexer": "ipython3",
   "version": "3.8.8"
  }
 },
 "nbformat": 4,
 "nbformat_minor": 5
}
