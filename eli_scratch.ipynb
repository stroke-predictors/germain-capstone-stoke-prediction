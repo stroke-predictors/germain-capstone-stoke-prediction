{
 "cells": [
  {
   "cell_type": "code",
   "execution_count": 1,
   "id": "0c6ebd91-d47f-4b03-875c-5c4aa110f3f1",
   "metadata": {},
   "outputs": [],
   "source": [
    "import pandas as pd\n",
    "import numpy as np\n",
    "import prepare as p\n",
    "\n",
    "import warnings\n",
    "warnings.filterwarnings(\"ignore\")\n",
    "\n",
    "import matplotlib.pyplot as plt\n",
    "import seaborn as sns\n",
    "from sklearn.model_selection import train_test_split\n",
    "\n",
    "from sklearn.ensemble import RandomForestClassifier\n",
    "from sklearn.linear_model import LogisticRegression\n",
    "from sklearn.tree import DecisionTreeClassifier\n",
    "from sklearn.tree import export_graphviz\n",
    "from sklearn.metrics import classification_report\n",
    "from sklearn.metrics import confusion_matrix\n",
    "                                  \n",
    "import graphviz\n",
    "from graphviz import Graph\n",
    "\n",
    "from scipy import stats"
   ]
  },
  {
   "cell_type": "code",
   "execution_count": 2,
   "id": "0eb6f527-45a9-4019-b8bc-05812e2621a7",
   "metadata": {
    "tags": []
   },
   "outputs": [],
   "source": [
    "df = pd.read_csv('data/healthcare-dataset-stroke-data.csv')"
   ]
  },
  {
   "cell_type": "code",
   "execution_count": 3,
   "id": "77beb6dd-0f07-47e2-9ac0-71376e4b1f46",
   "metadata": {},
   "outputs": [],
   "source": [
    "import prepare"
   ]
  },
  {
   "cell_type": "code",
   "execution_count": 4,
   "id": "7f29fddd-9270-473a-98fa-754510d3ff54",
   "metadata": {},
   "outputs": [],
   "source": [
    "df = prepare.prep_data(df)"
   ]
  },
  {
   "cell_type": "code",
   "execution_count": null,
   "id": "0fb33bdb-5e4f-4675-9d8e-3cd98b5bdb7a",
   "metadata": {},
   "outputs": [],
   "source": []
  },
  {
   "cell_type": "code",
   "execution_count": 5,
   "id": "aeb3b200-623f-4f0a-b453-72621daede00",
   "metadata": {},
   "outputs": [],
   "source": [
    "df = df.drop(columns='age_range')"
   ]
  },
  {
   "cell_type": "code",
   "execution_count": 6,
   "id": "5f4366c6-43a8-4974-ac8b-ebd4f8ee7333",
   "metadata": {},
   "outputs": [
    {
     "data": {
      "text/html": [
       "<div>\n",
       "<style scoped>\n",
       "    .dataframe tbody tr th:only-of-type {\n",
       "        vertical-align: middle;\n",
       "    }\n",
       "\n",
       "    .dataframe tbody tr th {\n",
       "        vertical-align: top;\n",
       "    }\n",
       "\n",
       "    .dataframe thead th {\n",
       "        text-align: right;\n",
       "    }\n",
       "</style>\n",
       "<table border=\"1\" class=\"dataframe\">\n",
       "  <thead>\n",
       "    <tr style=\"text-align: right;\">\n",
       "      <th></th>\n",
       "      <th>gender</th>\n",
       "      <th>age</th>\n",
       "      <th>hypertension</th>\n",
       "      <th>heart_disease</th>\n",
       "      <th>ever_married</th>\n",
       "      <th>work_type</th>\n",
       "      <th>residence_type</th>\n",
       "      <th>avg_glucose_level</th>\n",
       "      <th>bmi</th>\n",
       "      <th>smoking_status</th>\n",
       "      <th>stroke</th>\n",
       "    </tr>\n",
       "  </thead>\n",
       "  <tbody>\n",
       "    <tr>\n",
       "      <th>0</th>\n",
       "      <td>Male</td>\n",
       "      <td>67.0</td>\n",
       "      <td>0</td>\n",
       "      <td>1</td>\n",
       "      <td>Yes</td>\n",
       "      <td>Private</td>\n",
       "      <td>Urban</td>\n",
       "      <td>228.69</td>\n",
       "      <td>36.6</td>\n",
       "      <td>formerly smoked</td>\n",
       "      <td>1</td>\n",
       "    </tr>\n",
       "    <tr>\n",
       "      <th>1</th>\n",
       "      <td>Female</td>\n",
       "      <td>61.0</td>\n",
       "      <td>0</td>\n",
       "      <td>0</td>\n",
       "      <td>Yes</td>\n",
       "      <td>Self-employed</td>\n",
       "      <td>Rural</td>\n",
       "      <td>202.21</td>\n",
       "      <td>30.6</td>\n",
       "      <td>never smoked</td>\n",
       "      <td>1</td>\n",
       "    </tr>\n",
       "    <tr>\n",
       "      <th>2</th>\n",
       "      <td>Male</td>\n",
       "      <td>80.0</td>\n",
       "      <td>0</td>\n",
       "      <td>1</td>\n",
       "      <td>Yes</td>\n",
       "      <td>Private</td>\n",
       "      <td>Rural</td>\n",
       "      <td>105.92</td>\n",
       "      <td>32.5</td>\n",
       "      <td>never smoked</td>\n",
       "      <td>1</td>\n",
       "    </tr>\n",
       "    <tr>\n",
       "      <th>3</th>\n",
       "      <td>Female</td>\n",
       "      <td>49.0</td>\n",
       "      <td>0</td>\n",
       "      <td>0</td>\n",
       "      <td>Yes</td>\n",
       "      <td>Private</td>\n",
       "      <td>Urban</td>\n",
       "      <td>171.23</td>\n",
       "      <td>34.4</td>\n",
       "      <td>smokes</td>\n",
       "      <td>1</td>\n",
       "    </tr>\n",
       "    <tr>\n",
       "      <th>4</th>\n",
       "      <td>Female</td>\n",
       "      <td>79.0</td>\n",
       "      <td>1</td>\n",
       "      <td>0</td>\n",
       "      <td>Yes</td>\n",
       "      <td>Self-employed</td>\n",
       "      <td>Rural</td>\n",
       "      <td>174.12</td>\n",
       "      <td>24.0</td>\n",
       "      <td>never smoked</td>\n",
       "      <td>1</td>\n",
       "    </tr>\n",
       "  </tbody>\n",
       "</table>\n",
       "</div>"
      ],
      "text/plain": [
       "   gender   age hypertension heart_disease ever_married      work_type  \\\n",
       "0    Male  67.0            0             1          Yes        Private   \n",
       "1  Female  61.0            0             0          Yes  Self-employed   \n",
       "2    Male  80.0            0             1          Yes        Private   \n",
       "3  Female  49.0            0             0          Yes        Private   \n",
       "4  Female  79.0            1             0          Yes  Self-employed   \n",
       "\n",
       "  residence_type  avg_glucose_level   bmi   smoking_status  stroke  \n",
       "0          Urban             228.69  36.6  formerly smoked       1  \n",
       "1          Rural             202.21  30.6     never smoked       1  \n",
       "2          Rural             105.92  32.5     never smoked       1  \n",
       "3          Urban             171.23  34.4           smokes       1  \n",
       "4          Rural             174.12  24.0     never smoked       1  "
      ]
     },
     "execution_count": 6,
     "metadata": {},
     "output_type": "execute_result"
    }
   ],
   "source": [
    "df.head()"
   ]
  },
  {
   "cell_type": "code",
   "execution_count": 7,
   "id": "e923b7ee-35be-49bd-ac6e-49155a670d61",
   "metadata": {},
   "outputs": [],
   "source": [
    "# create age group dataFrames\n",
    "\n",
    "over_65 = df[df.age >= 65]\n",
    "adult_40_65 = df[(df.age >= 40) & (df.age < 65)]\n",
    "adult_25_40 = df[(df.age >= 25) & (df.age < 40)] # greater than or equal to 25, under 40\n",
    "adult_18_25 = df[(df.age >= 18) & (df.age < 25)]"
   ]
  },
  {
   "cell_type": "code",
   "execution_count": 8,
   "id": "455e388c-4d25-4431-a186-616d05c0c896",
   "metadata": {},
   "outputs": [
    {
     "data": {
      "image/png": "[encoded data removed]",
      "text/plain": [
       "<Figure size 432x288 with 1 Axes>"
      ]
     },
     "metadata": {
      "needs_background": "light"
     },
     "output_type": "display_data"
    }
   ],
   "source": [
    "heights = [round(over_65.stroke.mean(), 3), round(adult_40_65.stroke.mean(), 3), round(adult_25_40.stroke.mean(), 3), round(adult_18_25.stroke.mean(), 3)]\n",
    "x_labels = ['Over 65', '40-64', '25-40', '18-25']\n",
    "plt.bar(x=x_labels, height=heights)\n",
    "plt.ylabel(\"Mean Stroke Probability\")\n",
    "plt.title('Stroke Probability by Age Group')\n",
    "plt.show()"
   ]
  },
  {
   "cell_type": "markdown",
   "id": "f5343442-5cb1-4081-9d98-789c9b965fb8",
   "metadata": {},
   "source": [
    "Adult Body Mass Index or BMI\n",
    "> - If your BMI is less than 18.5, it falls within the underweight range.\n",
    "> - If your BMI is 18.5 to 24.9, it falls within the normal or Healthy Weight range.\n",
    "> - If your BMI is 25.0 to 29.9, it falls within the overweight range.\n",
    "> - If your BMI is 30.0 or higher, it falls within the obese range."
   ]
  },
  {
   "cell_type": "code",
   "execution_count": 9,
   "id": "cc651778-5138-4e0b-90b7-395039bdfbf8",
   "metadata": {},
   "outputs": [
    {
     "data": {
      "image/png": "[encoded data removed]",
      "text/plain": [
       "<Figure size 432x288 with 1 Axes>"
      ]
     },
     "metadata": {
      "needs_background": "light"
     },
     "output_type": "display_data"
    }
   ],
   "source": [
    "heights = [round(over_65.bmi.mean(), 3), round(adult_40_65.bmi.mean(), 3), round(adult_25_40.bmi.mean(), 3), round(adult_18_25.bmi.mean(), 3)]\n",
    "x_labels = ['Over 65', '40-64', '25-40', '18-25']\n",
    "plt.bar(x=x_labels, height=heights)\n",
    "plt.ylabel(\"Mean BMI\")\n",
    "plt.title('Mean BMI by Age Group')\n",
    "plt.show()"
   ]
  },
  {
   "cell_type": "markdown",
   "id": "437cdf29-2770-4b13-9e67-26884e7e8d84",
   "metadata": {},
   "source": [
    "# Looking specifically at age group 25 - 40"
   ]
  },
  {
   "cell_type": "code",
   "execution_count": 16,
   "id": "5c6e8a5a-5531-4158-8b2f-6a1fc2f2af62",
   "metadata": {},
   "outputs": [
    {
     "data": {
      "text/plain": [
       "(10263, (933, 11))"
      ]
     },
     "execution_count": 16,
     "metadata": {},
     "output_type": "execute_result"
    }
   ],
   "source": [
    "adult_25_40.size, adult_25_40.shape"
   ]
  },
  {
   "cell_type": "code",
   "execution_count": 17,
   "id": "2c35203e-509c-4309-9664-151864b7a355",
   "metadata": {},
   "outputs": [
    {
     "name": "stdout",
     "output_type": "stream",
     "text": [
      "<class 'pandas.core.frame.DataFrame'>\n",
      "Int64Index: 933 entries, 49 to 5106\n",
      "Data columns (total 11 columns):\n",
      " #   Column             Non-Null Count  Dtype  \n",
      "---  ------             --------------  -----  \n",
      " 0   gender             933 non-null    object \n",
      " 1   age                933 non-null    float64\n",
      " 2   hypertension       933 non-null    object \n",
      " 3   heart_disease      933 non-null    object \n",
      " 4   ever_married       933 non-null    object \n",
      " 5   work_type          933 non-null    object \n",
      " 6   residence_type     933 non-null    object \n",
      " 7   avg_glucose_level  933 non-null    float64\n",
      " 8   bmi                933 non-null    float64\n",
      " 9   smoking_status     933 non-null    object \n",
      " 10  stroke             933 non-null    int64  \n",
      "dtypes: float64(3), int64(1), object(7)\n",
      "memory usage: 87.5+ KB\n"
     ]
    }
   ],
   "source": [
    "adult_25_40.info()"
   ]
  },
  {
   "cell_type": "code",
   "execution_count": 10,
   "id": "9982b46f-76cc-452f-8652-6ba6dc5c952c",
   "metadata": {},
   "outputs": [
    {
     "data": {
      "text/plain": [
       "30.452840300107166"
      ]
     },
     "execution_count": 10,
     "metadata": {},
     "output_type": "execute_result"
    }
   ],
   "source": [
    "adult_25_40.bmi.mean()"
   ]
  },
  {
   "cell_type": "code",
   "execution_count": 18,
   "id": "80a70e68-7b19-4318-b298-e171c03efebd",
   "metadata": {},
   "outputs": [],
   "source": [
    "uw = adult_25_40[adult_25_40.bmi < 18.5]\n",
    "normal = adult_25_40[(adult_25_40.bmi >= 18.5) & (adult_25_40.bmi < 25)]\n",
    "ow = adult_25_40[(adult_25_40.bmi >= 25) & (adult_25_40.bmi < 30)]\n",
    "obese = adult_25_40[adult_25_40.bmi >= 30]"
   ]
  },
  {
   "cell_type": "code",
   "execution_count": 19,
   "id": "60b7d712-f636-4d26-9754-bffbc92de398",
   "metadata": {},
   "outputs": [
    {
     "data": {
      "text/plain": [
       "((5, 11), (235, 11), (281, 11), (412, 11))"
      ]
     },
     "execution_count": 19,
     "metadata": {},
     "output_type": "execute_result"
    }
   ],
   "source": [
    "uw.shape, normal.shape, ow.shape, obese.shape"
   ]
  },
  {
   "cell_type": "code",
   "execution_count": 20,
   "id": "ae18f7c4-046a-410d-afc4-89bbf6edac2f",
   "metadata": {},
   "outputs": [
    {
     "data": {
      "image/png": "[encoded data removed]",
      "text/plain": [
       "<Figure size 432x288 with 1 Axes>"
      ]
     },
     "metadata": {
      "needs_background": "light"
     },
     "output_type": "display_data"
    }
   ],
   "source": [
    "heights = [round(uw.stroke.mean(), 3), round(normal.stroke.mean(), 3), round(ow.stroke.mean(), 3), round(obese.stroke.mean(), 3)]\n",
    "x_labels = ['Underweight', 'Normal', 'Overweight', 'Obese']\n",
    "plt.bar(x=x_labels, height=heights)\n",
    "plt.ylabel(\"Mean Stroke Probability\")\n",
    "plt.title('Stroke Probability by BMI category')\n",
    "plt.show()"
   ]
  },
  {
   "cell_type": "code",
   "execution_count": 21,
   "id": "c5cd8d41-fc21-4887-baa2-23e453ea5be5",
   "metadata": {},
   "outputs": [
    {
     "data": {
      "text/html": [
       "<div>\n",
       "<style scoped>\n",
       "    .dataframe tbody tr th:only-of-type {\n",
       "        vertical-align: middle;\n",
       "    }\n",
       "\n",
       "    .dataframe tbody tr th {\n",
       "        vertical-align: top;\n",
       "    }\n",
       "\n",
       "    .dataframe thead th {\n",
       "        text-align: right;\n",
       "    }\n",
       "</style>\n",
       "<table border=\"1\" class=\"dataframe\">\n",
       "  <thead>\n",
       "    <tr style=\"text-align: right;\">\n",
       "      <th></th>\n",
       "      <th>gender</th>\n",
       "      <th>age</th>\n",
       "      <th>hypertension</th>\n",
       "      <th>heart_disease</th>\n",
       "      <th>ever_married</th>\n",
       "      <th>work_type</th>\n",
       "      <th>residence_type</th>\n",
       "      <th>avg_glucose_level</th>\n",
       "      <th>bmi</th>\n",
       "      <th>smoking_status</th>\n",
       "      <th>stroke</th>\n",
       "    </tr>\n",
       "  </thead>\n",
       "  <tbody>\n",
       "    <tr>\n",
       "      <th>49</th>\n",
       "      <td>Female</td>\n",
       "      <td>39.0</td>\n",
       "      <td>1</td>\n",
       "      <td>0</td>\n",
       "      <td>Yes</td>\n",
       "      <td>Private</td>\n",
       "      <td>Rural</td>\n",
       "      <td>58.09</td>\n",
       "      <td>39.2</td>\n",
       "      <td>smokes</td>\n",
       "      <td>1</td>\n",
       "    </tr>\n",
       "    <tr>\n",
       "      <th>133</th>\n",
       "      <td>Female</td>\n",
       "      <td>38.0</td>\n",
       "      <td>0</td>\n",
       "      <td>0</td>\n",
       "      <td>Yes</td>\n",
       "      <td>Private</td>\n",
       "      <td>Rural</td>\n",
       "      <td>101.45</td>\n",
       "      <td>31.1</td>\n",
       "      <td>formerly smoked</td>\n",
       "      <td>1</td>\n",
       "    </tr>\n",
       "    <tr>\n",
       "      <th>257</th>\n",
       "      <td>Female</td>\n",
       "      <td>32.0</td>\n",
       "      <td>0</td>\n",
       "      <td>0</td>\n",
       "      <td>Yes</td>\n",
       "      <td>Private</td>\n",
       "      <td>Rural</td>\n",
       "      <td>77.67</td>\n",
       "      <td>32.3</td>\n",
       "      <td>smokes</td>\n",
       "      <td>0</td>\n",
       "    </tr>\n",
       "    <tr>\n",
       "      <th>261</th>\n",
       "      <td>Female</td>\n",
       "      <td>37.0</td>\n",
       "      <td>0</td>\n",
       "      <td>0</td>\n",
       "      <td>Yes</td>\n",
       "      <td>Private</td>\n",
       "      <td>Rural</td>\n",
       "      <td>162.96</td>\n",
       "      <td>39.4</td>\n",
       "      <td>never smoked</td>\n",
       "      <td>0</td>\n",
       "    </tr>\n",
       "    <tr>\n",
       "      <th>264</th>\n",
       "      <td>Male</td>\n",
       "      <td>35.0</td>\n",
       "      <td>0</td>\n",
       "      <td>0</td>\n",
       "      <td>No</td>\n",
       "      <td>Private</td>\n",
       "      <td>Rural</td>\n",
       "      <td>85.37</td>\n",
       "      <td>33.0</td>\n",
       "      <td>never smoked</td>\n",
       "      <td>0</td>\n",
       "    </tr>\n",
       "  </tbody>\n",
       "</table>\n",
       "</div>"
      ],
      "text/plain": [
       "     gender   age hypertension heart_disease ever_married work_type  \\\n",
       "49   Female  39.0            1             0          Yes   Private   \n",
       "133  Female  38.0            0             0          Yes   Private   \n",
       "257  Female  32.0            0             0          Yes   Private   \n",
       "261  Female  37.0            0             0          Yes   Private   \n",
       "264    Male  35.0            0             0           No   Private   \n",
       "\n",
       "    residence_type  avg_glucose_level   bmi   smoking_status  stroke  \n",
       "49           Rural              58.09  39.2           smokes       1  \n",
       "133          Rural             101.45  31.1  formerly smoked       1  \n",
       "257          Rural              77.67  32.3           smokes       0  \n",
       "261          Rural             162.96  39.4     never smoked       0  \n",
       "264          Rural              85.37  33.0     never smoked       0  "
      ]
     },
     "execution_count": 21,
     "metadata": {},
     "output_type": "execute_result"
    }
   ],
   "source": [
    "obese.head()"
   ]
  },
  {
   "cell_type": "code",
   "execution_count": 27,
   "id": "37dcff64-83d1-448f-85f7-1bda5d114218",
   "metadata": {},
   "outputs": [
    {
     "data": {
      "image/png": "[encoded data removed]",
      "text/plain": [
       "<Figure size 432x288 with 1 Axes>"
      ]
     },
     "metadata": {
      "needs_background": "light"
     },
     "output_type": "display_data"
    },
    {
     "data": {
      "image/png": "[encoded data removed]",
      "text/plain": [
       "<Figure size 432x288 with 1 Axes>"
      ]
     },
     "metadata": {
      "needs_background": "light"
     },
     "output_type": "display_data"
    },
    {
     "data": {
      "image/png": "[encoded data removed]",
      "text/plain": [
       "<Figure size 432x288 with 1 Axes>"
      ]
     },
     "metadata": {
      "needs_background": "light"
     },
     "output_type": "display_data"
    },
    {
     "data": {
      "image/png": "[encoded data removed]",
      "text/plain": [
       "<Figure size 432x288 with 1 Axes>"
      ]
     },
     "metadata": {
      "needs_background": "light"
     },
     "output_type": "display_data"
    }
   ],
   "source": [
    "list_of_df = [uw, normal, ow, obese]\n",
    "list_of_df_names = ['underweight', 'normalweight', 'overweight', 'obese']\n",
    "\n",
    "i=0\n",
    "\n",
    "for df in list_of_df:\n",
    "    plt.title(f\"Avg glucose levels for {list_of_df_names[i]} individuals with/without stroke\")\n",
    "    i+=1\n",
    "    sns.boxplot(x=\"hypertension\", y=\"avg_glucose_level\", data=df, hue=\"stroke\")\n",
    "    population_survival_rate = df.stroke.mean()\n",
    "    plt.axhline(population_survival_rate)\n",
    "    plt.show()"
   ]
  },
  {
   "cell_type": "code",
   "execution_count": null,
   "id": "8471330e-c749-4b19-9e99-74eb609bf460",
   "metadata": {},
   "outputs": [],
   "source": [
    "# Takeaways: for models\n",
    "- No strokes or hypertension for underweight individuals\n",
    "- No hypertension for normalweight individuals\n",
    "- OW individuals with hypertension have higher avg_glucose_levels\n",
    "- "
   ]
  },
  {
   "cell_type": "code",
   "execution_count": 28,
   "id": "700cb379-437b-4bd9-aca6-0a6d7bb0262f",
   "metadata": {},
   "outputs": [
    {
     "data": {
      "text/plain": [
       "1"
      ]
     },
     "execution_count": 28,
     "metadata": {},
     "output_type": "execute_result"
    }
   ],
   "source": [
    "normal.stroke.sum()"
   ]
  },
  {
   "cell_type": "code",
   "execution_count": null,
   "id": "7995f6fc-27f7-44e3-9484-83388e6664da",
   "metadata": {},
   "outputs": [],
   "source": []
  }
 ],
 "metadata": {
  "kernelspec": {
   "display_name": "Python 3",
   "language": "python",
   "name": "python3"
  },
  "language_info": {
   "codemirror_mode": {
    "name": "ipython",
    "version": 3
   },
   "file_extension": ".py",
   "mimetype": "text/x-python",
   "name": "python",
   "nbconvert_exporter": "python",
   "pygments_lexer": "ipython3",
   "version": "3.8.8"
  }
 },
 "nbformat": 4,
 "nbformat_minor": 5
}
