{
 "cells": [
  {
   "cell_type": "code",
   "execution_count": 1,
   "id": "15606bca",
   "metadata": {},
   "outputs": [],
   "source": [
    "#Imports\n",
    "import pandas as pd\n",
    "import seaborn as sns\n",
    "import matplotlib.pyplot as plt\n",
    "\n",
    "import numpy as np\n",
    "import matplotlib.pyplot as plt\n",
    "import scipy\n",
    "import seaborn as sns\n",
    "from imblearn.over_sampling import SMOTE\n",
    "from sklearn.model_selection import GridSearchCV\n",
    "\n",
    "sns.set()\n",
    "\n",
    "\n",
    "#Modeling \n",
    "from sklearn.metrics import accuracy_score\n",
    "from sklearn.metrics import precision_recall_fscore_support, classification_report, confusion_matrix\n",
    "import pickle\n",
    "\n",
    "\n",
    "from sklearn.linear_model import LogisticRegression\n",
    "from sklearn.naive_bayes import GaussianNB\n",
    "from sklearn.ensemble import RandomForestClassifier\n",
    "from sklearn.neighbors import KNeighborsClassifier\n",
    "from sklearn.tree import DecisionTreeClassifier\n",
    "from collections import Counter\n",
    "\n",
    "\n",
    "\n",
    "\n",
    "import warnings\n",
    "warnings.filterwarnings('ignore')"
   ]
  },
  {
   "cell_type": "code",
   "execution_count": 2,
   "id": "ed52da8c",
   "metadata": {},
   "outputs": [
    {
     "data": {
      "text/html": [
       "<div>\n",
       "<style scoped>\n",
       "    .dataframe tbody tr th:only-of-type {\n",
       "        vertical-align: middle;\n",
       "    }\n",
       "\n",
       "    .dataframe tbody tr th {\n",
       "        vertical-align: top;\n",
       "    }\n",
       "\n",
       "    .dataframe thead th {\n",
       "        text-align: right;\n",
       "    }\n",
       "</style>\n",
       "<table border=\"1\" class=\"dataframe\">\n",
       "  <thead>\n",
       "    <tr style=\"text-align: right;\">\n",
       "      <th></th>\n",
       "      <th>id</th>\n",
       "      <th>gender</th>\n",
       "      <th>age</th>\n",
       "      <th>hypertension</th>\n",
       "      <th>heart_disease</th>\n",
       "      <th>ever_married</th>\n",
       "      <th>work_type</th>\n",
       "      <th>Residence_type</th>\n",
       "      <th>avg_glucose_level</th>\n",
       "      <th>bmi</th>\n",
       "      <th>smoking_status</th>\n",
       "      <th>stroke</th>\n",
       "    </tr>\n",
       "  </thead>\n",
       "  <tbody>\n",
       "    <tr>\n",
       "      <th>0</th>\n",
       "      <td>9046</td>\n",
       "      <td>Male</td>\n",
       "      <td>67.0</td>\n",
       "      <td>0</td>\n",
       "      <td>1</td>\n",
       "      <td>Yes</td>\n",
       "      <td>Private</td>\n",
       "      <td>Urban</td>\n",
       "      <td>228.69</td>\n",
       "      <td>36.6</td>\n",
       "      <td>formerly smoked</td>\n",
       "      <td>1</td>\n",
       "    </tr>\n",
       "    <tr>\n",
       "      <th>1</th>\n",
       "      <td>51676</td>\n",
       "      <td>Female</td>\n",
       "      <td>61.0</td>\n",
       "      <td>0</td>\n",
       "      <td>0</td>\n",
       "      <td>Yes</td>\n",
       "      <td>Self-employed</td>\n",
       "      <td>Rural</td>\n",
       "      <td>202.21</td>\n",
       "      <td>NaN</td>\n",
       "      <td>never smoked</td>\n",
       "      <td>1</td>\n",
       "    </tr>\n",
       "    <tr>\n",
       "      <th>2</th>\n",
       "      <td>31112</td>\n",
       "      <td>Male</td>\n",
       "      <td>80.0</td>\n",
       "      <td>0</td>\n",
       "      <td>1</td>\n",
       "      <td>Yes</td>\n",
       "      <td>Private</td>\n",
       "      <td>Rural</td>\n",
       "      <td>105.92</td>\n",
       "      <td>32.5</td>\n",
       "      <td>never smoked</td>\n",
       "      <td>1</td>\n",
       "    </tr>\n",
       "  </tbody>\n",
       "</table>\n",
       "</div>"
      ],
      "text/plain": [
       "      id  gender   age  hypertension  heart_disease ever_married  \\\n",
       "0   9046    Male  67.0             0              1          Yes   \n",
       "1  51676  Female  61.0             0              0          Yes   \n",
       "2  31112    Male  80.0             0              1          Yes   \n",
       "\n",
       "       work_type Residence_type  avg_glucose_level   bmi   smoking_status  \\\n",
       "0        Private          Urban             228.69  36.6  formerly smoked   \n",
       "1  Self-employed          Rural             202.21   NaN     never smoked   \n",
       "2        Private          Rural             105.92  32.5     never smoked   \n",
       "\n",
       "   stroke  \n",
       "0       1  \n",
       "1       1  \n",
       "2       1  "
      ]
     },
     "execution_count": 2,
     "metadata": {},
     "output_type": "execute_result"
    }
   ],
   "source": [
    "df = pd.read_csv('healthcare-dataset-stroke-data.csv')\n",
    "df.head(3)"
   ]
  },
  {
   "cell_type": "code",
   "execution_count": 3,
   "id": "228868f9",
   "metadata": {},
   "outputs": [
    {
     "name": "stdout",
     "output_type": "stream",
     "text": [
      "<class 'pandas.core.frame.DataFrame'>\n",
      "RangeIndex: 5110 entries, 0 to 5109\n",
      "Data columns (total 12 columns):\n",
      " #   Column             Non-Null Count  Dtype  \n",
      "---  ------             --------------  -----  \n",
      " 0   id                 5110 non-null   int64  \n",
      " 1   gender             5110 non-null   object \n",
      " 2   age                5110 non-null   float64\n",
      " 3   hypertension       5110 non-null   int64  \n",
      " 4   heart_disease      5110 non-null   int64  \n",
      " 5   ever_married       5110 non-null   object \n",
      " 6   work_type          5110 non-null   object \n",
      " 7   Residence_type     5110 non-null   object \n",
      " 8   avg_glucose_level  5110 non-null   float64\n",
      " 9   bmi                4909 non-null   float64\n",
      " 10  smoking_status     5110 non-null   object \n",
      " 11  stroke             5110 non-null   int64  \n",
      "dtypes: float64(3), int64(4), object(5)\n",
      "memory usage: 479.2+ KB\n"
     ]
    }
   ],
   "source": [
    "df.info()"
   ]
  },
  {
   "cell_type": "markdown",
   "id": "ec0292a8",
   "metadata": {},
   "source": [
    "## Nulls, N/A, other\n",
    "- id - all unique values, no nulls, convert to object dtype **Done**\n",
    "- gender - drop value: \"Other\" (one count) **Done**\n",
    "- age - no nulls, consider additional age ranges column instead (low-age has decimal values) **Done**\n",
    "- hypertension - no nulls, convert to object dtype **Done**\n",
    "- heart_disease - no nulls, convert to object dtype **Done**\n",
    "- ever_married - no nulls, Yes/No, encode to new column with 0/1 or True/False (handled with modeling_df)\n",
    "- work_type - no nulls, uses strings to describe, use one-hot encoding into each new column (handled w modeling_df)\n",
    "- Residence_type - one-hot encode into is_Urban (handled w modeling_df)\n",
    "- avg_glucose_level - no nulls, continuous values **Done**\n",
    "- bmi - hangle nulls by imputing mean by age category and also gender, normal distribution **Done**\n",
    "    * use pd.cut to create bins: 0-4, 5-9, 10-14, 15-19, ...\n",
    "    * use existing gender column as well\n",
    "- smoking_status - no nulls, one-hot encode (handled w modeling_df)\n",
    "- stroke - no nulls, convert to string **Done**"
   ]
  },
  {
   "cell_type": "code",
   "execution_count": 4,
   "id": "0f5e668f",
   "metadata": {},
   "outputs": [],
   "source": [
    "df = df.drop(3116).reset_index().drop(columns='index') # index 3116 has gender 'Other', only one value"
   ]
  },
  {
   "cell_type": "code",
   "execution_count": 5,
   "id": "022a74a7",
   "metadata": {},
   "outputs": [],
   "source": [
    "df['id'] = df.id.astype('object')\n",
    "df['hypertension'] = df.hypertension.astype('object')\n",
    "df['heart_disease'] = df.heart_disease.astype('object')\n",
    "df['stroke'] = df.stroke.astype('object')"
   ]
  },
  {
   "cell_type": "code",
   "execution_count": null,
   "id": "08aa26bf",
   "metadata": {},
   "outputs": [],
   "source": [
    "# five_year_cutpoints = [0,5,10,15,20,25,30,35,40,45,50,55,60,65,70,75,80,85,90,95,100]\n",
    "# df['age_range'] = pd.cut(x=df.age, bins=five_year_cutpoints).astype('string')"
   ]
  },
  {
   "cell_type": "code",
   "execution_count": null,
   "id": "1692e79e",
   "metadata": {},
   "outputs": [],
   "source": [
    "# df['age_range'] = df['age_range'].str[1:-1]\\\n",
    "#                   .str.replace(', ', '-')\\\n",
    "#                   .astype('object')"
   ]
  },
  {
   "cell_type": "code",
   "execution_count": null,
   "id": "0f55fca8",
   "metadata": {},
   "outputs": [],
   "source": [
    "df.head(3)"
   ]
  },
  {
   "cell_type": "code",
   "execution_count": null,
   "id": "e35872e3",
   "metadata": {},
   "outputs": [],
   "source": [
    "df.info()"
   ]
  },
  {
   "cell_type": "code",
   "execution_count": null,
   "id": "fb0689b4",
   "metadata": {},
   "outputs": [],
   "source": [
    "# grouped = df.groupby(['age_range', 'gender']).bmi.mean()"
   ]
  },
  {
   "cell_type": "code",
   "execution_count": null,
   "id": "9f57d1aa",
   "metadata": {},
   "outputs": [],
   "source": [
    "# grouped['65-70']['Male']"
   ]
  },
  {
   "cell_type": "code",
   "execution_count": null,
   "id": "1e8d01fd",
   "metadata": {},
   "outputs": [],
   "source": [
    "# #literally magic\n",
    "# df.loc[df.bmi.isna(), 'bmi'] = df[df.bmi.isna()]\\\n",
    "# #                                          .apply(lambda x: grouped[x.age_range][x.gender], axis=1)"
   ]
  },
  {
   "cell_type": "code",
   "execution_count": 6,
   "id": "4c097231",
   "metadata": {},
   "outputs": [
    {
     "name": "stdout",
     "output_type": "stream",
     "text": [
      "<class 'pandas.core.frame.DataFrame'>\n",
      "RangeIndex: 5109 entries, 0 to 5108\n",
      "Data columns (total 12 columns):\n",
      " #   Column             Non-Null Count  Dtype  \n",
      "---  ------             --------------  -----  \n",
      " 0   id                 5109 non-null   object \n",
      " 1   gender             5109 non-null   object \n",
      " 2   age                5109 non-null   float64\n",
      " 3   hypertension       5109 non-null   object \n",
      " 4   heart_disease      5109 non-null   object \n",
      " 5   ever_married       5109 non-null   object \n",
      " 6   work_type          5109 non-null   object \n",
      " 7   residence_type     5109 non-null   object \n",
      " 8   avg_glucose_level  5109 non-null   float64\n",
      " 9   bmi                4908 non-null   float64\n",
      " 10  smoking_status     5109 non-null   object \n",
      " 11  stroke             5109 non-null   object \n",
      "dtypes: float64(3), object(9)\n",
      "memory usage: 479.1+ KB\n"
     ]
    }
   ],
   "source": [
    "df.rename(columns={'Residence_type':'residence_type'}, inplace=True)\n",
    "df.info()"
   ]
  },
  {
   "cell_type": "code",
   "execution_count": null,
   "id": "941519c6",
   "metadata": {},
   "outputs": [],
   "source": [
    "# df.to_csv('.csv')"
   ]
  },
  {
   "cell_type": "code",
   "execution_count": null,
   "id": "0ec358f2",
   "metadata": {},
   "outputs": [],
   "source": [
    "# modeling_df = pd.get_dummies(df, drop_first=True)"
   ]
  },
  {
   "cell_type": "code",
   "execution_count": null,
   "id": "9c413152",
   "metadata": {},
   "outputs": [],
   "source": [
    "df"
   ]
  },
  {
   "cell_type": "markdown",
   "id": "540c62f5",
   "metadata": {},
   "source": [
    "## Impute the Missing Values in the BMI column\n"
   ]
  },
  {
   "cell_type": "code",
   "execution_count": 7,
   "id": "4b6d7e21",
   "metadata": {},
   "outputs": [
    {
     "data": {
      "text/html": [
       "<div>\n",
       "<style scoped>\n",
       "    .dataframe tbody tr th:only-of-type {\n",
       "        vertical-align: middle;\n",
       "    }\n",
       "\n",
       "    .dataframe tbody tr th {\n",
       "        vertical-align: top;\n",
       "    }\n",
       "\n",
       "    .dataframe thead th {\n",
       "        text-align: right;\n",
       "    }\n",
       "</style>\n",
       "<table border=\"1\" class=\"dataframe\">\n",
       "  <thead>\n",
       "    <tr style=\"text-align: right;\">\n",
       "      <th></th>\n",
       "      <th>id</th>\n",
       "      <th>gender</th>\n",
       "      <th>age</th>\n",
       "      <th>hypertension</th>\n",
       "      <th>heart_disease</th>\n",
       "      <th>ever_married</th>\n",
       "      <th>work_type</th>\n",
       "      <th>residence_type</th>\n",
       "      <th>avg_glucose_level</th>\n",
       "      <th>bmi</th>\n",
       "      <th>smoking_status</th>\n",
       "      <th>stroke</th>\n",
       "    </tr>\n",
       "  </thead>\n",
       "  <tbody>\n",
       "    <tr>\n",
       "      <th>0</th>\n",
       "      <td>9046</td>\n",
       "      <td>Male</td>\n",
       "      <td>67.0</td>\n",
       "      <td>0</td>\n",
       "      <td>1</td>\n",
       "      <td>Yes</td>\n",
       "      <td>Private</td>\n",
       "      <td>Urban</td>\n",
       "      <td>228.69</td>\n",
       "      <td>36.60000</td>\n",
       "      <td>formerly smoked</td>\n",
       "      <td>1</td>\n",
       "    </tr>\n",
       "    <tr>\n",
       "      <th>1</th>\n",
       "      <td>51676</td>\n",
       "      <td>Female</td>\n",
       "      <td>61.0</td>\n",
       "      <td>0</td>\n",
       "      <td>0</td>\n",
       "      <td>Yes</td>\n",
       "      <td>Self-employed</td>\n",
       "      <td>Rural</td>\n",
       "      <td>202.21</td>\n",
       "      <td>28.89456</td>\n",
       "      <td>never smoked</td>\n",
       "      <td>1</td>\n",
       "    </tr>\n",
       "    <tr>\n",
       "      <th>2</th>\n",
       "      <td>31112</td>\n",
       "      <td>Male</td>\n",
       "      <td>80.0</td>\n",
       "      <td>0</td>\n",
       "      <td>1</td>\n",
       "      <td>Yes</td>\n",
       "      <td>Private</td>\n",
       "      <td>Rural</td>\n",
       "      <td>105.92</td>\n",
       "      <td>32.50000</td>\n",
       "      <td>never smoked</td>\n",
       "      <td>1</td>\n",
       "    </tr>\n",
       "    <tr>\n",
       "      <th>3</th>\n",
       "      <td>60182</td>\n",
       "      <td>Female</td>\n",
       "      <td>49.0</td>\n",
       "      <td>0</td>\n",
       "      <td>0</td>\n",
       "      <td>Yes</td>\n",
       "      <td>Private</td>\n",
       "      <td>Urban</td>\n",
       "      <td>171.23</td>\n",
       "      <td>34.40000</td>\n",
       "      <td>smokes</td>\n",
       "      <td>1</td>\n",
       "    </tr>\n",
       "    <tr>\n",
       "      <th>4</th>\n",
       "      <td>1665</td>\n",
       "      <td>Female</td>\n",
       "      <td>79.0</td>\n",
       "      <td>1</td>\n",
       "      <td>0</td>\n",
       "      <td>Yes</td>\n",
       "      <td>Self-employed</td>\n",
       "      <td>Rural</td>\n",
       "      <td>174.12</td>\n",
       "      <td>24.00000</td>\n",
       "      <td>never smoked</td>\n",
       "      <td>1</td>\n",
       "    </tr>\n",
       "    <tr>\n",
       "      <th>...</th>\n",
       "      <td>...</td>\n",
       "      <td>...</td>\n",
       "      <td>...</td>\n",
       "      <td>...</td>\n",
       "      <td>...</td>\n",
       "      <td>...</td>\n",
       "      <td>...</td>\n",
       "      <td>...</td>\n",
       "      <td>...</td>\n",
       "      <td>...</td>\n",
       "      <td>...</td>\n",
       "      <td>...</td>\n",
       "    </tr>\n",
       "    <tr>\n",
       "      <th>5104</th>\n",
       "      <td>18234</td>\n",
       "      <td>Female</td>\n",
       "      <td>80.0</td>\n",
       "      <td>1</td>\n",
       "      <td>0</td>\n",
       "      <td>Yes</td>\n",
       "      <td>Private</td>\n",
       "      <td>Urban</td>\n",
       "      <td>83.75</td>\n",
       "      <td>28.89456</td>\n",
       "      <td>never smoked</td>\n",
       "      <td>0</td>\n",
       "    </tr>\n",
       "    <tr>\n",
       "      <th>5105</th>\n",
       "      <td>44873</td>\n",
       "      <td>Female</td>\n",
       "      <td>81.0</td>\n",
       "      <td>0</td>\n",
       "      <td>0</td>\n",
       "      <td>Yes</td>\n",
       "      <td>Self-employed</td>\n",
       "      <td>Urban</td>\n",
       "      <td>125.20</td>\n",
       "      <td>40.00000</td>\n",
       "      <td>never smoked</td>\n",
       "      <td>0</td>\n",
       "    </tr>\n",
       "    <tr>\n",
       "      <th>5106</th>\n",
       "      <td>19723</td>\n",
       "      <td>Female</td>\n",
       "      <td>35.0</td>\n",
       "      <td>0</td>\n",
       "      <td>0</td>\n",
       "      <td>Yes</td>\n",
       "      <td>Self-employed</td>\n",
       "      <td>Rural</td>\n",
       "      <td>82.99</td>\n",
       "      <td>30.60000</td>\n",
       "      <td>never smoked</td>\n",
       "      <td>0</td>\n",
       "    </tr>\n",
       "    <tr>\n",
       "      <th>5107</th>\n",
       "      <td>37544</td>\n",
       "      <td>Male</td>\n",
       "      <td>51.0</td>\n",
       "      <td>0</td>\n",
       "      <td>0</td>\n",
       "      <td>Yes</td>\n",
       "      <td>Private</td>\n",
       "      <td>Rural</td>\n",
       "      <td>166.29</td>\n",
       "      <td>25.60000</td>\n",
       "      <td>formerly smoked</td>\n",
       "      <td>0</td>\n",
       "    </tr>\n",
       "    <tr>\n",
       "      <th>5108</th>\n",
       "      <td>44679</td>\n",
       "      <td>Female</td>\n",
       "      <td>44.0</td>\n",
       "      <td>0</td>\n",
       "      <td>0</td>\n",
       "      <td>Yes</td>\n",
       "      <td>Govt_job</td>\n",
       "      <td>Urban</td>\n",
       "      <td>85.28</td>\n",
       "      <td>26.20000</td>\n",
       "      <td>Unknown</td>\n",
       "      <td>0</td>\n",
       "    </tr>\n",
       "  </tbody>\n",
       "</table>\n",
       "<p>5109 rows × 12 columns</p>\n",
       "</div>"
      ],
      "text/plain": [
       "         id  gender   age  hypertension  heart_disease ever_married  \\\n",
       "0      9046    Male  67.0             0              1          Yes   \n",
       "1     51676  Female  61.0             0              0          Yes   \n",
       "2     31112    Male  80.0             0              1          Yes   \n",
       "3     60182  Female  49.0             0              0          Yes   \n",
       "4      1665  Female  79.0             1              0          Yes   \n",
       "...     ...     ...   ...           ...            ...          ...   \n",
       "5104  18234  Female  80.0             1              0          Yes   \n",
       "5105  44873  Female  81.0             0              0          Yes   \n",
       "5106  19723  Female  35.0             0              0          Yes   \n",
       "5107  37544    Male  51.0             0              0          Yes   \n",
       "5108  44679  Female  44.0             0              0          Yes   \n",
       "\n",
       "          work_type residence_type  avg_glucose_level       bmi  \\\n",
       "0           Private          Urban             228.69  36.60000   \n",
       "1     Self-employed          Rural             202.21  28.89456   \n",
       "2           Private          Rural             105.92  32.50000   \n",
       "3           Private          Urban             171.23  34.40000   \n",
       "4     Self-employed          Rural             174.12  24.00000   \n",
       "...             ...            ...                ...       ...   \n",
       "5104        Private          Urban              83.75  28.89456   \n",
       "5105  Self-employed          Urban             125.20  40.00000   \n",
       "5106  Self-employed          Rural              82.99  30.60000   \n",
       "5107        Private          Rural             166.29  25.60000   \n",
       "5108       Govt_job          Urban              85.28  26.20000   \n",
       "\n",
       "       smoking_status  stroke  \n",
       "0     formerly smoked       1  \n",
       "1        never smoked       1  \n",
       "2        never smoked       1  \n",
       "3              smokes       1  \n",
       "4        never smoked       1  \n",
       "...               ...     ...  \n",
       "5104     never smoked       0  \n",
       "5105     never smoked       0  \n",
       "5106     never smoked       0  \n",
       "5107  formerly smoked       0  \n",
       "5108          Unknown       0  \n",
       "\n",
       "[5109 rows x 12 columns]"
      ]
     },
     "execution_count": 7,
     "metadata": {},
     "output_type": "execute_result"
    }
   ],
   "source": [
    "#imputing the missing values with the mean\n",
    "df = df.fillna(np.mean(df['bmi']))\n",
    "df"
   ]
  },
  {
   "cell_type": "code",
   "execution_count": 8,
   "id": "e652fb44",
   "metadata": {},
   "outputs": [
    {
     "data": {
      "text/plain": [
       "id                   0\n",
       "gender               0\n",
       "age                  0\n",
       "hypertension         0\n",
       "heart_disease        0\n",
       "ever_married         0\n",
       "work_type            0\n",
       "residence_type       0\n",
       "avg_glucose_level    0\n",
       "bmi                  0\n",
       "smoking_status       0\n",
       "stroke               0\n",
       "dtype: int64"
      ]
     },
     "execution_count": 8,
     "metadata": {},
     "output_type": "execute_result"
    }
   ],
   "source": [
    "#checking on those nulls\n",
    "df.isna().sum()"
   ]
  },
  {
   "cell_type": "markdown",
   "id": "619e6129",
   "metadata": {},
   "source": [
    "## Data Visualization: Features/Target"
   ]
  },
  {
   "cell_type": "code",
   "execution_count": 9,
   "id": "4f9db7c5",
   "metadata": {},
   "outputs": [
    {
     "data": {
      "image/png": "[encoded data removed]",
      "text/plain": [
       "<Figure size 1440x936 with 6 Axes>"
      ]
     },
     "metadata": {},
     "output_type": "display_data"
    }
   ],
   "source": [
    "# Analysis with Stroke\n",
    "fig = plt.figure(figsize=(20,13))\n",
    "gs = fig.add_gridspec(3,3)\n",
    "gs.update(wspace=0.4, hspace=0.4)\n",
    "# adding figures\n",
    "ax0 = fig.add_subplot(gs[0,0])\n",
    "ax1 = fig.add_subplot(gs[0,1])\n",
    "ax2 = fig.add_subplot(gs[1,0])\n",
    "ax3 = fig.add_subplot(gs[1,1])\n",
    "ax4 = fig.add_subplot(gs[2,0])\n",
    "ax5 = fig.add_subplot(gs[2,1])\n",
    "axes=[ax0,ax1,ax2,ax3,ax4,ax5]\n",
    "background_color = '#f6f5f7'\n",
    "for i in axes:\n",
    "    i.set_facecolor(background_color)\n",
    "fig.patch.set_facecolor(background_color) \n",
    "#https://www.geeksforgeeks.org/kde-plot-visualization-with-pandas-and-seaborn/\n",
    "sns.kdeplot(ax=ax0,x=df.loc[df['stroke']==1]['age'],color='crimson',label='Stroke',shade=True)\n",
    "sns.kdeplot(ax=ax0,x=df.loc[df['stroke']==0]['age'],color='coral',label='No Stroke',shade=True)\n",
    "ax0.legend(loc = 'upper left')\n",
    "ax0.grid(linestyle='--', axis='y')\n",
    "\n",
    "ax1.text(0.5,0.5,'Distribution of Age wrt Stroke',horizontalalignment = 'center',verticalalignment = 'center',fontsize = 18,fontfamily='serif')\n",
    "\n",
    "sns.kdeplot(ax=ax2,x=df.loc[df['stroke']==1]['avg_glucose_level'],color='crimson',label='Stroke',shade=True)\n",
    "sns.kdeplot(ax=ax2,x=df.loc[df['stroke']==0]['avg_glucose_level'],color='coral',label='No Stroke',shade=True)\n",
    "ax2.legend(loc = 'upper right')\n",
    "ax2.grid(linestyle='--', axis='y')\n",
    "\n",
    "ax3.text(0.5,0.5,'Distribution of Glucose level\\n wrt Stroke',horizontalalignment = 'center',verticalalignment = 'center',fontsize = 18,fontfamily='serif')\n",
    "\n",
    "\n",
    "sns.kdeplot(ax=ax4,x=df.loc[df['stroke']==1]['bmi'],color='crimson',label='Stroke',shade=True)\n",
    "sns.kdeplot(ax=ax4,x=df.loc[df['stroke']==0]['bmi'],color='coral',label='No Stroke',shade=True)\n",
    "ax4.legend(loc = 'upper right')\n",
    "ax4.grid(linestyle='--', axis='y')\n",
    "\n",
    "ax5.text(0.5,0.5,'Distribution of BMI\\n wrt Stroke',horizontalalignment = 'center',verticalalignment = 'center',fontsize = 18,fontfamily='serif')\n",
    "# removing labels\n",
    "\n",
    "axes1=[ax1,ax3,ax5]\n",
    "for i in axes1:\n",
    "    i.spines[\"bottom\"].set_visible(False)\n",
    "    i.spines[\"left\"].set_visible(False)\n",
    "    i.set_xlabel(\"\")\n",
    "    i.set_ylabel(\"\")\n",
    "    i.set_xticklabels([])\n",
    "    i.set_yticklabels([])\n",
    "    i.tick_params(left=False, bottom=False)\n",
    "# removing spines of figures\n",
    "for i in [\"top\",\"left\",\"right\"]:\n",
    "    ax0.spines[i].set_visible(False)\n",
    "    ax1.spines[i].set_visible(False)\n",
    "    ax2.spines[i].set_visible(False)\n",
    "    ax3.spines[i].set_visible(False)\n",
    "    ax4.spines[i].set_visible(False)\n",
    "    ax5.spines[i].set_visible(False)"
   ]
  },
  {
   "cell_type": "markdown",
   "id": "c17c799c",
   "metadata": {},
   "source": [
    "## New Insightful Features:\n",
    "- Obesity Feature:The BMI index works as a range in combination with height and weight. Since we don't have that info, I am going to average the range and apply the BMI value."
   ]
  },
  {
   "cell_type": "code",
   "execution_count": 11,
   "id": "fc4ce79b",
   "metadata": {},
   "outputs": [],
   "source": []
  },
  {
   "cell_type": "code",
   "execution_count": null,
   "id": "78f7a357",
   "metadata": {},
   "outputs": [],
   "source": []
  },
  {
   "cell_type": "code",
   "execution_count": 12,
   "id": "6e7a71b2",
   "metadata": {},
   "outputs": [],
   "source": [
    "# 0 - Underweight; 1 - Healthy; 2 - Overweight; 3 - Obese\n",
    "df['obesity'] = 0\n",
    "df['obesity'].loc[df['bmi'] > 18 ] = 1\n",
    "df['obesity'].loc[df['bmi'] > 25 ] = 2\n",
    "df['obesity'].loc[df['bmi'] > 30 ] = 3\n",
    "\n",
    "# 0 - Low; 1 - Normal; 2 - Diabetic\n",
    "df['diabetic'] = 0\n",
    "df['diabetic'].loc[df['avg_glucose_level'] > 60 ] = 1\n",
    "df['diabetic'].loc[df['avg_glucose_level'] > 125 ] = 2\n",
    "\n",
    "df['married'] = 0\n",
    "df['married'].loc[df['ever_married'] ==  'Yes' ] = 1\n",
    "\n",
    "df['gender'] = df['gender'].replace({'Male':0,'Female':1,'Other':-1}).astype(np.uint8)\n",
    "df['Residence_type'] = df['residence_type'].replace({'Rural':0,'Urban':1}).astype(np.uint8)\n",
    "df['smoking_status'] = df['smoking_status'].replace({'never smoked': 0, 'smokes': 1, 'formerly smoked': 2, 'Unknown': 3}).astype(np.uint8)\n",
    "df['work_type'] = df['work_type'].replace({'Private':0,'Self-employed':1,'Govt_job':2,'children':3,'Never_worked':4}).astype(np.uint8)"
   ]
  },
  {
   "cell_type": "code",
   "execution_count": null,
   "id": "82628dc5",
   "metadata": {},
   "outputs": [],
   "source": [
    "df"
   ]
  },
  {
   "cell_type": "code",
   "execution_count": 13,
   "id": "dddd9405",
   "metadata": {},
   "outputs": [],
   "source": [
    "#dropping these cols because of new features/ lack of relevancy\n",
    "df.drop(['bmi'], inplace=True, axis=1)\n",
    "df.drop(['avg_glucose_level'], inplace=True, axis=1)\n",
    "df.drop(['ever_married'], inplace=True, axis=1)\n",
    "df.drop(['id'], inplace=True, axis=1)\n",
    "df.drop(['residence_type'], inplace=True, axis=1)"
   ]
  },
  {
   "cell_type": "code",
   "execution_count": null,
   "id": "6866ec6a",
   "metadata": {},
   "outputs": [],
   "source": [
    "df.info()"
   ]
  },
  {
   "cell_type": "code",
   "execution_count": null,
   "id": "312e6073",
   "metadata": {},
   "outputs": [],
   "source": []
  },
  {
   "cell_type": "markdown",
   "id": "983ec114",
   "metadata": {},
   "source": [
    "### Encoding the Data "
   ]
  },
  {
   "cell_type": "code",
   "execution_count": null,
   "id": "d7fcf9df",
   "metadata": {},
   "outputs": [],
   "source": [
    "df.info()"
   ]
  },
  {
   "cell_type": "code",
   "execution_count": 14,
   "id": "6e485440",
   "metadata": {},
   "outputs": [],
   "source": [
    "#Casting all the features as label format(uint8) for SMOTE processing \n",
    "for col in df.columns:\n",
    "    df[col] = df[col].astype('uint8')\n",
    "    "
   ]
  },
  {
   "cell_type": "code",
   "execution_count": 20,
   "id": "af00f70f",
   "metadata": {},
   "outputs": [
    {
     "name": "stdout",
     "output_type": "stream",
     "text": [
      "<class 'pandas.core.frame.DataFrame'>\n",
      "RangeIndex: 5109 entries, 0 to 5108\n",
      "Data columns (total 10 columns):\n",
      " #   Column          Non-Null Count  Dtype\n",
      "---  ------          --------------  -----\n",
      " 0   gender          5109 non-null   uint8\n",
      " 1   age             5109 non-null   uint8\n",
      " 2   hypertension    5109 non-null   uint8\n",
      " 3   heart_disease   5109 non-null   uint8\n",
      " 4   work_type       5109 non-null   uint8\n",
      " 5   smoking_status  5109 non-null   uint8\n",
      " 6   obesity         5109 non-null   uint8\n",
      " 7   diabetic        5109 non-null   uint8\n",
      " 8   married         5109 non-null   uint8\n",
      " 9   Residence_type  5109 non-null   uint8\n",
      "dtypes: uint8(10)\n",
      "memory usage: 50.0 KB\n"
     ]
    }
   ],
   "source": [
    "cat_df.info()"
   ]
  },
  {
   "cell_type": "markdown",
   "id": "923e1fdc",
   "metadata": {},
   "source": [
    "### Univariate Analysis of Categorical Variables"
   ]
  },
  {
   "cell_type": "code",
   "execution_count": 25,
   "id": "3e966a76",
   "metadata": {},
   "outputs": [
    {
     "data": {
      "text/html": [
       "        <script type=\"text/javascript\">\n",
       "        window.PlotlyConfig = {MathJaxConfig: 'local'};\n",
       "        if (window.MathJax) {MathJax.Hub.Config({SVG: {font: \"STIX-Web\"}});}\n",
       "        if (typeof require !== 'undefined') {\n",
       "        require.undef(\"plotly\");\n",
       "        requirejs.config({\n",
       "            paths: {\n",
       "                'plotly': ['https://cdn.plot.ly/plotly-2.4.2.min']\n",
       "            }\n",
       "        });\n",
       "        require(['plotly'], function(Plotly) {\n",
       "            window._Plotly = Plotly;\n",
       "        });\n",
       "        }\n",
       "        </script>\n",
       "        "
      ]
     },
     "metadata": {},
     "output_type": "display_data"
    },
    {
     "data": {
      "text/html": [
       "        <script type=\"text/javascript\">\n",
       "        window.PlotlyConfig = {MathJaxConfig: 'local'};\n",
       "        if (window.MathJax) {MathJax.Hub.Config({SVG: {font: \"STIX-Web\"}});}\n",
       "        if (typeof require !== 'undefined') {\n",
       "        require.undef(\"plotly\");\n",
       "        requirejs.config({\n",
       "            paths: {\n",
       "                'plotly': ['https://cdn.plot.ly/plotly-2.4.2.min']\n",
       "            }\n",
       "        });\n",
       "        require(['plotly'], function(Plotly) {\n",
       "            window._Plotly = Plotly;\n",
       "        });\n",
       "        }\n",
       "        </script>\n",
       "        "
      ]
     },
     "metadata": {},
     "output_type": "display_data"
    },
    {
     "data": {
      "text/html": [
       "        <script type=\"text/javascript\">\n",
       "        window.PlotlyConfig = {MathJaxConfig: 'local'};\n",
       "        if (window.MathJax) {MathJax.Hub.Config({SVG: {font: \"STIX-Web\"}});}\n",
       "        if (typeof require !== 'undefined') {\n",
       "        require.undef(\"plotly\");\n",
       "        requirejs.config({\n",
       "            paths: {\n",
       "                'plotly': ['https://cdn.plot.ly/plotly-2.4.2.min']\n",
       "            }\n",
       "        });\n",
       "        require(['plotly'], function(Plotly) {\n",
       "            window._Plotly = Plotly;\n",
       "        });\n",
       "        }\n",
       "        </script>\n",
       "        "
      ]
     },
     "metadata": {},
     "output_type": "display_data"
    },
    {
     "data": {
      "image/png": "[encoded data removed]",
      "text/plain": [
       "<Figure size 1656x1872 with 10 Axes>"
      ]
     },
     "metadata": {},
     "output_type": "display_data"
    }
   ],
   "source": [
    "from plotly import __version__\n",
    "%matplotlib inline\n",
    "import cufflinks as cf\n",
    "from plotly.offline import download_plotlyjs, init_notebook_mode, plot, iplot\n",
    "init_notebook_mode(connected=True)\n",
    "\n",
    "init_notebook_mode(connected=True)\n",
    "cf.go_offline()\n",
    "cat_df =df[['gender', 'age', 'hypertension', 'heart_disease', 'work_type',\n",
    "            'smoking_status','obesity', 'diabetic', 'married','Residence_type']].copy()\n",
    "\n",
    "fig=plt.figure(figsize=(23,26))\n",
    "background_color = '#f6f5f7'\n",
    "fig.patch.set_facecolor(background_color) \n",
    "for indx,val in enumerate(cat_df.columns):\n",
    "    ax=plt.subplot(5,2,indx+1)\n",
    "    ax.set_facecolor(background_color)\n",
    "    ax.set_title(val,fontweight='bold',fontfamily='serif')\n",
    "    for i in ['top','right']:\n",
    "        ax.spines[i].set_visible(True)\n",
    "    ax.grid(linestyle=':',axis='y')\n",
    "    sns.countplot(cat_df[val],palette='OrRd_r',hue=df['stroke'])"
   ]
  },
  {
   "cell_type": "code",
   "execution_count": 15,
   "id": "0dbde199",
   "metadata": {},
   "outputs": [
    {
     "data": {
      "text/plain": [
       "Index(['gender', 'age', 'hypertension', 'heart_disease', 'work_type',\n",
       "       'smoking_status', 'stroke', 'obesity', 'diabetic', 'married',\n",
       "       'Residence_type'],\n",
       "      dtype='object')"
      ]
     },
     "execution_count": 15,
     "metadata": {},
     "output_type": "execute_result"
    }
   ],
   "source": [
    "df.columns"
   ]
  },
  {
   "cell_type": "markdown",
   "id": "dec77470",
   "metadata": {},
   "source": [
    "### One Hot Encoding for Age Group Column\n",
    "#### Hasn't been implemented yet. Feel free to add this in..."
   ]
  },
  {
   "cell_type": "code",
   "execution_count": null,
   "id": "9b6c7ef9",
   "metadata": {},
   "outputs": [],
   "source": [
    "# # example of a one hot encoding\n",
    "# from numpy import asarray\n",
    "# from sklearn.preprocessing import OneHotEncoder\n",
    "# # define data\n",
    "# data = asarray(df['age_range'])\n",
    "# print(data)\n",
    "# # define one hot encoding\n",
    "# encoder = OneHotEncoder(sparse=False)\n",
    "# # transform data\n",
    "# onehot = encoder.fit_transform(data.reshape(-1, 1))\n",
    "# print(onehot)"
   ]
  },
  {
   "cell_type": "code",
   "execution_count": null,
   "id": "5b0934d7",
   "metadata": {},
   "outputs": [],
   "source": [
    "df.info()"
   ]
  },
  {
   "cell_type": "code",
   "execution_count": null,
   "id": "da902925",
   "metadata": {},
   "outputs": [],
   "source": []
  },
  {
   "cell_type": "markdown",
   "id": "de84ed45",
   "metadata": {},
   "source": [
    "### Splitting the Data"
   ]
  },
  {
   "cell_type": "code",
   "execution_count": 26,
   "id": "cac09266",
   "metadata": {},
   "outputs": [],
   "source": [
    "from sklearn.model_selection import train_test_split\n",
    "def split_data(df):\n",
    "    '''\n",
    "    Takes in a DataFrame and splits it into 60%/20%/20% for train,\n",
    "    validate, and test DataFrames using random_rate=19\n",
    "    '''\n",
    "\n",
    "    # split data into train, validate, and test datasets\n",
    "    train_validate, test = train_test_split(df, test_size=0.2, \n",
    "                                            random_state=19)\n",
    "    train, validate = train_test_split(train_validate, test_size=0.25,\n",
    "                                            random_state=19)\n",
    "\n",
    "    return train, validate, test"
   ]
  },
  {
   "cell_type": "code",
   "execution_count": 27,
   "id": "2f2ce6d7",
   "metadata": {},
   "outputs": [],
   "source": [
    "train, validate, test = split_data(df)"
   ]
  },
  {
   "cell_type": "code",
   "execution_count": null,
   "id": "fd9aafcc",
   "metadata": {},
   "outputs": [],
   "source": [
    "train.shape"
   ]
  },
  {
   "cell_type": "code",
   "execution_count": null,
   "id": "94498689",
   "metadata": {},
   "outputs": [],
   "source": [
    "validate.shape"
   ]
  },
  {
   "cell_type": "code",
   "execution_count": null,
   "id": "43ea0ec3",
   "metadata": {},
   "outputs": [],
   "source": [
    "test.shape"
   ]
  },
  {
   "cell_type": "code",
   "execution_count": 28,
   "id": "14633e6b",
   "metadata": {},
   "outputs": [],
   "source": [
    "\n",
    "def split_xy(train, validate, test, target):\n",
    "    '''\n",
    "    Takes in the three train, validate, and test DataFrames and returns\n",
    "    six X, y DataFrames after splitting the target from the X data\n",
    "    '''\n",
    "\n",
    "    # split train into X, y\n",
    "    X_train = train.drop(columns=target)\n",
    "    y_train = pd.DataFrame(train[target])\n",
    "    # split validate into X, y\n",
    "    X_validate = validate.drop(columns=target)\n",
    "    y_validate = pd.DataFrame(validate[target])\n",
    "    # split test into X, y\n",
    "    X_test = test.drop(columns=target)\n",
    "    y_test = pd.DataFrame(test[target])\n",
    "\n",
    "    return X_train, y_train, X_validate, y_validate, X_test, y_test"
   ]
  },
  {
   "cell_type": "code",
   "execution_count": 29,
   "id": "d4d65801",
   "metadata": {},
   "outputs": [],
   "source": [
    "X_train, y_train, X_validate, y_validate, X_test, y_test = split_xy(train, validate, test, target='stroke')"
   ]
  },
  {
   "cell_type": "markdown",
   "id": "a72e0938",
   "metadata": {},
   "source": [
    "### Handling Imbalance data using SMOTE  \n",
    "Synthetic Minority Oversampling Technique is an oversampling technique where the synthetic samples are generated for the minority class. This algorithm helps to overcome the overfitting problem posed by random oversampling"
   ]
  },
  {
   "cell_type": "code",
   "execution_count": 30,
   "id": "24a2c6cb",
   "metadata": {},
   "outputs": [],
   "source": [
    "from imblearn.combine import SMOTETomek \n",
    "\n",
    "\n",
    "#Make variables from split data for smote processing\n",
    "\n",
    "oversample = SMOTETomek(random_state=123)\n",
    "X_train_smote, y_train_smote = oversample.fit_resample(X_train, y_train)\n",
    "X_validate_smote, y_validate_smote = oversample.fit_resample(X_test, y_test)\n",
    "X_test_smote, y_test_smote = oversample.fit_resample(X_test, y_test)"
   ]
  },
  {
   "cell_type": "markdown",
   "id": "edaef261",
   "metadata": {},
   "source": [
    "#### Comparing the Original Shape of the Data to Smote Shape"
   ]
  },
  {
   "cell_type": "code",
   "execution_count": 31,
   "id": "87c2a3aa",
   "metadata": {},
   "outputs": [
    {
     "name": "stdout",
     "output_type": "stream",
     "text": [
      "original train (3065, 10) (3065, 1)\n",
      "smote train (5746, 10) (5746, 1)\n",
      "--------------------------------------------------------------------------------\n",
      "original validate (1022, 10) (1022, 1)\n",
      "smote validate (1894, 10) (1894, 1)\n",
      "--------------------------------------------------------------------------------\n",
      "original test (1022, 10) (1022, 1)\n",
      "smote test (1894, 10) (1894, 1)\n"
     ]
    }
   ],
   "source": [
    "print('original train', X_train.shape, y_train.shape)\n",
    "print('smote train', X_train_smote.shape, y_train_smote.shape)\n",
    "print('-'*80)\n",
    "print('original validate', X_validate.shape, y_validate.shape)\n",
    "print('smote validate', X_validate_smote.shape, y_validate_smote.shape)\n",
    "print('-'*80)\n",
    "print('original test', X_test.shape, y_test.shape)\n",
    "print('smote test', X_test_smote.shape, y_test_smote.shape)"
   ]
  },
  {
   "cell_type": "markdown",
   "id": "9ffb14ba",
   "metadata": {},
   "source": [
    "# Modeling\n",
    "- LogisticRegression\n",
    "- GaussianNB\n",
    "- RandomForestClassifier\n",
    "- KNeighborsClassifier\n",
    "- DecisionTreeClassifier\n",
    "\n"
   ]
  },
  {
   "cell_type": "markdown",
   "id": "89593a45",
   "metadata": {},
   "source": [
    "## Train Smote vs  Validate \n",
    "- Depending how well it performs on train, will decide incorporation on Validate Data"
   ]
  },
  {
   "cell_type": "code",
   "execution_count": 32,
   "id": "85520c83",
   "metadata": {},
   "outputs": [
    {
     "name": "stdout",
     "output_type": "stream",
     "text": [
      "original train (3065, 10) (3065, 1)\n",
      "smote train (5746, 10) (5746, 1)\n",
      "--------------------------------------------------------------------------------\n",
      "original validate (1022, 10) (1022, 1)\n",
      "smote validate (1894, 10) (1894, 1)\n",
      "--------------------------------------------------------------------------------\n"
     ]
    }
   ],
   "source": [
    "print('original train', X_train.shape, y_train.shape)\n",
    "print('smote train', X_train_smote.shape, y_train_smote.shape)\n",
    "print('-'*80)\n",
    "print('original validate', X_validate.shape, y_validate.shape)\n",
    "print('smote validate', X_validate_smote.shape, y_validate_smote.shape)\n",
    "print('-'*80)"
   ]
  },
  {
   "cell_type": "code",
   "execution_count": 33,
   "id": "7f8abf99",
   "metadata": {},
   "outputs": [
    {
     "name": "stdout",
     "output_type": "stream",
     "text": [
      "Logistic Reg Model\n",
      "              precision    recall  f1-score   support\n",
      "\n",
      "           0       0.97      0.97      0.97       982\n",
      "           1       0.17      0.17      0.17        40\n",
      "\n",
      "    accuracy                           0.93      1022\n",
      "   macro avg       0.57      0.57      0.57      1022\n",
      "weighted avg       0.94      0.93      0.93      1022\n",
      "\n",
      "[[948  34]\n",
      " [ 33   7]]\n",
      "--------------------------------\n",
      "Naive Bayes Model\n",
      "              precision    recall  f1-score   support\n",
      "\n",
      "           0       0.96      1.00      0.98       982\n",
      "           1       0.00      0.00      0.00        40\n",
      "\n",
      "    accuracy                           0.96      1022\n",
      "   macro avg       0.48      0.50      0.49      1022\n",
      "weighted avg       0.92      0.96      0.94      1022\n",
      "\n",
      "[[982   0]\n",
      " [ 40   0]]\n",
      "--------------------------------\n",
      "Random Forest Classifier Model\n",
      "              precision    recall  f1-score   support\n",
      "\n",
      "           0       0.97      0.94      0.95       982\n",
      "           1       0.17      0.33      0.23        40\n",
      "\n",
      "    accuracy                           0.91      1022\n",
      "   macro avg       0.57      0.63      0.59      1022\n",
      "weighted avg       0.94      0.91      0.93      1022\n",
      "\n",
      "[[920  62]\n",
      " [ 27  13]]\n",
      "--------------------------------\n",
      "K Nearest Classifier Model\n",
      "              precision    recall  f1-score   support\n",
      "\n",
      "           0       0.96      0.94      0.95       982\n",
      "           1       0.06      0.10      0.08        40\n",
      "\n",
      "    accuracy                           0.91      1022\n",
      "   macro avg       0.51      0.52      0.51      1022\n",
      "weighted avg       0.93      0.91      0.92      1022\n",
      "\n",
      "[[921  61]\n",
      " [ 36   4]]\n",
      "--------------------------------\n",
      "Decison Tree Model\n",
      "              precision    recall  f1-score   support\n",
      "\n",
      "           0       0.97      0.96      0.96       982\n",
      "           1       0.14      0.17      0.16        40\n",
      "\n",
      "    accuracy                           0.93      1022\n",
      "   macro avg       0.55      0.57      0.56      1022\n",
      "weighted avg       0.93      0.93      0.93      1022\n",
      "\n",
      "[[940  42]\n",
      " [ 33   7]]\n",
      "--------------------------------\n"
     ]
    }
   ],
   "source": [
    "# # Let's take a look at results using SMOTE on the train and validate sets \n",
    "\n",
    "model_dict = {\n",
    "    'Logistic Reg': LogisticRegression(random_state=123, max_iter=550, solver='lbfgs'),\n",
    "    'Naive Bayes': GaussianNB(),  \n",
    "    'Random Forest Classifier': RandomForestClassifier(max_depth=5, random_state=123),\n",
    "    'K Nearest Classifier': KNeighborsClassifier(n_neighbors=5, weights='uniform'),\n",
    "    'Decison Tree': DecisionTreeClassifier(random_state=123)\n",
    "            }\n",
    "model_list = []\n",
    "train_acc_list = []\n",
    "val_acc_list = []\n",
    "counter_list = []\n",
    "prediction_list = []\n",
    "metric_scores_list = []\n",
    "\n",
    "for model, clf in model_dict.items():\n",
    "    clf.fit(X_train_smote, y_train_smote)\n",
    "    predictions = clf.predict(X_validate)\n",
    "    acc = accuracy_score(y_validate, predictions)\n",
    "    train_pred =  clf.predict(X_train_smote)\n",
    "    train_acc = accuracy_score(y_train_smote, train_pred)\n",
    "    counter = Counter(predictions)\n",
    "    report = precision_recall_fscore_support(y_validate, predictions, average='binary')\n",
    "    report_values =  (\"precision = %0.2f, recall = %0.2f, F1 = %0.2f, accuracy = %0.2f\" % \\\n",
    "           (report[0], report[1], report[2], acc))\n",
    "\n",
    "\n",
    "    print(model, 'Model')\n",
    "    print(classification_report(y_validate, predictions))\n",
    "    print(confusion_matrix(y_validate,predictions))\n",
    "    print('--------------------------------')\n",
    "    \n",
    "    model_list.append(model)\n",
    "    train_acc_list.append(train_acc)\n",
    "    val_acc_list.append(acc)   \n",
    "    counter_list.append(counter)\n",
    "    prediction_list.append(predictions)\n",
    "    metric_scores_list.append(report_values)\n",
    "    \n",
    "\n",
    "results = pd.DataFrame({\"model\": model_list, \"smote_train_accuracy\": train_acc_list, \"validate_acc\": val_acc_list,'metric':metric_scores_list, 'counter': counter_list, 'predictions': prediction_list})"
   ]
  },
  {
   "cell_type": "code",
   "execution_count": 34,
   "id": "ddc40a43",
   "metadata": {},
   "outputs": [
    {
     "data": {
      "text/html": [
       "<table border=\"1\" class=\"dataframe\">\n",
       "  <thead>\n",
       "    <tr style=\"text-align: right;\">\n",
       "      <th></th>\n",
       "      <th>model</th>\n",
       "      <th>smote_train_accuracy</th>\n",
       "      <th>validate_acc</th>\n",
       "      <th>metric</th>\n",
       "      <th>counter</th>\n",
       "      <th>predictions</th>\n",
       "    </tr>\n",
       "  </thead>\n",
       "  <tbody>\n",
       "    <tr>\n",
       "      <th>0</th>\n",
       "      <td>Logistic Reg</td>\n",
       "      <td>0.908980</td>\n",
       "      <td>0.934442</td>\n",
       "      <td>precision = 0.17, recall = 0.17, F1 = 0.17, accuracy = 0.93</td>\n",
       "      <td>{0: 981, 1: 41}</td>\n",
       "      <td>[0, 0, 0, 0, 0, 0, 0, 0, 0, 0, 0, 0, 0, 0, 0, 0, 0, 0, 0, 0, 1, 0, 0, 0, 0, 0, 0, 0, 0, 0, 0, 0, 0, 0, 0, 0, 0, 0, 0, 0, 0, 0, 0, 0, 0, 0, 0, 0, 0, 0, 0, 0, 0, 0, 0, 0, 0, 0, 0, 0, 0, 0, 0, 1, 0, 0, 0, 0, 0, 0, 0, 0, 0, 0, 0, 0, 0, 0, 0, 0, 0, 0, 0, 0, 0, 0, 0, 0, 1, 0, 0, 0, 0, 0, 0, 0, 0, 0, 0, 0, ...]</td>\n",
       "    </tr>\n",
       "    <tr>\n",
       "      <th>1</th>\n",
       "      <td>Naive Bayes</td>\n",
       "      <td>0.902889</td>\n",
       "      <td>0.960861</td>\n",
       "      <td>precision = 0.00, recall = 0.00, F1 = 0.00, accuracy = 0.96</td>\n",
       "      <td>{0: 1022}</td>\n",
       "      <td>[0, 0, 0, 0, 0, 0, 0, 0, 0, 0, 0, 0, 0, 0, 0, 0, 0, 0, 0, 0, 0, 0, 0, 0, 0, 0, 0, 0, 0, 0, 0, 0, 0, 0, 0, 0, 0, 0, 0, 0, 0, 0, 0, 0, 0, 0, 0, 0, 0, 0, 0, 0, 0, 0, 0, 0, 0, 0, 0, 0, 0, 0, 0, 0, 0, 0, 0, 0, 0, 0, 0, 0, 0, 0, 0, 0, 0, 0, 0, 0, 0, 0, 0, 0, 0, 0, 0, 0, 0, 0, 0, 0, 0, 0, 0, 0, 0, 0, 0, 0, ...]</td>\n",
       "    </tr>\n",
       "    <tr>\n",
       "      <th>2</th>\n",
       "      <td>Random Forest Classifier</td>\n",
       "      <td>0.911765</td>\n",
       "      <td>0.912916</td>\n",
       "      <td>precision = 0.17, recall = 0.33, F1 = 0.23, accuracy = 0.91</td>\n",
       "      <td>{0: 947, 1: 75}</td>\n",
       "      <td>[0, 0, 0, 0, 0, 0, 0, 0, 1, 0, 0, 1, 0, 0, 0, 0, 0, 0, 0, 0, 1, 0, 0, 0, 0, 0, 0, 0, 0, 0, 0, 0, 0, 0, 0, 0, 0, 0, 0, 0, 0, 0, 0, 0, 0, 0, 0, 0, 0, 0, 0, 0, 0, 0, 0, 0, 0, 0, 0, 0, 0, 1, 0, 1, 0, 0, 0, 0, 0, 0, 0, 0, 0, 0, 0, 0, 0, 0, 0, 0, 0, 1, 0, 0, 0, 0, 0, 0, 1, 0, 0, 0, 0, 0, 0, 0, 0, 0, 0, 0, ...]</td>\n",
       "    </tr>\n",
       "    <tr>\n",
       "      <th>3</th>\n",
       "      <td>K Nearest Classifier</td>\n",
       "      <td>0.967282</td>\n",
       "      <td>0.905088</td>\n",
       "      <td>precision = 0.06, recall = 0.10, F1 = 0.08, accuracy = 0.91</td>\n",
       "      <td>{0: 957, 1: 65}</td>\n",
       "      <td>[0, 0, 0, 0, 0, 0, 0, 0, 0, 0, 0, 0, 0, 0, 0, 0, 0, 0, 1, 0, 0, 0, 0, 0, 0, 0, 0, 0, 0, 0, 0, 0, 0, 0, 0, 0, 0, 0, 0, 0, 0, 0, 0, 0, 0, 0, 0, 0, 0, 0, 0, 0, 0, 0, 1, 0, 0, 0, 0, 0, 0, 1, 0, 1, 0, 0, 0, 0, 0, 0, 0, 0, 0, 0, 0, 0, 0, 0, 0, 0, 0, 0, 0, 0, 0, 0, 0, 0, 0, 0, 0, 0, 0, 0, 0, 0, 0, 0, 0, 0, ...]</td>\n",
       "    </tr>\n",
       "    <tr>\n",
       "      <th>4</th>\n",
       "      <td>Decison Tree</td>\n",
       "      <td>0.996867</td>\n",
       "      <td>0.926614</td>\n",
       "      <td>precision = 0.14, recall = 0.17, F1 = 0.16, accuracy = 0.93</td>\n",
       "      <td>{0: 973, 1: 49}</td>\n",
       "      <td>[0, 0, 0, 0, 0, 0, 0, 0, 0, 0, 0, 0, 0, 0, 0, 0, 0, 0, 0, 0, 0, 0, 0, 0, 0, 0, 0, 0, 0, 0, 0, 0, 0, 0, 0, 0, 0, 0, 0, 0, 0, 0, 0, 0, 0, 0, 0, 0, 0, 1, 0, 0, 0, 0, 1, 0, 0, 0, 0, 0, 0, 0, 0, 0, 0, 0, 0, 0, 0, 0, 0, 0, 0, 0, 0, 0, 0, 0, 0, 0, 0, 0, 0, 0, 0, 0, 0, 0, 1, 0, 0, 0, 0, 0, 0, 0, 0, 0, 0, 0, ...]</td>\n",
       "    </tr>\n",
       "  </tbody>\n",
       "</table>"
      ],
      "text/plain": [
       "<IPython.core.display.HTML object>"
      ]
     },
     "metadata": {},
     "output_type": "display_data"
    }
   ],
   "source": [
    "from IPython.display import display, HTML\n",
    "\n",
    "display(HTML(results.to_html()))"
   ]
  },
  {
   "cell_type": "markdown",
   "id": "e01821d9",
   "metadata": {},
   "source": [
    "### Takeaway:\n",
    "- Decison Tree, KNC, and RFC are all perfroming better \n",
    "- Going to move forward with smote on validate "
   ]
  },
  {
   "cell_type": "markdown",
   "id": "3052ae3c",
   "metadata": {},
   "source": [
    "### TRAIN SMOTE AND VALIDATE SMOTE VS TEST ACCURACY\n",
    "- Looking at the performance with smote applied to train and validate against test"
   ]
  },
  {
   "cell_type": "code",
   "execution_count": 35,
   "id": "96038721",
   "metadata": {},
   "outputs": [
    {
     "name": "stdout",
     "output_type": "stream",
     "text": [
      "Logistic Reg Model\n",
      "              precision    recall  f1-score   support\n",
      "\n",
      "           0       0.95      0.98      0.96       966\n",
      "           1       0.06      0.02      0.03        56\n",
      "\n",
      "    accuracy                           0.93      1022\n",
      "   macro avg       0.50      0.50      0.50      1022\n",
      "weighted avg       0.90      0.93      0.91      1022\n",
      "\n",
      "[[951  15]\n",
      " [ 55   1]]\n",
      "--------------------------------\n",
      "Naive Bayes Model\n",
      "              precision    recall  f1-score   support\n",
      "\n",
      "           0       0.95      1.00      0.97       966\n",
      "           1       0.00      0.00      0.00        56\n",
      "\n",
      "    accuracy                           0.95      1022\n",
      "   macro avg       0.47      0.50      0.49      1022\n",
      "weighted avg       0.89      0.95      0.92      1022\n",
      "\n",
      "[[966   0]\n",
      " [ 56   0]]\n",
      "--------------------------------\n",
      "Random Forest Classifier Model\n",
      "              precision    recall  f1-score   support\n",
      "\n",
      "           0       0.97      0.91      0.94       966\n",
      "           1       0.22      0.45      0.30        56\n",
      "\n",
      "    accuracy                           0.88      1022\n",
      "   macro avg       0.59      0.68      0.62      1022\n",
      "weighted avg       0.93      0.88      0.90      1022\n",
      "\n",
      "[[879  87]\n",
      " [ 31  25]]\n",
      "--------------------------------\n",
      "K Nearest Classifier Model\n",
      "              precision    recall  f1-score   support\n",
      "\n",
      "           0       0.97      0.97      0.97       966\n",
      "           1       0.48      0.45      0.46        56\n",
      "\n",
      "    accuracy                           0.94      1022\n",
      "   macro avg       0.72      0.71      0.72      1022\n",
      "weighted avg       0.94      0.94      0.94      1022\n",
      "\n",
      "[[939  27]\n",
      " [ 31  25]]\n",
      "--------------------------------\n",
      "Decison Tree Model\n",
      "              precision    recall  f1-score   support\n",
      "\n",
      "           0       0.99      0.99      0.99       966\n",
      "           1       0.88      0.80      0.84        56\n",
      "\n",
      "    accuracy                           0.98      1022\n",
      "   macro avg       0.94      0.90      0.92      1022\n",
      "weighted avg       0.98      0.98      0.98      1022\n",
      "\n",
      "[[960   6]\n",
      " [ 11  45]]\n",
      "--------------------------------\n"
     ]
    }
   ],
   "source": [
    "model_dict = {\n",
    "    'Logistic Reg': LogisticRegression(random_state=123, max_iter=550, solver='lbfgs'),\n",
    "    'Naive Bayes': GaussianNB(),  \n",
    "    'Random Forest Classifier': RandomForestClassifier(max_depth=5, random_state=123),\n",
    "    'K Nearest Classifier': KNeighborsClassifier(n_neighbors=5, weights='uniform'),\n",
    "    'Decison Tree': DecisionTreeClassifier(random_state=123)\n",
    "}\n",
    "\n",
    "\n",
    "model_list = []\n",
    "train_acc_list = []\n",
    "val_acc_list = []\n",
    "test_acc_list = []\n",
    "counter_list = []\n",
    "prediction_list = []\n",
    "metric_scores_list = []\n",
    "\n",
    "for model, clf in model_dict.items():\n",
    "    clf.fit(X_train_smote, y_train_smote)\n",
    "    \n",
    "    clf.fit(X_validate_smote, y_validate_smote)\n",
    "    \n",
    "    predictions = clf.predict(X_test)\n",
    "    acc = accuracy_score(y_test, predictions)\n",
    "    \n",
    "    train_pred =  clf.predict(X_train_smote)\n",
    "    val_pred =  clf.predict(X_validate_smote)\n",
    "    \n",
    "    \n",
    "    train_acc = accuracy_score(y_train_smote, train_pred)\n",
    "    val_acc = accuracy_score(y_validate_smote, val_pred)\n",
    "    \n",
    "    \n",
    "    counter = Counter(predictions)\n",
    "    report = precision_recall_fscore_support(y_test, predictions, average='binary')\n",
    "    report_values =  (\"precision = %0.2f, recall = %0.2f, F1 = %0.2f, accuracy = %0.2f\" % \\\n",
    "            (report[0], report[1], report[2], acc))\n",
    "\n",
    "\n",
    "    print(model, 'Model')\n",
    "    print(classification_report(y_test, predictions))\n",
    "    print(confusion_matrix(y_test,predictions))\n",
    "    print('--------------------------------')\n",
    "    \n",
    "    model_list.append(model)\n",
    "    train_acc_list.append(train_acc)\n",
    "    val_acc_list.append(val_acc)\n",
    "    test_acc_list.append(acc)   \n",
    "    counter_list.append(counter)\n",
    "    prediction_list.append(predictions)\n",
    "    metric_scores_list.append(report_values)\n",
    "    \n",
    "\n",
    "results = pd.DataFrame({\"model\": model_list, \"train_smote_accuracy\": train_acc_list, \"validate_smote_accuracy\": val_acc_list, \"test_acc\": test_acc_list,'metric':metric_scores_list, 'counter': counter_list, 'predictions': prediction_list})"
   ]
  },
  {
   "cell_type": "code",
   "execution_count": 36,
   "id": "1884b65a",
   "metadata": {},
   "outputs": [
    {
     "data": {
      "text/html": [
       "<table border=\"1\" class=\"dataframe\">\n",
       "  <thead>\n",
       "    <tr style=\"text-align: right;\">\n",
       "      <th></th>\n",
       "      <th>model</th>\n",
       "      <th>train_smote_accuracy</th>\n",
       "      <th>validate_smote_accuracy</th>\n",
       "      <th>test_acc</th>\n",
       "      <th>metric</th>\n",
       "      <th>counter</th>\n",
       "      <th>predictions</th>\n",
       "    </tr>\n",
       "  </thead>\n",
       "  <tbody>\n",
       "    <tr>\n",
       "      <th>0</th>\n",
       "      <td>Logistic Reg</td>\n",
       "      <td>0.907414</td>\n",
       "      <td>0.929250</td>\n",
       "      <td>0.931507</td>\n",
       "      <td>precision = 0.06, recall = 0.02, F1 = 0.03, accuracy = 0.93</td>\n",
       "      <td>{0: 1006, 1: 16}</td>\n",
       "      <td>[0, 0, 0, 0, 0, 0, 0, 0, 0, 0, 0, 0, 0, 0, 0, 0, 0, 0, 0, 0, 0, 0, 0, 0, 0, 0, 0, 0, 0, 0, 0, 0, 1, 0, 0, 0, 0, 0, 0, 0, 0, 0, 0, 0, 0, 0, 0, 0, 0, 0, 0, 0, 0, 0, 0, 0, 0, 0, 0, 0, 0, 0, 0, 0, 0, 0, 0, 0, 0, 0, 0, 0, 0, 0, 0, 0, 0, 0, 0, 0, 0, 0, 0, 0, 0, 0, 0, 0, 0, 0, 0, 0, 0, 0, 0, 0, 0, 0, 0, 0, ...]</td>\n",
       "    </tr>\n",
       "    <tr>\n",
       "      <th>1</th>\n",
       "      <td>Naive Bayes</td>\n",
       "      <td>0.903237</td>\n",
       "      <td>0.916051</td>\n",
       "      <td>0.945205</td>\n",
       "      <td>precision = 0.00, recall = 0.00, F1 = 0.00, accuracy = 0.95</td>\n",
       "      <td>{0: 1022}</td>\n",
       "      <td>[0, 0, 0, 0, 0, 0, 0, 0, 0, 0, 0, 0, 0, 0, 0, 0, 0, 0, 0, 0, 0, 0, 0, 0, 0, 0, 0, 0, 0, 0, 0, 0, 0, 0, 0, 0, 0, 0, 0, 0, 0, 0, 0, 0, 0, 0, 0, 0, 0, 0, 0, 0, 0, 0, 0, 0, 0, 0, 0, 0, 0, 0, 0, 0, 0, 0, 0, 0, 0, 0, 0, 0, 0, 0, 0, 0, 0, 0, 0, 0, 0, 0, 0, 0, 0, 0, 0, 0, 0, 0, 0, 0, 0, 0, 0, 0, 0, 0, 0, 0, ...]</td>\n",
       "    </tr>\n",
       "    <tr>\n",
       "      <th>2</th>\n",
       "      <td>Random Forest Classifier</td>\n",
       "      <td>0.885834</td>\n",
       "      <td>0.918163</td>\n",
       "      <td>0.884540</td>\n",
       "      <td>precision = 0.22, recall = 0.45, F1 = 0.30, accuracy = 0.88</td>\n",
       "      <td>{1: 112, 0: 910}</td>\n",
       "      <td>[1, 0, 0, 0, 0, 0, 0, 0, 0, 0, 0, 0, 0, 0, 0, 1, 0, 0, 0, 0, 1, 0, 1, 1, 0, 0, 0, 0, 0, 0, 0, 0, 1, 0, 0, 0, 0, 0, 0, 0, 0, 0, 0, 0, 0, 0, 0, 0, 1, 0, 0, 0, 0, 0, 0, 1, 0, 1, 0, 0, 0, 0, 0, 0, 0, 0, 0, 0, 0, 0, 0, 0, 0, 0, 0, 0, 0, 0, 1, 0, 0, 0, 0, 0, 0, 0, 0, 0, 0, 0, 0, 0, 0, 0, 0, 1, 1, 0, 0, 0, ...]</td>\n",
       "    </tr>\n",
       "    <tr>\n",
       "      <th>3</th>\n",
       "      <td>K Nearest Classifier</td>\n",
       "      <td>0.888966</td>\n",
       "      <td>0.952482</td>\n",
       "      <td>0.943249</td>\n",
       "      <td>precision = 0.48, recall = 0.45, F1 = 0.46, accuracy = 0.94</td>\n",
       "      <td>{0: 970, 1: 52}</td>\n",
       "      <td>[0, 0, 0, 0, 0, 0, 0, 0, 0, 0, 0, 0, 0, 0, 0, 0, 0, 0, 0, 0, 0, 0, 0, 0, 0, 0, 1, 1, 0, 0, 0, 0, 0, 0, 0, 0, 0, 0, 0, 0, 0, 0, 0, 0, 0, 0, 0, 0, 0, 0, 0, 0, 0, 0, 0, 0, 0, 0, 0, 0, 0, 0, 0, 0, 0, 0, 0, 0, 0, 0, 0, 0, 0, 0, 0, 0, 0, 0, 0, 0, 0, 0, 0, 0, 0, 0, 0, 0, 0, 0, 0, 0, 0, 0, 0, 0, 1, 0, 0, 0, ...]</td>\n",
       "    </tr>\n",
       "    <tr>\n",
       "      <th>4</th>\n",
       "      <td>Decison Tree</td>\n",
       "      <td>0.887226</td>\n",
       "      <td>0.998944</td>\n",
       "      <td>0.983366</td>\n",
       "      <td>precision = 0.88, recall = 0.80, F1 = 0.84, accuracy = 0.98</td>\n",
       "      <td>{0: 971, 1: 51}</td>\n",
       "      <td>[0, 0, 0, 0, 0, 0, 0, 0, 0, 0, 0, 0, 0, 0, 0, 0, 0, 0, 0, 0, 0, 0, 0, 0, 0, 0, 1, 0, 0, 0, 0, 0, 0, 0, 1, 0, 0, 0, 0, 0, 0, 0, 0, 0, 0, 0, 0, 0, 0, 0, 0, 0, 0, 0, 0, 0, 0, 0, 0, 0, 0, 0, 0, 0, 0, 0, 0, 0, 0, 0, 0, 0, 0, 0, 0, 0, 0, 0, 0, 0, 0, 0, 0, 0, 0, 0, 0, 0, 0, 0, 0, 0, 0, 0, 0, 0, 0, 0, 0, 0, ...]</td>\n",
       "    </tr>\n",
       "  </tbody>\n",
       "</table>"
      ],
      "text/plain": [
       "<IPython.core.display.HTML object>"
      ]
     },
     "metadata": {},
     "output_type": "display_data"
    }
   ],
   "source": [
    "display(HTML(results.to_html()))"
   ]
  },
  {
   "cell_type": "markdown",
   "id": "aeec3fd0",
   "metadata": {},
   "source": [
    "#### Takeaway:\n",
    "- Smote on the validate dataset is performing way better than the train dataset. \n",
    "- Smote on the validate dataset performs better than the test for the models RFC, KNC, and Decision Tree\n",
    "- Going to move forward with SMOTE on the test date set."
   ]
  },
  {
   "cell_type": "markdown",
   "id": "2f19b1d0",
   "metadata": {},
   "source": [
    "## TRAIN SMOTE, VALIDATE SMOTE, TEST SMOTE"
   ]
  },
  {
   "cell_type": "code",
   "execution_count": 37,
   "id": "18526122",
   "metadata": {},
   "outputs": [
    {
     "name": "stdout",
     "output_type": "stream",
     "text": [
      "Logistic Reg Model\n",
      "              precision    recall  f1-score   support\n",
      "\n",
      "           0       0.89      0.99      0.93       947\n",
      "           1       0.98      0.87      0.93       947\n",
      "\n",
      "    accuracy                           0.93      1894\n",
      "   macro avg       0.93      0.93      0.93      1894\n",
      "weighted avg       0.93      0.93      0.93      1894\n",
      "\n",
      "[[933  14]\n",
      " [120 827]]\n",
      "--------------------------------\n",
      "Naive Bayes Model\n",
      "              precision    recall  f1-score   support\n",
      "\n",
      "           0       0.86      1.00      0.92       947\n",
      "           1       1.00      0.83      0.91       947\n",
      "\n",
      "    accuracy                           0.92      1894\n",
      "   macro avg       0.93      0.92      0.92      1894\n",
      "weighted avg       0.93      0.92      0.92      1894\n",
      "\n",
      "[[947   0]\n",
      " [159 788]]\n",
      "--------------------------------\n",
      "Random Forest Classifier Model\n",
      "              precision    recall  f1-score   support\n",
      "\n",
      "           0       0.92      0.92      0.92       947\n",
      "           1       0.92      0.92      0.92       947\n",
      "\n",
      "    accuracy                           0.92      1894\n",
      "   macro avg       0.92      0.92      0.92      1894\n",
      "weighted avg       0.92      0.92      0.92      1894\n",
      "\n",
      "[[869  78]\n",
      " [ 77 870]]\n",
      "--------------------------------\n",
      "K Nearest Classifier Model\n",
      "              precision    recall  f1-score   support\n",
      "\n",
      "           0       0.94      0.97      0.95       947\n",
      "           1       0.97      0.93      0.95       947\n",
      "\n",
      "    accuracy                           0.95      1894\n",
      "   macro avg       0.95      0.95      0.95      1894\n",
      "weighted avg       0.95      0.95      0.95      1894\n",
      "\n",
      "[[921  26]\n",
      " [ 64 883]]\n",
      "--------------------------------\n",
      "Decison Tree Model\n",
      "              precision    recall  f1-score   support\n",
      "\n",
      "           0       1.00      1.00      1.00       947\n",
      "           1       1.00      1.00      1.00       947\n",
      "\n",
      "    accuracy                           1.00      1894\n",
      "   macro avg       1.00      1.00      1.00      1894\n",
      "weighted avg       1.00      1.00      1.00      1894\n",
      "\n",
      "[[945   2]\n",
      " [  0 947]]\n",
      "--------------------------------\n"
     ]
    }
   ],
   "source": [
    "#Model with Smote on Test Data\n",
    "model_dict = {\n",
    "    'Logistic Reg': LogisticRegression(random_state=123, max_iter=550, solver='lbfgs'),\n",
    "    'Naive Bayes': GaussianNB(),  \n",
    "    'Random Forest Classifier': RandomForestClassifier(max_depth=5, random_state=123),\n",
    "    'K Nearest Classifier': KNeighborsClassifier(n_neighbors=5, weights='uniform'),\n",
    "    'Decison Tree': DecisionTreeClassifier(random_state=123)\n",
    "}\n",
    "\n",
    "\n",
    "model_list = []\n",
    "train_acc_list = []\n",
    "val_acc_list = []\n",
    "test_acc_list = []\n",
    "counter_list = []\n",
    "prediction_list = []\n",
    "metric_scores_list = []\n",
    "\n",
    "for model, clf in model_dict.items():\n",
    "    clf.fit(X_train_smote, y_train_smote)\n",
    "    \n",
    "    clf.fit(X_validate_smote, y_validate_smote)\n",
    "    \n",
    "    predictions = clf.predict(X_test_smote)\n",
    "    acc = accuracy_score(y_test_smote, predictions)\n",
    "    \n",
    "    train_pred =  clf.predict(X_train_smote)\n",
    "    val_pred =  clf.predict(X_validate_smote)\n",
    "    \n",
    "    \n",
    "    train_acc = accuracy_score(y_train_smote, train_pred)\n",
    "    val_acc = accuracy_score(y_validate_smote, val_pred)\n",
    "    \n",
    "    \n",
    "    counter = Counter(predictions)\n",
    "    report = precision_recall_fscore_support(y_test_smote, predictions, average='binary')\n",
    "    report_values =  (\"precision = %0.2f, recall = %0.2f, F1 = %0.2f, accuracy = %0.2f\" % \\\n",
    "            (report[0], report[1], report[2], acc))\n",
    "\n",
    "\n",
    "    print(model, 'Model')\n",
    "    print(classification_report(y_test_smote, predictions))\n",
    "    print(confusion_matrix(y_test_smote,predictions))\n",
    "    print('--------------------------------')\n",
    "    \n",
    "    model_list.append(model)\n",
    "    train_acc_list.append(train_acc)\n",
    "    val_acc_list.append(val_acc)\n",
    "    test_acc_list.append(acc)   \n",
    "    counter_list.append(counter)\n",
    "    prediction_list.append(predictions)\n",
    "    metric_scores_list.append(report_values)\n",
    "    \n",
    "\n",
    "results = pd.DataFrame({\"model\": model_list, \"train_smote_accuracy\": train_acc_list, \"validate_smote_accuracy\": val_acc_list, \"test_smote_acc\": test_acc_list,'metric':metric_scores_list, 'counter': counter_list, 'predictions': prediction_list})"
   ]
  },
  {
   "cell_type": "code",
   "execution_count": 41,
   "id": "fb3e94a2",
   "metadata": {},
   "outputs": [
    {
     "data": {
      "text/html": [
       "<div>\n",
       "<style scoped>\n",
       "    .dataframe tbody tr th:only-of-type {\n",
       "        vertical-align: middle;\n",
       "    }\n",
       "\n",
       "    .dataframe tbody tr th {\n",
       "        vertical-align: top;\n",
       "    }\n",
       "\n",
       "    .dataframe thead th {\n",
       "        text-align: right;\n",
       "    }\n",
       "</style>\n",
       "<table border=\"1\" class=\"dataframe\">\n",
       "  <thead>\n",
       "    <tr style=\"text-align: right;\">\n",
       "      <th></th>\n",
       "      <th>model</th>\n",
       "      <th>train_smote_accuracy</th>\n",
       "      <th>validate_smote_accuracy</th>\n",
       "      <th>test_smote_acc</th>\n",
       "      <th>metric</th>\n",
       "      <th>counter</th>\n",
       "      <th>predictions</th>\n",
       "    </tr>\n",
       "  </thead>\n",
       "  <tbody>\n",
       "    <tr>\n",
       "      <th>0</th>\n",
       "      <td>Logistic Reg</td>\n",
       "      <td>0.907414</td>\n",
       "      <td>0.929250</td>\n",
       "      <td>0.929250</td>\n",
       "      <td>precision = 0.98, recall = 0.87, F1 = 0.93, ac...</td>\n",
       "      <td>{0: 1053, 1: 841}</td>\n",
       "      <td>[0, 0, 0, 0, 0, 0, 0, 0, 0, 0, 0, 0, 0, 0, 0, ...</td>\n",
       "    </tr>\n",
       "    <tr>\n",
       "      <th>1</th>\n",
       "      <td>Naive Bayes</td>\n",
       "      <td>0.903237</td>\n",
       "      <td>0.916051</td>\n",
       "      <td>0.916051</td>\n",
       "      <td>precision = 1.00, recall = 0.83, F1 = 0.91, ac...</td>\n",
       "      <td>{0: 1106, 1: 788}</td>\n",
       "      <td>[0, 0, 0, 0, 0, 0, 0, 0, 0, 0, 0, 0, 0, 0, 0, ...</td>\n",
       "    </tr>\n",
       "    <tr>\n",
       "      <th>2</th>\n",
       "      <td>Random Forest Classifier</td>\n",
       "      <td>0.885834</td>\n",
       "      <td>0.918163</td>\n",
       "      <td>0.918163</td>\n",
       "      <td>precision = 0.92, recall = 0.92, F1 = 0.92, ac...</td>\n",
       "      <td>{0: 946, 1: 948}</td>\n",
       "      <td>[0, 0, 0, 0, 0, 0, 0, 0, 0, 0, 0, 0, 0, 0, 1, ...</td>\n",
       "    </tr>\n",
       "    <tr>\n",
       "      <th>3</th>\n",
       "      <td>K Nearest Classifier</td>\n",
       "      <td>0.888966</td>\n",
       "      <td>0.952482</td>\n",
       "      <td>0.952482</td>\n",
       "      <td>precision = 0.97, recall = 0.93, F1 = 0.95, ac...</td>\n",
       "      <td>{0: 985, 1: 909}</td>\n",
       "      <td>[0, 0, 0, 0, 0, 0, 0, 0, 0, 0, 0, 0, 0, 0, 0, ...</td>\n",
       "    </tr>\n",
       "    <tr>\n",
       "      <th>4</th>\n",
       "      <td>Decison Tree</td>\n",
       "      <td>0.887226</td>\n",
       "      <td>0.998944</td>\n",
       "      <td>0.998944</td>\n",
       "      <td>precision = 1.00, recall = 1.00, F1 = 1.00, ac...</td>\n",
       "      <td>{0: 945, 1: 949}</td>\n",
       "      <td>[0, 0, 0, 0, 0, 0, 0, 0, 0, 0, 0, 0, 0, 0, 0, ...</td>\n",
       "    </tr>\n",
       "  </tbody>\n",
       "</table>\n",
       "</div>"
      ],
      "text/plain": [
       "                      model  train_smote_accuracy  validate_smote_accuracy  \\\n",
       "0              Logistic Reg              0.907414                 0.929250   \n",
       "1               Naive Bayes              0.903237                 0.916051   \n",
       "2  Random Forest Classifier              0.885834                 0.918163   \n",
       "3      K Nearest Classifier              0.888966                 0.952482   \n",
       "4              Decison Tree              0.887226                 0.998944   \n",
       "\n",
       "   test_smote_acc                                             metric  \\\n",
       "0        0.929250  precision = 0.98, recall = 0.87, F1 = 0.93, ac...   \n",
       "1        0.916051  precision = 1.00, recall = 0.83, F1 = 0.91, ac...   \n",
       "2        0.918163  precision = 0.92, recall = 0.92, F1 = 0.92, ac...   \n",
       "3        0.952482  precision = 0.97, recall = 0.93, F1 = 0.95, ac...   \n",
       "4        0.998944  precision = 1.00, recall = 1.00, F1 = 1.00, ac...   \n",
       "\n",
       "             counter                                        predictions  \n",
       "0  {0: 1053, 1: 841}  [0, 0, 0, 0, 0, 0, 0, 0, 0, 0, 0, 0, 0, 0, 0, ...  \n",
       "1  {0: 1106, 1: 788}  [0, 0, 0, 0, 0, 0, 0, 0, 0, 0, 0, 0, 0, 0, 0, ...  \n",
       "2   {0: 946, 1: 948}  [0, 0, 0, 0, 0, 0, 0, 0, 0, 0, 0, 0, 0, 0, 1, ...  \n",
       "3   {0: 985, 1: 909}  [0, 0, 0, 0, 0, 0, 0, 0, 0, 0, 0, 0, 0, 0, 0, ...  \n",
       "4   {0: 945, 1: 949}  [0, 0, 0, 0, 0, 0, 0, 0, 0, 0, 0, 0, 0, 0, 0, ...  "
      ]
     },
     "metadata": {},
     "output_type": "display_data"
    },
    {
     "data": {
      "text/plain": [
       "Counter({'stroke': 1})"
      ]
     },
     "execution_count": 41,
     "metadata": {},
     "output_type": "execute_result"
    }
   ],
   "source": [
    "display(results) \n",
    "Counter(y_test_smote)"
   ]
  },
  {
   "cell_type": "code",
   "execution_count": 46,
   "id": "d0adbfcb",
   "metadata": {},
   "outputs": [
    {
     "data": {
      "text/plain": [
       "stroke\n",
       "0         947\n",
       "1         947\n",
       "dtype: int64"
      ]
     },
     "execution_count": 46,
     "metadata": {},
     "output_type": "execute_result"
    }
   ],
   "source": [
    "y_test_smote.value_counts()"
   ]
  },
  {
   "cell_type": "markdown",
   "id": "0ce6261c",
   "metadata": {},
   "source": [
    "### Takeaways:\n",
    "- Smote data improved the accuracy on all sample sets."
   ]
  },
  {
   "cell_type": "markdown",
   "id": "366a89e7",
   "metadata": {},
   "source": [
    "## Testing Predicitions"
   ]
  },
  {
   "cell_type": "markdown",
   "id": "c3af315f",
   "metadata": {},
   "source": [
    "- Random Forest seems to be the only one having higher values of positive predictions (1) but we need to see if these predictions are actually accurate. I suspect that the Decision Tree is overfit..."
   ]
  },
  {
   "cell_type": "code",
   "execution_count": 47,
   "id": "bcf3691a",
   "metadata": {},
   "outputs": [
    {
     "name": "stdout",
     "output_type": "stream",
     "text": [
      "predictions by RandomForest for all true values being positive:   Counter({1: 870, 0: 77})\n",
      "all predictions by RandomForest:   Counter({1: 948, 0: 946})\n"
     ]
    }
   ],
   "source": [
    "y_test_analys_smote = y_test_smote.reset_index().drop('index', axis=1)\n",
    "index = y_test_analys_smote.index[y_test_analys_smote['stroke'] == 1]\n",
    "print('predictions by RandomForest for all true values being positive:  ', Counter(prediction_list[2][index]) )\n",
    "print('all predictions by RandomForest:  ', Counter(prediction_list[2]) )"
   ]
  },
  {
   "cell_type": "code",
   "execution_count": 53,
   "id": "534138dc",
   "metadata": {},
   "outputs": [
    {
     "name": "stdout",
     "output_type": "stream",
     "text": [
      "Using RandomForest Classifier, our positive values match correctly for over  91.86906019007391  % of the values.\n"
     ]
    }
   ],
   "source": [
    "print('Using RandomForest Classifier, our positive values match correctly for over ', (870/947) *100, ' % of the values.')"
   ]
  },
  {
   "cell_type": "markdown",
   "id": "a9333d3c",
   "metadata": {},
   "source": [
    "### Takeways:\n",
    "- Using the Random Forest Classifier, our positive values match correctly for over 91% of the values."
   ]
  },
  {
   "cell_type": "markdown",
   "id": "a50e4f6d",
   "metadata": {},
   "source": []
  }
 ],
 "metadata": {
  "kernelspec": {
   "display_name": "Python 3",
   "language": "python",
   "name": "python3"
  },
  "language_info": {
   "codemirror_mode": {
    "name": "ipython",
    "version": 3
   },
   "file_extension": ".py",
   "mimetype": "text/x-python",
   "name": "python",
   "nbconvert_exporter": "python",
   "pygments_lexer": "ipython3",
   "version": "3.8.8"
  }
 },
 "nbformat": 4,
 "nbformat_minor": 5
}
