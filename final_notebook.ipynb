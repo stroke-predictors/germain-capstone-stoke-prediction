{
 "cells": [
  {
   "cell_type": "markdown",
   "id": "27802dba",
   "metadata": {},
   "source": [
    "# <center> Stroke Prediction - Final Notebook\n",
    "## <center> Notebook Overview\n",
    "Here be the overview of what this notebook entails.\n",
    "\n",
    "## <center> Executive Summary\n",
    "Here be the executive summary of the work done in this notebook.\n",
    "    \n",
    "## Imports"
   ]
  },
  {
   "cell_type": "code",
   "execution_count": 1,
   "id": "18f1e004",
   "metadata": {},
   "outputs": [],
   "source": [
    "import numpy as np\n",
    "import pandas as pd\n",
    "import seaborn as sns\n",
    "import matplotlib.pyplot as plt\n",
    "from scipy import stats\n",
    "\n",
    "from sklearn.model_selection import train_test_split\n",
    "\n",
    "import prepare"
   ]
  },
  {
   "cell_type": "markdown",
   "id": "c19b88c7",
   "metadata": {},
   "source": [
    "# <center> 1. Wrangle\n",
    "## Wrangle Overview\n",
    "1. Acquired dataset from Kaggle\n",
    "1. Dropped outliers in BMI and gender columns\n",
    "1. Renamed columns, cast columns to appropriate data types, dropped unnecessary columns\n",
    "1. Imputed nulls in BMI column using average BMI for age range and gender\n",
    "1. Plotted univariate distributions to check work\n",
    "1. Noticed class imbalance and need for SMOTE+Tomek resampling\n",
    "1. Encoded categorical columns identified from univariate distributions\n",
    "1. Converted ordinal values from 1s and 0s to True and False values from univariate distributions\n",
    "1. Created bmi_range column for BMI grouping from univariate distributions\n",
    "1. Created high_glucose feature based on Explore analysis\n",
    "1. Created is_senior feature based on Explore analysis\n",
    "1. Split data into Train, Validate, and Test splits\n",
    "\n",
    "## Cleaning the Data\n",
    "First up, we need to clean the dataset for exploration. The specific steps are described above. These steps were put to a function in prepare.py, which we call in the following cell."
   ]
  },
  {
   "cell_type": "code",
   "execution_count": 2,
   "id": "4a866243",
   "metadata": {},
   "outputs": [
    {
     "name": "stdout",
     "output_type": "stream",
     "text": [
      "Shape: 5108 rows, 12 columns.\n"
     ]
    },
    {
     "data": {
      "text/html": [
       "<div>\n",
       "<style scoped>\n",
       "    .dataframe tbody tr th:only-of-type {\n",
       "        vertical-align: middle;\n",
       "    }\n",
       "\n",
       "    .dataframe tbody tr th {\n",
       "        vertical-align: top;\n",
       "    }\n",
       "\n",
       "    .dataframe thead th {\n",
       "        text-align: right;\n",
       "    }\n",
       "</style>\n",
       "<table border=\"1\" class=\"dataframe\">\n",
       "  <thead>\n",
       "    <tr style=\"text-align: right;\">\n",
       "      <th></th>\n",
       "      <th>gender</th>\n",
       "      <th>age</th>\n",
       "      <th>hypertension</th>\n",
       "      <th>heart_disease</th>\n",
       "      <th>ever_married</th>\n",
       "      <th>work_type</th>\n",
       "      <th>residence_type</th>\n",
       "      <th>avg_glucose_level</th>\n",
       "      <th>bmi</th>\n",
       "      <th>smoking_status</th>\n",
       "      <th>stroke</th>\n",
       "      <th>age_range</th>\n",
       "    </tr>\n",
       "  </thead>\n",
       "  <tbody>\n",
       "    <tr>\n",
       "      <th>0</th>\n",
       "      <td>Male</td>\n",
       "      <td>67.0</td>\n",
       "      <td>0</td>\n",
       "      <td>1</td>\n",
       "      <td>Yes</td>\n",
       "      <td>Private</td>\n",
       "      <td>Urban</td>\n",
       "      <td>228.69</td>\n",
       "      <td>36.6</td>\n",
       "      <td>formerly smoked</td>\n",
       "      <td>1</td>\n",
       "      <td>65-70</td>\n",
       "    </tr>\n",
       "    <tr>\n",
       "      <th>1</th>\n",
       "      <td>Female</td>\n",
       "      <td>61.0</td>\n",
       "      <td>0</td>\n",
       "      <td>0</td>\n",
       "      <td>Yes</td>\n",
       "      <td>Self-employed</td>\n",
       "      <td>Rural</td>\n",
       "      <td>202.21</td>\n",
       "      <td>30.6</td>\n",
       "      <td>never smoked</td>\n",
       "      <td>1</td>\n",
       "      <td>60-65</td>\n",
       "    </tr>\n",
       "    <tr>\n",
       "      <th>2</th>\n",
       "      <td>Male</td>\n",
       "      <td>80.0</td>\n",
       "      <td>0</td>\n",
       "      <td>1</td>\n",
       "      <td>Yes</td>\n",
       "      <td>Private</td>\n",
       "      <td>Rural</td>\n",
       "      <td>105.92</td>\n",
       "      <td>32.5</td>\n",
       "      <td>never smoked</td>\n",
       "      <td>1</td>\n",
       "      <td>75-80</td>\n",
       "    </tr>\n",
       "  </tbody>\n",
       "</table>\n",
       "</div>"
      ],
      "text/plain": [
       "   gender   age hypertension heart_disease ever_married      work_type  \\\n",
       "0    Male  67.0            0             1          Yes        Private   \n",
       "1  Female  61.0            0             0          Yes  Self-employed   \n",
       "2    Male  80.0            0             1          Yes        Private   \n",
       "\n",
       "  residence_type  avg_glucose_level   bmi   smoking_status  stroke age_range  \n",
       "0          Urban             228.69  36.6  formerly smoked       1     65-70  \n",
       "1          Rural             202.21  30.6     never smoked       1     60-65  \n",
       "2          Rural             105.92  32.5     never smoked       1     75-80  "
      ]
     },
     "execution_count": 2,
     "metadata": {},
     "output_type": "execute_result"
    }
   ],
   "source": [
    "# Use the prep_data function to prepare the data\n",
    "df = prepare.prep_data(pd.read_csv('healthcare-dataset-stroke-data.csv'))\n",
    "\n",
    "# Check results\n",
    "print(f'Shape: {df.shape[0]} rows, {df.shape[1]} columns.')\n",
    "df.head(3)"
   ]
  },
  {
   "cell_type": "markdown",
   "id": "65917413",
   "metadata": {},
   "source": [
    "## Univariate Distribution Plots\n",
    "Here, we will check to make sure our distributions look okay. "
   ]
  },
  {
   "cell_type": "code",
   "execution_count": 3,
   "id": "7d0d8883",
   "metadata": {},
   "outputs": [],
   "source": [
    "# # Plot univariate distributions for each column\n",
    "# for col in df.columns:\n",
    "#     print('-'*30, ' ', col, ' ', '-'*30) # use a line separator charts\n",
    "#     sns.histplot(df[col], color='orange')\n",
    "#     plt.title('Histogram for column: ' + col)\n",
    "#     plt.xticks(rotation=60)\n",
    "#     plt.show()"
   ]
  },
  {
   "cell_type": "markdown",
   "id": "ffc8ca49",
   "metadata": {},
   "source": [
    "## Need for SMOTE + Tomek Oversampling\n",
    "Our target is imbalanced, as can be seen below. We will need to use SMOTE + Tomek Oversampling later on in the Modeling section to train our classification models with balanced classes."
   ]
  },
  {
   "cell_type": "code",
   "execution_count": 4,
   "id": "aa354ec9",
   "metadata": {},
   "outputs": [
    {
     "data": {
      "image/png": "[encoded data removed]",
      "text/plain": [
       "<Figure size 432x288 with 1 Axes>"
      ]
     },
     "metadata": {
      "needs_background": "light"
     },
     "output_type": "display_data"
    }
   ],
   "source": [
    "# Plot histogram showing class imbalance in 'stroke' column\n",
    "sns.histplot(np.where(df.stroke == 1, 'Had a stroke', 'No stroke'), color='orange')\n",
    "plt.title('Stroke (The Target) Has Imbalanced Classes')\n",
    "plt.show()"
   ]
  },
  {
   "cell_type": "markdown",
   "id": "bbf258a9",
   "metadata": {},
   "source": [
    "## Feature Engineering\n",
    "From these univariate distributions, we've decided to modify some features for exploration purposes. We've also incorporated some feature engineering based on analysis done in the Explore stage. This work is captured by the engineer_features function in prepare.py. \n",
    "\n",
    "Note: *We've combined the 'children' work type and the 'Never_worked' work type because there was overlap for those under 18 years old having the latter work type.* All other features are simply encoded or have additional columns with categorization."
   ]
  },
  {
   "cell_type": "code",
   "execution_count": 5,
   "id": "dc796852",
   "metadata": {},
   "outputs": [
    {
     "name": "stdout",
     "output_type": "stream",
     "text": [
      "Original shape: 5108 rows, 12 columns.\n",
      "New shape: 5108 rows, 20 columns.\n"
     ]
    }
   ],
   "source": [
    "# engineer features\n",
    "engineered_df = prepare.engineer_features(df)"
   ]
  },
  {
   "cell_type": "code",
   "execution_count": 6,
   "id": "a483db5d",
   "metadata": {},
   "outputs": [
    {
     "data": {
      "text/html": [
       "<div>\n",
       "<style scoped>\n",
       "    .dataframe tbody tr th:only-of-type {\n",
       "        vertical-align: middle;\n",
       "    }\n",
       "\n",
       "    .dataframe tbody tr th {\n",
       "        vertical-align: top;\n",
       "    }\n",
       "\n",
       "    .dataframe thead th {\n",
       "        text-align: right;\n",
       "    }\n",
       "</style>\n",
       "<table border=\"1\" class=\"dataframe\">\n",
       "  <thead>\n",
       "    <tr style=\"text-align: right;\">\n",
       "      <th></th>\n",
       "      <th>stroke</th>\n",
       "      <th>age</th>\n",
       "      <th>age_range</th>\n",
       "      <th>is_senior</th>\n",
       "      <th>bmi</th>\n",
       "      <th>bmi_range</th>\n",
       "      <th>avg_glucose_level</th>\n",
       "      <th>high_glucose</th>\n",
       "      <th>has_hypertension</th>\n",
       "      <th>has_heart_disease</th>\n",
       "      <th>ever_married</th>\n",
       "      <th>is_female</th>\n",
       "      <th>is_urban</th>\n",
       "      <th>current_smoker</th>\n",
       "      <th>prior_smoker</th>\n",
       "      <th>never_smoked</th>\n",
       "      <th>govt_job</th>\n",
       "      <th>self_employed</th>\n",
       "      <th>private_work</th>\n",
       "      <th>never_worked</th>\n",
       "    </tr>\n",
       "  </thead>\n",
       "  <tbody>\n",
       "    <tr>\n",
       "      <th>0</th>\n",
       "      <td>True</td>\n",
       "      <td>67.0</td>\n",
       "      <td>65-70</td>\n",
       "      <td>True</td>\n",
       "      <td>36.6</td>\n",
       "      <td>30-39</td>\n",
       "      <td>228.69</td>\n",
       "      <td>True</td>\n",
       "      <td>False</td>\n",
       "      <td>True</td>\n",
       "      <td>True</td>\n",
       "      <td>False</td>\n",
       "      <td>True</td>\n",
       "      <td>False</td>\n",
       "      <td>True</td>\n",
       "      <td>False</td>\n",
       "      <td>False</td>\n",
       "      <td>False</td>\n",
       "      <td>True</td>\n",
       "      <td>False</td>\n",
       "    </tr>\n",
       "    <tr>\n",
       "      <th>1</th>\n",
       "      <td>True</td>\n",
       "      <td>61.0</td>\n",
       "      <td>60-65</td>\n",
       "      <td>True</td>\n",
       "      <td>30.6</td>\n",
       "      <td>30-39</td>\n",
       "      <td>202.21</td>\n",
       "      <td>True</td>\n",
       "      <td>False</td>\n",
       "      <td>False</td>\n",
       "      <td>True</td>\n",
       "      <td>True</td>\n",
       "      <td>False</td>\n",
       "      <td>False</td>\n",
       "      <td>False</td>\n",
       "      <td>True</td>\n",
       "      <td>False</td>\n",
       "      <td>True</td>\n",
       "      <td>False</td>\n",
       "      <td>False</td>\n",
       "    </tr>\n",
       "    <tr>\n",
       "      <th>2</th>\n",
       "      <td>True</td>\n",
       "      <td>80.0</td>\n",
       "      <td>75-80</td>\n",
       "      <td>True</td>\n",
       "      <td>32.5</td>\n",
       "      <td>30-39</td>\n",
       "      <td>105.92</td>\n",
       "      <td>False</td>\n",
       "      <td>False</td>\n",
       "      <td>True</td>\n",
       "      <td>True</td>\n",
       "      <td>False</td>\n",
       "      <td>False</td>\n",
       "      <td>False</td>\n",
       "      <td>False</td>\n",
       "      <td>True</td>\n",
       "      <td>False</td>\n",
       "      <td>False</td>\n",
       "      <td>True</td>\n",
       "      <td>False</td>\n",
       "    </tr>\n",
       "  </tbody>\n",
       "</table>\n",
       "</div>"
      ],
      "text/plain": [
       "   stroke   age age_range  is_senior   bmi bmi_range  avg_glucose_level  \\\n",
       "0    True  67.0     65-70       True  36.6     30-39             228.69   \n",
       "1    True  61.0     60-65       True  30.6     30-39             202.21   \n",
       "2    True  80.0     75-80       True  32.5     30-39             105.92   \n",
       "\n",
       "   high_glucose  has_hypertension  has_heart_disease  ever_married  is_female  \\\n",
       "0          True             False               True          True      False   \n",
       "1          True             False              False          True       True   \n",
       "2         False             False               True          True      False   \n",
       "\n",
       "   is_urban  current_smoker  prior_smoker  never_smoked  govt_job  \\\n",
       "0      True           False          True         False     False   \n",
       "1     False           False         False          True     False   \n",
       "2     False           False         False          True     False   \n",
       "\n",
       "   self_employed  private_work  never_worked  \n",
       "0          False          True         False  \n",
       "1           True         False         False  \n",
       "2          False          True         False  "
      ]
     },
     "execution_count": 6,
     "metadata": {},
     "output_type": "execute_result"
    }
   ],
   "source": [
    "# check results\n",
    "engineered_df.head(3)"
   ]
  },
  {
   "cell_type": "markdown",
   "id": "2ed31817",
   "metadata": {},
   "source": [
    "## Split data for Exploration\n",
    "In order to explore on in-sample data, we will split our dataset into in-sample data and out-of-sample data. We will use the two out-of-sample splits for modeling purposes. Our splits are 60% in-sample and 20% for each out-of-sample split."
   ]
  },
  {
   "cell_type": "code",
   "execution_count": 7,
   "id": "e48835c5",
   "metadata": {},
   "outputs": [
    {
     "name": "stdout",
     "output_type": "stream",
     "text": [
      "Train shape: (3064, 20), Validate shape: (1022, 20), Test shape: (1022, 20)\n",
      "Row count of original dataset: 5108\n",
      "Row count of combined data splits: 5108\n"
     ]
    }
   ],
   "source": [
    "# Split data 60-20-20 into Train, Validate, and Test splits\n",
    "train_validate, test = train_test_split(engineered_df, test_size=0.2, random_state=777)\n",
    "train, validate = train_test_split(train_validate, test_size=0.25, random_state=777)\n",
    "\n",
    "print(f'Train shape: {train.shape}, Validate shape: {validate.shape}, Test shape: {test.shape}')\n",
    "print('Row count of original dataset:', df.shape[0])\n",
    "print('Row count of combined data splits:', train.shape[0] + validate.shape[0] + test.shape[0])"
   ]
  },
  {
   "cell_type": "markdown",
   "id": "7837aba9",
   "metadata": {},
   "source": [
    "# Wrangle Summary\n",
    "- Cleaned the dataset\n",
    "- Checked distributions, noticed class imbalance\n",
    "- Engineered features in preparation for exploration\n",
    "- Split data"
   ]
  },
  {
   "cell_type": "markdown",
   "id": "8cf696ea",
   "metadata": {},
   "source": [
    "# <center> 2. Explore\n",
    "## Exploration Overview\n",
    "1. Checked distributions against the target, 'stroke'\n",
    "1. Tested initial hypotheses\n",
    "1. \n",
    "\n",
    "    \n",
    "## Initial Bivariate Visualizations\n",
    "* Show how age is distributed differently between had_stroke and no_stroke\n",
    "    * Explain potential effect of age column on other features"
   ]
  },
  {
   "cell_type": "code",
   "execution_count": 8,
   "id": "b6f36c70",
   "metadata": {},
   "outputs": [],
   "source": [
    "# put initial bivariate visualizations here\n"
   ]
  },
  {
   "cell_type": "markdown",
   "id": "603d465f",
   "metadata": {},
   "source": [
    "## Initial Hypotheses\n",
    "### Hypothesis 1: There is relationship between average glucose level and BMI.\n",
    "> - $H_0$ : There is no relationship between average glucose level and BMI.\n",
    "> - $H_a$ : There is relationship between average glucose level and BMI.\n",
    "> - Confidence interval is 95%"
   ]
  },
  {
   "cell_type": "code",
   "execution_count": 9,
   "id": "5f72cfd8",
   "metadata": {},
   "outputs": [
    {
     "data": {
      "image/png": "[encoded data removed]",
      "text/plain": [
       "<Figure size 432x288 with 1 Axes>"
      ]
     },
     "metadata": {
      "needs_background": "light"
     },
     "output_type": "display_data"
    }
   ],
   "source": [
    "# visualize: use regression plot to check linear trend\n",
    "sns.regplot(data=train, x=\"avg_glucose_level\", y=\"bmi\", line_kws={'color': 'red'})\n",
    "plt.title('Is There a Linear Correlation Between Glucose and BMI?')\n",
    "plt.show()"
   ]
  },
  {
   "cell_type": "code",
   "execution_count": 10,
   "id": "ee79e23d",
   "metadata": {},
   "outputs": [
    {
     "name": "stdout",
     "output_type": "stream",
     "text": [
      "We are 95% confident that there is a relationship between average glucose level and BMI.\n"
     ]
    }
   ],
   "source": [
    "# test: set alpha for test\n",
    "alpha = .05\n",
    "# conduct pearson r test \n",
    "corr, p = stats.pearsonr(train.avg_glucose_level, train.bmi)\n",
    "# output results\n",
    "if p < alpha:\n",
    "    print('We are 95% confident that there is a relationship between average glucose level and BMI.')\n",
    "else:\n",
    "    print('We can not say with 95% confidence that there is a realionship between average glucose level and BMI.')"
   ]
  },
  {
   "cell_type": "markdown",
   "id": "b909a9db",
   "metadata": {},
   "source": [
    "### Hypothesis 2: People over 65 years old are more likely to have a stroke than people under 65.\n",
    "> - $H_0$ : People over 65 years old are not more likely to have a stroke than people under 65.\n",
    "> - $H_a$ : People over 65 years old are more likely to have a stroke than people under 65.\n",
    "> - Confidence interval is 95%"
   ]
  },
  {
   "cell_type": "code",
   "execution_count": 11,
   "id": "882635d5",
   "metadata": {},
   "outputs": [],
   "source": [
    "# prepare: create samples based on age over or under 65\n",
    "over_65 = train[train.age >= 65]\n",
    "under_65 = train[train.age < 65]"
   ]
  },
  {
   "cell_type": "code",
   "execution_count": 12,
   "id": "cf190f1b",
   "metadata": {},
   "outputs": [
    {
     "data": {
      "image/png": "[encoded data removed]",
      "text/plain": [
       "<Figure size 432x288 with 1 Axes>"
      ]
     },
     "metadata": {
      "needs_background": "light"
     },
     "output_type": "display_data"
    }
   ],
   "source": [
    "# visualize: plot sample means for stroke\n",
    "heights = [round(over_65.stroke.mean(), 3), round(under_65.stroke.mean(), 3)]\n",
    "x_labels = ['Over 65', 'Under 65']\n",
    "plt.bar(x=x_labels, height=heights)\n",
    "plt.title('Are People Over 65 More Likely to Have a Stroke?')\n",
    "plt.ylabel(\"Mean Stroke Probability\")\n",
    "plt.show()"
   ]
  },
  {
   "cell_type": "code",
   "execution_count": 13,
   "id": "dae19267",
   "metadata": {},
   "outputs": [
    {
     "name": "stdout",
     "output_type": "stream",
     "text": [
      "We are 95% confident that people over 65 years old are more likely to have a stroke than people under 65.\n"
     ]
    }
   ],
   "source": [
    "# test: set alpha\n",
    "alpha = .05\n",
    "# conduct mannwhitney u test\n",
    "t, p = stats.mannwhitneyu(over_65.stroke, under_65.stroke, alternative='greater')\n",
    "# output results\n",
    "if p < alpha and t > 0:\n",
    "    print('We are 95% confident that people over 65 years old are more likely to have a stroke than people under 65.')\n",
    "else:\n",
    "    print('We can not say with 95% confidence that people over 65 years old are not more likely to have a stroke than people under 65.')"
   ]
  },
  {
   "cell_type": "markdown",
   "id": "7075041a",
   "metadata": {},
   "source": [
    "### Hypothesis 3: People that currently smoke have a higher risk of stroke than people that don’t currently smoke.\n",
    "> - $H_0$ : People that currently smoke do not have a higher risk of stroke than people that don’t currently smoke.\n",
    "> - $H_a$ : People that currently smoke have a higher risk of stroke than people that don’t currently smoke.\n",
    "> - Confidence interval is 95%"
   ]
  },
  {
   "cell_type": "code",
   "execution_count": 14,
   "id": "7e39769a",
   "metadata": {},
   "outputs": [],
   "source": [
    "# prepare: create samples for current smokers and those who are not currently smoking\n",
    "active_smoker = train[train.current_smoker == True]\n",
    "not_active_smoker = train[train.current_smoker == False]"
   ]
  },
  {
   "cell_type": "code",
   "execution_count": 15,
   "id": "e6fcd7a3",
   "metadata": {},
   "outputs": [
    {
     "data": {
      "image/png": "[encoded data removed]",
      "text/plain": [
       "<Figure size 432x288 with 1 Axes>"
      ]
     },
     "metadata": {
      "needs_background": "light"
     },
     "output_type": "display_data"
    }
   ],
   "source": [
    "# visualize: plot sample means for stroke\n",
    "heights = [round(active_smoker.stroke.mean(), 3), round(not_active_smoker.stroke.mean(), 3)]\n",
    "x_labels = ['Active Smoker', 'Not Smoker']\n",
    "plt.bar(x=x_labels, height=heights)\n",
    "plt.title('Are People Who Smoke More Likely to Have a Stroke?')\n",
    "plt.ylabel(\"Mean Stroke Probability %\")\n",
    "plt.show()"
   ]
  },
  {
   "cell_type": "code",
   "execution_count": 16,
   "id": "33cd6b68",
   "metadata": {},
   "outputs": [
    {
     "name": "stdout",
     "output_type": "stream",
     "text": [
      "We can not say with 95% confidence that people who currently smoke have a higher risk of stroke than people who don’t currently smoke.\n"
     ]
    }
   ],
   "source": [
    "# test: set alpha\n",
    "alpha = .05\n",
    "# run mannwhitney u test\n",
    "t, p = stats.mannwhitneyu(active_smoker.stroke, not_active_smoker.stroke, alternative='greater')\n",
    "# output results\n",
    "if p < alpha and t > 0:\n",
    "    print('People that currently smoke have a higher risk of stroke than people that don’t currently smoke.')\n",
    "else:\n",
    "    print('We can not say with 95% confidence that people who currently smoke have a higher risk of stroke than people who don’t currently smoke.')"
   ]
  },
  {
   "cell_type": "markdown",
   "id": "46b781ab",
   "metadata": {},
   "source": [
    "### Hypothesis 4: Men are more at risk for stroke than women.\n",
    "> - $H_0$ : Men are not more at risk for stroke than women.\n",
    "> - $H_A$ : Men are more at risk for stroke than women.\n",
    "> - Confidence interval is 95%"
   ]
  },
  {
   "cell_type": "code",
   "execution_count": 17,
   "id": "bb6ca992",
   "metadata": {},
   "outputs": [],
   "source": [
    "# prepare: create samples for men and women\n",
    "men = train[train.is_female == False]\n",
    "women = train[train.is_female == True]"
   ]
  },
  {
   "cell_type": "code",
   "execution_count": 18,
   "id": "b7c7246d",
   "metadata": {},
   "outputs": [
    {
     "data": {
      "image/png": "[encoded data removed]",
      "text/plain": [
       "<Figure size 432x288 with 1 Axes>"
      ]
     },
     "metadata": {
      "needs_background": "light"
     },
     "output_type": "display_data"
    }
   ],
   "source": [
    "# visualize: plot sample means for stroke\n",
    "heights = [round(men.stroke.mean(), 3), round(women.stroke.mean(), 3)]\n",
    "x_labels = ['Men', 'Women']\n",
    "plt.bar(x=x_labels, height=heights)\n",
    "plt.title('Are Men More Likely to Have a Stroke?')\n",
    "plt.ylabel(\"Mean Stroke Probability\")\n",
    "plt.show()"
   ]
  },
  {
   "cell_type": "code",
   "execution_count": 19,
   "id": "0e5109f4",
   "metadata": {},
   "outputs": [
    {
     "name": "stdout",
     "output_type": "stream",
     "text": [
      "We can not say with 95% confidence that men are more at risk for stroke than women.\n"
     ]
    }
   ],
   "source": [
    "# test: set alpha\n",
    "alpha = .05\n",
    "# run mannwhitney u test\n",
    "t, p = stats.mannwhitneyu(men.stroke, women.stroke, alternative='greater')\n",
    "# output results\n",
    "if p < alpha and t > 0:\n",
    "    print('We are 95% confident that men are more at risk for stroke than women.')\n",
    "else:\n",
    "    print('We can not say with 95% confidence that men are more at risk for stroke than women.')"
   ]
  },
  {
   "cell_type": "markdown",
   "id": "b2c30878",
   "metadata": {},
   "source": [
    "## Initial Hypotheses - Combined Results\n",
    "> #### We are 95% confident that there is a relationship between average glucose level and BMI.\n",
    "> #### We are 95% confident that people over 65 years old are more likely to have a stroke than people under 65.\n",
    "> #### We are 95% confident that people that currently smoke have a higher risk of stroke than people that don’t currently smoke.\n",
    "> #### We can not say with 95% confidence that men are more at risk for stroke than women.\n",
    "\n",
    "## Exploration Though Statistical Testing\n",
    "### Stats Tests - from combination of team members' notebook work\n",
    "* Explain statistical tests to check if features are driving stroke occurence\n",
    "* Independence (Chi2) tests between features and target\n",
    "* T-Tests to check drivers\n",
    "* Sample vizs to explain process\n",
    "* Actual vizs on their own (limiting redundancy of explanation)"
   ]
  },
  {
   "cell_type": "code",
   "execution_count": 20,
   "id": "8dae981d",
   "metadata": {},
   "outputs": [],
   "source": [
    "# put further stats tests here"
   ]
  },
  {
   "cell_type": "markdown",
   "id": "e58fa61f",
   "metadata": {},
   "source": [
    "### Combined Results\n",
    "- test 42 results:\n",
    "- ...\n",
    "\n",
    "## Age-Unweighted Statistical Tests\n",
    "* Explain handling of age's effect on features\n",
    "\n",
    "### Stats Tests"
   ]
  },
  {
   "cell_type": "code",
   "execution_count": 21,
   "id": "a741d9fa",
   "metadata": {},
   "outputs": [],
   "source": [
    "# put chi2 tests and visualizations here"
   ]
  },
  {
   "cell_type": "markdown",
   "id": "9ea6ecb0",
   "metadata": {},
   "source": [
    "### Results - Features Kept, Eliminated\n",
    "- Indetermined driver of stroke: feature\n",
    "- Determined driver of stroke: feature"
   ]
  },
  {
   "cell_type": "markdown",
   "id": "336a2ab7",
   "metadata": {},
   "source": [
    "# Exploration Takeaways\n",
    "- Sumarize exploration here"
   ]
  },
  {
   "cell_type": "markdown",
   "id": "9296b765",
   "metadata": {},
   "source": [
    "# <center> 3. Model\n",
    "## a. Modeling Overview\n",
    "- Encoded features that need it\n",
    "- Isolated target\n",
    "- Scaled numeric data\n",
    "- Applied SMOTE + Tomek oversampling to train models on balanced classes\n",
    "- Built, fit multiple classification models\n",
    "- Evaluated results of all models on Validate split\n",
    "- Chose best model to evaluate on Test split\n",
    "- Evaluated best model on Test split\n",
    "\n",
    "## b. Building, Fitting, Evaluating Models\n",
    "### Model Preparation Script - No SMOTE"
   ]
  },
  {
   "cell_type": "code",
   "execution_count": 22,
   "id": "e496be3a",
   "metadata": {},
   "outputs": [],
   "source": [
    "# use prepare.model_prep_no_smote function here"
   ]
  },
  {
   "cell_type": "markdown",
   "id": "e850e332",
   "metadata": {},
   "source": [
    "### Model Build+Fit+Predict Script - No SMOTE\n",
    "- Return non-SMOTEd predictions dataframe, keep separate"
   ]
  },
  {
   "cell_type": "code",
   "execution_count": 23,
   "id": "f8a44906",
   "metadata": {},
   "outputs": [],
   "source": [
    "# use model.classification_shotgun function here to build predictions dataframe (non-SMOTEd)\n"
   ]
  },
  {
   "cell_type": "markdown",
   "id": "016aee51",
   "metadata": {},
   "source": [
    "### Model Preparation Script - with SMOTE"
   ]
  },
  {
   "cell_type": "code",
   "execution_count": 24,
   "id": "31d552bd",
   "metadata": {},
   "outputs": [],
   "source": [
    "# use SMOTE on the train split here - don't use the model_prep function"
   ]
  },
  {
   "cell_type": "markdown",
   "id": "7cda541b",
   "metadata": {},
   "source": [
    "### Model Build+Fit+Predict Script - with SMOTE\n",
    "- Return SMOTEd predictions dataframe, keep separate"
   ]
  },
  {
   "cell_type": "code",
   "execution_count": 25,
   "id": "0d58e41e",
   "metadata": {},
   "outputs": [],
   "source": [
    "# use model.classification_shotgun function here to build predictions dataframe on SMOTEd data\n"
   ]
  },
  {
   "cell_type": "markdown",
   "id": "2d3b0050",
   "metadata": {},
   "source": [
    "## c. Model Performance on Train, Validate\n",
    "### Model Evaluation Script - Comparing non-SMOTEd and SMOTEd Models\n",
    "- Join the non-SMOTEd and SMOTEd dataframes together with column renaming to identify if model incorporated SMOTE or not\n",
    "- Print evaluation results of joined dataframe as normal\n",
    "- Show difference between SMOTEd and non-SMOTEd model performance"
   ]
  },
  {
   "cell_type": "code",
   "execution_count": 26,
   "id": "7daa7f78",
   "metadata": {},
   "outputs": [],
   "source": [
    "# use model.print_classification_results function here to check results of all models"
   ]
  },
  {
   "cell_type": "markdown",
   "id": "2454837d",
   "metadata": {},
   "source": [
    "### ROC Curve and AUC calculation\n",
    "- Explain why we're using it here"
   ]
  },
  {
   "cell_type": "code",
   "execution_count": 27,
   "id": "3ed1be70",
   "metadata": {},
   "outputs": [],
   "source": [
    "# create ROC and Precision-Recall visualizations here"
   ]
  },
  {
   "cell_type": "markdown",
   "id": "67bad148",
   "metadata": {},
   "source": [
    "## Best Model's Performance on Test"
   ]
  },
  {
   "cell_type": "code",
   "execution_count": 28,
   "id": "9d575cf3",
   "metadata": {},
   "outputs": [],
   "source": [
    "# evaluate best model on Test split here"
   ]
  },
  {
   "cell_type": "markdown",
   "id": "657da944",
   "metadata": {},
   "source": [
    "### Best Model's results on Test\n",
    "- Explain results here in Markdown\n",
    "\n",
    "# Modeling Takeaways\n",
    "- Summarize modeling here"
   ]
  },
  {
   "cell_type": "markdown",
   "id": "16d4bf67",
   "metadata": {},
   "source": [
    "# <center> 4. Risk-Calculation Program\n",
    "## Risk-Calculation Program Overview\n",
    "\n",
    "### What it aims to do\n",
    "- Provide users with a score indicating stroke risk where higher numbers are higher risk\n",
    "- Uses our best model to calculate the risk score\n",
    "\n",
    "### Instructions\n",
    "- Write step-by-step instructions here\n",
    "\n",
    "## Implementation with Sample Input"
   ]
  },
  {
   "cell_type": "code",
   "execution_count": 29,
   "id": "8b50aaad",
   "metadata": {},
   "outputs": [],
   "source": [
    "# call function here"
   ]
  },
  {
   "cell_type": "markdown",
   "id": "38de77c1",
   "metadata": {},
   "source": [
    "# <center> Conclusion"
   ]
  },
  {
   "cell_type": "markdown",
   "id": "0b27f312",
   "metadata": {},
   "source": [
    "## Conclusion\n",
    "1. Note stats test takeaways\n",
    "1. Note model performance\n",
    "1. Explain takeaways\n",
    "1. Conclude"
   ]
  },
  {
   "cell_type": "code",
   "execution_count": null,
   "id": "f047b88a",
   "metadata": {},
   "outputs": [],
   "source": []
  }
 ],
 "metadata": {
  "kernelspec": {
   "display_name": "Python 3 (ipykernel)",
   "language": "python",
   "name": "python3"
  },
  "language_info": {
   "codemirror_mode": {
    "name": "ipython",
    "version": 3
   },
   "file_extension": ".py",
   "mimetype": "text/x-python",
   "name": "python",
   "nbconvert_exporter": "python",
   "pygments_lexer": "ipython3",
   "version": "3.8.8"
  }
 },
 "nbformat": 4,
 "nbformat_minor": 5
}
