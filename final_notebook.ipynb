{
 "cells": [
  {
   "cell_type": "markdown",
   "id": "9656a9fa",
   "metadata": {},
   "source": [
    "# Hot-to-notebook steps\n",
    "- Things we still need to do:\n",
    "    * Modify the prepare.py function to drop the >90% BMI observation\n",
    "\n",
    "## Summary\n",
    "1. Initial markdown cell explaining the project and the notebook's role\n",
    "1. Executive summary\n",
    "    * Include the creation of the risk-prediction program"
   ]
  },
  {
   "cell_type": "markdown",
   "id": "a082a7ca",
   "metadata": {},
   "source": [
    "# Stroke Prediction - Final Notebook\n",
    "## Overview\n",
    "## Executive Summary"
   ]
  },
  {
   "cell_type": "markdown",
   "id": "e290f69f",
   "metadata": {},
   "source": [
    "# 1. Wrangle\n",
    "## Wrangle Overview\n",
    "* Acquired dataset from Kaggle\n",
    "* Dropped outliers in BMI and gender columns\n",
    "* Renamed columns, cast columns to appropriate data types, drop unnecessary columns\n",
    "* Imputed nulls in BMI column using average BMI for age range and gender\n",
    "* Plotted univariate distributions to check work\n",
    "* Noticed class imbalance and need for SMOTE\n",
    "* Split data\n",
    "\n",
    "## Script Execution"
   ]
  },
  {
   "cell_type": "code",
   "execution_count": null,
   "id": "fc7955b9",
   "metadata": {},
   "outputs": [],
   "source": [
    "# put prepare.py script here to acquire, prep data as explained above"
   ]
  },
  {
   "cell_type": "markdown",
   "id": "c5a40ca7",
   "metadata": {},
   "source": [
    "## Univariate Distribution Plots"
   ]
  },
  {
   "cell_type": "code",
   "execution_count": null,
   "id": "a5cb5cf6",
   "metadata": {},
   "outputs": [],
   "source": [
    "# put univariate plots here"
   ]
  },
  {
   "cell_type": "markdown",
   "id": "dfb3aadf",
   "metadata": {},
   "source": [
    "* Explain decision to split features into one-hot-encoded feature columns\n",
    "\n",
    "## Need for SMOTE"
   ]
  },
  {
   "cell_type": "code",
   "execution_count": null,
   "id": "d9942234",
   "metadata": {},
   "outputs": [],
   "source": [
    "# put visualization here for"
   ]
  },
  {
   "cell_type": "markdown",
   "id": "0c242ebc",
   "metadata": {},
   "source": [
    "* Lightly explain how SMOTE will improve model performance\n",
    "\n",
    "## Split data for Exploration"
   ]
  },
  {
   "cell_type": "code",
   "execution_count": null,
   "id": "1a5bc619",
   "metadata": {},
   "outputs": [],
   "source": []
  },
  {
   "cell_type": "markdown",
   "id": "1c40d667",
   "metadata": {},
   "source": [
    "## Explore\n",
    "1. Exploration explained in Markdown\n",
    "    * Explain decision to split features into one-hot-encoded feature columns\n",
    "    * Explain effect of age column on other features\n",
    "    * Explain statistical tests to check if features are driving stroke occurence\n",
    "    * Explain handling of age's effect on features\n",
    "1. Code execution of normal statistical tests\n",
    "    * Independence (Chi2) tests between features and target\n",
    "    * T-Tests to check drivers\n",
    "    * Sample vizs to explain process\n",
    "    * Actual vizs on their own (limiting redundancy of explanation)\n",
    "\n",
    "1. Code execution of age-unweighted statistical tests for driving-feature elimination"
   ]
  },
  {
   "cell_type": "markdown",
   "id": "03402d65",
   "metadata": {},
   "source": [
    "# 2. Explore\n",
    "## Exploration Overview\n",
    "* Here's what we did in brief for Explore\n",
    "\n",
    "## Initial Bivariate Visualizations\n",
    "* Show how age is distributed differently between had_stroke and no_stroke\n",
    "    * Explain potential effect of age column on other features\n",
    "\n",
    "## Initial Hypotheses\n",
    "### Stats Tests - from MVP notebook\n",
    "\n",
    "### Combined Results\n",
    "\n",
    "## Further Hypotheses\n",
    "### Stats Tests - from combination of team members' notebook work\n",
    "* Explain statistical tests to check if features are driving stroke occurence\n",
    "* Independence (Chi2) tests between features and target\n",
    "* T-Tests to check drivers\n",
    "* Sample vizs to explain process\n",
    "* Actual vizs on their own (limiting redundancy of explanation)\n",
    "\n",
    "### Combined Results\n",
    "\n",
    "## Age-Unweighted Statistical Tests\n",
    "* Explain handling of age's effect on features\n",
    "\n",
    "### Stats Tests\n",
    "\n",
    "### Results - Features Kept, Eliminated"
   ]
  },
  {
   "cell_type": "markdown",
   "id": "2fc597df",
   "metadata": {},
   "source": [
    "## Model\n",
    "1. Modeling explained in Markdown\n",
    "    * Note use of SMOTE\n",
    "        * May want to note comparison of non-SMOTEd results vs SMOTEd results\n",
    "    * Explain encoding decisions\n",
    "        * Keeping age_range and bmi_range as columns\n",
    "    * Note models used and hyperparameter combinations (maybe just say \"we used various ones\")\n",
    "    * Note process: train, then validate, then test\n",
    "1. Code execution of preparation for modeling using prepare.py\n",
    "1. Code execution of model build+fit script\n",
    "1. Code execution of model evaluation\n",
    "1. Best model from Validate explained in Markdown\n",
    "    * Note SMOTE\n",
    "1. ROC Curve explained in Markdown\n",
    "1. Code execution of ROC Curve\n",
    "1. Evaluate best model on Test split\n",
    "1. Results of Test evaluation explained in Markdown"
   ]
  },
  {
   "cell_type": "markdown",
   "id": "e545dc77",
   "metadata": {},
   "source": [
    "# Model\n",
    "## Modeling Overview\n",
    "### Encoding\n",
    "\n",
    "### Target Isolation\n",
    "\n",
    "### Scaling\n",
    "\n",
    "### SMOTE\n",
    "\n",
    "## Building, Fitting, Evaluating Models\n",
    "### Model Preparation Script - No SMOTE\n",
    "\n",
    "### Model Build+Fit+Predict Script - No SMOTE\n",
    "- Return non-SMOTEd predictions dataframe, keep separate\n",
    "\n",
    "### Model Preparation Script - with SMOTE\n",
    "\n",
    "### Model Build+Fit+Predict Script - with SMOTE\n",
    "- Return SMOTEd predictions dataframe, keep separate\n",
    "\n",
    "## Model Performance on Train, Validate\n",
    "### Model Evaluation Script - Comparing non-SMOTEd and SMOTEd Models\n",
    "- Join the non-SMOTEd and SMOTEd dataframes together with column renaming to identify if model incorporated SMOTE or not\n",
    "- Print evaluation results of joined dataframe as normal"
   ]
  },
  {
   "cell_type": "markdown",
   "id": "e6b72a07",
   "metadata": {},
   "source": [
    "## Program\n",
    "1. Risk-calculation program explained in Markdown\n",
    "    * Takes user inputs for health information\n",
    "    * Uses best model from the Model stage to make predictions\n",
    "    * Returns predictions to user\n",
    "1. Code execution of a sample row from the dataset in the program"
   ]
  },
  {
   "cell_type": "markdown",
   "id": "3f0e0cc0",
   "metadata": {},
   "source": [
    "# Risk-Calculation Program\n",
    "## Risk-Calculation Program Overview\n",
    "### What it aims to do\n",
    "### Instructions\n",
    "## Implementation with Sample Input"
   ]
  },
  {
   "cell_type": "markdown",
   "id": "ba244c73",
   "metadata": {},
   "source": [
    "## Conclusion\n",
    "1. Note stats test takeaways\n",
    "1. Note model performance\n",
    "1. Explain takeaways\n",
    "1. Conclude"
   ]
  },
  {
   "cell_type": "markdown",
   "id": "3b7150a8",
   "metadata": {},
   "source": [
    "# Conclusion"
   ]
  },
  {
   "cell_type": "code",
   "execution_count": null,
   "id": "787011e6",
   "metadata": {},
   "outputs": [],
   "source": []
  }
 ],
 "metadata": {
  "kernelspec": {
   "display_name": "Python 3 (ipykernel)",
   "language": "python",
   "name": "python3"
  },
  "language_info": {
   "codemirror_mode": {
    "name": "ipython",
    "version": 3
   },
   "file_extension": ".py",
   "mimetype": "text/x-python",
   "name": "python",
   "nbconvert_exporter": "python",
   "pygments_lexer": "ipython3",
   "version": "3.8.8"
  }
 },
 "nbformat": 4,
 "nbformat_minor": 5
}
