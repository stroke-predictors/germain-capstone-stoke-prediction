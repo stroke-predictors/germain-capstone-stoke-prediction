{
 "cells": [
  {
   "cell_type": "code",
   "execution_count": 1,
   "id": "15606bca",
   "metadata": {},
   "outputs": [],
   "source": [
    "import pandas as pd\n",
    "import numpy as np\n",
    "import seaborn as sns\n",
    "import matplotlib.pyplot as plt\n",
    "from scipy import stats\n",
    "\n",
    "\n",
    "from sklearn import svm\n",
    "from sklearn.tree import DecisionTreeClassifier\n",
    "from sklearn.model_selection import train_test_split\n",
    "from sklearn.metrics import PrecisionRecallDisplay, precision_recall_curve\n",
    "\n",
    "import prepare\n",
    "import model\n",
    "\n",
    "from sklearn.metrics import roc_curve, auc, roc_auc_score\n",
    "from sklearn.multiclass import OneVsRestClassifier\n",
    "from sklearn.svm import SVC\n",
    "from sklearn.preprocessing import label_binarize"
   ]
  },
  {
   "cell_type": "markdown",
   "id": "1f541b7a-748e-412c-981b-f577c554b5fc",
   "metadata": {},
   "source": [
    "# Acquire and Prep"
   ]
  },
  {
   "cell_type": "code",
   "execution_count": 2,
   "id": "ed52da8c",
   "metadata": {
    "tags": []
   },
   "outputs": [
    {
     "data": {
      "text/html": [
       "<div>\n",
       "<style scoped>\n",
       "    .dataframe tbody tr th:only-of-type {\n",
       "        vertical-align: middle;\n",
       "    }\n",
       "\n",
       "    .dataframe tbody tr th {\n",
       "        vertical-align: top;\n",
       "    }\n",
       "\n",
       "    .dataframe thead th {\n",
       "        text-align: right;\n",
       "    }\n",
       "</style>\n",
       "<table border=\"1\" class=\"dataframe\">\n",
       "  <thead>\n",
       "    <tr style=\"text-align: right;\">\n",
       "      <th></th>\n",
       "      <th>id</th>\n",
       "      <th>gender</th>\n",
       "      <th>age</th>\n",
       "      <th>hypertension</th>\n",
       "      <th>heart_disease</th>\n",
       "      <th>ever_married</th>\n",
       "      <th>work_type</th>\n",
       "      <th>Residence_type</th>\n",
       "      <th>avg_glucose_level</th>\n",
       "      <th>bmi</th>\n",
       "      <th>smoking_status</th>\n",
       "      <th>stroke</th>\n",
       "    </tr>\n",
       "  </thead>\n",
       "  <tbody>\n",
       "    <tr>\n",
       "      <th>0</th>\n",
       "      <td>9046</td>\n",
       "      <td>Male</td>\n",
       "      <td>67.0</td>\n",
       "      <td>0</td>\n",
       "      <td>1</td>\n",
       "      <td>Yes</td>\n",
       "      <td>Private</td>\n",
       "      <td>Urban</td>\n",
       "      <td>228.69</td>\n",
       "      <td>36.6</td>\n",
       "      <td>formerly smoked</td>\n",
       "      <td>1</td>\n",
       "    </tr>\n",
       "    <tr>\n",
       "      <th>1</th>\n",
       "      <td>51676</td>\n",
       "      <td>Female</td>\n",
       "      <td>61.0</td>\n",
       "      <td>0</td>\n",
       "      <td>0</td>\n",
       "      <td>Yes</td>\n",
       "      <td>Self-employed</td>\n",
       "      <td>Rural</td>\n",
       "      <td>202.21</td>\n",
       "      <td>NaN</td>\n",
       "      <td>never smoked</td>\n",
       "      <td>1</td>\n",
       "    </tr>\n",
       "    <tr>\n",
       "      <th>2</th>\n",
       "      <td>31112</td>\n",
       "      <td>Male</td>\n",
       "      <td>80.0</td>\n",
       "      <td>0</td>\n",
       "      <td>1</td>\n",
       "      <td>Yes</td>\n",
       "      <td>Private</td>\n",
       "      <td>Rural</td>\n",
       "      <td>105.92</td>\n",
       "      <td>32.5</td>\n",
       "      <td>never smoked</td>\n",
       "      <td>1</td>\n",
       "    </tr>\n",
       "  </tbody>\n",
       "</table>\n",
       "</div>"
      ],
      "text/plain": [
       "      id  gender   age  hypertension  heart_disease ever_married  \\\n",
       "0   9046    Male  67.0             0              1          Yes   \n",
       "1  51676  Female  61.0             0              0          Yes   \n",
       "2  31112    Male  80.0             0              1          Yes   \n",
       "\n",
       "       work_type Residence_type  avg_glucose_level   bmi   smoking_status  \\\n",
       "0        Private          Urban             228.69  36.6  formerly smoked   \n",
       "1  Self-employed          Rural             202.21   NaN     never smoked   \n",
       "2        Private          Rural             105.92  32.5     never smoked   \n",
       "\n",
       "   stroke  \n",
       "0       1  \n",
       "1       1  \n",
       "2       1  "
      ]
     },
     "execution_count": 2,
     "metadata": {},
     "output_type": "execute_result"
    }
   ],
   "source": [
    "# acquire dataset\n",
    "df = pd.read_csv('healthcare-dataset-stroke-data.csv')"
   ]
  },
  {
   "cell_type": "markdown",
   "id": "7911a478-82ca-49ff-b57f-7646ea5bd0bc",
   "metadata": {},
   "source": [
    "> File originally downloaded from Kaggle.com. A copy is available in our germain-capstone-stoke-prediction repo. "
   ]
  },
  {
   "cell_type": "code",
   "execution_count": null,
   "id": "50e57e6b-787b-486a-bee6-dec7c6375a60",
   "metadata": {},
   "outputs": [],
   "source": [
    "# prepare data using script\n",
    "df = prepare.prep_data(df).drop(columns=['age_range', 'id'])"
   ]
  },
  {
   "cell_type": "markdown",
   "id": "26b4a424-b644-4451-8bfa-52bd100f1231",
   "metadata": {},
   "source": [
    "### Prep Process\n",
    "> - Takes the original Kaggle dataset,\n",
    "> - Drops a row for an outlier in gender and reset index, \n",
    "> - Drop the id column because the index serves the same,\n",
    "> - Converts ordinal columns to objects for one-hot encoding,\n",
    "> - Creates age_range feature for 5-year increments,\n",
    "> - Imputes BMI nulls using average BMI for observation's age range and gender, and\n",
    "> - Returns the prepared dataframe. This does not do model prep work."
   ]
  },
  {
   "cell_type": "code",
   "execution_count": 3,
   "id": "228868f9",
   "metadata": {},
   "outputs": [
    {
     "name": "stdout",
     "output_type": "stream",
     "text": [
      "<class 'pandas.core.frame.DataFrame'>\n",
      "RangeIndex: 5110 entries, 0 to 5109\n",
      "Data columns (total 12 columns):\n",
      " #   Column             Non-Null Count  Dtype  \n",
      "---  ------             --------------  -----  \n",
      " 0   id                 5110 non-null   int64  \n",
      " 1   gender             5110 non-null   object \n",
      " 2   age                5110 non-null   float64\n",
      " 3   hypertension       5110 non-null   int64  \n",
      " 4   heart_disease      5110 non-null   int64  \n",
      " 5   ever_married       5110 non-null   object \n",
      " 6   work_type          5110 non-null   object \n",
      " 7   Residence_type     5110 non-null   object \n",
      " 8   avg_glucose_level  5110 non-null   float64\n",
      " 9   bmi                4909 non-null   float64\n",
      " 10  smoking_status     5110 non-null   object \n",
      " 11  stroke             5110 non-null   int64  \n",
      "dtypes: float64(3), int64(4), object(5)\n",
      "memory usage: 479.2+ KB\n"
     ]
    }
   ],
   "source": [
    "df.info()"
   ]
  },
  {
   "cell_type": "markdown",
   "id": "f5109fa9-76a4-4a0a-98ac-eab75a02d933",
   "metadata": {},
   "source": [
    "# Explore"
   ]
  },
  {
   "cell_type": "markdown",
   "id": "b7e3b57e",
   "metadata": {},
   "source": [
    "### Explore plan\n",
    "- Look at distributions\n",
    "- Split\n",
    "- Using Train answer hyptheses"
   ]
  },
  {
   "cell_type": "code",
   "execution_count": 4,
   "id": "3362b930",
   "metadata": {
    "collapsed": true,
    "jupyter": {
     "outputs_hidden": true
    },
    "tags": []
   },
   "outputs": [
    {
     "data": {
      "image/png": "[encoded data removed]",
      "text/plain": [
       "<Figure size 432x288 with 1 Axes>"
      ]
     },
     "metadata": {
      "needs_background": "light"
     },
     "output_type": "display_data"
    },
    {
     "data": {
      "image/png": "[encoded data removed]",
      "text/plain": [
       "<Figure size 432x288 with 1 Axes>"
      ]
     },
     "metadata": {
      "needs_background": "light"
     },
     "output_type": "display_data"
    },
    {
     "data": {
      "image/png": "[encoded data removed]",
      "text/plain": [
       "<Figure size 432x288 with 1 Axes>"
      ]
     },
     "metadata": {
      "needs_background": "light"
     },
     "output_type": "display_data"
    },
    {
     "data": {
      "image/png": "[encoded data removed]",
      "text/plain": [
       "<Figure size 432x288 with 1 Axes>"
      ]
     },
     "metadata": {
      "needs_background": "light"
     },
     "output_type": "display_data"
    },
    {
     "data": {
      "image/png": "[encoded data removed]",
      "text/plain": [
       "<Figure size 432x288 with 1 Axes>"
      ]
     },
     "metadata": {
      "needs_background": "light"
     },
     "output_type": "display_data"
    },
    {
     "data": {
      "image/png": "[encoded data removed]",
      "text/plain": [
       "<Figure size 432x288 with 1 Axes>"
      ]
     },
     "metadata": {
      "needs_background": "light"
     },
     "output_type": "display_data"
    },
    {
     "data": {
      "image/png": "[encoded data removed]",
      "text/plain": [
       "<Figure size 432x288 with 1 Axes>"
      ]
     },
     "metadata": {
      "needs_background": "light"
     },
     "output_type": "display_data"
    },
    {
     "data": {
      "image/png": "[encoded data removed]",
      "text/plain": [
       "<Figure size 432x288 with 1 Axes>"
      ]
     },
     "metadata": {
      "needs_background": "light"
     },
     "output_type": "display_data"
    },
    {
     "data": {
      "image/png": "[encoded data removed]",
      "text/plain": [
       "<Figure size 432x288 with 1 Axes>"
      ]
     },
     "metadata": {
      "needs_background": "light"
     },
     "output_type": "display_data"
    },
    {
     "data": {
      "image/png": "[encoded data removed]",
      "text/plain": [
       "<Figure size 432x288 with 1 Axes>"
      ]
     },
     "metadata": {
      "needs_background": "light"
     },
     "output_type": "display_data"
    },
    {
     "data": {
      "image/png": "[encoded data removed]",
      "text/plain": [
       "<Figure size 432x288 with 1 Axes>"
      ]
     },
     "metadata": {
      "needs_background": "light"
     },
     "output_type": "display_data"
    },
    {
     "data": {
      "image/png": "[encoded data removed]",
      "text/plain": [
       "<Figure size 432x288 with 1 Axes>"
      ]
     },
     "metadata": {
      "needs_background": "light"
     },
     "output_type": "display_data"
    },
    {
     "data": {
      "image/png": "[encoded data removed]",
      "text/plain": [
       "<Figure size 432x288 with 1 Axes>"
      ]
     },
     "metadata": {
      "needs_background": "light"
     },
     "output_type": "display_data"
    }
   ],
   "source": [
    "# creating the distribution plot for each column\n",
    "for col in df.columns:\n",
    "    sns.histplot(df[col])\n",
    "    plt.show()"
   ]
  },
  {
   "cell_type": "markdown",
   "id": "21f4c4c1",
   "metadata": {},
   "source": [
    "- age is left skewed\n",
    "- average glucose level is right skewed\n",
    "- bmi is close to normally distributed"
   ]
  },
  {
   "cell_type": "markdown",
   "id": "aea79455-ff91-4292-8871-0fe3af367062",
   "metadata": {},
   "source": [
    "# Splits"
   ]
  },
  {
   "cell_type": "code",
   "execution_count": 5,
   "id": "acd6bfbf",
   "metadata": {
    "tags": []
   },
   "outputs": [],
   "source": [
    "# split the dataset into train_validate and test\n",
    "train_validate, test = train_test_split(df, test_size=.2, random_state=777)"
   ]
  },
  {
   "cell_type": "code",
   "execution_count": 6,
   "id": "b076ebdd",
   "metadata": {},
   "outputs": [],
   "source": [
    "# the second split of train and validate\n",
    "train, validate = train_test_split(train_validate, test_size=.25, random_state=777)"
   ]
  },
  {
   "cell_type": "code",
   "execution_count": 7,
   "id": "31142a01",
   "metadata": {
    "tags": []
   },
   "outputs": [
    {
     "data": {
      "text/plain": [
       "((3065, 13), (1022, 13), (1022, 13))"
      ]
     },
     "execution_count": 7,
     "metadata": {},
     "output_type": "execute_result"
    }
   ],
   "source": [
    "# checking the shape of each dataset\n",
    "train.shape, validate.shape, test.shape"
   ]
  },
  {
   "cell_type": "markdown",
   "id": "6d8ad99e-1d66-46fb-9bed-466bcdfb10d4",
   "metadata": {},
   "source": [
    "# Hypothesis Testing"
   ]
  },
  {
   "cell_type": "markdown",
   "id": "6e5f31ee",
   "metadata": {},
   "source": [
    "## Hypothesis 1:\n",
    "> - $H_0$ : There is no relationship between average glucose level and bmi.\n",
    "> - $H_A$ : There is relationship between average glucose level and bmi.\n",
    "> - Confidence interval is 95%"
   ]
  },
  {
   "cell_type": "code",
   "execution_count": 8,
   "id": "a8d7f5c6",
   "metadata": {},
   "outputs": [],
   "source": [
    "alpha = .05"
   ]
  },
  {
   "cell_type": "code",
   "execution_count": 9,
   "id": "e07f786e",
   "metadata": {},
   "outputs": [
    {
     "data": {
      "text/plain": [
       "<AxesSubplot:xlabel='avg_glucose_level', ylabel='bmi'>"
      ]
     },
     "execution_count": 9,
     "metadata": {},
     "output_type": "execute_result"
    },
    {
     "data": {
      "image/png": "[encoded data removed]",
      "text/plain": [
       "<Figure size 432x288 with 1 Axes>"
      ]
     },
     "metadata": {
      "needs_background": "light"
     },
     "output_type": "display_data"
    }
   ],
   "source": [
    "# creating a scatterplot to show the relationsip between avg glucose level and bmi\n",
    "# hue= and bins= for colorization fanciness\n",
    "sns.regplot(data=train, x=\"avg_glucose_level\", y=\"bmi\",line_kws={'color': 'red'})"
   ]
  },
  {
   "cell_type": "code",
   "execution_count": 11,
   "id": "333e47c7",
   "metadata": {},
   "outputs": [
    {
     "data": {
      "text/plain": [
       "(0.1715254388784596, 1.1422802552175544e-21)"
      ]
     },
     "execution_count": 11,
     "metadata": {},
     "output_type": "execute_result"
    }
   ],
   "source": [
    "# here we conduct a pearson r test \n",
    "corr, p = stats.pearsonr(train.avg_glucose_level, train.bmi)\n",
    "corr, p"
   ]
  },
  {
   "cell_type": "code",
   "execution_count": 12,
   "id": "45ecfd4a",
   "metadata": {},
   "outputs": [
    {
     "name": "stdout",
     "output_type": "stream",
     "text": [
      "There is a relationship between average glucose level and bmi.\n"
     ]
    }
   ],
   "source": [
    "# comparing the p-value to alpha\n",
    "if p < alpha:\n",
    "    print('There is a relationship between average glucose level and bmi.')\n",
    "else:\n",
    "    print('We can not say with 95% confidence that there is a realionship between average glucose level and bmi.')"
   ]
  },
  {
   "cell_type": "markdown",
   "id": "f470fe1b",
   "metadata": {},
   "source": [
    "## Hypothesis 2:\n",
    "> - $H_0$ : People over 65 years old are not more likely to have a stroke than people under 65.\n",
    "> - $H_A$ : People over 65 years old are more likely to have a stroke than people under 65."
   ]
  },
  {
   "cell_type": "code",
   "execution_count": 13,
   "id": "3a6bae9a-53a5-4796-b842-f1f9367f82b4",
   "metadata": {},
   "outputs": [],
   "source": [
    "alpha = .05"
   ]
  },
  {
   "cell_type": "code",
   "execution_count": 14,
   "id": "0dd4b72d-f943-42f9-baf2-4c7a8d95195f",
   "metadata": {},
   "outputs": [],
   "source": [
    "over_65 = train[train.age >= 65]\n",
    "under_65 = train[train.age < 65]"
   ]
  },
  {
   "cell_type": "code",
   "execution_count": 15,
   "id": "df629ae3-433e-4fdd-bef9-6db14518db0e",
   "metadata": {},
   "outputs": [
    {
     "data": {
      "text/plain": [
       "(849465.0, 2.6226245960247797e-39)"
      ]
     },
     "execution_count": 15,
     "metadata": {},
     "output_type": "execute_result"
    }
   ],
   "source": [
    "t, p = stats.mannwhitneyu(over_65.stroke, under_65.stroke, alternative='greater') #nonparametric t-test where the alternative\n",
    "#comparing two sample means\n",
    "#alternative: first subset is significantly greater than the second subset\n",
    "t, p"
   ]
  },
  {
   "cell_type": "code",
   "execution_count": 16,
   "id": "df37b294-380d-4342-9392-79637ad6ecaa",
   "metadata": {},
   "outputs": [
    {
     "data": {
      "image/png": "[encoded data removed]",
      "text/plain": [
       "<Figure size 432x288 with 1 Axes>"
      ]
     },
     "metadata": {
      "needs_background": "light"
     },
     "output_type": "display_data"
    }
   ],
   "source": [
    "heights = [round(over_65.stroke.mean(), 3), round(under_65.stroke.mean(), 3)]\n",
    "x_labels = ['Over 65', 'Under 65']\n",
    "plt.bar(x=x_labels, height=heights)\n",
    "plt.ylabel(\"Mean Stroke Probability\")\n",
    "plt.show()"
   ]
  },
  {
   "cell_type": "code",
   "execution_count": 17,
   "id": "69a9e7bc-d557-4166-8b0e-cd192436e44a",
   "metadata": {},
   "outputs": [
    {
     "name": "stdout",
     "output_type": "stream",
     "text": [
      "People over 65 years old are more likely to have a stroke than people under 65\n"
     ]
    }
   ],
   "source": [
    "# Comparing the p-value to alpha\n",
    "if p < alpha and t > 0:\n",
    "    print('People over 65 years old are more likely to have a stroke than people under 65')\n",
    "else:\n",
    "    print('We can not say with 95% confidence that people over 65 years old are not more likely to have a stroke than people under 65')"
   ]
  },
  {
   "cell_type": "markdown",
   "id": "610fe34a-d7c3-46c4-993b-fcfec0b5b8e4",
   "metadata": {},
   "source": [
    "## Hypothesis 3:\n",
    "> - $H_0$ : People that currently smoke do not have a higher risk of stroke than people that don’t currently smoke.\n",
    "> - $H_A$ : People that currently smoke have a higher risk of stroke than people that don’t currently smoke."
   ]
  },
  {
   "cell_type": "code",
   "execution_count": 18,
   "id": "a5453718-1d04-4535-bd10-80d7ed98d6f9",
   "metadata": {},
   "outputs": [],
   "source": [
    "alpha = .05"
   ]
  },
  {
   "cell_type": "code",
   "execution_count": 19,
   "id": "567d9fa5-dcb9-4ce4-b230-5a2f72d427bb",
   "metadata": {},
   "outputs": [
    {
     "data": {
      "text/plain": [
       "never smoked       1124\n",
       "Unknown             940\n",
       "formerly smoked     517\n",
       "smokes              484\n",
       "Name: smoking_status, dtype: int64"
      ]
     },
     "execution_count": 19,
     "metadata": {},
     "output_type": "execute_result"
    }
   ],
   "source": [
    "train.smoking_status.value_counts()"
   ]
  },
  {
   "cell_type": "code",
   "execution_count": 20,
   "id": "9617b447-998b-49c7-ac3e-4076c2ae79cd",
   "metadata": {},
   "outputs": [
    {
     "data": {
      "text/plain": [
       "(637100.0, 0.031009877989108668)"
      ]
     },
     "execution_count": 20,
     "metadata": {},
     "output_type": "execute_result"
    }
   ],
   "source": [
    "active_smoker = train[train.smoking_status == \"smokes\"]\n",
    "not_active_smoker = train[train.smoking_status != \"smokes\"]\n",
    "\n",
    "t, p = stats.mannwhitneyu(active_smoker.stroke, not_active_smoker.stroke, alternative='greater') #nonparametric t-test where the alternative\n",
    "#comparing two sample means\n",
    "#alternative: first subset is significantly greater than the second subset\n",
    "t, p"
   ]
  },
  {
   "cell_type": "code",
   "execution_count": 21,
   "id": "6da5fb9c-0352-49fc-9a75-c10d7fea3e5a",
   "metadata": {},
   "outputs": [
    {
     "data": {
      "image/png": "[encoded data removed]",
      "text/plain": [
       "<Figure size 432x288 with 1 Axes>"
      ]
     },
     "metadata": {
      "needs_background": "light"
     },
     "output_type": "display_data"
    }
   ],
   "source": [
    "heights = [round(active_smoker.stroke.mean(), 3), round(not_active_smoker.stroke.mean(), 3)]\n",
    "x_labels = ['Active Smoker', 'Not Smoker']\n",
    "plt.bar(x=x_labels, height=heights)\n",
    "plt.ylabel(\"Mean Stroke Probability\")\n",
    "plt.show()"
   ]
  },
  {
   "cell_type": "code",
   "execution_count": 22,
   "id": "08a867d6-d1e4-49d6-92ae-ea2c22153ded",
   "metadata": {},
   "outputs": [
    {
     "name": "stdout",
     "output_type": "stream",
     "text": [
      "People that currently smoke have a higher risk of stroke than people that don’t currently smoke.\n"
     ]
    }
   ],
   "source": [
    "# comparing the p-value to alpha\n",
    "if p < alpha and t>0:\n",
    "    print('People that currently smoke have a higher risk of stroke than people that don’t currently smoke.')\n",
    "else:\n",
    "    print('We can not say with 95% confidence that People that currently smoke have a higher risk of stroke than people that don’t currently smoke.')"
   ]
  },
  {
   "cell_type": "markdown",
   "id": "f5094a11",
   "metadata": {},
   "source": [
    "\n",
    "## Hypothesis 4:\n",
    "> - $H_0$ : Men are not more at risk for stroke than women.\n",
    "> - $H_A$ : Men are more at risk for stroke than women."
   ]
  },
  {
   "cell_type": "code",
   "execution_count": 23,
   "id": "888e31aa-6654-423d-8e0e-c2ab6d4a023c",
   "metadata": {},
   "outputs": [],
   "source": [
    "alpha = .05"
   ]
  },
  {
   "cell_type": "code",
   "execution_count": 24,
   "id": "27807f0e",
   "metadata": {},
   "outputs": [
    {
     "data": {
      "text/plain": [
       "Female    1806\n",
       "Male      1259\n",
       "Name: gender, dtype: int64"
      ]
     },
     "execution_count": 24,
     "metadata": {},
     "output_type": "execute_result"
    }
   ],
   "source": [
    "train.gender.value_counts()"
   ]
  },
  {
   "cell_type": "code",
   "execution_count": 25,
   "id": "0c92d453-d909-44a5-bbc1-2fbf51c49924",
   "metadata": {},
   "outputs": [
    {
     "data": {
      "text/plain": [
       "(1141435.0, 0.30698159499864974)"
      ]
     },
     "execution_count": 25,
     "metadata": {},
     "output_type": "execute_result"
    }
   ],
   "source": [
    "men = train[train.gender == \"Male\"]\n",
    "women = train[train.gender != \"Male\"]\n",
    "\n",
    "t, p = stats.mannwhitneyu(men.stroke, women.stroke, alternative='greater') #nonparametric t-test where the alternative\n",
    "#comparing two sample means\n",
    "#alternative: first subset is significantly greater than the second subset\n",
    "t, p"
   ]
  },
  {
   "cell_type": "code",
   "execution_count": 26,
   "id": "de382d32-ef3b-42a4-bdea-67f2ad28d12d",
   "metadata": {},
   "outputs": [
    {
     "data": {
      "image/png": "[encoded data removed]",
      "text/plain": [
       "<Figure size 432x288 with 1 Axes>"
      ]
     },
     "metadata": {
      "needs_background": "light"
     },
     "output_type": "display_data"
    }
   ],
   "source": [
    "heights = [round(men.stroke.mean(), 3), round(women.stroke.mean(), 3)]\n",
    "x_labels = ['Men', 'Women']\n",
    "plt.bar(x=x_labels, height=heights)\n",
    "plt.ylabel(\"Mean Stroke Probability\")\n",
    "plt.show()"
   ]
  },
  {
   "cell_type": "code",
   "execution_count": 27,
   "id": "7a0b714d-f1c6-416e-b8de-04b04bff6620",
   "metadata": {},
   "outputs": [
    {
     "name": "stdout",
     "output_type": "stream",
     "text": [
      "We can not say with 95% confidence that Men are more at risk for stroke than women.\n"
     ]
    }
   ],
   "source": [
    "# comparing the p-value to alpha\n",
    "if p < alpha and t > 0:\n",
    "    print('Men are more at risk for stroke than women.')\n",
    "else:\n",
    "    print('We can not say with 95% confidence that Men are more at risk for stroke than women.')"
   ]
  },
  {
   "cell_type": "markdown",
   "id": "e20a225c-6492-4eb6-9466-f414665b8a10",
   "metadata": {},
   "source": [
    "# **Takeways**:\n",
    "> - There is a relationship between average glucose level and bmi.\n",
    "> - People over 65 years old are more likely to have a stroke than people under 65\n",
    "> - People that currently smoke have a higher risk of stroke than people that don’t currently smoke.\n",
    "> - We can not say with 95% confidence that Men are more at risk for stroke than women."
   ]
  },
  {
   "cell_type": "code",
   "execution_count": null,
   "id": "b11d7877-4d51-4cf5-9c60-f93e488619ee",
   "metadata": {},
   "outputs": [],
   "source": []
  },
  {
   "cell_type": "code",
   "execution_count": 1,
   "id": "84d444c8",
   "metadata": {},
   "outputs": [],
   "source": [
    "import pandas as pd\n",
    "from sklearn.model_selection import train_test_split\n",
    "\n",
    "import prepare\n",
    "import model\n",
    "df = pd.read_csv('healthcare-dataset-stroke-data.csv')"
   ]
  },
  {
   "cell_type": "code",
   "execution_count": 2,
   "id": "7f99784a",
   "metadata": {},
   "outputs": [
    {
     "data": {
      "text/plain": [
       "dtype('O')"
      ]
     },
     "execution_count": 2,
     "metadata": {},
     "output_type": "execute_result"
    }
   ],
   "source": [
    "# prepare data using script\n",
    "df = prepare.prep_data(df).drop(columns=['age_range', 'id'])\n",
    "df.stroke.dtype"
   ]
  },
  {
   "cell_type": "code",
   "execution_count": 3,
   "id": "34cfb5e2",
   "metadata": {},
   "outputs": [
    {
     "data": {
      "text/plain": [
       "(5109, 11)"
      ]
     },
     "execution_count": 3,
     "metadata": {},
     "output_type": "execute_result"
    }
   ],
   "source": [
    "# cast stroke column as int\n",
    "df['stroke'] = df['stroke'].astype('int64')\n",
    "# check work\n",
    "df.shape"
   ]
  },
  {
   "cell_type": "code",
   "execution_count": 4,
   "id": "d42bbc40",
   "metadata": {},
   "outputs": [
    {
     "data": {
      "text/html": [
       "<div>\n",
       "<style scoped>\n",
       "    .dataframe tbody tr th:only-of-type {\n",
       "        vertical-align: middle;\n",
       "    }\n",
       "\n",
       "    .dataframe tbody tr th {\n",
       "        vertical-align: top;\n",
       "    }\n",
       "\n",
       "    .dataframe thead th {\n",
       "        text-align: right;\n",
       "    }\n",
       "</style>\n",
       "<table border=\"1\" class=\"dataframe\">\n",
       "  <thead>\n",
       "    <tr style=\"text-align: right;\">\n",
       "      <th></th>\n",
       "      <th>gender</th>\n",
       "      <th>age</th>\n",
       "      <th>hypertension</th>\n",
       "      <th>heart_disease</th>\n",
       "      <th>ever_married</th>\n",
       "      <th>work_type</th>\n",
       "      <th>residence_type</th>\n",
       "      <th>avg_glucose_level</th>\n",
       "      <th>bmi</th>\n",
       "      <th>smoking_status</th>\n",
       "      <th>stroke</th>\n",
       "    </tr>\n",
       "  </thead>\n",
       "  <tbody>\n",
       "    <tr>\n",
       "      <th>0</th>\n",
       "      <td>Male</td>\n",
       "      <td>67.0</td>\n",
       "      <td>0</td>\n",
       "      <td>1</td>\n",
       "      <td>Yes</td>\n",
       "      <td>Private</td>\n",
       "      <td>Urban</td>\n",
       "      <td>228.69</td>\n",
       "      <td>36.600000</td>\n",
       "      <td>formerly smoked</td>\n",
       "      <td>1</td>\n",
       "    </tr>\n",
       "    <tr>\n",
       "      <th>1</th>\n",
       "      <td>Female</td>\n",
       "      <td>61.0</td>\n",
       "      <td>0</td>\n",
       "      <td>0</td>\n",
       "      <td>Yes</td>\n",
       "      <td>Self-employed</td>\n",
       "      <td>Rural</td>\n",
       "      <td>202.21</td>\n",
       "      <td>30.640331</td>\n",
       "      <td>never smoked</td>\n",
       "      <td>1</td>\n",
       "    </tr>\n",
       "    <tr>\n",
       "      <th>2</th>\n",
       "      <td>Male</td>\n",
       "      <td>80.0</td>\n",
       "      <td>0</td>\n",
       "      <td>1</td>\n",
       "      <td>Yes</td>\n",
       "      <td>Private</td>\n",
       "      <td>Rural</td>\n",
       "      <td>105.92</td>\n",
       "      <td>32.500000</td>\n",
       "      <td>never smoked</td>\n",
       "      <td>1</td>\n",
       "    </tr>\n",
       "  </tbody>\n",
       "</table>\n",
       "</div>"
      ],
      "text/plain": [
       "   gender   age hypertension heart_disease ever_married      work_type  \\\n",
       "0    Male  67.0            0             1          Yes        Private   \n",
       "1  Female  61.0            0             0          Yes  Self-employed   \n",
       "2    Male  80.0            0             1          Yes        Private   \n",
       "\n",
       "  residence_type  avg_glucose_level        bmi   smoking_status  stroke  \n",
       "0          Urban             228.69  36.600000  formerly smoked       1  \n",
       "1          Rural             202.21  30.640331     never smoked       1  \n",
       "2          Rural             105.92  32.500000     never smoked       1  "
      ]
     },
     "execution_count": 4,
     "metadata": {},
     "output_type": "execute_result"
    }
   ],
   "source": [
    "# check work\n",
    "df.head(3)"
   ]
  },
  {
   "cell_type": "code",
   "execution_count": 5,
   "id": "b03bdbd3",
   "metadata": {},
   "outputs": [],
   "source": [
    "# set list of columns to one-hot encode\n",
    "col_list = ['gender','ever_married','work_type','residence_type','smoking_status']\n",
    "# apply one-hot encoding using above list\n",
    "df = pd.get_dummies(df, columns=col_list, drop_first=True)"
   ]
  },
  {
   "cell_type": "code",
   "execution_count": 6,
   "id": "d1d7afdb",
   "metadata": {},
   "outputs": [
    {
     "data": {
      "text/plain": [
       "((3065, 16), (1022, 16), (1022, 16))"
      ]
     },
     "execution_count": 6,
     "metadata": {},
     "output_type": "execute_result"
    }
   ],
   "source": [
    "# split using same random state as explore stage\n",
    "trainvalidate, test = train_test_split(df, test_size=.2, random_state=777)\n",
    "train, validate = train_test_split(trainvalidate, test_size=.25, random_state=777)\n",
    "# check work\n",
    "train.shape, validate.shape, test.shape"
   ]
  },
  {
   "cell_type": "code",
   "execution_count": 7,
   "id": "fdd114f6",
   "metadata": {},
   "outputs": [],
   "source": [
    "# isolate target\n",
    "X_train, y_train = train.drop(columns='stroke'), train.stroke\n",
    "X_validate, y_validate = validate.drop(columns='stroke'), validate.stroke\n",
    "X_test, y_test = test.drop(columns='stroke'), test.stroke"
   ]
  },
  {
   "cell_type": "code",
   "execution_count": 8,
   "id": "f17daf01",
   "metadata": {},
   "outputs": [],
   "source": [
    "# apply scaling using a MinMaxScaler\n",
    "scaler, X_train_scaled, X_validate_scaled, X_test_scaled = model.Min_Max_Scaler(X_train, X_validate, X_test)"
   ]
  },
  {
   "cell_type": "code",
   "execution_count": 9,
   "id": "78053528",
   "metadata": {},
   "outputs": [],
   "source": [
    "# build & fit models, append model predictions to the train and validate actuals dataframes\n",
    "y_train_predictions,\\\n",
    "y_validate_predictions = model.classification_shotgun(X_train_scaled, y_train, X_validate_scaled, y_validate)"
   ]
  },
  {
   "cell_type": "code",
   "execution_count": null,
   "id": "c7af3abb",
   "metadata": {},
   "outputs": [],
   "source": [
    "y_train_predictions,\\\n",
    "y_validate_predictions = model.manual_baseline(y_train_predictions, y_validate_predictions, 1)"
   ]
  },
  {
   "cell_type": "code",
   "execution_count": null,
   "id": "c23639f6",
   "metadata": {},
   "outputs": [],
   "source": [
    "pd.set_option(\"display.max_rows\", None, \"display.max_columns\", None)\n",
    "y_train_predictions"
   ]
  },
  {
   "cell_type": "code",
   "execution_count": null,
   "id": "9b091f46",
   "metadata": {},
   "outputs": [],
   "source": [
    "# calculate accuracy and recall for in- and out-sample predictions\n",
    "running_df = model.print_classification_results(y_train_predictions, y_validate_predictions)"
   ]
  },
  {
   "cell_type": "code",
   "execution_count": null,
   "id": "f1c9aa1f",
   "metadata": {},
   "outputs": [],
   "source": [
    "# display accuracies and recalls for each model, sorting for best out-sample recall\n",
    "running_df.sort_values(by='OutSample_Recall', ascending=False)"
   ]
  },
  {
   "cell_type": "markdown",
   "id": "e2ac16a5-726d-48a7-be77-501060e59562",
   "metadata": {},
   "source": [
    "# Post MVP Jake Starts"
   ]
  },
  {
   "cell_type": "code",
   "execution_count": 2,
   "id": "96f552b1",
   "metadata": {},
   "outputs": [
    {
     "data": {
      "text/html": [
       "<div>\n",
       "<style scoped>\n",
       "    .dataframe tbody tr th:only-of-type {\n",
       "        vertical-align: middle;\n",
       "    }\n",
       "\n",
       "    .dataframe tbody tr th {\n",
       "        vertical-align: top;\n",
       "    }\n",
       "\n",
       "    .dataframe thead th {\n",
       "        text-align: right;\n",
       "    }\n",
       "</style>\n",
       "<table border=\"1\" class=\"dataframe\">\n",
       "  <thead>\n",
       "    <tr style=\"text-align: right;\">\n",
       "      <th></th>\n",
       "      <th>gender</th>\n",
       "      <th>age</th>\n",
       "      <th>hypertension</th>\n",
       "      <th>heart_disease</th>\n",
       "      <th>ever_married</th>\n",
       "      <th>work_type</th>\n",
       "      <th>residence_type</th>\n",
       "      <th>avg_glucose_level</th>\n",
       "      <th>bmi</th>\n",
       "      <th>smoking_status</th>\n",
       "      <th>stroke</th>\n",
       "      <th>age_range</th>\n",
       "    </tr>\n",
       "  </thead>\n",
       "  <tbody>\n",
       "    <tr>\n",
       "      <th>0</th>\n",
       "      <td>Male</td>\n",
       "      <td>67.0</td>\n",
       "      <td>0</td>\n",
       "      <td>1</td>\n",
       "      <td>Yes</td>\n",
       "      <td>Private</td>\n",
       "      <td>Urban</td>\n",
       "      <td>228.69</td>\n",
       "      <td>36.6</td>\n",
       "      <td>formerly smoked</td>\n",
       "      <td>1</td>\n",
       "      <td>65-70</td>\n",
       "    </tr>\n",
       "    <tr>\n",
       "      <th>1</th>\n",
       "      <td>Female</td>\n",
       "      <td>61.0</td>\n",
       "      <td>0</td>\n",
       "      <td>0</td>\n",
       "      <td>Yes</td>\n",
       "      <td>Self-employed</td>\n",
       "      <td>Rural</td>\n",
       "      <td>202.21</td>\n",
       "      <td>30.6</td>\n",
       "      <td>never smoked</td>\n",
       "      <td>1</td>\n",
       "      <td>60-65</td>\n",
       "    </tr>\n",
       "    <tr>\n",
       "      <th>2</th>\n",
       "      <td>Male</td>\n",
       "      <td>80.0</td>\n",
       "      <td>0</td>\n",
       "      <td>1</td>\n",
       "      <td>Yes</td>\n",
       "      <td>Private</td>\n",
       "      <td>Rural</td>\n",
       "      <td>105.92</td>\n",
       "      <td>32.5</td>\n",
       "      <td>never smoked</td>\n",
       "      <td>1</td>\n",
       "      <td>75-80</td>\n",
       "    </tr>\n",
       "  </tbody>\n",
       "</table>\n",
       "</div>"
      ],
      "text/plain": [
       "   gender   age hypertension heart_disease ever_married      work_type  \\\n",
       "0    Male  67.0            0             1          Yes        Private   \n",
       "1  Female  61.0            0             0          Yes  Self-employed   \n",
       "2    Male  80.0            0             1          Yes        Private   \n",
       "\n",
       "  residence_type  avg_glucose_level   bmi   smoking_status  stroke age_range  \n",
       "0          Urban             228.69  36.6  formerly smoked       1     65-70  \n",
       "1          Rural             202.21  30.6     never smoked       1     60-65  \n",
       "2          Rural             105.92  32.5     never smoked       1     75-80  "
      ]
     },
     "execution_count": 2,
     "metadata": {},
     "output_type": "execute_result"
    }
   ],
   "source": [
    "# clean original dataset up to explore stage\n",
    "df = prepare.prep_data(pd.read_csv('healthcare-dataset-stroke-data.csv'))\n",
    "df.head(3)"
   ]
  },
  {
   "cell_type": "code",
   "execution_count": 3,
   "id": "0396faac",
   "metadata": {},
   "outputs": [
    {
     "name": "stdout",
     "output_type": "stream",
     "text": [
      "Before SMOTE applied: (3065, 31) (3065,)\n",
      "After SMOTE applied: (5812, 31) (5812,)\n",
      "X_train with SMOTE: (5812, 31)\n",
      "y_train with SMOTE: (5812,)\n",
      "X_validate: (1022, 31)\n",
      "y_validate: (1022,)\n",
      "X_test: (1022, 31)\n",
      "y_test: (1022,)\n"
     ]
    }
   ],
   "source": [
    "# encode, split, scale, SMOTE the explore-stage data\n",
    "X_train, y_train, X_validate, y_validate, X_test, y_test = prepare.model_prep(df)\n",
    "# check results\n",
    "print('X_train with SMOTE:', X_train.shape)\n",
    "print('y_train with SMOTE:', y_train.shape)\n",
    "print('X_validate:', X_validate.shape)\n",
    "print('y_validate:', y_validate.shape)\n",
    "print('X_test:', X_test.shape)\n",
    "print('y_test:', y_test.shape)"
   ]
  },
  {
   "cell_type": "markdown",
   "id": "d2dd3af3-b54b-4ad9-8dcd-36093fb0099f",
   "metadata": {},
   "source": [
    "### Model Prep Process\n",
    "> - Takes the dataframe already put through prep_data as input,\n",
    "> - One-hot encodes categorical and ordinal columns,\n",
    "> - Splits data into 60-20-20 train-validate-test splits,\n",
    "> - Isolates the target column from each split,\n",
    "> - Scales each split's features,\n",
    "> - Uses SMOTE to address class imbalance for train, and\n",
    "> - Return all prepared dataframes. Requires prior prep function."
   ]
  },
  {
   "cell_type": "code",
   "execution_count": null,
   "id": "e104f0ff-3e6d-4d02-b0fd-1ee8089c1a93",
   "metadata": {},
   "outputs": [],
   "source": [
    "X_train # features like gender_Male and work_type_Private have non-ordinal values because of SMOTE oversampling"
   ]
  },
  {
   "cell_type": "code",
   "execution_count": 5,
   "id": "e5b961c4",
   "metadata": {},
   "outputs": [],
   "source": [
    "# shotgun-out several classification models\n",
    "y_train_predictions,\\\n",
    "y_validate_predictions = model.classification_shotgun(X_train, y_train, X_validate, y_validate)"
   ]
  },
  {
   "cell_type": "code",
   "execution_count": 6,
   "id": "59c336ba",
   "metadata": {},
   "outputs": [],
   "source": [
    "# choose the baseline guess manually\n",
    "y_train_predictions,\\\n",
    "y_validate_predictions = model.manual_baseline(y_train_predictions, y_validate_predictions, 1)"
   ]
  },
  {
   "cell_type": "code",
   "execution_count": 7,
   "id": "e17990df",
   "metadata": {},
   "outputs": [
    {
     "data": {
      "text/html": [
       "<div>\n",
       "<style scoped>\n",
       "    .dataframe tbody tr th:only-of-type {\n",
       "        vertical-align: middle;\n",
       "    }\n",
       "\n",
       "    .dataframe tbody tr th {\n",
       "        vertical-align: top;\n",
       "    }\n",
       "\n",
       "    .dataframe thead th {\n",
       "        text-align: right;\n",
       "    }\n",
       "</style>\n",
       "<table border=\"1\" class=\"dataframe\">\n",
       "  <thead>\n",
       "    <tr style=\"text-align: right;\">\n",
       "      <th></th>\n",
       "      <th>in_actuals</th>\n",
       "      <th>baseline</th>\n",
       "      <th>tree_maxdepth1</th>\n",
       "      <th>tree_maxdepth2</th>\n",
       "      <th>tree_maxdepth3</th>\n",
       "      <th>tree_maxdepth5</th>\n",
       "      <th>tree_maxdepth10</th>\n",
       "      <th>rf_depth1</th>\n",
       "      <th>rf_depth2</th>\n",
       "      <th>rf_depth3</th>\n",
       "      <th>...</th>\n",
       "      <th>nb_vsmooth0.001</th>\n",
       "      <th>nb_vsmooth0.01</th>\n",
       "      <th>nb_vsmooth10</th>\n",
       "      <th>nb_vsmooth100</th>\n",
       "      <th>knn_n3</th>\n",
       "      <th>knn_n5</th>\n",
       "      <th>knn_n10</th>\n",
       "      <th>knn_n25</th>\n",
       "      <th>knn_n75</th>\n",
       "      <th>manual_baseline</th>\n",
       "    </tr>\n",
       "  </thead>\n",
       "  <tbody>\n",
       "    <tr>\n",
       "      <th>0</th>\n",
       "      <td>0</td>\n",
       "      <td>0</td>\n",
       "      <td>1</td>\n",
       "      <td>1</td>\n",
       "      <td>1</td>\n",
       "      <td>1</td>\n",
       "      <td>0</td>\n",
       "      <td>1</td>\n",
       "      <td>1</td>\n",
       "      <td>1</td>\n",
       "      <td>...</td>\n",
       "      <td>1</td>\n",
       "      <td>1</td>\n",
       "      <td>1</td>\n",
       "      <td>1</td>\n",
       "      <td>0</td>\n",
       "      <td>0</td>\n",
       "      <td>0</td>\n",
       "      <td>0</td>\n",
       "      <td>1</td>\n",
       "      <td>1</td>\n",
       "    </tr>\n",
       "    <tr>\n",
       "      <th>1</th>\n",
       "      <td>0</td>\n",
       "      <td>0</td>\n",
       "      <td>1</td>\n",
       "      <td>1</td>\n",
       "      <td>1</td>\n",
       "      <td>1</td>\n",
       "      <td>0</td>\n",
       "      <td>1</td>\n",
       "      <td>1</td>\n",
       "      <td>1</td>\n",
       "      <td>...</td>\n",
       "      <td>1</td>\n",
       "      <td>1</td>\n",
       "      <td>1</td>\n",
       "      <td>1</td>\n",
       "      <td>0</td>\n",
       "      <td>0</td>\n",
       "      <td>1</td>\n",
       "      <td>1</td>\n",
       "      <td>1</td>\n",
       "      <td>1</td>\n",
       "    </tr>\n",
       "    <tr>\n",
       "      <th>2</th>\n",
       "      <td>0</td>\n",
       "      <td>0</td>\n",
       "      <td>0</td>\n",
       "      <td>0</td>\n",
       "      <td>0</td>\n",
       "      <td>0</td>\n",
       "      <td>0</td>\n",
       "      <td>0</td>\n",
       "      <td>0</td>\n",
       "      <td>0</td>\n",
       "      <td>...</td>\n",
       "      <td>1</td>\n",
       "      <td>1</td>\n",
       "      <td>1</td>\n",
       "      <td>1</td>\n",
       "      <td>0</td>\n",
       "      <td>0</td>\n",
       "      <td>0</td>\n",
       "      <td>1</td>\n",
       "      <td>1</td>\n",
       "      <td>1</td>\n",
       "    </tr>\n",
       "    <tr>\n",
       "      <th>3</th>\n",
       "      <td>0</td>\n",
       "      <td>0</td>\n",
       "      <td>0</td>\n",
       "      <td>0</td>\n",
       "      <td>0</td>\n",
       "      <td>0</td>\n",
       "      <td>0</td>\n",
       "      <td>0</td>\n",
       "      <td>0</td>\n",
       "      <td>0</td>\n",
       "      <td>...</td>\n",
       "      <td>1</td>\n",
       "      <td>1</td>\n",
       "      <td>1</td>\n",
       "      <td>1</td>\n",
       "      <td>0</td>\n",
       "      <td>0</td>\n",
       "      <td>0</td>\n",
       "      <td>0</td>\n",
       "      <td>0</td>\n",
       "      <td>1</td>\n",
       "    </tr>\n",
       "    <tr>\n",
       "      <th>4</th>\n",
       "      <td>0</td>\n",
       "      <td>0</td>\n",
       "      <td>1</td>\n",
       "      <td>1</td>\n",
       "      <td>1</td>\n",
       "      <td>0</td>\n",
       "      <td>0</td>\n",
       "      <td>0</td>\n",
       "      <td>0</td>\n",
       "      <td>0</td>\n",
       "      <td>...</td>\n",
       "      <td>1</td>\n",
       "      <td>1</td>\n",
       "      <td>0</td>\n",
       "      <td>0</td>\n",
       "      <td>0</td>\n",
       "      <td>0</td>\n",
       "      <td>0</td>\n",
       "      <td>0</td>\n",
       "      <td>1</td>\n",
       "      <td>1</td>\n",
       "    </tr>\n",
       "    <tr>\n",
       "      <th>...</th>\n",
       "      <td>...</td>\n",
       "      <td>...</td>\n",
       "      <td>...</td>\n",
       "      <td>...</td>\n",
       "      <td>...</td>\n",
       "      <td>...</td>\n",
       "      <td>...</td>\n",
       "      <td>...</td>\n",
       "      <td>...</td>\n",
       "      <td>...</td>\n",
       "      <td>...</td>\n",
       "      <td>...</td>\n",
       "      <td>...</td>\n",
       "      <td>...</td>\n",
       "      <td>...</td>\n",
       "      <td>...</td>\n",
       "      <td>...</td>\n",
       "      <td>...</td>\n",
       "      <td>...</td>\n",
       "      <td>...</td>\n",
       "      <td>...</td>\n",
       "    </tr>\n",
       "    <tr>\n",
       "      <th>5807</th>\n",
       "      <td>1</td>\n",
       "      <td>0</td>\n",
       "      <td>1</td>\n",
       "      <td>1</td>\n",
       "      <td>1</td>\n",
       "      <td>1</td>\n",
       "      <td>1</td>\n",
       "      <td>1</td>\n",
       "      <td>1</td>\n",
       "      <td>1</td>\n",
       "      <td>...</td>\n",
       "      <td>1</td>\n",
       "      <td>1</td>\n",
       "      <td>1</td>\n",
       "      <td>1</td>\n",
       "      <td>1</td>\n",
       "      <td>1</td>\n",
       "      <td>1</td>\n",
       "      <td>1</td>\n",
       "      <td>1</td>\n",
       "      <td>1</td>\n",
       "    </tr>\n",
       "    <tr>\n",
       "      <th>5808</th>\n",
       "      <td>1</td>\n",
       "      <td>0</td>\n",
       "      <td>1</td>\n",
       "      <td>1</td>\n",
       "      <td>1</td>\n",
       "      <td>1</td>\n",
       "      <td>1</td>\n",
       "      <td>1</td>\n",
       "      <td>1</td>\n",
       "      <td>1</td>\n",
       "      <td>...</td>\n",
       "      <td>1</td>\n",
       "      <td>1</td>\n",
       "      <td>1</td>\n",
       "      <td>1</td>\n",
       "      <td>1</td>\n",
       "      <td>1</td>\n",
       "      <td>1</td>\n",
       "      <td>1</td>\n",
       "      <td>1</td>\n",
       "      <td>1</td>\n",
       "    </tr>\n",
       "    <tr>\n",
       "      <th>5809</th>\n",
       "      <td>1</td>\n",
       "      <td>0</td>\n",
       "      <td>1</td>\n",
       "      <td>1</td>\n",
       "      <td>1</td>\n",
       "      <td>1</td>\n",
       "      <td>1</td>\n",
       "      <td>1</td>\n",
       "      <td>1</td>\n",
       "      <td>1</td>\n",
       "      <td>...</td>\n",
       "      <td>1</td>\n",
       "      <td>1</td>\n",
       "      <td>1</td>\n",
       "      <td>1</td>\n",
       "      <td>1</td>\n",
       "      <td>1</td>\n",
       "      <td>1</td>\n",
       "      <td>1</td>\n",
       "      <td>1</td>\n",
       "      <td>1</td>\n",
       "    </tr>\n",
       "    <tr>\n",
       "      <th>5810</th>\n",
       "      <td>1</td>\n",
       "      <td>0</td>\n",
       "      <td>1</td>\n",
       "      <td>1</td>\n",
       "      <td>1</td>\n",
       "      <td>0</td>\n",
       "      <td>0</td>\n",
       "      <td>1</td>\n",
       "      <td>1</td>\n",
       "      <td>1</td>\n",
       "      <td>...</td>\n",
       "      <td>1</td>\n",
       "      <td>1</td>\n",
       "      <td>1</td>\n",
       "      <td>1</td>\n",
       "      <td>1</td>\n",
       "      <td>1</td>\n",
       "      <td>1</td>\n",
       "      <td>1</td>\n",
       "      <td>1</td>\n",
       "      <td>1</td>\n",
       "    </tr>\n",
       "    <tr>\n",
       "      <th>5811</th>\n",
       "      <td>1</td>\n",
       "      <td>0</td>\n",
       "      <td>1</td>\n",
       "      <td>1</td>\n",
       "      <td>1</td>\n",
       "      <td>1</td>\n",
       "      <td>1</td>\n",
       "      <td>1</td>\n",
       "      <td>1</td>\n",
       "      <td>1</td>\n",
       "      <td>...</td>\n",
       "      <td>1</td>\n",
       "      <td>1</td>\n",
       "      <td>1</td>\n",
       "      <td>1</td>\n",
       "      <td>1</td>\n",
       "      <td>1</td>\n",
       "      <td>1</td>\n",
       "      <td>1</td>\n",
       "      <td>1</td>\n",
       "      <td>1</td>\n",
       "    </tr>\n",
       "  </tbody>\n",
       "</table>\n",
       "<p>5812 rows × 29 columns</p>\n",
       "</div>"
      ],
      "text/plain": [
       "      in_actuals  baseline  tree_maxdepth1  tree_maxdepth2  tree_maxdepth3  \\\n",
       "0              0         0               1               1               1   \n",
       "1              0         0               1               1               1   \n",
       "2              0         0               0               0               0   \n",
       "3              0         0               0               0               0   \n",
       "4              0         0               1               1               1   \n",
       "...          ...       ...             ...             ...             ...   \n",
       "5807           1         0               1               1               1   \n",
       "5808           1         0               1               1               1   \n",
       "5809           1         0               1               1               1   \n",
       "5810           1         0               1               1               1   \n",
       "5811           1         0               1               1               1   \n",
       "\n",
       "      tree_maxdepth5  tree_maxdepth10  rf_depth1  rf_depth2  rf_depth3  ...  \\\n",
       "0                  1                0          1          1          1  ...   \n",
       "1                  1                0          1          1          1  ...   \n",
       "2                  0                0          0          0          0  ...   \n",
       "3                  0                0          0          0          0  ...   \n",
       "4                  0                0          0          0          0  ...   \n",
       "...              ...              ...        ...        ...        ...  ...   \n",
       "5807               1                1          1          1          1  ...   \n",
       "5808               1                1          1          1          1  ...   \n",
       "5809               1                1          1          1          1  ...   \n",
       "5810               0                0          1          1          1  ...   \n",
       "5811               1                1          1          1          1  ...   \n",
       "\n",
       "      nb_vsmooth0.001  nb_vsmooth0.01  nb_vsmooth10  nb_vsmooth100  knn_n3  \\\n",
       "0                   1               1             1              1       0   \n",
       "1                   1               1             1              1       0   \n",
       "2                   1               1             1              1       0   \n",
       "3                   1               1             1              1       0   \n",
       "4                   1               1             0              0       0   \n",
       "...               ...             ...           ...            ...     ...   \n",
       "5807                1               1             1              1       1   \n",
       "5808                1               1             1              1       1   \n",
       "5809                1               1             1              1       1   \n",
       "5810                1               1             1              1       1   \n",
       "5811                1               1             1              1       1   \n",
       "\n",
       "      knn_n5  knn_n10  knn_n25  knn_n75  manual_baseline  \n",
       "0          0        0        0        1                1  \n",
       "1          0        1        1        1                1  \n",
       "2          0        0        1        1                1  \n",
       "3          0        0        0        0                1  \n",
       "4          0        0        0        1                1  \n",
       "...      ...      ...      ...      ...              ...  \n",
       "5807       1        1        1        1                1  \n",
       "5808       1        1        1        1                1  \n",
       "5809       1        1        1        1                1  \n",
       "5810       1        1        1        1                1  \n",
       "5811       1        1        1        1                1  \n",
       "\n",
       "[5812 rows x 29 columns]"
      ]
     },
     "execution_count": 7,
     "metadata": {},
     "output_type": "execute_result"
    }
   ],
   "source": [
    "y_train_predictions # each model's predictions and the actuals column (in_actuals)"
   ]
  },
  {
   "cell_type": "code",
   "execution_count": 8,
   "id": "2b40a212",
   "metadata": {},
   "outputs": [],
   "source": [
    "# calculate accuracy and recall for in- and out-sample predictions\n",
    "running_df = model.print_classification_results(y_train_predictions, y_validate_predictions)"
   ]
  },
  {
   "cell_type": "code",
   "execution_count": 9,
   "id": "79b8cc5c",
   "metadata": {},
   "outputs": [
    {
     "data": {
      "text/html": [
       "<div>\n",
       "<style scoped>\n",
       "    .dataframe tbody tr th:only-of-type {\n",
       "        vertical-align: middle;\n",
       "    }\n",
       "\n",
       "    .dataframe tbody tr th {\n",
       "        vertical-align: top;\n",
       "    }\n",
       "\n",
       "    .dataframe thead th {\n",
       "        text-align: right;\n",
       "    }\n",
       "</style>\n",
       "<table border=\"1\" class=\"dataframe\">\n",
       "  <thead>\n",
       "    <tr style=\"text-align: right;\">\n",
       "      <th></th>\n",
       "      <th>Model</th>\n",
       "      <th>InSample_Accuracy</th>\n",
       "      <th>OutSample_Accuracy</th>\n",
       "      <th>InSample_Recall</th>\n",
       "      <th>OutSample_Recall</th>\n",
       "    </tr>\n",
       "  </thead>\n",
       "  <tbody>\n",
       "    <tr>\n",
       "      <th>14</th>\n",
       "      <td>nb_vsmooth1e-07</td>\n",
       "      <td>0.701136</td>\n",
       "      <td>0.449119</td>\n",
       "      <td>0.990021</td>\n",
       "      <td>1.000000</td>\n",
       "    </tr>\n",
       "    <tr>\n",
       "      <th>13</th>\n",
       "      <td>nb_vsmooth1e-08</td>\n",
       "      <td>0.691672</td>\n",
       "      <td>0.434442</td>\n",
       "      <td>0.990365</td>\n",
       "      <td>1.000000</td>\n",
       "    </tr>\n",
       "    <tr>\n",
       "      <th>12</th>\n",
       "      <td>nb_vsmooth1e-09</td>\n",
       "      <td>0.691156</td>\n",
       "      <td>0.432485</td>\n",
       "      <td>0.990709</td>\n",
       "      <td>1.000000</td>\n",
       "    </tr>\n",
       "    <tr>\n",
       "      <th>27</th>\n",
       "      <td>manual_baseline</td>\n",
       "      <td>0.500000</td>\n",
       "      <td>0.043053</td>\n",
       "      <td>1.000000</td>\n",
       "      <td>1.000000</td>\n",
       "    </tr>\n",
       "    <tr>\n",
       "      <th>3</th>\n",
       "      <td>tree_maxdepth3</td>\n",
       "      <td>0.813145</td>\n",
       "      <td>0.783757</td>\n",
       "      <td>0.879215</td>\n",
       "      <td>0.977273</td>\n",
       "    </tr>\n",
       "    <tr>\n",
       "      <th>1</th>\n",
       "      <td>tree_maxdepth1</td>\n",
       "      <td>0.787853</td>\n",
       "      <td>0.746575</td>\n",
       "      <td>0.868548</td>\n",
       "      <td>0.977273</td>\n",
       "    </tr>\n",
       "    <tr>\n",
       "      <th>2</th>\n",
       "      <td>tree_maxdepth2</td>\n",
       "      <td>0.787853</td>\n",
       "      <td>0.746575</td>\n",
       "      <td>0.868548</td>\n",
       "      <td>0.977273</td>\n",
       "    </tr>\n",
       "    <tr>\n",
       "      <th>19</th>\n",
       "      <td>nb_vsmooth0.01</td>\n",
       "      <td>0.747763</td>\n",
       "      <td>0.590020</td>\n",
       "      <td>0.945974</td>\n",
       "      <td>0.977273</td>\n",
       "    </tr>\n",
       "    <tr>\n",
       "      <th>18</th>\n",
       "      <td>nb_vsmooth0.001</td>\n",
       "      <td>0.748624</td>\n",
       "      <td>0.585127</td>\n",
       "      <td>0.955609</td>\n",
       "      <td>0.977273</td>\n",
       "    </tr>\n",
       "    <tr>\n",
       "      <th>17</th>\n",
       "      <td>nb_vsmooth0.0001</td>\n",
       "      <td>0.752409</td>\n",
       "      <td>0.582192</td>\n",
       "      <td>0.966621</td>\n",
       "      <td>0.977273</td>\n",
       "    </tr>\n",
       "    <tr>\n",
       "      <th>16</th>\n",
       "      <td>nb_vsmooth1e-05</td>\n",
       "      <td>0.754818</td>\n",
       "      <td>0.581213</td>\n",
       "      <td>0.972127</td>\n",
       "      <td>0.977273</td>\n",
       "    </tr>\n",
       "    <tr>\n",
       "      <th>15</th>\n",
       "      <td>nb_vsmooth1e-06</td>\n",
       "      <td>0.739849</td>\n",
       "      <td>0.528376</td>\n",
       "      <td>0.982106</td>\n",
       "      <td>0.977273</td>\n",
       "    </tr>\n",
       "    <tr>\n",
       "      <th>20</th>\n",
       "      <td>nb_vsmooth10</td>\n",
       "      <td>0.724191</td>\n",
       "      <td>0.507828</td>\n",
       "      <td>0.964556</td>\n",
       "      <td>0.931818</td>\n",
       "    </tr>\n",
       "    <tr>\n",
       "      <th>21</th>\n",
       "      <td>nb_vsmooth100</td>\n",
       "      <td>0.716965</td>\n",
       "      <td>0.495108</td>\n",
       "      <td>0.967309</td>\n",
       "      <td>0.931818</td>\n",
       "    </tr>\n",
       "    <tr>\n",
       "      <th>9</th>\n",
       "      <td>rf_depth5</td>\n",
       "      <td>0.842911</td>\n",
       "      <td>0.801370</td>\n",
       "      <td>0.890915</td>\n",
       "      <td>0.886364</td>\n",
       "    </tr>\n",
       "    <tr>\n",
       "      <th>11</th>\n",
       "      <td>logit</td>\n",
       "      <td>0.791638</td>\n",
       "      <td>0.746575</td>\n",
       "      <td>0.864763</td>\n",
       "      <td>0.886364</td>\n",
       "    </tr>\n",
       "    <tr>\n",
       "      <th>7</th>\n",
       "      <td>rf_depth2</td>\n",
       "      <td>0.804370</td>\n",
       "      <td>0.745597</td>\n",
       "      <td>0.885065</td>\n",
       "      <td>0.886364</td>\n",
       "    </tr>\n",
       "    <tr>\n",
       "      <th>8</th>\n",
       "      <td>rf_depth3</td>\n",
       "      <td>0.809360</td>\n",
       "      <td>0.757339</td>\n",
       "      <td>0.883345</td>\n",
       "      <td>0.863636</td>\n",
       "    </tr>\n",
       "    <tr>\n",
       "      <th>6</th>\n",
       "      <td>rf_depth1</td>\n",
       "      <td>0.791810</td>\n",
       "      <td>0.735812</td>\n",
       "      <td>0.873710</td>\n",
       "      <td>0.818182</td>\n",
       "    </tr>\n",
       "    <tr>\n",
       "      <th>26</th>\n",
       "      <td>knn_n75</td>\n",
       "      <td>0.827082</td>\n",
       "      <td>0.703523</td>\n",
       "      <td>0.967997</td>\n",
       "      <td>0.795455</td>\n",
       "    </tr>\n",
       "    <tr>\n",
       "      <th>4</th>\n",
       "      <td>tree_maxdepth5</td>\n",
       "      <td>0.836201</td>\n",
       "      <td>0.845401</td>\n",
       "      <td>0.834825</td>\n",
       "      <td>0.750000</td>\n",
       "    </tr>\n",
       "    <tr>\n",
       "      <th>25</th>\n",
       "      <td>knn_n25</td>\n",
       "      <td>0.862870</td>\n",
       "      <td>0.742661</td>\n",
       "      <td>0.984171</td>\n",
       "      <td>0.750000</td>\n",
       "    </tr>\n",
       "    <tr>\n",
       "      <th>24</th>\n",
       "      <td>knn_n10</td>\n",
       "      <td>0.915692</td>\n",
       "      <td>0.832681</td>\n",
       "      <td>0.987268</td>\n",
       "      <td>0.454545</td>\n",
       "    </tr>\n",
       "    <tr>\n",
       "      <th>10</th>\n",
       "      <td>rf_depth10</td>\n",
       "      <td>0.955437</td>\n",
       "      <td>0.900196</td>\n",
       "      <td>0.979697</td>\n",
       "      <td>0.386364</td>\n",
       "    </tr>\n",
       "    <tr>\n",
       "      <th>5</th>\n",
       "      <td>tree_maxdepth10</td>\n",
       "      <td>0.945286</td>\n",
       "      <td>0.876712</td>\n",
       "      <td>0.967653</td>\n",
       "      <td>0.363636</td>\n",
       "    </tr>\n",
       "    <tr>\n",
       "      <th>23</th>\n",
       "      <td>knn_n5</td>\n",
       "      <td>0.945630</td>\n",
       "      <td>0.848337</td>\n",
       "      <td>0.996559</td>\n",
       "      <td>0.295455</td>\n",
       "    </tr>\n",
       "    <tr>\n",
       "      <th>22</th>\n",
       "      <td>knn_n3</td>\n",
       "      <td>0.966277</td>\n",
       "      <td>0.882583</td>\n",
       "      <td>0.998279</td>\n",
       "      <td>0.227273</td>\n",
       "    </tr>\n",
       "    <tr>\n",
       "      <th>0</th>\n",
       "      <td>baseline</td>\n",
       "      <td>0.500000</td>\n",
       "      <td>0.956947</td>\n",
       "      <td>0.000000</td>\n",
       "      <td>0.000000</td>\n",
       "    </tr>\n",
       "  </tbody>\n",
       "</table>\n",
       "</div>"
      ],
      "text/plain": [
       "               Model  InSample_Accuracy  OutSample_Accuracy  InSample_Recall  \\\n",
       "14   nb_vsmooth1e-07           0.701136            0.449119         0.990021   \n",
       "13   nb_vsmooth1e-08           0.691672            0.434442         0.990365   \n",
       "12   nb_vsmooth1e-09           0.691156            0.432485         0.990709   \n",
       "27   manual_baseline           0.500000            0.043053         1.000000   \n",
       "3     tree_maxdepth3           0.813145            0.783757         0.879215   \n",
       "1     tree_maxdepth1           0.787853            0.746575         0.868548   \n",
       "2     tree_maxdepth2           0.787853            0.746575         0.868548   \n",
       "19    nb_vsmooth0.01           0.747763            0.590020         0.945974   \n",
       "18   nb_vsmooth0.001           0.748624            0.585127         0.955609   \n",
       "17  nb_vsmooth0.0001           0.752409            0.582192         0.966621   \n",
       "16   nb_vsmooth1e-05           0.754818            0.581213         0.972127   \n",
       "15   nb_vsmooth1e-06           0.739849            0.528376         0.982106   \n",
       "20      nb_vsmooth10           0.724191            0.507828         0.964556   \n",
       "21     nb_vsmooth100           0.716965            0.495108         0.967309   \n",
       "9          rf_depth5           0.842911            0.801370         0.890915   \n",
       "11             logit           0.791638            0.746575         0.864763   \n",
       "7          rf_depth2           0.804370            0.745597         0.885065   \n",
       "8          rf_depth3           0.809360            0.757339         0.883345   \n",
       "6          rf_depth1           0.791810            0.735812         0.873710   \n",
       "26           knn_n75           0.827082            0.703523         0.967997   \n",
       "4     tree_maxdepth5           0.836201            0.845401         0.834825   \n",
       "25           knn_n25           0.862870            0.742661         0.984171   \n",
       "24           knn_n10           0.915692            0.832681         0.987268   \n",
       "10        rf_depth10           0.955437            0.900196         0.979697   \n",
       "5    tree_maxdepth10           0.945286            0.876712         0.967653   \n",
       "23            knn_n5           0.945630            0.848337         0.996559   \n",
       "22            knn_n3           0.966277            0.882583         0.998279   \n",
       "0           baseline           0.500000            0.956947         0.000000   \n",
       "\n",
       "    OutSample_Recall  \n",
       "14          1.000000  \n",
       "13          1.000000  \n",
       "12          1.000000  \n",
       "27          1.000000  \n",
       "3           0.977273  \n",
       "1           0.977273  \n",
       "2           0.977273  \n",
       "19          0.977273  \n",
       "18          0.977273  \n",
       "17          0.977273  \n",
       "16          0.977273  \n",
       "15          0.977273  \n",
       "20          0.931818  \n",
       "21          0.931818  \n",
       "9           0.886364  \n",
       "11          0.886364  \n",
       "7           0.886364  \n",
       "8           0.863636  \n",
       "6           0.818182  \n",
       "26          0.795455  \n",
       "4           0.750000  \n",
       "25          0.750000  \n",
       "24          0.454545  \n",
       "10          0.386364  \n",
       "5           0.363636  \n",
       "23          0.295455  \n",
       "22          0.227273  \n",
       "0           0.000000  "
      ]
     },
     "execution_count": 9,
     "metadata": {},
     "output_type": "execute_result"
    }
   ],
   "source": [
    "# display accuracies and recalls for each model, sorting for best out-sample recall\n",
    "running_df.sort_values(by=['OutSample_Recall','OutSample_Accuracy'], ascending=False)"
   ]
  },
  {
   "cell_type": "markdown",
   "id": "e23c71f6",
   "metadata": {},
   "source": [
    "## ROC Curve\n",
    "- A common way to compare models that predict probabilities for two-class problems is to use a ROC curve.\n",
    "- ROC Curves summarize the trade-off between the true positive rate and false positive rate for a predictive model using different probability thresholds.\n",
    "- It can be more flexible to predict the probabilities for each class instead of predicting the outcome itself. \n",
    "    * The reason for this is to provide the capability to choose and even **calibrate the threshold** for how to interpret the predicted probabilities.\n",
    "     * For example, a default might be to use a threshold of 0.5, meaning that a probability in [0.0, 0.49] is a negative outcome (0) and a probability in [0.5, 1.0] is a positive outcome (1)."
   ]
  },
  {
   "cell_type": "code",
   "execution_count": 10,
   "id": "98c8bbea",
   "metadata": {},
   "outputs": [],
   "source": [
    "bl_probs = [0 for _ in range(len(y_train))]\n",
    "tree = DecisionTreeClassifier(max_depth=3, random_state=123).fit(X_train, y_train)"
   ]
  },
  {
   "cell_type": "code",
   "execution_count": 11,
   "id": "7b22828e",
   "metadata": {},
   "outputs": [],
   "source": [
    "# THRESHOLD = .60\n",
    "# preds = np.where(tree.predict_proba(X_train) > THRESHOLD, 1, 0)\n",
    "# tree_probs = preds[:, 1]\n",
    "tree_probs = tree.predict_proba(X_train)\n",
    "tree_probs = tree_probs[:, 1]"
   ]
  },
  {
   "cell_type": "code",
   "execution_count": 12,
   "id": "d15e3bdc",
   "metadata": {},
   "outputs": [],
   "source": [
    "bl_auc = roc_auc_score(y_train, bl_probs)\n",
    "tree_auc = roc_auc_score(y_train, tree_probs)"
   ]
  },
  {
   "cell_type": "code",
   "execution_count": 13,
   "id": "f9333bc2",
   "metadata": {},
   "outputs": [
    {
     "name": "stdout",
     "output_type": "stream",
     "text": [
      "Baseline: ROC AUC=0.500\n",
      "DecisionTreeClassifier: ROC AUC=0.872\n"
     ]
    }
   ],
   "source": [
    "print('Baseline: ROC AUC=%.3f' % (bl_auc))\n",
    "print('DecisionTreeClassifier: ROC AUC=%.3f' % (tree_auc))"
   ]
  },
  {
   "cell_type": "code",
   "execution_count": 14,
   "id": "0ed602ae",
   "metadata": {
    "scrolled": true
   },
   "outputs": [
    {
     "name": "stdout",
     "output_type": "stream",
     "text": [
      "x axis:\n",
      "[0.0, 0.0, 0.01824, 0.12251, 0.25292, 0.46869, 0.5086, 1.0]\n",
      "y axis:\n",
      "[0.0, 0.02099, 0.24054, 0.62801, 0.87922, 0.97213, 0.98245, 1.0]\n"
     ]
    }
   ],
   "source": [
    "bl_fpr, bl_tpr, _ = roc_curve(y_train, bl_probs)\n",
    "tree_fpr, tree_tpr, _ = roc_curve(y_train, tree_probs)\n",
    "print(\"x axis:\")\n",
    "print(tree_fpr.round(5).tolist())\n",
    "print(\"y axis:\")\n",
    "print(tree_tpr.round(5).tolist())"
   ]
  },
  {
   "cell_type": "code",
   "execution_count": 15,
   "id": "5a27e6f7",
   "metadata": {},
   "outputs": [
    {
     "data": {
      "image/png": "[encoded data removed]",
      "text/plain": [
       "<Figure size 432x288 with 1 Axes>"
      ]
     },
     "metadata": {
      "needs_background": "light"
     },
     "output_type": "display_data"
    },
    {
     "data": {
      "text/plain": [
       "<sklearn.metrics._plot.precision_recall_curve.PrecisionRecallDisplay at 0x7fc0281fdbe0>"
      ]
     },
     "execution_count": 15,
     "metadata": {},
     "output_type": "execute_result"
    },
    {
     "data": {
      "image/png": "[encoded data removed]",
      "text/plain": [
       "<Figure size 432x288 with 1 Axes>"
      ]
     },
     "metadata": {
      "needs_background": "light"
     },
     "output_type": "display_data"
    }
   ],
   "source": [
    "plt.plot(bl_fpr, bl_tpr, linestyle='--', label='Baseline (Majority)')\n",
    "plt.plot(tree_fpr, tree_tpr, marker='.', label='Decision Tree Classifier')\n",
    "plt.xlabel(\"False Positive Rate\")\n",
    "plt.ylabel(\"True Positive Rate\")\n",
    "plt.title(\"Receiver Operating Characteristic\")\n",
    "plt.legend(loc=\"lower right\")\n",
    "plt.show()\n",
    "# plot the precision-recall curve for the model\n",
    "precision, recall, _ = precision_recall_curve(y_train, tree_probs)\n",
    "disp = PrecisionRecallDisplay(precision = precision, recall = recall)\n",
    "disp.plot()"
   ]
  },
  {
   "cell_type": "code",
   "execution_count": null,
   "id": "977e32da",
   "metadata": {},
   "outputs": [],
   "source": []
  }
 ],
 "metadata": {
  "kernelspec": {
   "display_name": "Python 3",
   "language": "python",
   "name": "python3"
  },
  "language_info": {
   "codemirror_mode": {
    "name": "ipython",
    "version": 3
   },
   "file_extension": ".py",
   "mimetype": "text/x-python",
   "name": "python",
   "nbconvert_exporter": "python",
   "pygments_lexer": "ipython3",
   "version": "3.8.8"
  }
 },
 "nbformat": 4,
 "nbformat_minor": 5
}
