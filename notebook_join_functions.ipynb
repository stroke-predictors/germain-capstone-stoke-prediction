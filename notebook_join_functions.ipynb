{
 "cells": [
  {
   "cell_type": "code",
   "execution_count": 6,
   "id": "e15ec730-9d26-48ab-952a-aec94faaf04f",
   "metadata": {},
   "outputs": [],
   "source": [
    "# So let’s start by implementing a function to read IPYNB files. \n",
    "# We’ll use the json module included in python's standard library:\n",
    "\n",
    "import json\n",
    "\n",
    "def read_ipynb(notebook_path):\n",
    "    with open(notebook_path, 'r', encoding='utf-8') as f:\n",
    "        return json.load(f)"
   ]
  },
  {
   "cell_type": "code",
   "execution_count": 8,
   "id": "2f40e8ee-da95-479d-937c-b6b76487038a",
   "metadata": {},
   "outputs": [],
   "source": [
    "# Now reading the files only takes a line of code per notebook:\n",
    "\n",
    "first_notebook = read_ipynb(\"prepare.ipynb\")\n",
    "second_notebook = read_ipynb(\"explore.ipynb\")\n",
    "third_notebook = read_ipynb(\"model.ipynb\")\n",
    "fourth_notebook = read_ipynb(\"post_mvp_jake.ipynb\")"
   ]
  },
  {
   "cell_type": "code",
   "execution_count": 9,
   "id": "78816e17-149e-4aa5-88cb-6911e2931db7",
   "metadata": {},
   "outputs": [],
   "source": [
    "# make copy of first notebook\n",
    "import copy\n",
    "final_notebook = copy.deepcopy(first_notebook)"
   ]
  },
  {
   "cell_type": "code",
   "execution_count": 10,
   "id": "a2d4f6a1-f0ad-49b8-922f-8b13acf6e72e",
   "metadata": {},
   "outputs": [],
   "source": [
    "# combine cells of all notebooks into final notebook\n",
    "final_notebook['cells'] = first_notebook['cells'] + second_notebook['cells'] + third_notebook['cells'] + fourth_notebook['cells']"
   ]
  },
  {
   "cell_type": "code",
   "execution_count": 11,
   "id": "75aa8e44-97ef-41d9-be6d-1bffcbc074e1",
   "metadata": {},
   "outputs": [],
   "source": [
    "# function to write final notebook\n",
    "def write_ipynb(notebook, notebook_path):\n",
    "    with open(notebook_path, 'w', encoding='utf-8') as f:\n",
    "        json.dump(notebook, f)\n",
    "\n",
    "# Saving the resulting notebook\n",
    "write_ipynb(final_notebook, 'final_notebook_initial_mvp.ipynb')"
   ]
  },
  {
   "cell_type": "code",
   "execution_count": null,
   "id": "2343253c-16f9-48f7-b885-d39ce1fb602a",
   "metadata": {},
   "outputs": [],
   "source": []
  }
 ],
 "metadata": {
  "kernelspec": {
   "display_name": "Python 3",
   "language": "python",
   "name": "python3"
  },
  "language_info": {
   "codemirror_mode": {
    "name": "ipython",
    "version": 3
   },
   "file_extension": ".py",
   "mimetype": "text/x-python",
   "name": "python",
   "nbconvert_exporter": "python",
   "pygments_lexer": "ipython3",
   "version": "3.8.8"
  }
 },
 "nbformat": 4,
 "nbformat_minor": 5
}
