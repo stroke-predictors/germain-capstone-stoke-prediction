{
 "cells": [
  {
   "cell_type": "code",
   "execution_count": 1,
   "id": "aaddbce4",
   "metadata": {},
   "outputs": [],
   "source": [
    "import warnings\n",
    "warnings.filterwarnings('ignore')\n",
    "\n",
    "import numpy as np\n",
    "import pandas as pd\n",
    "import matplotlib.pyplot as plt\n",
    "import seaborn as sns\n",
    "from scipy import stats\n",
    "\n",
    "from sklearn.model_selection import train_test_split\n",
    "from sklearn import svm\n",
    "from sklearn.tree import DecisionTreeClassifier\n",
    "\n",
    "from sklearn.metrics import roc_curve, auc, roc_auc_score\n",
    "from sklearn.metrics import PrecisionRecallDisplay, precision_recall_curve\n",
    "\n",
    "import prepare\n",
    "import model"
   ]
  },
  {
   "cell_type": "markdown",
   "id": "08202d7f",
   "metadata": {},
   "source": [
    "# Prep for modeling using additional SMOTE+Tomek resampling"
   ]
  },
  {
   "cell_type": "code",
   "execution_count": 2,
   "id": "96f552b1",
   "metadata": {},
   "outputs": [
    {
     "data": {
      "text/html": [
       "<div>\n",
       "<style scoped>\n",
       "    .dataframe tbody tr th:only-of-type {\n",
       "        vertical-align: middle;\n",
       "    }\n",
       "\n",
       "    .dataframe tbody tr th {\n",
       "        vertical-align: top;\n",
       "    }\n",
       "\n",
       "    .dataframe thead th {\n",
       "        text-align: right;\n",
       "    }\n",
       "</style>\n",
       "<table border=\"1\" class=\"dataframe\">\n",
       "  <thead>\n",
       "    <tr style=\"text-align: right;\">\n",
       "      <th></th>\n",
       "      <th>gender</th>\n",
       "      <th>age</th>\n",
       "      <th>hypertension</th>\n",
       "      <th>heart_disease</th>\n",
       "      <th>ever_married</th>\n",
       "      <th>work_type</th>\n",
       "      <th>residence_type</th>\n",
       "      <th>avg_glucose_level</th>\n",
       "      <th>bmi</th>\n",
       "      <th>smoking_status</th>\n",
       "      <th>stroke</th>\n",
       "      <th>age_range</th>\n",
       "    </tr>\n",
       "  </thead>\n",
       "  <tbody>\n",
       "    <tr>\n",
       "      <th>0</th>\n",
       "      <td>Male</td>\n",
       "      <td>67.0</td>\n",
       "      <td>0</td>\n",
       "      <td>1</td>\n",
       "      <td>Yes</td>\n",
       "      <td>Private</td>\n",
       "      <td>Urban</td>\n",
       "      <td>228.69</td>\n",
       "      <td>36.6</td>\n",
       "      <td>formerly smoked</td>\n",
       "      <td>1</td>\n",
       "      <td>65-70</td>\n",
       "    </tr>\n",
       "    <tr>\n",
       "      <th>1</th>\n",
       "      <td>Female</td>\n",
       "      <td>61.0</td>\n",
       "      <td>0</td>\n",
       "      <td>0</td>\n",
       "      <td>Yes</td>\n",
       "      <td>Self-employed</td>\n",
       "      <td>Rural</td>\n",
       "      <td>202.21</td>\n",
       "      <td>30.6</td>\n",
       "      <td>never smoked</td>\n",
       "      <td>1</td>\n",
       "      <td>60-65</td>\n",
       "    </tr>\n",
       "    <tr>\n",
       "      <th>2</th>\n",
       "      <td>Male</td>\n",
       "      <td>80.0</td>\n",
       "      <td>0</td>\n",
       "      <td>1</td>\n",
       "      <td>Yes</td>\n",
       "      <td>Private</td>\n",
       "      <td>Rural</td>\n",
       "      <td>105.92</td>\n",
       "      <td>32.5</td>\n",
       "      <td>never smoked</td>\n",
       "      <td>1</td>\n",
       "      <td>75-80</td>\n",
       "    </tr>\n",
       "  </tbody>\n",
       "</table>\n",
       "</div>"
      ],
      "text/plain": [
       "   gender   age hypertension heart_disease ever_married      work_type  \\\n",
       "0    Male  67.0            0             1          Yes        Private   \n",
       "1  Female  61.0            0             0          Yes  Self-employed   \n",
       "2    Male  80.0            0             1          Yes        Private   \n",
       "\n",
       "  residence_type  avg_glucose_level   bmi   smoking_status  stroke age_range  \n",
       "0          Urban             228.69  36.6  formerly smoked       1     65-70  \n",
       "1          Rural             202.21  30.6     never smoked       1     60-65  \n",
       "2          Rural             105.92  32.5     never smoked       1     75-80  "
      ]
     },
     "execution_count": 2,
     "metadata": {},
     "output_type": "execute_result"
    }
   ],
   "source": [
    "# clean original dataset up to explore stage\n",
    "df = prepare.prep_data(pd.read_csv('healthcare-dataset-stroke-data.csv'))\n",
    "df.head(3)"
   ]
  },
  {
   "cell_type": "code",
   "execution_count": 3,
   "id": "0396faac",
   "metadata": {},
   "outputs": [
    {
     "name": "stdout",
     "output_type": "stream",
     "text": [
      "Before SMOTE applied: (3065, 31) (3065,)\n",
      "After SMOTE applied: (5812, 31) (5812,)\n",
      "X_train with SMOTE: (5812, 31)\n",
      "y_train with SMOTE: (5812,)\n",
      "X_validate: (1022, 31)\n",
      "y_validate: (1022,)\n",
      "X_test: (1022, 31)\n",
      "y_test: (1022,)\n"
     ]
    }
   ],
   "source": [
    "# encode, split, scale, SMOTE the explore-stage data\n",
    "X_train, y_train, X_validate, y_validate, X_test, y_test = prepare.model_prep(df)\n",
    "# check results\n",
    "print('X_train with SMOTE:', X_train.shape)\n",
    "print('y_train with SMOTE:', y_train.shape)\n",
    "print('X_validate:', X_validate.shape)\n",
    "print('y_validate:', y_validate.shape)\n",
    "print('X_test:', X_test.shape)\n",
    "print('y_test:', y_test.shape)"
   ]
  },
  {
   "cell_type": "code",
   "execution_count": 4,
   "id": "5097fe72",
   "metadata": {},
   "outputs": [
    {
     "data": {
      "text/html": [
       "<div>\n",
       "<style scoped>\n",
       "    .dataframe tbody tr th:only-of-type {\n",
       "        vertical-align: middle;\n",
       "    }\n",
       "\n",
       "    .dataframe tbody tr th {\n",
       "        vertical-align: top;\n",
       "    }\n",
       "\n",
       "    .dataframe thead th {\n",
       "        text-align: right;\n",
       "    }\n",
       "</style>\n",
       "<table border=\"1\" class=\"dataframe\">\n",
       "  <thead>\n",
       "    <tr style=\"text-align: right;\">\n",
       "      <th></th>\n",
       "      <th>age</th>\n",
       "      <th>hypertension</th>\n",
       "      <th>heart_disease</th>\n",
       "      <th>avg_glucose_level</th>\n",
       "      <th>bmi</th>\n",
       "      <th>gender_Male</th>\n",
       "      <th>ever_married_Yes</th>\n",
       "      <th>work_type_Never_worked</th>\n",
       "      <th>work_type_Private</th>\n",
       "      <th>work_type_Self-employed</th>\n",
       "      <th>...</th>\n",
       "      <th>age_range_40-45</th>\n",
       "      <th>age_range_45-50</th>\n",
       "      <th>age_range_5-10</th>\n",
       "      <th>age_range_50-55</th>\n",
       "      <th>age_range_55-60</th>\n",
       "      <th>age_range_60-65</th>\n",
       "      <th>age_range_65-70</th>\n",
       "      <th>age_range_70-75</th>\n",
       "      <th>age_range_75-80</th>\n",
       "      <th>age_range_80-85</th>\n",
       "    </tr>\n",
       "  </thead>\n",
       "  <tbody>\n",
       "    <tr>\n",
       "      <th>0</th>\n",
       "      <td>0.792480</td>\n",
       "      <td>0.0</td>\n",
       "      <td>0.0</td>\n",
       "      <td>0.415613</td>\n",
       "      <td>0.227662</td>\n",
       "      <td>1.000000</td>\n",
       "      <td>1.0</td>\n",
       "      <td>0.0</td>\n",
       "      <td>1.000000</td>\n",
       "      <td>0.0</td>\n",
       "      <td>...</td>\n",
       "      <td>0.0</td>\n",
       "      <td>0.0</td>\n",
       "      <td>0.0</td>\n",
       "      <td>0.0</td>\n",
       "      <td>0.000000</td>\n",
       "      <td>1.000000</td>\n",
       "      <td>0.0</td>\n",
       "      <td>0.000000</td>\n",
       "      <td>0.000000</td>\n",
       "      <td>0.00000</td>\n",
       "    </tr>\n",
       "    <tr>\n",
       "      <th>1</th>\n",
       "      <td>0.951172</td>\n",
       "      <td>0.0</td>\n",
       "      <td>0.0</td>\n",
       "      <td>0.710322</td>\n",
       "      <td>0.258262</td>\n",
       "      <td>0.000000</td>\n",
       "      <td>1.0</td>\n",
       "      <td>0.0</td>\n",
       "      <td>0.000000</td>\n",
       "      <td>1.0</td>\n",
       "      <td>...</td>\n",
       "      <td>0.0</td>\n",
       "      <td>0.0</td>\n",
       "      <td>0.0</td>\n",
       "      <td>0.0</td>\n",
       "      <td>0.000000</td>\n",
       "      <td>0.000000</td>\n",
       "      <td>0.0</td>\n",
       "      <td>0.000000</td>\n",
       "      <td>1.000000</td>\n",
       "      <td>0.00000</td>\n",
       "    </tr>\n",
       "    <tr>\n",
       "      <th>2</th>\n",
       "      <td>0.572754</td>\n",
       "      <td>0.0</td>\n",
       "      <td>0.0</td>\n",
       "      <td>0.253993</td>\n",
       "      <td>0.247246</td>\n",
       "      <td>1.000000</td>\n",
       "      <td>1.0</td>\n",
       "      <td>0.0</td>\n",
       "      <td>1.000000</td>\n",
       "      <td>0.0</td>\n",
       "      <td>...</td>\n",
       "      <td>0.0</td>\n",
       "      <td>1.0</td>\n",
       "      <td>0.0</td>\n",
       "      <td>0.0</td>\n",
       "      <td>0.000000</td>\n",
       "      <td>0.000000</td>\n",
       "      <td>0.0</td>\n",
       "      <td>0.000000</td>\n",
       "      <td>0.000000</td>\n",
       "      <td>0.00000</td>\n",
       "    </tr>\n",
       "    <tr>\n",
       "      <th>3</th>\n",
       "      <td>0.682617</td>\n",
       "      <td>0.0</td>\n",
       "      <td>0.0</td>\n",
       "      <td>0.326609</td>\n",
       "      <td>0.175031</td>\n",
       "      <td>1.000000</td>\n",
       "      <td>1.0</td>\n",
       "      <td>0.0</td>\n",
       "      <td>0.000000</td>\n",
       "      <td>1.0</td>\n",
       "      <td>...</td>\n",
       "      <td>0.0</td>\n",
       "      <td>0.0</td>\n",
       "      <td>0.0</td>\n",
       "      <td>0.0</td>\n",
       "      <td>1.000000</td>\n",
       "      <td>0.000000</td>\n",
       "      <td>0.0</td>\n",
       "      <td>0.000000</td>\n",
       "      <td>0.000000</td>\n",
       "      <td>0.00000</td>\n",
       "    </tr>\n",
       "    <tr>\n",
       "      <th>4</th>\n",
       "      <td>0.890137</td>\n",
       "      <td>0.0</td>\n",
       "      <td>0.0</td>\n",
       "      <td>0.065691</td>\n",
       "      <td>0.243574</td>\n",
       "      <td>0.000000</td>\n",
       "      <td>0.0</td>\n",
       "      <td>0.0</td>\n",
       "      <td>0.000000</td>\n",
       "      <td>1.0</td>\n",
       "      <td>...</td>\n",
       "      <td>0.0</td>\n",
       "      <td>0.0</td>\n",
       "      <td>0.0</td>\n",
       "      <td>0.0</td>\n",
       "      <td>0.000000</td>\n",
       "      <td>0.000000</td>\n",
       "      <td>0.0</td>\n",
       "      <td>1.000000</td>\n",
       "      <td>0.000000</td>\n",
       "      <td>0.00000</td>\n",
       "    </tr>\n",
       "    <tr>\n",
       "      <th>...</th>\n",
       "      <td>...</td>\n",
       "      <td>...</td>\n",
       "      <td>...</td>\n",
       "      <td>...</td>\n",
       "      <td>...</td>\n",
       "      <td>...</td>\n",
       "      <td>...</td>\n",
       "      <td>...</td>\n",
       "      <td>...</td>\n",
       "      <td>...</td>\n",
       "      <td>...</td>\n",
       "      <td>...</td>\n",
       "      <td>...</td>\n",
       "      <td>...</td>\n",
       "      <td>...</td>\n",
       "      <td>...</td>\n",
       "      <td>...</td>\n",
       "      <td>...</td>\n",
       "      <td>...</td>\n",
       "      <td>...</td>\n",
       "      <td>...</td>\n",
       "    </tr>\n",
       "    <tr>\n",
       "      <th>5807</th>\n",
       "      <td>0.910190</td>\n",
       "      <td>0.0</td>\n",
       "      <td>0.0</td>\n",
       "      <td>0.209272</td>\n",
       "      <td>0.166422</td>\n",
       "      <td>1.000000</td>\n",
       "      <td>1.0</td>\n",
       "      <td>0.0</td>\n",
       "      <td>1.000000</td>\n",
       "      <td>0.0</td>\n",
       "      <td>...</td>\n",
       "      <td>0.0</td>\n",
       "      <td>0.0</td>\n",
       "      <td>0.0</td>\n",
       "      <td>0.0</td>\n",
       "      <td>0.000000</td>\n",
       "      <td>0.000000</td>\n",
       "      <td>0.0</td>\n",
       "      <td>0.678623</td>\n",
       "      <td>0.321377</td>\n",
       "      <td>0.00000</td>\n",
       "    </tr>\n",
       "    <tr>\n",
       "      <th>5808</th>\n",
       "      <td>0.928368</td>\n",
       "      <td>1.0</td>\n",
       "      <td>0.0</td>\n",
       "      <td>0.084255</td>\n",
       "      <td>0.170208</td>\n",
       "      <td>0.000000</td>\n",
       "      <td>1.0</td>\n",
       "      <td>0.0</td>\n",
       "      <td>1.000000</td>\n",
       "      <td>0.0</td>\n",
       "      <td>...</td>\n",
       "      <td>0.0</td>\n",
       "      <td>0.0</td>\n",
       "      <td>0.0</td>\n",
       "      <td>0.0</td>\n",
       "      <td>0.000000</td>\n",
       "      <td>0.000000</td>\n",
       "      <td>0.0</td>\n",
       "      <td>0.695440</td>\n",
       "      <td>0.000000</td>\n",
       "      <td>0.30456</td>\n",
       "    </tr>\n",
       "    <tr>\n",
       "      <th>5809</th>\n",
       "      <td>0.731440</td>\n",
       "      <td>0.0</td>\n",
       "      <td>1.0</td>\n",
       "      <td>0.722097</td>\n",
       "      <td>0.260709</td>\n",
       "      <td>0.749896</td>\n",
       "      <td>1.0</td>\n",
       "      <td>0.0</td>\n",
       "      <td>1.000000</td>\n",
       "      <td>0.0</td>\n",
       "      <td>...</td>\n",
       "      <td>0.0</td>\n",
       "      <td>0.0</td>\n",
       "      <td>0.0</td>\n",
       "      <td>0.0</td>\n",
       "      <td>0.250104</td>\n",
       "      <td>0.749896</td>\n",
       "      <td>0.0</td>\n",
       "      <td>0.000000</td>\n",
       "      <td>0.000000</td>\n",
       "      <td>0.00000</td>\n",
       "    </tr>\n",
       "    <tr>\n",
       "      <th>5810</th>\n",
       "      <td>0.853516</td>\n",
       "      <td>0.0</td>\n",
       "      <td>1.0</td>\n",
       "      <td>0.123190</td>\n",
       "      <td>0.259796</td>\n",
       "      <td>0.000000</td>\n",
       "      <td>1.0</td>\n",
       "      <td>0.0</td>\n",
       "      <td>1.000000</td>\n",
       "      <td>0.0</td>\n",
       "      <td>...</td>\n",
       "      <td>0.0</td>\n",
       "      <td>0.0</td>\n",
       "      <td>0.0</td>\n",
       "      <td>0.0</td>\n",
       "      <td>0.000000</td>\n",
       "      <td>0.000000</td>\n",
       "      <td>1.0</td>\n",
       "      <td>0.000000</td>\n",
       "      <td>0.000000</td>\n",
       "      <td>0.00000</td>\n",
       "    </tr>\n",
       "    <tr>\n",
       "      <th>5811</th>\n",
       "      <td>0.975586</td>\n",
       "      <td>0.0</td>\n",
       "      <td>0.0</td>\n",
       "      <td>0.211761</td>\n",
       "      <td>0.209325</td>\n",
       "      <td>0.000000</td>\n",
       "      <td>1.0</td>\n",
       "      <td>0.0</td>\n",
       "      <td>0.260459</td>\n",
       "      <td>0.0</td>\n",
       "      <td>...</td>\n",
       "      <td>0.0</td>\n",
       "      <td>0.0</td>\n",
       "      <td>0.0</td>\n",
       "      <td>0.0</td>\n",
       "      <td>0.000000</td>\n",
       "      <td>0.000000</td>\n",
       "      <td>0.0</td>\n",
       "      <td>0.000000</td>\n",
       "      <td>1.000000</td>\n",
       "      <td>0.00000</td>\n",
       "    </tr>\n",
       "  </tbody>\n",
       "</table>\n",
       "<p>5812 rows × 31 columns</p>\n",
       "</div>"
      ],
      "text/plain": [
       "           age  hypertension  heart_disease  avg_glucose_level       bmi  \\\n",
       "0     0.792480           0.0            0.0           0.415613  0.227662   \n",
       "1     0.951172           0.0            0.0           0.710322  0.258262   \n",
       "2     0.572754           0.0            0.0           0.253993  0.247246   \n",
       "3     0.682617           0.0            0.0           0.326609  0.175031   \n",
       "4     0.890137           0.0            0.0           0.065691  0.243574   \n",
       "...        ...           ...            ...                ...       ...   \n",
       "5807  0.910190           0.0            0.0           0.209272  0.166422   \n",
       "5808  0.928368           1.0            0.0           0.084255  0.170208   \n",
       "5809  0.731440           0.0            1.0           0.722097  0.260709   \n",
       "5810  0.853516           0.0            1.0           0.123190  0.259796   \n",
       "5811  0.975586           0.0            0.0           0.211761  0.209325   \n",
       "\n",
       "      gender_Male  ever_married_Yes  work_type_Never_worked  \\\n",
       "0        1.000000               1.0                     0.0   \n",
       "1        0.000000               1.0                     0.0   \n",
       "2        1.000000               1.0                     0.0   \n",
       "3        1.000000               1.0                     0.0   \n",
       "4        0.000000               0.0                     0.0   \n",
       "...           ...               ...                     ...   \n",
       "5807     1.000000               1.0                     0.0   \n",
       "5808     0.000000               1.0                     0.0   \n",
       "5809     0.749896               1.0                     0.0   \n",
       "5810     0.000000               1.0                     0.0   \n",
       "5811     0.000000               1.0                     0.0   \n",
       "\n",
       "      work_type_Private  work_type_Self-employed  ...  age_range_40-45  \\\n",
       "0              1.000000                      0.0  ...              0.0   \n",
       "1              0.000000                      1.0  ...              0.0   \n",
       "2              1.000000                      0.0  ...              0.0   \n",
       "3              0.000000                      1.0  ...              0.0   \n",
       "4              0.000000                      1.0  ...              0.0   \n",
       "...                 ...                      ...  ...              ...   \n",
       "5807           1.000000                      0.0  ...              0.0   \n",
       "5808           1.000000                      0.0  ...              0.0   \n",
       "5809           1.000000                      0.0  ...              0.0   \n",
       "5810           1.000000                      0.0  ...              0.0   \n",
       "5811           0.260459                      0.0  ...              0.0   \n",
       "\n",
       "      age_range_45-50  age_range_5-10  age_range_50-55  age_range_55-60  \\\n",
       "0                 0.0             0.0              0.0         0.000000   \n",
       "1                 0.0             0.0              0.0         0.000000   \n",
       "2                 1.0             0.0              0.0         0.000000   \n",
       "3                 0.0             0.0              0.0         1.000000   \n",
       "4                 0.0             0.0              0.0         0.000000   \n",
       "...               ...             ...              ...              ...   \n",
       "5807              0.0             0.0              0.0         0.000000   \n",
       "5808              0.0             0.0              0.0         0.000000   \n",
       "5809              0.0             0.0              0.0         0.250104   \n",
       "5810              0.0             0.0              0.0         0.000000   \n",
       "5811              0.0             0.0              0.0         0.000000   \n",
       "\n",
       "      age_range_60-65  age_range_65-70  age_range_70-75  age_range_75-80  \\\n",
       "0            1.000000              0.0         0.000000         0.000000   \n",
       "1            0.000000              0.0         0.000000         1.000000   \n",
       "2            0.000000              0.0         0.000000         0.000000   \n",
       "3            0.000000              0.0         0.000000         0.000000   \n",
       "4            0.000000              0.0         1.000000         0.000000   \n",
       "...               ...              ...              ...              ...   \n",
       "5807         0.000000              0.0         0.678623         0.321377   \n",
       "5808         0.000000              0.0         0.695440         0.000000   \n",
       "5809         0.749896              0.0         0.000000         0.000000   \n",
       "5810         0.000000              1.0         0.000000         0.000000   \n",
       "5811         0.000000              0.0         0.000000         1.000000   \n",
       "\n",
       "      age_range_80-85  \n",
       "0             0.00000  \n",
       "1             0.00000  \n",
       "2             0.00000  \n",
       "3             0.00000  \n",
       "4             0.00000  \n",
       "...               ...  \n",
       "5807          0.00000  \n",
       "5808          0.30456  \n",
       "5809          0.00000  \n",
       "5810          0.00000  \n",
       "5811          0.00000  \n",
       "\n",
       "[5812 rows x 31 columns]"
      ]
     },
     "execution_count": 4,
     "metadata": {},
     "output_type": "execute_result"
    }
   ],
   "source": [
    "X_train # features like gender_Male and work_type_Private have non-ordinal values because of SMOTE oversampling"
   ]
  },
  {
   "cell_type": "markdown",
   "id": "a1bc6a5f",
   "metadata": {},
   "source": [
    "# Build models using model.py functions"
   ]
  },
  {
   "cell_type": "code",
   "execution_count": 5,
   "id": "e5b961c4",
   "metadata": {},
   "outputs": [],
   "source": [
    "# shotgun-out several classification models\n",
    "y_train_predictions,\\\n",
    "y_validate_predictions = model.classification_shotgun(X_train, y_train, X_validate, y_validate)"
   ]
  },
  {
   "cell_type": "code",
   "execution_count": 6,
   "id": "59c336ba",
   "metadata": {},
   "outputs": [],
   "source": [
    "# choose the baseline guess manually\n",
    "y_train_predictions,\\\n",
    "y_validate_predictions = model.manual_baseline(y_train_predictions, y_validate_predictions, 1)"
   ]
  },
  {
   "cell_type": "markdown",
   "id": "f2051915",
   "metadata": {},
   "source": [
    "## Check prediction columns"
   ]
  },
  {
   "cell_type": "code",
   "execution_count": 7,
   "id": "e17990df",
   "metadata": {},
   "outputs": [
    {
     "data": {
      "text/html": [
       "<div>\n",
       "<style scoped>\n",
       "    .dataframe tbody tr th:only-of-type {\n",
       "        vertical-align: middle;\n",
       "    }\n",
       "\n",
       "    .dataframe tbody tr th {\n",
       "        vertical-align: top;\n",
       "    }\n",
       "\n",
       "    .dataframe thead th {\n",
       "        text-align: right;\n",
       "    }\n",
       "</style>\n",
       "<table border=\"1\" class=\"dataframe\">\n",
       "  <thead>\n",
       "    <tr style=\"text-align: right;\">\n",
       "      <th></th>\n",
       "      <th>in_actuals</th>\n",
       "      <th>baseline</th>\n",
       "      <th>tree_maxdepth1</th>\n",
       "      <th>tree_maxdepth2</th>\n",
       "      <th>tree_maxdepth3</th>\n",
       "      <th>tree_maxdepth5</th>\n",
       "      <th>tree_maxdepth10</th>\n",
       "      <th>rf_depth1</th>\n",
       "      <th>rf_depth2</th>\n",
       "      <th>rf_depth3</th>\n",
       "      <th>...</th>\n",
       "      <th>nb_vsmooth0.001</th>\n",
       "      <th>nb_vsmooth0.01</th>\n",
       "      <th>nb_vsmooth10</th>\n",
       "      <th>nb_vsmooth100</th>\n",
       "      <th>knn_n3</th>\n",
       "      <th>knn_n5</th>\n",
       "      <th>knn_n10</th>\n",
       "      <th>knn_n25</th>\n",
       "      <th>knn_n75</th>\n",
       "      <th>manual_baseline</th>\n",
       "    </tr>\n",
       "  </thead>\n",
       "  <tbody>\n",
       "    <tr>\n",
       "      <th>0</th>\n",
       "      <td>0</td>\n",
       "      <td>0</td>\n",
       "      <td>1</td>\n",
       "      <td>1</td>\n",
       "      <td>1</td>\n",
       "      <td>1</td>\n",
       "      <td>0</td>\n",
       "      <td>1</td>\n",
       "      <td>1</td>\n",
       "      <td>1</td>\n",
       "      <td>...</td>\n",
       "      <td>1</td>\n",
       "      <td>1</td>\n",
       "      <td>1</td>\n",
       "      <td>1</td>\n",
       "      <td>0</td>\n",
       "      <td>0</td>\n",
       "      <td>0</td>\n",
       "      <td>0</td>\n",
       "      <td>1</td>\n",
       "      <td>1</td>\n",
       "    </tr>\n",
       "    <tr>\n",
       "      <th>1</th>\n",
       "      <td>0</td>\n",
       "      <td>0</td>\n",
       "      <td>1</td>\n",
       "      <td>1</td>\n",
       "      <td>1</td>\n",
       "      <td>1</td>\n",
       "      <td>0</td>\n",
       "      <td>1</td>\n",
       "      <td>1</td>\n",
       "      <td>1</td>\n",
       "      <td>...</td>\n",
       "      <td>1</td>\n",
       "      <td>1</td>\n",
       "      <td>1</td>\n",
       "      <td>1</td>\n",
       "      <td>0</td>\n",
       "      <td>0</td>\n",
       "      <td>1</td>\n",
       "      <td>1</td>\n",
       "      <td>1</td>\n",
       "      <td>1</td>\n",
       "    </tr>\n",
       "    <tr>\n",
       "      <th>2</th>\n",
       "      <td>0</td>\n",
       "      <td>0</td>\n",
       "      <td>0</td>\n",
       "      <td>0</td>\n",
       "      <td>0</td>\n",
       "      <td>0</td>\n",
       "      <td>0</td>\n",
       "      <td>0</td>\n",
       "      <td>0</td>\n",
       "      <td>0</td>\n",
       "      <td>...</td>\n",
       "      <td>1</td>\n",
       "      <td>1</td>\n",
       "      <td>1</td>\n",
       "      <td>1</td>\n",
       "      <td>0</td>\n",
       "      <td>0</td>\n",
       "      <td>0</td>\n",
       "      <td>1</td>\n",
       "      <td>1</td>\n",
       "      <td>1</td>\n",
       "    </tr>\n",
       "    <tr>\n",
       "      <th>3</th>\n",
       "      <td>0</td>\n",
       "      <td>0</td>\n",
       "      <td>0</td>\n",
       "      <td>0</td>\n",
       "      <td>0</td>\n",
       "      <td>0</td>\n",
       "      <td>0</td>\n",
       "      <td>0</td>\n",
       "      <td>0</td>\n",
       "      <td>0</td>\n",
       "      <td>...</td>\n",
       "      <td>1</td>\n",
       "      <td>1</td>\n",
       "      <td>1</td>\n",
       "      <td>1</td>\n",
       "      <td>0</td>\n",
       "      <td>0</td>\n",
       "      <td>0</td>\n",
       "      <td>0</td>\n",
       "      <td>0</td>\n",
       "      <td>1</td>\n",
       "    </tr>\n",
       "    <tr>\n",
       "      <th>4</th>\n",
       "      <td>0</td>\n",
       "      <td>0</td>\n",
       "      <td>1</td>\n",
       "      <td>1</td>\n",
       "      <td>1</td>\n",
       "      <td>0</td>\n",
       "      <td>0</td>\n",
       "      <td>0</td>\n",
       "      <td>0</td>\n",
       "      <td>0</td>\n",
       "      <td>...</td>\n",
       "      <td>1</td>\n",
       "      <td>1</td>\n",
       "      <td>0</td>\n",
       "      <td>0</td>\n",
       "      <td>0</td>\n",
       "      <td>0</td>\n",
       "      <td>0</td>\n",
       "      <td>0</td>\n",
       "      <td>1</td>\n",
       "      <td>1</td>\n",
       "    </tr>\n",
       "    <tr>\n",
       "      <th>...</th>\n",
       "      <td>...</td>\n",
       "      <td>...</td>\n",
       "      <td>...</td>\n",
       "      <td>...</td>\n",
       "      <td>...</td>\n",
       "      <td>...</td>\n",
       "      <td>...</td>\n",
       "      <td>...</td>\n",
       "      <td>...</td>\n",
       "      <td>...</td>\n",
       "      <td>...</td>\n",
       "      <td>...</td>\n",
       "      <td>...</td>\n",
       "      <td>...</td>\n",
       "      <td>...</td>\n",
       "      <td>...</td>\n",
       "      <td>...</td>\n",
       "      <td>...</td>\n",
       "      <td>...</td>\n",
       "      <td>...</td>\n",
       "      <td>...</td>\n",
       "    </tr>\n",
       "    <tr>\n",
       "      <th>5807</th>\n",
       "      <td>1</td>\n",
       "      <td>0</td>\n",
       "      <td>1</td>\n",
       "      <td>1</td>\n",
       "      <td>1</td>\n",
       "      <td>1</td>\n",
       "      <td>1</td>\n",
       "      <td>1</td>\n",
       "      <td>1</td>\n",
       "      <td>1</td>\n",
       "      <td>...</td>\n",
       "      <td>1</td>\n",
       "      <td>1</td>\n",
       "      <td>1</td>\n",
       "      <td>1</td>\n",
       "      <td>1</td>\n",
       "      <td>1</td>\n",
       "      <td>1</td>\n",
       "      <td>1</td>\n",
       "      <td>1</td>\n",
       "      <td>1</td>\n",
       "    </tr>\n",
       "    <tr>\n",
       "      <th>5808</th>\n",
       "      <td>1</td>\n",
       "      <td>0</td>\n",
       "      <td>1</td>\n",
       "      <td>1</td>\n",
       "      <td>1</td>\n",
       "      <td>1</td>\n",
       "      <td>1</td>\n",
       "      <td>1</td>\n",
       "      <td>1</td>\n",
       "      <td>1</td>\n",
       "      <td>...</td>\n",
       "      <td>1</td>\n",
       "      <td>1</td>\n",
       "      <td>1</td>\n",
       "      <td>1</td>\n",
       "      <td>1</td>\n",
       "      <td>1</td>\n",
       "      <td>1</td>\n",
       "      <td>1</td>\n",
       "      <td>1</td>\n",
       "      <td>1</td>\n",
       "    </tr>\n",
       "    <tr>\n",
       "      <th>5809</th>\n",
       "      <td>1</td>\n",
       "      <td>0</td>\n",
       "      <td>1</td>\n",
       "      <td>1</td>\n",
       "      <td>1</td>\n",
       "      <td>1</td>\n",
       "      <td>1</td>\n",
       "      <td>1</td>\n",
       "      <td>1</td>\n",
       "      <td>1</td>\n",
       "      <td>...</td>\n",
       "      <td>1</td>\n",
       "      <td>1</td>\n",
       "      <td>1</td>\n",
       "      <td>1</td>\n",
       "      <td>1</td>\n",
       "      <td>1</td>\n",
       "      <td>1</td>\n",
       "      <td>1</td>\n",
       "      <td>1</td>\n",
       "      <td>1</td>\n",
       "    </tr>\n",
       "    <tr>\n",
       "      <th>5810</th>\n",
       "      <td>1</td>\n",
       "      <td>0</td>\n",
       "      <td>1</td>\n",
       "      <td>1</td>\n",
       "      <td>1</td>\n",
       "      <td>0</td>\n",
       "      <td>0</td>\n",
       "      <td>1</td>\n",
       "      <td>1</td>\n",
       "      <td>1</td>\n",
       "      <td>...</td>\n",
       "      <td>1</td>\n",
       "      <td>1</td>\n",
       "      <td>1</td>\n",
       "      <td>1</td>\n",
       "      <td>1</td>\n",
       "      <td>1</td>\n",
       "      <td>1</td>\n",
       "      <td>1</td>\n",
       "      <td>1</td>\n",
       "      <td>1</td>\n",
       "    </tr>\n",
       "    <tr>\n",
       "      <th>5811</th>\n",
       "      <td>1</td>\n",
       "      <td>0</td>\n",
       "      <td>1</td>\n",
       "      <td>1</td>\n",
       "      <td>1</td>\n",
       "      <td>1</td>\n",
       "      <td>1</td>\n",
       "      <td>1</td>\n",
       "      <td>1</td>\n",
       "      <td>1</td>\n",
       "      <td>...</td>\n",
       "      <td>1</td>\n",
       "      <td>1</td>\n",
       "      <td>1</td>\n",
       "      <td>1</td>\n",
       "      <td>1</td>\n",
       "      <td>1</td>\n",
       "      <td>1</td>\n",
       "      <td>1</td>\n",
       "      <td>1</td>\n",
       "      <td>1</td>\n",
       "    </tr>\n",
       "  </tbody>\n",
       "</table>\n",
       "<p>5812 rows × 29 columns</p>\n",
       "</div>"
      ],
      "text/plain": [
       "      in_actuals  baseline  tree_maxdepth1  tree_maxdepth2  tree_maxdepth3  \\\n",
       "0              0         0               1               1               1   \n",
       "1              0         0               1               1               1   \n",
       "2              0         0               0               0               0   \n",
       "3              0         0               0               0               0   \n",
       "4              0         0               1               1               1   \n",
       "...          ...       ...             ...             ...             ...   \n",
       "5807           1         0               1               1               1   \n",
       "5808           1         0               1               1               1   \n",
       "5809           1         0               1               1               1   \n",
       "5810           1         0               1               1               1   \n",
       "5811           1         0               1               1               1   \n",
       "\n",
       "      tree_maxdepth5  tree_maxdepth10  rf_depth1  rf_depth2  rf_depth3  ...  \\\n",
       "0                  1                0          1          1          1  ...   \n",
       "1                  1                0          1          1          1  ...   \n",
       "2                  0                0          0          0          0  ...   \n",
       "3                  0                0          0          0          0  ...   \n",
       "4                  0                0          0          0          0  ...   \n",
       "...              ...              ...        ...        ...        ...  ...   \n",
       "5807               1                1          1          1          1  ...   \n",
       "5808               1                1          1          1          1  ...   \n",
       "5809               1                1          1          1          1  ...   \n",
       "5810               0                0          1          1          1  ...   \n",
       "5811               1                1          1          1          1  ...   \n",
       "\n",
       "      nb_vsmooth0.001  nb_vsmooth0.01  nb_vsmooth10  nb_vsmooth100  knn_n3  \\\n",
       "0                   1               1             1              1       0   \n",
       "1                   1               1             1              1       0   \n",
       "2                   1               1             1              1       0   \n",
       "3                   1               1             1              1       0   \n",
       "4                   1               1             0              0       0   \n",
       "...               ...             ...           ...            ...     ...   \n",
       "5807                1               1             1              1       1   \n",
       "5808                1               1             1              1       1   \n",
       "5809                1               1             1              1       1   \n",
       "5810                1               1             1              1       1   \n",
       "5811                1               1             1              1       1   \n",
       "\n",
       "      knn_n5  knn_n10  knn_n25  knn_n75  manual_baseline  \n",
       "0          0        0        0        1                1  \n",
       "1          0        1        1        1                1  \n",
       "2          0        0        1        1                1  \n",
       "3          0        0        0        0                1  \n",
       "4          0        0        0        1                1  \n",
       "...      ...      ...      ...      ...              ...  \n",
       "5807       1        1        1        1                1  \n",
       "5808       1        1        1        1                1  \n",
       "5809       1        1        1        1                1  \n",
       "5810       1        1        1        1                1  \n",
       "5811       1        1        1        1                1  \n",
       "\n",
       "[5812 rows x 29 columns]"
      ]
     },
     "execution_count": 7,
     "metadata": {},
     "output_type": "execute_result"
    }
   ],
   "source": [
    "y_train_predictions # each model's predictions and the actuals column (in_actuals)"
   ]
  },
  {
   "cell_type": "markdown",
   "id": "768be951",
   "metadata": {},
   "source": [
    "# Run model predictions through an evaluation function in model.py"
   ]
  },
  {
   "cell_type": "code",
   "execution_count": 8,
   "id": "2b40a212",
   "metadata": {},
   "outputs": [],
   "source": [
    "# calculate accuracy and recall for in- and out-sample predictions\n",
    "running_df = model.print_classification_results(y_train_predictions, y_validate_predictions)"
   ]
  },
  {
   "cell_type": "code",
   "execution_count": 9,
   "id": "79b8cc5c",
   "metadata": {},
   "outputs": [
    {
     "data": {
      "text/html": [
       "<div>\n",
       "<style scoped>\n",
       "    .dataframe tbody tr th:only-of-type {\n",
       "        vertical-align: middle;\n",
       "    }\n",
       "\n",
       "    .dataframe tbody tr th {\n",
       "        vertical-align: top;\n",
       "    }\n",
       "\n",
       "    .dataframe thead th {\n",
       "        text-align: right;\n",
       "    }\n",
       "</style>\n",
       "<table border=\"1\" class=\"dataframe\">\n",
       "  <thead>\n",
       "    <tr style=\"text-align: right;\">\n",
       "      <th></th>\n",
       "      <th>Model</th>\n",
       "      <th>InSample_Accuracy</th>\n",
       "      <th>OutSample_Accuracy</th>\n",
       "      <th>InSample_Recall</th>\n",
       "      <th>OutSample_Recall</th>\n",
       "    </tr>\n",
       "  </thead>\n",
       "  <tbody>\n",
       "    <tr>\n",
       "      <th>14</th>\n",
       "      <td>nb_vsmooth1e-07</td>\n",
       "      <td>0.701136</td>\n",
       "      <td>0.449119</td>\n",
       "      <td>0.990021</td>\n",
       "      <td>1.000000</td>\n",
       "    </tr>\n",
       "    <tr>\n",
       "      <th>13</th>\n",
       "      <td>nb_vsmooth1e-08</td>\n",
       "      <td>0.691672</td>\n",
       "      <td>0.434442</td>\n",
       "      <td>0.990365</td>\n",
       "      <td>1.000000</td>\n",
       "    </tr>\n",
       "    <tr>\n",
       "      <th>12</th>\n",
       "      <td>nb_vsmooth1e-09</td>\n",
       "      <td>0.691156</td>\n",
       "      <td>0.432485</td>\n",
       "      <td>0.990709</td>\n",
       "      <td>1.000000</td>\n",
       "    </tr>\n",
       "    <tr>\n",
       "      <th>27</th>\n",
       "      <td>manual_baseline</td>\n",
       "      <td>0.500000</td>\n",
       "      <td>0.043053</td>\n",
       "      <td>1.000000</td>\n",
       "      <td>1.000000</td>\n",
       "    </tr>\n",
       "    <tr>\n",
       "      <th>3</th>\n",
       "      <td>tree_maxdepth3</td>\n",
       "      <td>0.813145</td>\n",
       "      <td>0.783757</td>\n",
       "      <td>0.879215</td>\n",
       "      <td>0.977273</td>\n",
       "    </tr>\n",
       "    <tr>\n",
       "      <th>1</th>\n",
       "      <td>tree_maxdepth1</td>\n",
       "      <td>0.787853</td>\n",
       "      <td>0.746575</td>\n",
       "      <td>0.868548</td>\n",
       "      <td>0.977273</td>\n",
       "    </tr>\n",
       "    <tr>\n",
       "      <th>2</th>\n",
       "      <td>tree_maxdepth2</td>\n",
       "      <td>0.787853</td>\n",
       "      <td>0.746575</td>\n",
       "      <td>0.868548</td>\n",
       "      <td>0.977273</td>\n",
       "    </tr>\n",
       "    <tr>\n",
       "      <th>19</th>\n",
       "      <td>nb_vsmooth0.01</td>\n",
       "      <td>0.747763</td>\n",
       "      <td>0.590020</td>\n",
       "      <td>0.945974</td>\n",
       "      <td>0.977273</td>\n",
       "    </tr>\n",
       "    <tr>\n",
       "      <th>18</th>\n",
       "      <td>nb_vsmooth0.001</td>\n",
       "      <td>0.748624</td>\n",
       "      <td>0.585127</td>\n",
       "      <td>0.955609</td>\n",
       "      <td>0.977273</td>\n",
       "    </tr>\n",
       "    <tr>\n",
       "      <th>17</th>\n",
       "      <td>nb_vsmooth0.0001</td>\n",
       "      <td>0.752409</td>\n",
       "      <td>0.582192</td>\n",
       "      <td>0.966621</td>\n",
       "      <td>0.977273</td>\n",
       "    </tr>\n",
       "    <tr>\n",
       "      <th>16</th>\n",
       "      <td>nb_vsmooth1e-05</td>\n",
       "      <td>0.754818</td>\n",
       "      <td>0.581213</td>\n",
       "      <td>0.972127</td>\n",
       "      <td>0.977273</td>\n",
       "    </tr>\n",
       "    <tr>\n",
       "      <th>15</th>\n",
       "      <td>nb_vsmooth1e-06</td>\n",
       "      <td>0.739849</td>\n",
       "      <td>0.528376</td>\n",
       "      <td>0.982106</td>\n",
       "      <td>0.977273</td>\n",
       "    </tr>\n",
       "    <tr>\n",
       "      <th>20</th>\n",
       "      <td>nb_vsmooth10</td>\n",
       "      <td>0.724191</td>\n",
       "      <td>0.507828</td>\n",
       "      <td>0.964556</td>\n",
       "      <td>0.931818</td>\n",
       "    </tr>\n",
       "    <tr>\n",
       "      <th>21</th>\n",
       "      <td>nb_vsmooth100</td>\n",
       "      <td>0.716965</td>\n",
       "      <td>0.495108</td>\n",
       "      <td>0.967309</td>\n",
       "      <td>0.931818</td>\n",
       "    </tr>\n",
       "    <tr>\n",
       "      <th>9</th>\n",
       "      <td>rf_depth5</td>\n",
       "      <td>0.842911</td>\n",
       "      <td>0.801370</td>\n",
       "      <td>0.890915</td>\n",
       "      <td>0.886364</td>\n",
       "    </tr>\n",
       "    <tr>\n",
       "      <th>11</th>\n",
       "      <td>logit</td>\n",
       "      <td>0.791638</td>\n",
       "      <td>0.746575</td>\n",
       "      <td>0.864763</td>\n",
       "      <td>0.886364</td>\n",
       "    </tr>\n",
       "    <tr>\n",
       "      <th>7</th>\n",
       "      <td>rf_depth2</td>\n",
       "      <td>0.804370</td>\n",
       "      <td>0.745597</td>\n",
       "      <td>0.885065</td>\n",
       "      <td>0.886364</td>\n",
       "    </tr>\n",
       "    <tr>\n",
       "      <th>8</th>\n",
       "      <td>rf_depth3</td>\n",
       "      <td>0.809360</td>\n",
       "      <td>0.757339</td>\n",
       "      <td>0.883345</td>\n",
       "      <td>0.863636</td>\n",
       "    </tr>\n",
       "    <tr>\n",
       "      <th>6</th>\n",
       "      <td>rf_depth1</td>\n",
       "      <td>0.791810</td>\n",
       "      <td>0.735812</td>\n",
       "      <td>0.873710</td>\n",
       "      <td>0.818182</td>\n",
       "    </tr>\n",
       "    <tr>\n",
       "      <th>26</th>\n",
       "      <td>knn_n75</td>\n",
       "      <td>0.827082</td>\n",
       "      <td>0.703523</td>\n",
       "      <td>0.967997</td>\n",
       "      <td>0.795455</td>\n",
       "    </tr>\n",
       "    <tr>\n",
       "      <th>4</th>\n",
       "      <td>tree_maxdepth5</td>\n",
       "      <td>0.836201</td>\n",
       "      <td>0.845401</td>\n",
       "      <td>0.834825</td>\n",
       "      <td>0.750000</td>\n",
       "    </tr>\n",
       "    <tr>\n",
       "      <th>25</th>\n",
       "      <td>knn_n25</td>\n",
       "      <td>0.862870</td>\n",
       "      <td>0.742661</td>\n",
       "      <td>0.984171</td>\n",
       "      <td>0.750000</td>\n",
       "    </tr>\n",
       "    <tr>\n",
       "      <th>24</th>\n",
       "      <td>knn_n10</td>\n",
       "      <td>0.915692</td>\n",
       "      <td>0.832681</td>\n",
       "      <td>0.987268</td>\n",
       "      <td>0.454545</td>\n",
       "    </tr>\n",
       "    <tr>\n",
       "      <th>10</th>\n",
       "      <td>rf_depth10</td>\n",
       "      <td>0.955437</td>\n",
       "      <td>0.900196</td>\n",
       "      <td>0.979697</td>\n",
       "      <td>0.386364</td>\n",
       "    </tr>\n",
       "    <tr>\n",
       "      <th>5</th>\n",
       "      <td>tree_maxdepth10</td>\n",
       "      <td>0.945286</td>\n",
       "      <td>0.876712</td>\n",
       "      <td>0.967653</td>\n",
       "      <td>0.363636</td>\n",
       "    </tr>\n",
       "    <tr>\n",
       "      <th>23</th>\n",
       "      <td>knn_n5</td>\n",
       "      <td>0.945630</td>\n",
       "      <td>0.848337</td>\n",
       "      <td>0.996559</td>\n",
       "      <td>0.295455</td>\n",
       "    </tr>\n",
       "    <tr>\n",
       "      <th>22</th>\n",
       "      <td>knn_n3</td>\n",
       "      <td>0.966277</td>\n",
       "      <td>0.882583</td>\n",
       "      <td>0.998279</td>\n",
       "      <td>0.227273</td>\n",
       "    </tr>\n",
       "    <tr>\n",
       "      <th>0</th>\n",
       "      <td>baseline</td>\n",
       "      <td>0.500000</td>\n",
       "      <td>0.956947</td>\n",
       "      <td>0.000000</td>\n",
       "      <td>0.000000</td>\n",
       "    </tr>\n",
       "  </tbody>\n",
       "</table>\n",
       "</div>"
      ],
      "text/plain": [
       "               Model  InSample_Accuracy  OutSample_Accuracy  InSample_Recall  \\\n",
       "14   nb_vsmooth1e-07           0.701136            0.449119         0.990021   \n",
       "13   nb_vsmooth1e-08           0.691672            0.434442         0.990365   \n",
       "12   nb_vsmooth1e-09           0.691156            0.432485         0.990709   \n",
       "27   manual_baseline           0.500000            0.043053         1.000000   \n",
       "3     tree_maxdepth3           0.813145            0.783757         0.879215   \n",
       "1     tree_maxdepth1           0.787853            0.746575         0.868548   \n",
       "2     tree_maxdepth2           0.787853            0.746575         0.868548   \n",
       "19    nb_vsmooth0.01           0.747763            0.590020         0.945974   \n",
       "18   nb_vsmooth0.001           0.748624            0.585127         0.955609   \n",
       "17  nb_vsmooth0.0001           0.752409            0.582192         0.966621   \n",
       "16   nb_vsmooth1e-05           0.754818            0.581213         0.972127   \n",
       "15   nb_vsmooth1e-06           0.739849            0.528376         0.982106   \n",
       "20      nb_vsmooth10           0.724191            0.507828         0.964556   \n",
       "21     nb_vsmooth100           0.716965            0.495108         0.967309   \n",
       "9          rf_depth5           0.842911            0.801370         0.890915   \n",
       "11             logit           0.791638            0.746575         0.864763   \n",
       "7          rf_depth2           0.804370            0.745597         0.885065   \n",
       "8          rf_depth3           0.809360            0.757339         0.883345   \n",
       "6          rf_depth1           0.791810            0.735812         0.873710   \n",
       "26           knn_n75           0.827082            0.703523         0.967997   \n",
       "4     tree_maxdepth5           0.836201            0.845401         0.834825   \n",
       "25           knn_n25           0.862870            0.742661         0.984171   \n",
       "24           knn_n10           0.915692            0.832681         0.987268   \n",
       "10        rf_depth10           0.955437            0.900196         0.979697   \n",
       "5    tree_maxdepth10           0.945286            0.876712         0.967653   \n",
       "23            knn_n5           0.945630            0.848337         0.996559   \n",
       "22            knn_n3           0.966277            0.882583         0.998279   \n",
       "0           baseline           0.500000            0.956947         0.000000   \n",
       "\n",
       "    OutSample_Recall  \n",
       "14          1.000000  \n",
       "13          1.000000  \n",
       "12          1.000000  \n",
       "27          1.000000  \n",
       "3           0.977273  \n",
       "1           0.977273  \n",
       "2           0.977273  \n",
       "19          0.977273  \n",
       "18          0.977273  \n",
       "17          0.977273  \n",
       "16          0.977273  \n",
       "15          0.977273  \n",
       "20          0.931818  \n",
       "21          0.931818  \n",
       "9           0.886364  \n",
       "11          0.886364  \n",
       "7           0.886364  \n",
       "8           0.863636  \n",
       "6           0.818182  \n",
       "26          0.795455  \n",
       "4           0.750000  \n",
       "25          0.750000  \n",
       "24          0.454545  \n",
       "10          0.386364  \n",
       "5           0.363636  \n",
       "23          0.295455  \n",
       "22          0.227273  \n",
       "0           0.000000  "
      ]
     },
     "execution_count": 9,
     "metadata": {},
     "output_type": "execute_result"
    }
   ],
   "source": [
    "# display accuracies and recalls for each model, sorting for best out-sample recall\n",
    "running_df.sort_values(by=['OutSample_Recall','OutSample_Accuracy'], ascending=False)"
   ]
  },
  {
   "cell_type": "markdown",
   "id": "e23c71f6",
   "metadata": {},
   "source": [
    "# Implement ROC Curve\n",
    "- A common way to compare models that predict probabilities for two-class problems is to use a ROC curve.\n",
    "- ROC Curves summarize the trade-off between the true positive rate and false positive rate for a predictive model using different probability thresholds.\n",
    "- It can be more flexible to predict the probabilities for each class instead of predicting the outcome itself. \n",
    "    * The reason for this is to provide the capability to choose and even **calibrate the threshold** for how to interpret the predicted probabilities.\n",
    "     * For example, a default might be to use a threshold of 0.5, meaning that a probability in [0.0, 0.49] is a negative outcome (0) and a probability in [0.5, 1.0] is a positive outcome (1)."
   ]
  },
  {
   "cell_type": "code",
   "execution_count": 10,
   "id": "98c8bbea",
   "metadata": {},
   "outputs": [],
   "source": [
    "bl_probs = [0 for _ in range(len(y_train))]\n",
    "tree = DecisionTreeClassifier(max_depth=3, random_state=123).fit(X_train, y_train)"
   ]
  },
  {
   "cell_type": "code",
   "execution_count": 11,
   "id": "7b22828e",
   "metadata": {},
   "outputs": [],
   "source": [
    "# THRESHOLD = .60\n",
    "# preds = np.where(tree.predict_proba(X_train) > THRESHOLD, 1, 0)\n",
    "# tree_probs = preds[:, 1]\n",
    "tree_probs = tree.predict_proba(X_train)\n",
    "tree_probs = tree_probs[:, 1]"
   ]
  },
  {
   "cell_type": "code",
   "execution_count": 12,
   "id": "d15e3bdc",
   "metadata": {},
   "outputs": [],
   "source": [
    "bl_auc = roc_auc_score(y_train, bl_probs)\n",
    "tree_auc = roc_auc_score(y_train, tree_probs)"
   ]
  },
  {
   "cell_type": "code",
   "execution_count": 13,
   "id": "f9333bc2",
   "metadata": {},
   "outputs": [
    {
     "name": "stdout",
     "output_type": "stream",
     "text": [
      "Baseline: ROC AUC=0.500\n",
      "DecisionTreeClassifier: ROC AUC=0.872\n"
     ]
    }
   ],
   "source": [
    "print('Baseline: ROC AUC=%.3f' % (bl_auc))\n",
    "print('DecisionTreeClassifier: ROC AUC=%.3f' % (tree_auc))"
   ]
  },
  {
   "cell_type": "code",
   "execution_count": 14,
   "id": "0ed602ae",
   "metadata": {
    "scrolled": true
   },
   "outputs": [
    {
     "name": "stdout",
     "output_type": "stream",
     "text": [
      "x axis:\n",
      "[0.0, 0.0, 0.01824, 0.12251, 0.25292, 0.46869, 0.5086, 1.0]\n",
      "y axis:\n",
      "[0.0, 0.02099, 0.24054, 0.62801, 0.87922, 0.97213, 0.98245, 1.0]\n"
     ]
    }
   ],
   "source": [
    "bl_fpr, bl_tpr, _ = roc_curve(y_train, bl_probs)\n",
    "tree_fpr, tree_tpr, _ = roc_curve(y_train, tree_probs)\n",
    "print(\"x axis:\")\n",
    "print(tree_fpr.round(5).tolist())\n",
    "print(\"y axis:\")\n",
    "print(tree_tpr.round(5).tolist())"
   ]
  },
  {
   "cell_type": "code",
   "execution_count": 15,
   "id": "5a27e6f7",
   "metadata": {},
   "outputs": [
    {
     "data": {
      "image/png": "[encoded data removed]",
      "text/plain": [
       "<Figure size 432x288 with 1 Axes>"
      ]
     },
     "metadata": {
      "needs_background": "light"
     },
     "output_type": "display_data"
    },
    {
     "data": {
      "text/plain": [
       "<sklearn.metrics._plot.precision_recall_curve.PrecisionRecallDisplay at 0x7fc74094e2b0>"
      ]
     },
     "execution_count": 15,
     "metadata": {},
     "output_type": "execute_result"
    },
    {
     "data": {
      "image/png": "[encoded data removed]",
      "text/plain": [
       "<Figure size 432x288 with 1 Axes>"
      ]
     },
     "metadata": {
      "needs_background": "light"
     },
     "output_type": "display_data"
    }
   ],
   "source": [
    "plt.plot(bl_fpr, bl_tpr, linestyle='--', label='Baseline (Majority)')\n",
    "plt.plot(tree_fpr, tree_tpr, marker='.', label='Decision Tree Classifier')\n",
    "plt.xlabel(\"False Positive Rate\")\n",
    "plt.ylabel(\"True Positive Rate\")\n",
    "plt.title(\"Receiver Operating Characteristic\")\n",
    "plt.legend(loc=\"lower right\")\n",
    "plt.show()\n",
    "# plot the precision-recall curve for the model\n",
    "precision, recall, _ = precision_recall_curve(y_train, tree_probs)\n",
    "disp = PrecisionRecallDisplay(precision = precision, recall = recall)\n",
    "disp.plot()"
   ]
  },
  {
   "cell_type": "markdown",
   "id": "412f6705",
   "metadata": {},
   "source": [
    "## Titanic Example for implementing ROC Curve"
   ]
  },
  {
   "cell_type": "code",
   "execution_count": 16,
   "id": "d816e42f",
   "metadata": {},
   "outputs": [],
   "source": [
    "# from seaborn import load_dataset\n",
    "# from sklearn import svm\n",
    "# import numpy as np\n",
    "# import matplotlib.pyplot as plt\n",
    "# from sklearn.metrics import roc_curve, auc, roc_auc_score\n",
    "# from sklearn.model_selection import train_test_split\n",
    "# from sklearn.metrics import PrecisionRecallDisplay, precision_recall_curve"
   ]
  },
  {
   "cell_type": "code",
   "execution_count": 17,
   "id": "0e2e8284",
   "metadata": {},
   "outputs": [],
   "source": [
    "# # Import some data to play with\n",
    "# titanic = load_dataset(\"titanic\")\n",
    "# titanic = titanic[['parch', 'sibsp','age', 'survived']].dropna()\n",
    "# X = titanic.drop(columns=['survived'])\n",
    "# y = titanic.survived"
   ]
  },
  {
   "cell_type": "code",
   "execution_count": 18,
   "id": "cd5a347e",
   "metadata": {},
   "outputs": [],
   "source": [
    "# # shuffle and split training and test sets\n",
    "# X_train, X_test, y_train, y_test = train_test_split(X, y, test_size=0.5, random_state=0)"
   ]
  },
  {
   "cell_type": "code",
   "execution_count": 19,
   "id": "85ab52c2",
   "metadata": {},
   "outputs": [],
   "source": [
    "# # get the majority class\n",
    "# y_train.value_counts(normalize=True)"
   ]
  },
  {
   "cell_type": "code",
   "execution_count": 20,
   "id": "b8701250",
   "metadata": {},
   "outputs": [],
   "source": [
    "# # generate a baseline (majority class)\n",
    "# bl_probs = [0 for _ in range(len(y_train))]\n",
    "# # bl_probs[0:5]"
   ]
  },
  {
   "cell_type": "code",
   "execution_count": 21,
   "id": "c587e31f",
   "metadata": {},
   "outputs": [],
   "source": [
    "# # fit classifier\n",
    "# classifier = svm.SVC(kernel=\"linear\", probability=True, random_state=123)\n",
    "# classifier = classifier.fit(X_train, y_train)"
   ]
  },
  {
   "cell_type": "code",
   "execution_count": 22,
   "id": "70cf12cf",
   "metadata": {},
   "outputs": [],
   "source": [
    "# # get predicted probabilities\n",
    "# THRESHOLD = .40\n",
    "# preds = np.where(classifier.predict_proba(X_train) > THRESHOLD, 1, 0)\n",
    "# # We want only the probability for the \"true\" outcome (1)\n",
    "# # keep probablities for the positive outcome (the 1) only\n",
    "# svc_probs = preds[:, 1]\n",
    "# # svc_probs[0:5]"
   ]
  },
  {
   "cell_type": "code",
   "execution_count": 23,
   "id": "2793a91f",
   "metadata": {},
   "outputs": [],
   "source": [
    "# # calculate scores\n",
    "# bl_auc = roc_auc_score(y_train, bl_probs)\n",
    "# svc_auc = roc_auc_score(y_train, svc_probs)"
   ]
  },
  {
   "cell_type": "code",
   "execution_count": 24,
   "id": "3d241d85",
   "metadata": {},
   "outputs": [],
   "source": [
    "# # summarize scores\n",
    "# print('Baseline: ROC AUC=%.3f' % (bl_auc))\n",
    "# print('SVC: ROC AUC=%.3f' % (svc_auc))"
   ]
  },
  {
   "cell_type": "code",
   "execution_count": 25,
   "id": "26ceae4c",
   "metadata": {},
   "outputs": [],
   "source": [
    "# # calculate roc curves\n",
    "# bl_fpr, bl_tpr, _ = roc_curve(y_train, bl_probs)\n",
    "# svc_fpr, svc_tpr, _ = roc_curve(y_train, svc_probs)"
   ]
  },
  {
   "cell_type": "code",
   "execution_count": 26,
   "id": "9ef4de72",
   "metadata": {},
   "outputs": [],
   "source": [
    "# # plot the roc curve for the model\n",
    "# import matplotlib.pyplot as plt\n",
    "# plt.plot(bl_fpr, bl_tpr, linestyle='--', label='Baseline (Majority)')\n",
    "# plt.plot(svc_fpr, svc_tpr, marker='.', label='Support Vector Classifier')\n",
    "# plt.xlabel(\"False Positive Rate\")\n",
    "# plt.ylabel(\"True Positive Rate\")\n",
    "# plt.title(\"Receiver Operating Characteristic\")\n",
    "# plt.legend(loc=\"lower right\")\n",
    "# plt.show()\n",
    "# # plot the precision-recall curve for the model\n",
    "# precision, recall, _ = precision_recall_curve(y_train, svc_probs)\n",
    "# disp = PrecisionRecallDisplay(precision = precision, recall = recall)\n",
    "# disp.plot()"
   ]
  },
  {
   "cell_type": "markdown",
   "id": "63203885",
   "metadata": {},
   "source": [
    "# Feature Engineering - Multivariate"
   ]
  },
  {
   "cell_type": "code",
   "execution_count": 27,
   "id": "6aad7a6f",
   "metadata": {},
   "outputs": [
    {
     "data": {
      "text/plain": [
       "((3065, 12), (1022, 12), (1022, 12))"
      ]
     },
     "execution_count": 27,
     "metadata": {},
     "output_type": "execute_result"
    }
   ],
   "source": [
    "# reset, re-split data\n",
    "df = prepare.prep_data(pd.read_csv('healthcare-dataset-stroke-data.csv'))\n",
    "trainvalidate, test = train_test_split(df, test_size=.2, random_state=777)\n",
    "train, validate = train_test_split(trainvalidate, test_size=.25, random_state=777)\n",
    "\n",
    "train.shape, validate.shape, test.shape"
   ]
  },
  {
   "cell_type": "markdown",
   "id": "1e438942",
   "metadata": {},
   "source": [
    "## What puts a child most at-risk for stroke?"
   ]
  },
  {
   "cell_type": "code",
   "execution_count": 28,
   "id": "513b24be",
   "metadata": {},
   "outputs": [
    {
     "data": {
      "text/plain": [
       "0    519\n",
       "1      2\n",
       "Name: stroke, dtype: int64"
      ]
     },
     "execution_count": 28,
     "metadata": {},
     "output_type": "execute_result"
    }
   ],
   "source": [
    "# focus on subset for people under age 18\n",
    "children = train[train.age < 18]\n",
    "children.stroke.value_counts()"
   ]
  },
  {
   "cell_type": "markdown",
   "id": "ddcfb27c",
   "metadata": {},
   "source": [
    "### Results\n",
    "> Not enough observations to conduct analysis."
   ]
  },
  {
   "cell_type": "markdown",
   "id": "fc0f0b46",
   "metadata": {},
   "source": [
    "## What features do not seem to be risk factors?\n",
    "- Male/Female: Similar proportion difference, likely not a factor\n",
    "- **Age**: No-stroke has a normal age distribution, stroke is extremely left-skewed and not normal\n",
    "- **Hypertension**: Stroke has a much higher proportion of hypertension than no-stroke\n",
    "    * Across all age groups? Is hypertension rising, or not-hypertension falling?\n",
    "- **Heart Disease**: Stroke has a much higher proportion of heart disease than no-stroke\n",
    "    * Across all age groups? Is heart disease rising or not-heart disease falling?\n",
    "- **Marriage**: Stroke has a much higher proportion of married than not-stroke\n",
    "    * Higher proportion of marriages at older ages? Is married rising or not-married falling?\n",
    "- work_type: **Split into 4 separate features**\n",
    "    * 'children' much less likely (purely because of age?)\n",
    "    * 'Govt_job' less likely (others rising?)\n",
    "    * 'self_employed' slightly more likely (others falling?)\n",
    "    * 'private' slightly less likely (others rising?)\n",
    "- **residence_type**: Stroke has a higher proportion of Urban than not-stroke\n",
    "    * Younger people are Urban? \n",
    "- **average_glucose_level**: **125 is the split point (2 feature groups)** for higher: more likely, lower: less likely\n",
    "    * Is this independent of other features? Other features may be driving this *and* stroke\n",
    "- bmi: Hard to tell from the left-right comparison graph, **split into 10 groups**\n",
    "- **smoking_status**: Stroke has much higher proportion of formerly_smoked, higher proportion of smokes **(2 features)**\n",
    "    * Consider age (legal smokers, more time to pick it up, more time to pick it up and stop, etc)"
   ]
  },
  {
   "cell_type": "code",
   "execution_count": 29,
   "id": "397978b1",
   "metadata": {
    "scrolled": false
   },
   "outputs": [
    {
     "data": {
      "image/png": "[encoded data removed]",
      "text/plain": [
       "<Figure size 432x288 with 2 Axes>"
      ]
     },
     "metadata": {
      "needs_background": "light"
     },
     "output_type": "display_data"
    },
    {
     "data": {
      "image/png": "[encoded data removed]",
      "text/plain": [
       "<Figure size 432x288 with 2 Axes>"
      ]
     },
     "metadata": {
      "needs_background": "light"
     },
     "output_type": "display_data"
    },
    {
     "data": {
      "image/png": "[encoded data removed]",
      "text/plain": [
       "<Figure size 432x288 with 2 Axes>"
      ]
     },
     "metadata": {
      "needs_background": "light"
     },
     "output_type": "display_data"
    },
    {
     "data": {
      "image/png": "[encoded data removed]",
      "text/plain": [
       "<Figure size 432x288 with 2 Axes>"
      ]
     },
     "metadata": {
      "needs_background": "light"
     },
     "output_type": "display_data"
    },
    {
     "data": {
      "image/png": "[encoded data removed]",
      "text/plain": [
       "<Figure size 432x288 with 2 Axes>"
      ]
     },
     "metadata": {
      "needs_background": "light"
     },
     "output_type": "display_data"
    },
    {
     "data": {
      "image/png": "[encoded data removed]",
      "text/plain": [
       "<Figure size 432x288 with 2 Axes>"
      ]
     },
     "metadata": {
      "needs_background": "light"
     },
     "output_type": "display_data"
    },
    {
     "data": {
      "image/png": "[encoded data removed]",
      "text/plain": [
       "<Figure size 432x288 with 2 Axes>"
      ]
     },
     "metadata": {
      "needs_background": "light"
     },
     "output_type": "display_data"
    },
    {
     "data": {
      "image/png": "[encoded data removed]",
      "text/plain": [
       "<Figure size 432x288 with 2 Axes>"
      ]
     },
     "metadata": {
      "needs_background": "light"
     },
     "output_type": "display_data"
    },
    {
     "data": {
      "image/png": "[encoded data removed]",
      "text/plain": [
       "<Figure size 432x288 with 2 Axes>"
      ]
     },
     "metadata": {
      "needs_background": "light"
     },
     "output_type": "display_data"
    },
    {
     "data": {
      "image/png": "[encoded data removed]",
      "text/plain": [
       "<Figure size 432x288 with 2 Axes>"
      ]
     },
     "metadata": {
      "needs_background": "light"
     },
     "output_type": "display_data"
    }
   ],
   "source": [
    "# initial chart look (looking for differences betwen left chart and right chart for each)\n",
    "for col in train.columns[:-2]:\n",
    "    plt.subplot(121) # Observations without stroke (left charts)\n",
    "    plt.title('No Stroke')\n",
    "    sns.histplot(train[train.stroke == 0][col])\n",
    "    plt.xticks(rotation=60)\n",
    "    plt.subplot(122) # Observations with stroke (right charts)\n",
    "    plt.title('Stroke')\n",
    "    sns.histplot(train[train.stroke == 1][col])\n",
    "    plt.xticks(rotation=60)\n",
    "    plt.tight_layout()\n",
    "    plt.show()"
   ]
  },
  {
   "cell_type": "code",
   "execution_count": 30,
   "id": "132a632e",
   "metadata": {},
   "outputs": [
    {
     "data": {
      "text/html": [
       "<div>\n",
       "<style scoped>\n",
       "    .dataframe tbody tr th:only-of-type {\n",
       "        vertical-align: middle;\n",
       "    }\n",
       "\n",
       "    .dataframe tbody tr th {\n",
       "        vertical-align: top;\n",
       "    }\n",
       "\n",
       "    .dataframe thead th {\n",
       "        text-align: right;\n",
       "    }\n",
       "</style>\n",
       "<table border=\"1\" class=\"dataframe\">\n",
       "  <thead>\n",
       "    <tr style=\"text-align: right;\">\n",
       "      <th></th>\n",
       "      <th>gender</th>\n",
       "      <th>age</th>\n",
       "      <th>hypertension</th>\n",
       "      <th>heart_disease</th>\n",
       "      <th>ever_married</th>\n",
       "      <th>residence_type</th>\n",
       "      <th>stroke</th>\n",
       "      <th>age_range</th>\n",
       "      <th>govt_job</th>\n",
       "      <th>self_employed</th>\n",
       "      <th>private_work</th>\n",
       "      <th>never_worked</th>\n",
       "      <th>high_glucose</th>\n",
       "      <th>current_smoker</th>\n",
       "      <th>prior_smoker</th>\n",
       "      <th>never_smoked</th>\n",
       "      <th>bmi_range</th>\n",
       "    </tr>\n",
       "  </thead>\n",
       "  <tbody>\n",
       "    <tr>\n",
       "      <th>448</th>\n",
       "      <td>Male</td>\n",
       "      <td>65.0</td>\n",
       "      <td>0</td>\n",
       "      <td>0</td>\n",
       "      <td>Yes</td>\n",
       "      <td>Urban</td>\n",
       "      <td>0</td>\n",
       "      <td>60-65</td>\n",
       "      <td>False</td>\n",
       "      <td>False</td>\n",
       "      <td>True</td>\n",
       "      <td>False</td>\n",
       "      <td>True</td>\n",
       "      <td>False</td>\n",
       "      <td>False</td>\n",
       "      <td>False</td>\n",
       "      <td>20-29</td>\n",
       "    </tr>\n",
       "    <tr>\n",
       "      <th>4128</th>\n",
       "      <td>Female</td>\n",
       "      <td>78.0</td>\n",
       "      <td>0</td>\n",
       "      <td>0</td>\n",
       "      <td>Yes</td>\n",
       "      <td>Rural</td>\n",
       "      <td>0</td>\n",
       "      <td>75-80</td>\n",
       "      <td>False</td>\n",
       "      <td>True</td>\n",
       "      <td>False</td>\n",
       "      <td>False</td>\n",
       "      <td>True</td>\n",
       "      <td>False</td>\n",
       "      <td>True</td>\n",
       "      <td>False</td>\n",
       "      <td>30-39</td>\n",
       "    </tr>\n",
       "    <tr>\n",
       "      <th>4699</th>\n",
       "      <td>Male</td>\n",
       "      <td>47.0</td>\n",
       "      <td>0</td>\n",
       "      <td>0</td>\n",
       "      <td>Yes</td>\n",
       "      <td>Rural</td>\n",
       "      <td>0</td>\n",
       "      <td>45-50</td>\n",
       "      <td>False</td>\n",
       "      <td>False</td>\n",
       "      <td>True</td>\n",
       "      <td>False</td>\n",
       "      <td>False</td>\n",
       "      <td>True</td>\n",
       "      <td>False</td>\n",
       "      <td>False</td>\n",
       "      <td>30-39</td>\n",
       "    </tr>\n",
       "  </tbody>\n",
       "</table>\n",
       "</div>"
      ],
      "text/plain": [
       "      gender   age hypertension heart_disease ever_married residence_type  \\\n",
       "448     Male  65.0            0             0          Yes          Urban   \n",
       "4128  Female  78.0            0             0          Yes          Rural   \n",
       "4699    Male  47.0            0             0          Yes          Rural   \n",
       "\n",
       "      stroke age_range  govt_job  self_employed  private_work  never_worked  \\\n",
       "448        0     60-65     False          False          True         False   \n",
       "4128       0     75-80     False           True         False         False   \n",
       "4699       0     45-50     False          False          True         False   \n",
       "\n",
       "      high_glucose  current_smoker  prior_smoker  never_smoked bmi_range  \n",
       "448           True           False         False         False     20-29  \n",
       "4128          True           False          True         False     30-39  \n",
       "4699         False            True         False         False     30-39  "
      ]
     },
     "execution_count": 30,
     "metadata": {},
     "output_type": "execute_result"
    }
   ],
   "source": [
    "# feature splitting (employment types, glucose less/greater than 125, bmi 10 groups using pd.cut)\n",
    "# work type\n",
    "train['govt_job'] = train['work_type'] == 'Govt_job'\n",
    "train['self_employed'] = train['work_type'] == 'Self-employed'\n",
    "train['private_work'] = train['work_type'] == 'Private'\n",
    "train['never_worked'] = (train['work_type'] == 'children') | (train['work_type'] == 'Never_worked')\n",
    "# glucose\n",
    "train['high_glucose'] = train['avg_glucose_level'] >= 125\n",
    "# smoker\n",
    "train['current_smoker'] = train['smoking_status'] == 'smokes'\n",
    "train['prior_smoker'] = train['smoking_status'] == 'formerly smoked'\n",
    "train['never_smoked'] = train['smoking_status'] == 'never smoked'\n",
    "# bmi\n",
    "bmi_bins = [0,10,20,30,40,50,60,70,80,90,100]\n",
    "bmi_labels = ['0-9','10-19','20-29','30-39','40-49','50-59','60-69','70-79','80-89','90-99']\n",
    "train['bmi_range'] = pd.cut(train.bmi, bins=bmi_bins, labels=bmi_labels)\n",
    "\n",
    "# drop old columns\n",
    "train.drop(columns=['work_type','avg_glucose_level','smoking_status','bmi'], inplace=True)\n",
    "train.head(3)"
   ]
  },
  {
   "cell_type": "code",
   "execution_count": 31,
   "id": "26cf4db1",
   "metadata": {},
   "outputs": [],
   "source": [
    "# 2 sample t-test function\n",
    "def ttest_me(sample1, sample2):\n",
    "    g_t, g_p = stats.mannwhitneyu(sample1, sample2, alternative='greater')\n",
    "    l_t, l_p = stats.mannwhitneyu(sample1, sample2, alternative='less')\n",
    "    return g_t, g_p, l_t, l_p"
   ]
  },
  {
   "cell_type": "code",
   "execution_count": 32,
   "id": "e2b894e9",
   "metadata": {},
   "outputs": [
    {
     "name": "stdout",
     "output_type": "stream",
     "text": [
      "Features and MannWhitneyU Test Results\n",
      "--------------------------------------------------\n"
     ]
    },
    {
     "data": {
      "text/html": [
       "<div>\n",
       "<style scoped>\n",
       "    .dataframe tbody tr th:only-of-type {\n",
       "        vertical-align: middle;\n",
       "    }\n",
       "\n",
       "    .dataframe tbody tr th {\n",
       "        vertical-align: top;\n",
       "    }\n",
       "\n",
       "    .dataframe thead th {\n",
       "        text-align: right;\n",
       "    }\n",
       "</style>\n",
       "<table border=\"1\" class=\"dataframe\">\n",
       "  <thead>\n",
       "    <tr style=\"text-align: right;\">\n",
       "      <th></th>\n",
       "      <th>feature</th>\n",
       "      <th>test</th>\n",
       "      <th>t-stat</th>\n",
       "      <th>p-value</th>\n",
       "    </tr>\n",
       "  </thead>\n",
       "  <tbody>\n",
       "    <tr>\n",
       "      <th>0</th>\n",
       "      <td>gender</td>\n",
       "      <td>True is more at risk than False</td>\n",
       "      <td>224565.0</td>\n",
       "      <td>0.307</td>\n",
       "    </tr>\n",
       "    <tr>\n",
       "      <th>1</th>\n",
       "      <td>gender</td>\n",
       "      <td>True is less at risk than False</td>\n",
       "      <td>224565.0</td>\n",
       "      <td>0.693</td>\n",
       "    </tr>\n",
       "    <tr>\n",
       "      <th>2</th>\n",
       "      <td>age</td>\n",
       "      <td>True is more at risk than False</td>\n",
       "      <td>362586.5</td>\n",
       "      <td>0.000</td>\n",
       "    </tr>\n",
       "    <tr>\n",
       "      <th>3</th>\n",
       "      <td>age</td>\n",
       "      <td>True is less at risk than False</td>\n",
       "      <td>362586.5</td>\n",
       "      <td>1.000</td>\n",
       "    </tr>\n",
       "    <tr>\n",
       "      <th>4</th>\n",
       "      <td>hypertension</td>\n",
       "      <td>True is more at risk than False</td>\n",
       "      <td>253833.0</td>\n",
       "      <td>0.000</td>\n",
       "    </tr>\n",
       "    <tr>\n",
       "      <th>5</th>\n",
       "      <td>hypertension</td>\n",
       "      <td>True is less at risk than False</td>\n",
       "      <td>253833.0</td>\n",
       "      <td>1.000</td>\n",
       "    </tr>\n",
       "    <tr>\n",
       "      <th>6</th>\n",
       "      <td>heart_disease</td>\n",
       "      <td>True is more at risk than False</td>\n",
       "      <td>261413.5</td>\n",
       "      <td>0.000</td>\n",
       "    </tr>\n",
       "    <tr>\n",
       "      <th>7</th>\n",
       "      <td>heart_disease</td>\n",
       "      <td>True is less at risk than False</td>\n",
       "      <td>261413.5</td>\n",
       "      <td>1.000</td>\n",
       "    </tr>\n",
       "    <tr>\n",
       "      <th>8</th>\n",
       "      <td>ever_married</td>\n",
       "      <td>True is more at risk than False</td>\n",
       "      <td>277902.5</td>\n",
       "      <td>0.000</td>\n",
       "    </tr>\n",
       "    <tr>\n",
       "      <th>9</th>\n",
       "      <td>ever_married</td>\n",
       "      <td>True is less at risk than False</td>\n",
       "      <td>277902.5</td>\n",
       "      <td>1.000</td>\n",
       "    </tr>\n",
       "    <tr>\n",
       "      <th>10</th>\n",
       "      <td>residence_type</td>\n",
       "      <td>True is more at risk than False</td>\n",
       "      <td>234150.5</td>\n",
       "      <td>0.062</td>\n",
       "    </tr>\n",
       "    <tr>\n",
       "      <th>11</th>\n",
       "      <td>residence_type</td>\n",
       "      <td>True is less at risk than False</td>\n",
       "      <td>234150.5</td>\n",
       "      <td>0.938</td>\n",
       "    </tr>\n",
       "    <tr>\n",
       "      <th>12</th>\n",
       "      <td>stroke</td>\n",
       "      <td>True is more at risk than False</td>\n",
       "      <td>440014.0</td>\n",
       "      <td>0.000</td>\n",
       "    </tr>\n",
       "    <tr>\n",
       "      <th>13</th>\n",
       "      <td>stroke</td>\n",
       "      <td>True is less at risk than False</td>\n",
       "      <td>440014.0</td>\n",
       "      <td>1.000</td>\n",
       "    </tr>\n",
       "    <tr>\n",
       "      <th>14</th>\n",
       "      <td>age_range</td>\n",
       "      <td>True is more at risk than False</td>\n",
       "      <td>360135.5</td>\n",
       "      <td>0.000</td>\n",
       "    </tr>\n",
       "    <tr>\n",
       "      <th>15</th>\n",
       "      <td>age_range</td>\n",
       "      <td>True is less at risk than False</td>\n",
       "      <td>360135.5</td>\n",
       "      <td>1.000</td>\n",
       "    </tr>\n",
       "    <tr>\n",
       "      <th>16</th>\n",
       "      <td>govt_job</td>\n",
       "      <td>True is more at risk than False</td>\n",
       "      <td>214229.0</td>\n",
       "      <td>0.830</td>\n",
       "    </tr>\n",
       "    <tr>\n",
       "      <th>17</th>\n",
       "      <td>govt_job</td>\n",
       "      <td>True is less at risk than False</td>\n",
       "      <td>214229.0</td>\n",
       "      <td>0.170</td>\n",
       "    </tr>\n",
       "    <tr>\n",
       "      <th>18</th>\n",
       "      <td>self_employed</td>\n",
       "      <td>True is more at risk than False</td>\n",
       "      <td>237480.0</td>\n",
       "      <td>0.004</td>\n",
       "    </tr>\n",
       "    <tr>\n",
       "      <th>19</th>\n",
       "      <td>self_employed</td>\n",
       "      <td>True is less at risk than False</td>\n",
       "      <td>237480.0</td>\n",
       "      <td>0.996</td>\n",
       "    </tr>\n",
       "    <tr>\n",
       "      <th>20</th>\n",
       "      <td>private_work</td>\n",
       "      <td>True is more at risk than False</td>\n",
       "      <td>237485.5</td>\n",
       "      <td>0.027</td>\n",
       "    </tr>\n",
       "    <tr>\n",
       "      <th>21</th>\n",
       "      <td>private_work</td>\n",
       "      <td>True is less at risk than False</td>\n",
       "      <td>237485.5</td>\n",
       "      <td>0.973</td>\n",
       "    </tr>\n",
       "    <tr>\n",
       "      <th>22</th>\n",
       "      <td>never_worked</td>\n",
       "      <td>True is more at risk than False</td>\n",
       "      <td>190833.5</td>\n",
       "      <td>1.000</td>\n",
       "    </tr>\n",
       "    <tr>\n",
       "      <th>23</th>\n",
       "      <td>never_worked</td>\n",
       "      <td>True is less at risk than False</td>\n",
       "      <td>190833.5</td>\n",
       "      <td>0.000</td>\n",
       "    </tr>\n",
       "    <tr>\n",
       "      <th>24</th>\n",
       "      <td>high_glucose</td>\n",
       "      <td>True is more at risk than False</td>\n",
       "      <td>279219.0</td>\n",
       "      <td>0.000</td>\n",
       "    </tr>\n",
       "    <tr>\n",
       "      <th>25</th>\n",
       "      <td>high_glucose</td>\n",
       "      <td>True is less at risk than False</td>\n",
       "      <td>279219.0</td>\n",
       "      <td>1.000</td>\n",
       "    </tr>\n",
       "    <tr>\n",
       "      <th>26</th>\n",
       "      <td>current_smoker</td>\n",
       "      <td>True is more at risk than False</td>\n",
       "      <td>232505.0</td>\n",
       "      <td>0.031</td>\n",
       "    </tr>\n",
       "    <tr>\n",
       "      <th>27</th>\n",
       "      <td>current_smoker</td>\n",
       "      <td>True is less at risk than False</td>\n",
       "      <td>232505.0</td>\n",
       "      <td>0.969</td>\n",
       "    </tr>\n",
       "    <tr>\n",
       "      <th>28</th>\n",
       "      <td>prior_smoker</td>\n",
       "      <td>True is more at risk than False</td>\n",
       "      <td>248403.5</td>\n",
       "      <td>0.000</td>\n",
       "    </tr>\n",
       "    <tr>\n",
       "      <th>29</th>\n",
       "      <td>prior_smoker</td>\n",
       "      <td>True is less at risk than False</td>\n",
       "      <td>248403.5</td>\n",
       "      <td>1.000</td>\n",
       "    </tr>\n",
       "  </tbody>\n",
       "</table>\n",
       "</div>"
      ],
      "text/plain": [
       "           feature                             test    t-stat  p-value\n",
       "0           gender  True is more at risk than False  224565.0    0.307\n",
       "1           gender  True is less at risk than False  224565.0    0.693\n",
       "2              age  True is more at risk than False  362586.5    0.000\n",
       "3              age  True is less at risk than False  362586.5    1.000\n",
       "4     hypertension  True is more at risk than False  253833.0    0.000\n",
       "5     hypertension  True is less at risk than False  253833.0    1.000\n",
       "6    heart_disease  True is more at risk than False  261413.5    0.000\n",
       "7    heart_disease  True is less at risk than False  261413.5    1.000\n",
       "8     ever_married  True is more at risk than False  277902.5    0.000\n",
       "9     ever_married  True is less at risk than False  277902.5    1.000\n",
       "10  residence_type  True is more at risk than False  234150.5    0.062\n",
       "11  residence_type  True is less at risk than False  234150.5    0.938\n",
       "12          stroke  True is more at risk than False  440014.0    0.000\n",
       "13          stroke  True is less at risk than False  440014.0    1.000\n",
       "14       age_range  True is more at risk than False  360135.5    0.000\n",
       "15       age_range  True is less at risk than False  360135.5    1.000\n",
       "16        govt_job  True is more at risk than False  214229.0    0.830\n",
       "17        govt_job  True is less at risk than False  214229.0    0.170\n",
       "18   self_employed  True is more at risk than False  237480.0    0.004\n",
       "19   self_employed  True is less at risk than False  237480.0    0.996\n",
       "20    private_work  True is more at risk than False  237485.5    0.027\n",
       "21    private_work  True is less at risk than False  237485.5    0.973\n",
       "22    never_worked  True is more at risk than False  190833.5    1.000\n",
       "23    never_worked  True is less at risk than False  190833.5    0.000\n",
       "24    high_glucose  True is more at risk than False  279219.0    0.000\n",
       "25    high_glucose  True is less at risk than False  279219.0    1.000\n",
       "26  current_smoker  True is more at risk than False  232505.0    0.031\n",
       "27  current_smoker  True is less at risk than False  232505.0    0.969\n",
       "28    prior_smoker  True is more at risk than False  248403.5    0.000\n",
       "29    prior_smoker  True is less at risk than False  248403.5    1.000"
      ]
     },
     "execution_count": 32,
     "metadata": {},
     "output_type": "execute_result"
    }
   ],
   "source": [
    "# create the two samples\n",
    "stroke_vals = train[train['stroke'] == True]\n",
    "non_stroke_vals = train[train['stroke'] == False]\n",
    "\n",
    "# create empty dataframe\n",
    "results_df = pd.DataFrame(columns=['feature', 'test', 't-stat', 'p-value'])\n",
    "# loop through columns\n",
    "for col in train.columns[:-2]:\n",
    "    # run t-tests\n",
    "    g_t, g_p, l_t, l_p = ttest_me(stroke_vals[col], non_stroke_vals[col])\n",
    "    # put results to dataframe\n",
    "    results_df = results_df.append({'feature':col, 'test':'True is more at risk than False', 't-stat':g_t, 'p-value':round(g_p, 3)}, ignore_index=True)\n",
    "    results_df = results_df.append({'feature':col, 'test':'True is less at risk than False', 't-stat':l_t, 'p-value':round(l_p, 3)}, ignore_index=True)\n",
    "    \n",
    "# output results that passed 95% confidence level \n",
    "alpha = .05\n",
    "print('Features and MannWhitneyU Test Results')\n",
    "print('-'*50)\n",
    "results_df"
   ]
  },
  {
   "cell_type": "markdown",
   "id": "2d070c7c",
   "metadata": {},
   "source": [
    "# Independence Tests\n",
    "- pd.crosstab against two *categorical* columns, then stats.chi2_contingency of that dataframe (returns chi2, pvalue, degf, expected_values_array)\n",
    "- Degree of Freedom: (num_cols - 1) * (num_rows - 1)\n",
    "- Check df for potential categorical columns: df.nunique() ----- returns count of unique values for each column, if column has low count then good chance it's categorical"
   ]
  },
  {
   "cell_type": "code",
   "execution_count": 33,
   "id": "d538936b",
   "metadata": {},
   "outputs": [],
   "source": [
    "cat_cols = ['gender',\n",
    "            'hypertension',\n",
    "            'heart_disease',\n",
    "            'ever_married',\n",
    "            'residence_type',\n",
    "            'age_range',\n",
    "            'govt_job',\n",
    "            'self_employed',\n",
    "            'private_work',\n",
    "            'never_worked',\n",
    "            'high_glucose',\n",
    "            'current_smoker',\n",
    "            'prior_smoker',\n",
    "            'never_smoked',\n",
    "            'bmi_range']"
   ]
  },
  {
   "cell_type": "code",
   "execution_count": 34,
   "id": "d9aebf67",
   "metadata": {},
   "outputs": [],
   "source": [
    "chi2_results_df = pd.DataFrame({'col1':[], 'col2':[], 'chi2':[], 'p':[], 'degf':[], 'expected':[]})\n",
    "\n",
    "for col1 in cat_cols:\n",
    "    for col2 in cat_cols:\n",
    "        chi2, p, degf, expected = stats.chi2_contingency(pd.crosstab(train[col1], train[col2]))\n",
    "        chi2_results_df = chi2_results_df.append({'col1':col1, \n",
    "                                                  'col2':col2, \n",
    "                                                  'chi2':chi2, \n",
    "                                                  'p':p, \n",
    "                                                  'degf':degf, \n",
    "                                                  'expected':expected},\n",
    "                                                  ignore_index=True)\n"
   ]
  },
  {
   "cell_type": "code",
   "execution_count": 35,
   "id": "53b5957f",
   "metadata": {},
   "outputs": [],
   "source": [
    "mask = chi2_results_df.col1 != chi2_results_df.col2\n",
    "chi2_results_df = chi2_results_df[mask].reset_index(drop=True)"
   ]
  },
  {
   "cell_type": "code",
   "execution_count": 36,
   "id": "2120b29f",
   "metadata": {},
   "outputs": [],
   "source": [
    "mask2 = chi2_results_df.p < .05\n",
    "good_checks = chi2_results_df[mask2]\n",
    "mask3 = chi2_results_df.p > .05\n",
    "failed_checks = chi2_results_df[mask3]"
   ]
  },
  {
   "cell_type": "code",
   "execution_count": 37,
   "id": "04a1bbe2",
   "metadata": {},
   "outputs": [
    {
     "data": {
      "text/html": [
       "<div>\n",
       "<style scoped>\n",
       "    .dataframe tbody tr th:only-of-type {\n",
       "        vertical-align: middle;\n",
       "    }\n",
       "\n",
       "    .dataframe tbody tr th {\n",
       "        vertical-align: top;\n",
       "    }\n",
       "\n",
       "    .dataframe thead th {\n",
       "        text-align: right;\n",
       "    }\n",
       "</style>\n",
       "<table border=\"1\" class=\"dataframe\">\n",
       "  <thead>\n",
       "    <tr style=\"text-align: right;\">\n",
       "      <th></th>\n",
       "      <th>col1</th>\n",
       "      <th>col2</th>\n",
       "      <th>chi2</th>\n",
       "      <th>p</th>\n",
       "      <th>degf</th>\n",
       "      <th>expected</th>\n",
       "    </tr>\n",
       "  </thead>\n",
       "  <tbody>\n",
       "    <tr>\n",
       "      <th>70</th>\n",
       "      <td>age_range</td>\n",
       "      <td>gender</td>\n",
       "      <td>47.944059</td>\n",
       "      <td>4.847040e-05</td>\n",
       "      <td>16.0</td>\n",
       "      <td>[[113.72202283849919, 79.27797716150081], [81....</td>\n",
       "    </tr>\n",
       "    <tr>\n",
       "      <th>71</th>\n",
       "      <td>age_range</td>\n",
       "      <td>hypertension</td>\n",
       "      <td>254.485861</td>\n",
       "      <td>6.215414e-45</td>\n",
       "      <td>16.0</td>\n",
       "      <td>[[173.92039151712888, 19.079608482871127], [12...</td>\n",
       "    </tr>\n",
       "    <tr>\n",
       "      <th>72</th>\n",
       "      <td>age_range</td>\n",
       "      <td>heart_disease</td>\n",
       "      <td>277.204990</td>\n",
       "      <td>1.312206e-49</td>\n",
       "      <td>16.0</td>\n",
       "      <td>[[182.79902120717782, 10.200978792822186], [13...</td>\n",
       "    </tr>\n",
       "    <tr>\n",
       "      <th>73</th>\n",
       "      <td>age_range</td>\n",
       "      <td>ever_married</td>\n",
       "      <td>1891.413684</td>\n",
       "      <td>0.000000e+00</td>\n",
       "      <td>16.0</td>\n",
       "      <td>[[66.18042414355628, 126.81957585644372], [47....</td>\n",
       "    </tr>\n",
       "    <tr>\n",
       "      <th>74</th>\n",
       "      <td>age_range</td>\n",
       "      <td>residence_type</td>\n",
       "      <td>28.233513</td>\n",
       "      <td>2.964735e-02</td>\n",
       "      <td>16.0</td>\n",
       "      <td>[[96.1536704730832, 96.8463295269168], [68.752...</td>\n",
       "    </tr>\n",
       "    <tr>\n",
       "      <th>75</th>\n",
       "      <td>age_range</td>\n",
       "      <td>govt_job</td>\n",
       "      <td>146.366132</td>\n",
       "      <td>4.059142e-23</td>\n",
       "      <td>16.0</td>\n",
       "      <td>[[169.00880913539967, 23.991190864600327], [12...</td>\n",
       "    </tr>\n",
       "    <tr>\n",
       "      <th>76</th>\n",
       "      <td>age_range</td>\n",
       "      <td>self_employed</td>\n",
       "      <td>351.339859</td>\n",
       "      <td>5.439070e-65</td>\n",
       "      <td>16.0</td>\n",
       "      <td>[[162.8378466557912, 30.16215334420881], [116....</td>\n",
       "    </tr>\n",
       "    <tr>\n",
       "      <th>77</th>\n",
       "      <td>age_range</td>\n",
       "      <td>private_work</td>\n",
       "      <td>727.073071</td>\n",
       "      <td>2.227998e-144</td>\n",
       "      <td>16.0</td>\n",
       "      <td>[[81.04110929853181, 111.95889070146819], [57....</td>\n",
       "    </tr>\n",
       "    <tr>\n",
       "      <th>78</th>\n",
       "      <td>age_range</td>\n",
       "      <td>never_worked</td>\n",
       "      <td>2727.906814</td>\n",
       "      <td>0.000000e+00</td>\n",
       "      <td>16.0</td>\n",
       "      <td>[[166.11223491027732, 26.887765089722674], [11...</td>\n",
       "    </tr>\n",
       "    <tr>\n",
       "      <th>79</th>\n",
       "      <td>age_range</td>\n",
       "      <td>high_glucose</td>\n",
       "      <td>176.220490</td>\n",
       "      <td>4.813510e-29</td>\n",
       "      <td>16.0</td>\n",
       "      <td>[[155.4704730831974, 37.52952691680261], [111....</td>\n",
       "    </tr>\n",
       "    <tr>\n",
       "      <th>80</th>\n",
       "      <td>age_range</td>\n",
       "      <td>current_smoker</td>\n",
       "      <td>132.220054</td>\n",
       "      <td>2.376779e-20</td>\n",
       "      <td>16.0</td>\n",
       "      <td>[[162.52300163132136, 30.47699836867863], [116...</td>\n",
       "    </tr>\n",
       "    <tr>\n",
       "      <th>81</th>\n",
       "      <td>age_range</td>\n",
       "      <td>prior_smoker</td>\n",
       "      <td>180.104082</td>\n",
       "      <td>8.028487e-30</td>\n",
       "      <td>16.0</td>\n",
       "      <td>[[160.44502446982057, 32.55497553017945], [114...</td>\n",
       "    </tr>\n",
       "    <tr>\n",
       "      <th>82</th>\n",
       "      <td>age_range</td>\n",
       "      <td>never_smoked</td>\n",
       "      <td>202.578026</td>\n",
       "      <td>2.387885e-34</td>\n",
       "      <td>16.0</td>\n",
       "      <td>[[122.22283849918433, 70.77716150081567], [87....</td>\n",
       "    </tr>\n",
       "    <tr>\n",
       "      <th>83</th>\n",
       "      <td>age_range</td>\n",
       "      <td>bmi_range</td>\n",
       "      <td>1620.921967</td>\n",
       "      <td>2.212682e-275</td>\n",
       "      <td>96.0</td>\n",
       "      <td>[[20.905709624796085, 97.35008156606851, 59.88...</td>\n",
       "    </tr>\n",
       "  </tbody>\n",
       "</table>\n",
       "</div>"
      ],
      "text/plain": [
       "         col1            col2         chi2              p  degf  \\\n",
       "70  age_range          gender    47.944059   4.847040e-05  16.0   \n",
       "71  age_range    hypertension   254.485861   6.215414e-45  16.0   \n",
       "72  age_range   heart_disease   277.204990   1.312206e-49  16.0   \n",
       "73  age_range    ever_married  1891.413684   0.000000e+00  16.0   \n",
       "74  age_range  residence_type    28.233513   2.964735e-02  16.0   \n",
       "75  age_range        govt_job   146.366132   4.059142e-23  16.0   \n",
       "76  age_range   self_employed   351.339859   5.439070e-65  16.0   \n",
       "77  age_range    private_work   727.073071  2.227998e-144  16.0   \n",
       "78  age_range    never_worked  2727.906814   0.000000e+00  16.0   \n",
       "79  age_range    high_glucose   176.220490   4.813510e-29  16.0   \n",
       "80  age_range  current_smoker   132.220054   2.376779e-20  16.0   \n",
       "81  age_range    prior_smoker   180.104082   8.028487e-30  16.0   \n",
       "82  age_range    never_smoked   202.578026   2.387885e-34  16.0   \n",
       "83  age_range       bmi_range  1620.921967  2.212682e-275  96.0   \n",
       "\n",
       "                                             expected  \n",
       "70  [[113.72202283849919, 79.27797716150081], [81....  \n",
       "71  [[173.92039151712888, 19.079608482871127], [12...  \n",
       "72  [[182.79902120717782, 10.200978792822186], [13...  \n",
       "73  [[66.18042414355628, 126.81957585644372], [47....  \n",
       "74  [[96.1536704730832, 96.8463295269168], [68.752...  \n",
       "75  [[169.00880913539967, 23.991190864600327], [12...  \n",
       "76  [[162.8378466557912, 30.16215334420881], [116....  \n",
       "77  [[81.04110929853181, 111.95889070146819], [57....  \n",
       "78  [[166.11223491027732, 26.887765089722674], [11...  \n",
       "79  [[155.4704730831974, 37.52952691680261], [111....  \n",
       "80  [[162.52300163132136, 30.47699836867863], [116...  \n",
       "81  [[160.44502446982057, 32.55497553017945], [114...  \n",
       "82  [[122.22283849918433, 70.77716150081567], [87....  \n",
       "83  [[20.905709624796085, 97.35008156606851, 59.88...  "
      ]
     },
     "execution_count": 37,
     "metadata": {},
     "output_type": "execute_result"
    }
   ],
   "source": [
    "good_checks[good_checks.col1 == 'age_range']"
   ]
  },
  {
   "cell_type": "code",
   "execution_count": 38,
   "id": "80b046eb",
   "metadata": {},
   "outputs": [
    {
     "name": "stdout",
     "output_type": "stream",
     "text": [
      "(62, 6)\n"
     ]
    },
    {
     "data": {
      "text/html": [
       "<div>\n",
       "<style scoped>\n",
       "    .dataframe tbody tr th:only-of-type {\n",
       "        vertical-align: middle;\n",
       "    }\n",
       "\n",
       "    .dataframe tbody tr th {\n",
       "        vertical-align: top;\n",
       "    }\n",
       "\n",
       "    .dataframe thead th {\n",
       "        text-align: right;\n",
       "    }\n",
       "</style>\n",
       "<table border=\"1\" class=\"dataframe\">\n",
       "  <thead>\n",
       "    <tr style=\"text-align: right;\">\n",
       "      <th></th>\n",
       "      <th>col1</th>\n",
       "      <th>col2</th>\n",
       "      <th>chi2</th>\n",
       "      <th>p</th>\n",
       "      <th>degf</th>\n",
       "      <th>expected</th>\n",
       "    </tr>\n",
       "  </thead>\n",
       "  <tbody>\n",
       "    <tr>\n",
       "      <th>0</th>\n",
       "      <td>gender</td>\n",
       "      <td>hypertension</td>\n",
       "      <td>0.139626</td>\n",
       "      <td>0.708653</td>\n",
       "      <td>1.0</td>\n",
       "      <td>[[1627.462316476346, 178.53768352365415], [113...</td>\n",
       "    </tr>\n",
       "    <tr>\n",
       "      <th>3</th>\n",
       "      <td>gender</td>\n",
       "      <td>residence_type</td>\n",
       "      <td>0.743270</td>\n",
       "      <td>0.388615</td>\n",
       "      <td>1.0</td>\n",
       "      <td>[[899.7592169657422, 906.2407830342578], [627....</td>\n",
       "    </tr>\n",
       "    <tr>\n",
       "      <th>5</th>\n",
       "      <td>gender</td>\n",
       "      <td>govt_job</td>\n",
       "      <td>0.012331</td>\n",
       "      <td>0.911581</td>\n",
       "      <td>1.0</td>\n",
       "      <td>[[1581.5021207177815, 224.4978792822186], [110...</td>\n",
       "    </tr>\n",
       "    <tr>\n",
       "      <th>6</th>\n",
       "      <td>gender</td>\n",
       "      <td>self_employed</td>\n",
       "      <td>0.876090</td>\n",
       "      <td>0.349275</td>\n",
       "      <td>1.0</td>\n",
       "      <td>[[1523.7572593800978, 282.2427406199021], [106...</td>\n",
       "    </tr>\n",
       "    <tr>\n",
       "      <th>9</th>\n",
       "      <td>gender</td>\n",
       "      <td>high_glucose</td>\n",
       "      <td>3.003831</td>\n",
       "      <td>0.083068</td>\n",
       "      <td>1.0</td>\n",
       "      <td>[[1454.816965742251, 351.1830342577488], [1014...</td>\n",
       "    </tr>\n",
       "    <tr>\n",
       "      <th>10</th>\n",
       "      <td>gender</td>\n",
       "      <td>current_smoker</td>\n",
       "      <td>1.632161</td>\n",
       "      <td>0.201404</td>\n",
       "      <td>1.0</td>\n",
       "      <td>[[1520.811092985318, 285.1889070146819], [1060...</td>\n",
       "    </tr>\n",
       "  </tbody>\n",
       "</table>\n",
       "</div>"
      ],
      "text/plain": [
       "      col1            col2      chi2         p  degf  \\\n",
       "0   gender    hypertension  0.139626  0.708653   1.0   \n",
       "3   gender  residence_type  0.743270  0.388615   1.0   \n",
       "5   gender        govt_job  0.012331  0.911581   1.0   \n",
       "6   gender   self_employed  0.876090  0.349275   1.0   \n",
       "9   gender    high_glucose  3.003831  0.083068   1.0   \n",
       "10  gender  current_smoker  1.632161  0.201404   1.0   \n",
       "\n",
       "                                             expected  \n",
       "0   [[1627.462316476346, 178.53768352365415], [113...  \n",
       "3   [[899.7592169657422, 906.2407830342578], [627....  \n",
       "5   [[1581.5021207177815, 224.4978792822186], [110...  \n",
       "6   [[1523.7572593800978, 282.2427406199021], [106...  \n",
       "9   [[1454.816965742251, 351.1830342577488], [1014...  \n",
       "10  [[1520.811092985318, 285.1889070146819], [1060...  "
      ]
     },
     "execution_count": 38,
     "metadata": {},
     "output_type": "execute_result"
    }
   ],
   "source": [
    "print(failed_checks.shape)\n",
    "failed_checks[failed_checks.col1 == 'gender']"
   ]
  },
  {
   "cell_type": "code",
   "execution_count": 39,
   "id": "3407307c",
   "metadata": {},
   "outputs": [
    {
     "name": "stdout",
     "output_type": "stream",
     "text": [
      "heart_disease     0   1\n",
      "gender                 \n",
      "Female         1739  67\n",
      "Male           1164  95\n",
      "\n",
      "hypertension     0    1\n",
      "gender                 \n",
      "Female        1631  175\n",
      "Male          1131  128\n"
     ]
    }
   ],
   "source": [
    "print(pd.crosstab(train.gender, train.heart_disease))\n",
    "print('')\n",
    "print(pd.crosstab(train.gender, train.hypertension))"
   ]
  },
  {
   "cell_type": "code",
   "execution_count": 40,
   "id": "94941728",
   "metadata": {},
   "outputs": [
    {
     "data": {
      "text/plain": [
       "0.1072961373390558"
      ]
     },
     "execution_count": 40,
     "metadata": {},
     "output_type": "execute_result"
    }
   ],
   "source": [
    "175 / 1631"
   ]
  },
  {
   "cell_type": "code",
   "execution_count": 41,
   "id": "62fb9c05",
   "metadata": {},
   "outputs": [
    {
     "data": {
      "text/plain": [
       "0.11317418213969938"
      ]
     },
     "execution_count": 41,
     "metadata": {},
     "output_type": "execute_result"
    }
   ],
   "source": [
    "128 / 1131"
   ]
  },
  {
   "cell_type": "code",
   "execution_count": 42,
   "id": "77c09a9f",
   "metadata": {},
   "outputs": [
    {
     "data": {
      "text/plain": [
       "0.03852788959171938"
      ]
     },
     "execution_count": 42,
     "metadata": {},
     "output_type": "execute_result"
    }
   ],
   "source": [
    "67 / 1739"
   ]
  },
  {
   "cell_type": "code",
   "execution_count": 43,
   "id": "6d540ebb",
   "metadata": {},
   "outputs": [
    {
     "data": {
      "text/plain": [
       "2.118338718777248"
      ]
     },
     "execution_count": 43,
     "metadata": {},
     "output_type": "execute_result"
    }
   ],
   "source": [
    "(95 / 1164) / (67 / 1739)"
   ]
  },
  {
   "cell_type": "code",
   "execution_count": 44,
   "id": "02168878",
   "metadata": {},
   "outputs": [],
   "source": [
    "import maggies_explore"
   ]
  },
  {
   "cell_type": "code",
   "execution_count": 45,
   "id": "cf952e82",
   "metadata": {},
   "outputs": [],
   "source": [
    "target = 'stroke'\n",
    "quant_cols = ['age','avg_glucose_level','bmi']\n",
    "cat_cols = ['gender','hypertension','heart_disease','ever_married','work_type','residence_type','smoking_status']"
   ]
  },
  {
   "cell_type": "code",
   "execution_count": 46,
   "id": "ab2da3a5",
   "metadata": {},
   "outputs": [
    {
     "data": {
      "text/plain": [
       "((3065, 12), (1022, 12), (1022, 12))"
      ]
     },
     "execution_count": 46,
     "metadata": {},
     "output_type": "execute_result"
    }
   ],
   "source": [
    "# reset, re-split data\n",
    "df = prepare.prep_data(pd.read_csv('healthcare-dataset-stroke-data.csv'))\n",
    "trainvalidate, test = train_test_split(df, test_size=.2, random_state=777)\n",
    "train, validate = train_test_split(trainvalidate, test_size=.25, random_state=777)\n",
    "\n",
    "train.shape, validate.shape, test.shape"
   ]
  },
  {
   "cell_type": "code",
   "execution_count": 47,
   "id": "0b0f50ca",
   "metadata": {
    "scrolled": false
   },
   "outputs": [],
   "source": [
    "# maggies_explore.explore_multivariate(train, \n",
    "#                                      target, \n",
    "#                                      cat_cols, \n",
    "#                                      quant_cols)"
   ]
  },
  {
   "cell_type": "markdown",
   "id": "68b016d6",
   "metadata": {},
   "source": [
    "# Feature Elimination as Drivers\n",
    "We have determined that some features seem to be driving factors of stroke. We will investigate the following features:\n",
    "\n",
    "- Possibly drivers in order to investigate:\n",
    "    * 'age_range', is a driver        42*\n",
    "    * 'heart_disease', is a driver    23*\n",
    "    * 'high_glucose', is a driver     16*\n",
    "    * 'ever_married', is a driver     11*\n",
    "    * 'hypertension', is a driver      9*\n",
    "    * 'never_worked', is a driver      6*\n",
    "    * 'prior_smoker', is a driver      5*\n",
    "    * 'bmi_range', is a driver         3* ----- BMI is not a driving factor based on other stats tests\n",
    "    * 'self_employed', is a driver     2*\n",
    "\n",
    "             \n",
    "- Possibly not drivers in order to investigate:      \n",
    "    * 'gender', is not a driver         .67    \n",
    "    * 'govt_job' is not a driver        .40\n",
    "    * 'never_smoked', is not a driver   .17\n",
    "    * 'residence_type', is not a driver .14\n",
    "    * 'current_smoker', is not a driver .07\n",
    "    * 'private_work', is not a driver   .06\n",
    "    \n",
    "1. First we will run t-tests to see if each feature has a statistically significantly higher mean for stroke.\n",
    "2. Then, we will split the data into two groups of age above and below the median age of stroke occurence.\n",
    "3. After, we will check if the age-split data runs at a statistically-similar rate for each feature.\n",
    "    * In layman's terms, if these tests are not statistically significant, then we can be confident that the feature is a driver for stroke regardless of age.\n",
    "4. If a feature is significantly different between age groups, then it is likely varying on age. We can't confidently say it is not a driving factor, but we understand it has less of an impact than other features.\n",
    "\n",
    "## Heart Disease"
   ]
  },
  {
   "cell_type": "code",
   "execution_count": 48,
   "id": "2d9c41e5",
   "metadata": {},
   "outputs": [
    {
     "data": {
      "image/png": "[encoded data removed]",
      "text/plain": [
       "<Figure size 432x288 with 1 Axes>"
      ]
     },
     "metadata": {
      "needs_background": "light"
     },
     "output_type": "display_data"
    }
   ],
   "source": [
    "# age and stroke chart\n",
    "sns.histplot(train[train.stroke == 1]['age'])\n",
    "plt.title('Distribution of Ages for those having had a Stroke')\n",
    "plt.show()"
   ]
  },
  {
   "cell_type": "code",
   "execution_count": 49,
   "id": "db66b04a",
   "metadata": {},
   "outputs": [
    {
     "data": {
      "text/plain": [
       "69.0"
      ]
     },
     "execution_count": 49,
     "metadata": {},
     "output_type": "execute_result"
    }
   ],
   "source": [
    "# median value for age\n",
    "train[train.stroke == 1]['age'].median()"
   ]
  },
  {
   "cell_type": "code",
   "execution_count": 50,
   "id": "93ea6c53",
   "metadata": {},
   "outputs": [],
   "source": [
    "# splitting into above/below 69 years old\n",
    "older_stroke = train[(train.stroke == 1) & (train.age >= 69)]\n",
    "younger_stroke = train[(train.stroke == 1) & (train.age < 69)]"
   ]
  },
  {
   "cell_type": "code",
   "execution_count": 51,
   "id": "9878b49e",
   "metadata": {},
   "outputs": [
    {
     "data": {
      "text/html": [
       "<div>\n",
       "<style scoped>\n",
       "    .dataframe tbody tr th:only-of-type {\n",
       "        vertical-align: middle;\n",
       "    }\n",
       "\n",
       "    .dataframe tbody tr th {\n",
       "        vertical-align: top;\n",
       "    }\n",
       "\n",
       "    .dataframe thead th {\n",
       "        text-align: right;\n",
       "    }\n",
       "</style>\n",
       "<table border=\"1\" class=\"dataframe\">\n",
       "  <thead>\n",
       "    <tr style=\"text-align: right;\">\n",
       "      <th></th>\n",
       "      <th>gender</th>\n",
       "      <th>age</th>\n",
       "      <th>hypertension</th>\n",
       "      <th>heart_disease</th>\n",
       "      <th>ever_married</th>\n",
       "      <th>work_type</th>\n",
       "      <th>residence_type</th>\n",
       "      <th>avg_glucose_level</th>\n",
       "      <th>bmi</th>\n",
       "      <th>smoking_status</th>\n",
       "      <th>stroke</th>\n",
       "      <th>age_range</th>\n",
       "    </tr>\n",
       "  </thead>\n",
       "  <tbody>\n",
       "    <tr>\n",
       "      <th>150</th>\n",
       "      <td>Female</td>\n",
       "      <td>79.0</td>\n",
       "      <td>0</td>\n",
       "      <td>0</td>\n",
       "      <td>Yes</td>\n",
       "      <td>Private</td>\n",
       "      <td>Rural</td>\n",
       "      <td>169.67</td>\n",
       "      <td>28.6</td>\n",
       "      <td>Unknown</td>\n",
       "      <td>1</td>\n",
       "      <td>75-80</td>\n",
       "    </tr>\n",
       "    <tr>\n",
       "      <th>187</th>\n",
       "      <td>Female</td>\n",
       "      <td>82.0</td>\n",
       "      <td>1</td>\n",
       "      <td>1</td>\n",
       "      <td>Yes</td>\n",
       "      <td>Govt_job</td>\n",
       "      <td>Urban</td>\n",
       "      <td>215.94</td>\n",
       "      <td>27.9</td>\n",
       "      <td>formerly smoked</td>\n",
       "      <td>1</td>\n",
       "      <td>80-85</td>\n",
       "    </tr>\n",
       "    <tr>\n",
       "      <th>89</th>\n",
       "      <td>Male</td>\n",
       "      <td>74.0</td>\n",
       "      <td>0</td>\n",
       "      <td>0</td>\n",
       "      <td>Yes</td>\n",
       "      <td>Private</td>\n",
       "      <td>Urban</td>\n",
       "      <td>98.55</td>\n",
       "      <td>25.6</td>\n",
       "      <td>Unknown</td>\n",
       "      <td>1</td>\n",
       "      <td>70-75</td>\n",
       "    </tr>\n",
       "  </tbody>\n",
       "</table>\n",
       "</div>"
      ],
      "text/plain": [
       "     gender   age hypertension heart_disease ever_married work_type  \\\n",
       "150  Female  79.0            0             0          Yes   Private   \n",
       "187  Female  82.0            1             1          Yes  Govt_job   \n",
       "89     Male  74.0            0             0          Yes   Private   \n",
       "\n",
       "    residence_type  avg_glucose_level   bmi   smoking_status  stroke age_range  \n",
       "150          Rural             169.67  28.6          Unknown       1     75-80  \n",
       "187          Urban             215.94  27.9  formerly smoked       1     80-85  \n",
       "89           Urban              98.55  25.6          Unknown       1     70-75  "
      ]
     },
     "execution_count": 51,
     "metadata": {},
     "output_type": "execute_result"
    }
   ],
   "source": [
    "# checking work\n",
    "older_stroke.head(3)"
   ]
  },
  {
   "cell_type": "code",
   "execution_count": 52,
   "id": "b74735d6",
   "metadata": {},
   "outputs": [
    {
     "name": "stdout",
     "output_type": "stream",
     "text": [
      "0    57\n",
      "1    22\n",
      "Name: heart_disease, dtype: int64\n",
      "\n",
      "0    59\n",
      "1    13\n",
      "Name: heart_disease, dtype: int64\n"
     ]
    }
   ],
   "source": [
    "# casual check to see if numbers differ for above/below 69 had-stroke on the basis of heart disease\n",
    "print(older_stroke.heart_disease.value_counts())\n",
    "print('')\n",
    "print(younger_stroke.heart_disease.value_counts())"
   ]
  },
  {
   "cell_type": "code",
   "execution_count": 53,
   "id": "8e10d6b3",
   "metadata": {},
   "outputs": [
    {
     "name": "stdout",
     "output_type": "stream",
     "text": [
      "We are not 95% confident that heart disease correlates with age, but it does correlate with stroke.           We believe heart disease may be a driving factor of stroke.\n"
     ]
    }
   ],
   "source": [
    "# statistical check to determine if the difference is significant\n",
    "alpha = .05\n",
    "t, p = stats.mannwhitneyu(older_stroke.heart_disease, younger_stroke.heart_disease, alternative='greater')\n",
    "if p < alpha:\n",
    "    print('Heart disease correlates with age, with 95% confidence. It may not be a driving factor of stroke.')\n",
    "else:\n",
    "    print('We are not 95% confident that heart disease correlates with age, but it does correlate with stroke.\\\n",
    "           We believe heart disease may be a driving factor of stroke.')"
   ]
  },
  {
   "cell_type": "code",
   "execution_count": 54,
   "id": "b147880a",
   "metadata": {},
   "outputs": [
    {
     "data": {
      "text/plain": [
       "0.07823776240678831"
      ]
     },
     "execution_count": 54,
     "metadata": {},
     "output_type": "execute_result"
    }
   ],
   "source": [
    "p"
   ]
  },
  {
   "cell_type": "code",
   "execution_count": 55,
   "id": "bbcf8f8f",
   "metadata": {},
   "outputs": [
    {
     "data": {
      "text/plain": [
       "<AxesSubplot:xlabel='heart_disease', ylabel='Count'>"
      ]
     },
     "execution_count": 55,
     "metadata": {},
     "output_type": "execute_result"
    },
    {
     "data": {
      "image/png": "[encoded data removed]",
      "text/plain": [
       "<Figure size 432x288 with 1 Axes>"
      ]
     },
     "metadata": {
      "needs_background": "light"
     },
     "output_type": "display_data"
    }
   ],
   "source": [
    "sns.histplot(older_stroke.heart_disease)"
   ]
  },
  {
   "cell_type": "markdown",
   "id": "f0c51860",
   "metadata": {},
   "source": [
    "## High Glucose"
   ]
  },
  {
   "cell_type": "code",
   "execution_count": 56,
   "id": "9857301f",
   "metadata": {},
   "outputs": [],
   "source": [
    "# create columns for tests\n",
    "older_stroke['high_glucose'] = older_stroke['avg_glucose_level'] >= 125\n",
    "younger_stroke['high_glucose'] = younger_stroke['avg_glucose_level'] >= 125"
   ]
  },
  {
   "cell_type": "code",
   "execution_count": 57,
   "id": "67591f53",
   "metadata": {},
   "outputs": [
    {
     "name": "stdout",
     "output_type": "stream",
     "text": [
      "False    40\n",
      "True     39\n",
      "Name: high_glucose, dtype: int64\n",
      "\n",
      "False    43\n",
      "True     29\n",
      "Name: high_glucose, dtype: int64\n"
     ]
    }
   ],
   "source": [
    "# casual check to see if numbers differ for above/below 69 had-stroke on the basis of high glucose level\n",
    "print(older_stroke.high_glucose.value_counts())\n",
    "print('')\n",
    "print(younger_stroke.high_glucose.value_counts())"
   ]
  },
  {
   "cell_type": "code",
   "execution_count": 58,
   "id": "327e04c6",
   "metadata": {},
   "outputs": [
    {
     "name": "stdout",
     "output_type": "stream",
     "text": [
      "We are not 95% confident that high glucose level correlates with age, but it does correlate with stroke.           We believe high glucose level may be a driving factor of stroke.\n"
     ]
    }
   ],
   "source": [
    "# statistical check to determine if the difference is significant\n",
    "alpha = .05\n",
    "t, p = stats.mannwhitneyu(older_stroke.high_glucose, younger_stroke.high_glucose, alternative='greater')\n",
    "if p < alpha:\n",
    "    print('High glucose level correlates with age, with 95% confidence. It may not be a driving factor of stroke.')\n",
    "else:\n",
    "    print('We are not 95% confident that high glucose level correlates with age, but it does correlate with stroke.\\\n",
    "           We believe high glucose level may be a driving factor of stroke.')"
   ]
  },
  {
   "cell_type": "code",
   "execution_count": 59,
   "id": "e31ac2ca",
   "metadata": {},
   "outputs": [
    {
     "data": {
      "text/plain": [
       "0.13234425816074408"
      ]
     },
     "execution_count": 59,
     "metadata": {},
     "output_type": "execute_result"
    }
   ],
   "source": [
    "p"
   ]
  },
  {
   "cell_type": "markdown",
   "id": "9b5cf2b8",
   "metadata": {},
   "source": [
    "## Ever Married"
   ]
  },
  {
   "cell_type": "code",
   "execution_count": 60,
   "id": "ba903d2d",
   "metadata": {},
   "outputs": [],
   "source": [
    "# create columns for tests\n",
    "older_stroke['married_ever'] = older_stroke['ever_married'] == 'Yes'\n",
    "younger_stroke['married_ever'] = younger_stroke['ever_married'] == 'Yes'"
   ]
  },
  {
   "cell_type": "code",
   "execution_count": 61,
   "id": "527d57f6",
   "metadata": {},
   "outputs": [
    {
     "name": "stdout",
     "output_type": "stream",
     "text": [
      "True     70\n",
      "False     9\n",
      "Name: married_ever, dtype: int64\n",
      "\n",
      "True     67\n",
      "False     5\n",
      "Name: married_ever, dtype: int64\n"
     ]
    }
   ],
   "source": [
    "# casual check to see if numbers differ for above/below 69 had-stroke on the basis of ever-married status\n",
    "print(older_stroke.married_ever.value_counts())\n",
    "print('')\n",
    "print(younger_stroke.married_ever.value_counts())"
   ]
  },
  {
   "cell_type": "code",
   "execution_count": 62,
   "id": "0dbfed78",
   "metadata": {},
   "outputs": [
    {
     "name": "stdout",
     "output_type": "stream",
     "text": [
      "We are not 95% confident that ever-married status correlates with age, but it does correlate with stroke.           We believe ever-married status may be a driving factor of stroke.\n"
     ]
    }
   ],
   "source": [
    "# statistical check to determine if the difference is significant\n",
    "alpha = .05\n",
    "t, p = stats.mannwhitneyu(older_stroke.married_ever, younger_stroke.married_ever, alternative='greater')\n",
    "if p < alpha:\n",
    "    print('ever-married status correlates with age, with 95% confidence. It may not be a driving factor of stroke.')\n",
    "else:\n",
    "    print('We are not 95% confident that ever-married status correlates with age, but it does correlate with stroke.\\\n",
    "           We believe ever-married status may be a driving factor of stroke.')"
   ]
  },
  {
   "cell_type": "code",
   "execution_count": 63,
   "id": "03e24986",
   "metadata": {},
   "outputs": [
    {
     "data": {
      "text/plain": [
       "0.8268616747803987"
      ]
     },
     "execution_count": 63,
     "metadata": {},
     "output_type": "execute_result"
    }
   ],
   "source": [
    "# p value is very high; marriage rate higher for younger + had-stroke than it is for older + had-stroke...\n",
    "p"
   ]
  },
  {
   "cell_type": "code",
   "execution_count": 64,
   "id": "d10e5eba",
   "metadata": {},
   "outputs": [
    {
     "data": {
      "text/plain": [
       "0.8860759493670886"
      ]
     },
     "execution_count": 64,
     "metadata": {},
     "output_type": "execute_result"
    }
   ],
   "source": [
    "# checking manually\n",
    "older_stroke.married_ever.mean()"
   ]
  },
  {
   "cell_type": "code",
   "execution_count": 65,
   "id": "f5e57264",
   "metadata": {},
   "outputs": [
    {
     "data": {
      "text/plain": [
       "0.9305555555555556"
      ]
     },
     "execution_count": 65,
     "metadata": {},
     "output_type": "execute_result"
    }
   ],
   "source": [
    "# checking manually\n",
    "younger_stroke.married_ever.mean()"
   ]
  },
  {
   "cell_type": "markdown",
   "id": "ffe134a0",
   "metadata": {},
   "source": [
    "## Hypertension"
   ]
  },
  {
   "cell_type": "code",
   "execution_count": 66,
   "id": "7963e4db",
   "metadata": {},
   "outputs": [
    {
     "name": "stdout",
     "output_type": "stream",
     "text": [
      "0    56\n",
      "1    23\n",
      "Name: hypertension, dtype: int64\n",
      "\n",
      "0    58\n",
      "1    14\n",
      "Name: hypertension, dtype: int64\n"
     ]
    }
   ],
   "source": [
    "# casual check to see if numbers differ for above/below 69 had-stroke on the basis of hypertension\n",
    "print(older_stroke.hypertension.value_counts())\n",
    "print('')\n",
    "print(younger_stroke.hypertension.value_counts())"
   ]
  },
  {
   "cell_type": "code",
   "execution_count": 67,
   "id": "245441df",
   "metadata": {},
   "outputs": [
    {
     "name": "stdout",
     "output_type": "stream",
     "text": [
      "We are not 95% confident that hypertension status correlates with age, but it does correlate with stroke.           We believe hypertension status may be a driving factor of stroke.\n"
     ]
    }
   ],
   "source": [
    "# statistical check to determine if the difference is significant\n",
    "alpha = .05\n",
    "t, p = stats.mannwhitneyu(older_stroke.hypertension, younger_stroke.hypertension, alternative='greater')\n",
    "if p < alpha:\n",
    "    print('hypertension status correlates with age, with 95% confidence. It may not be a driving factor of stroke.')\n",
    "else:\n",
    "    print('We are not 95% confident that hypertension status correlates with age, but it does correlate with stroke.\\\n",
    "           We believe hypertension status may be a driving factor of stroke.')"
   ]
  },
  {
   "cell_type": "code",
   "execution_count": 68,
   "id": "cad412dd",
   "metadata": {},
   "outputs": [
    {
     "data": {
      "text/plain": [
       "0.0849182639126197"
      ]
     },
     "execution_count": 68,
     "metadata": {},
     "output_type": "execute_result"
    }
   ],
   "source": [
    "p"
   ]
  },
  {
   "cell_type": "markdown",
   "id": "9ddfe668",
   "metadata": {},
   "source": [
    "## Never Worked"
   ]
  },
  {
   "cell_type": "code",
   "execution_count": 69,
   "id": "8c9076d4",
   "metadata": {},
   "outputs": [
    {
     "data": {
      "text/plain": [
       "array(['Private', 'Self-employed', 'children', 'Govt_job', 'Never_worked'],\n",
       "      dtype=object)"
      ]
     },
     "execution_count": 69,
     "metadata": {},
     "output_type": "execute_result"
    }
   ],
   "source": [
    "train.work_type.unique()"
   ]
  },
  {
   "cell_type": "code",
   "execution_count": 70,
   "id": "e9e0b72e",
   "metadata": {},
   "outputs": [],
   "source": [
    "# create columns for tests\n",
    "older_stroke['never_worked'] = (older_stroke['work_type'] == 'Never_worked') | (older_stroke['work_type'] == 'children')\n",
    "younger_stroke['never_worked'] = (younger_stroke['work_type'] == 'Never_worked') | (younger_stroke['work_type'] == 'children')"
   ]
  },
  {
   "cell_type": "code",
   "execution_count": 71,
   "id": "498b3c11",
   "metadata": {},
   "outputs": [
    {
     "name": "stdout",
     "output_type": "stream",
     "text": [
      "False    79\n",
      "Name: never_worked, dtype: int64\n",
      "\n",
      "False    70\n",
      "True      2\n",
      "Name: never_worked, dtype: int64\n"
     ]
    }
   ],
   "source": [
    "print(older_stroke.never_worked.value_counts())\n",
    "print('')\n",
    "print(younger_stroke.never_worked.value_counts())"
   ]
  },
  {
   "cell_type": "markdown",
   "id": "e659d6c2",
   "metadata": {},
   "source": [
    "> Never_worked: Not enough observations to make a conclusion about independence from age."
   ]
  },
  {
   "cell_type": "markdown",
   "id": "95d2bb40",
   "metadata": {},
   "source": [
    "## Prior Smoker"
   ]
  },
  {
   "cell_type": "code",
   "execution_count": 72,
   "id": "d504eb3e",
   "metadata": {},
   "outputs": [],
   "source": [
    "older_stroke['formerly_smoked'] = older_stroke['smoking_status'] == 'formerly smoked'\n",
    "younger_stroke['formerly_smoked'] = younger_stroke['smoking_status'] == 'formerly smoked'"
   ]
  },
  {
   "cell_type": "code",
   "execution_count": 73,
   "id": "0eff2d17",
   "metadata": {},
   "outputs": [
    {
     "name": "stdout",
     "output_type": "stream",
     "text": [
      "False    58\n",
      "True     21\n",
      "Name: formerly_smoked, dtype: int64\n",
      "\n",
      "False    49\n",
      "True     23\n",
      "Name: formerly_smoked, dtype: int64\n"
     ]
    }
   ],
   "source": [
    "print(older_stroke.formerly_smoked.value_counts())\n",
    "print('')\n",
    "print(younger_stroke.formerly_smoked.value_counts())"
   ]
  },
  {
   "cell_type": "code",
   "execution_count": 74,
   "id": "5411db25",
   "metadata": {},
   "outputs": [
    {
     "name": "stdout",
     "output_type": "stream",
     "text": [
      "We are not 95% confident that formerly_smoked status correlates with age, but it does correlate with stroke.           We believe formerly_smoked status may be a driving factor of stroke.\n"
     ]
    }
   ],
   "source": [
    "# statistical check to determine if the difference is significant\n",
    "alpha = .05\n",
    "t, p = stats.mannwhitneyu(older_stroke.formerly_smoked, younger_stroke.formerly_smoked, alternative='greater')\n",
    "if p < alpha:\n",
    "    print('formerly_smoked status correlates with age, with 95% confidence. It may not be a driving factor of stroke.')\n",
    "else:\n",
    "    print('We are not 95% confident that formerly_smoked status correlates with age, but it does correlate with stroke.\\\n",
    "           We believe formerly_smoked status may be a driving factor of stroke.')"
   ]
  },
  {
   "cell_type": "code",
   "execution_count": 75,
   "id": "47851c7e",
   "metadata": {},
   "outputs": [
    {
     "data": {
      "text/plain": [
       "0.7655339020782937"
      ]
     },
     "execution_count": 75,
     "metadata": {},
     "output_type": "execute_result"
    }
   ],
   "source": [
    "p"
   ]
  },
  {
   "cell_type": "markdown",
   "id": "c05ff906",
   "metadata": {},
   "source": [
    "## Self-Employed"
   ]
  },
  {
   "cell_type": "code",
   "execution_count": 76,
   "id": "ec73a215",
   "metadata": {},
   "outputs": [],
   "source": [
    "older_stroke['self_employed'] = older_stroke['work_type'] == 'Self-employed'\n",
    "younger_stroke['self_employed'] = younger_stroke['work_type'] == 'Self-employed'"
   ]
  },
  {
   "cell_type": "code",
   "execution_count": 77,
   "id": "c8cef7f3",
   "metadata": {},
   "outputs": [
    {
     "name": "stdout",
     "output_type": "stream",
     "text": [
      "False    56\n",
      "True     23\n",
      "Name: self_employed, dtype: int64\n",
      "\n",
      "False    60\n",
      "True     12\n",
      "Name: self_employed, dtype: int64\n"
     ]
    }
   ],
   "source": [
    "print(older_stroke.self_employed.value_counts())\n",
    "print('')\n",
    "print(younger_stroke.self_employed.value_counts())"
   ]
  },
  {
   "cell_type": "code",
   "execution_count": 78,
   "id": "6cbfc06c",
   "metadata": {},
   "outputs": [
    {
     "name": "stdout",
     "output_type": "stream",
     "text": [
      "self_employed status correlates with age, with 95% confidence. It may not be a driving factor of stroke.\n"
     ]
    }
   ],
   "source": [
    "# statistical check to determine if the difference is significant\n",
    "alpha = .05\n",
    "t, p = stats.mannwhitneyu(older_stroke.self_employed, younger_stroke.self_employed, alternative='greater')\n",
    "if p < alpha:\n",
    "    print('self_employed status correlates with age, with 95% confidence. It may not be a driving factor of stroke.')\n",
    "else:\n",
    "    print('We are not 95% confident that self_employed status correlates with age, but it does correlate with stroke.\\\n",
    "           We believe self_employed status may be a driving factor of stroke.')"
   ]
  },
  {
   "cell_type": "code",
   "execution_count": 79,
   "id": "0077f751",
   "metadata": {},
   "outputs": [
    {
     "data": {
      "text/plain": [
       "0.03578332951136352"
      ]
     },
     "execution_count": 79,
     "metadata": {},
     "output_type": "execute_result"
    }
   ],
   "source": [
    "p"
   ]
  },
  {
   "cell_type": "code",
   "execution_count": null,
   "id": "9df73460",
   "metadata": {},
   "outputs": [],
   "source": []
  }
 ],
 "metadata": {
  "kernelspec": {
   "display_name": "Python 3 (ipykernel)",
   "language": "python",
   "name": "python3"
  },
  "language_info": {
   "codemirror_mode": {
    "name": "ipython",
    "version": 3
   },
   "file_extension": ".py",
   "mimetype": "text/x-python",
   "name": "python",
   "nbconvert_exporter": "python",
   "pygments_lexer": "ipython3",
   "version": "3.8.8"
  }
 },
 "nbformat": 4,
 "nbformat_minor": 5
}
