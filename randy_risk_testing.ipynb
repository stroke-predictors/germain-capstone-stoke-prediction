{
 "cells": [
  {
   "cell_type": "code",
   "execution_count": 1,
   "id": "cbb214d9-ffd7-477c-973f-30c4619e4916",
   "metadata": {},
   "outputs": [],
   "source": [
    "import pandas as pd\n",
    "import numpy as np\n",
    "import seaborn as sns\n",
    "import matplotlib.pyplot as plt\n",
    "from scipy import stats\n",
    "from imblearn.combine import SMOTETomek \n",
    "\n",
    "from sklearn import svm\n",
    "from sklearn.tree import DecisionTreeClassifier\n",
    "from sklearn.model_selection import train_test_split\n",
    "from sklearn.metrics import PrecisionRecallDisplay, precision_recall_curve\n",
    "\n",
    "import prepare\n",
    "import model\n",
    "\n",
    "from sklearn.metrics import roc_curve, auc, roc_auc_score\n",
    "from sklearn.multiclass import OneVsRestClassifier\n",
    "from sklearn.svm import SVC\n",
    "from sklearn.preprocessing import label_binarize\n",
    "from sklearn.naive_bayes import GaussianNB\n",
    "from sklearn.feature_selection import SelectKBest, f_regression"
   ]
  },
  {
   "cell_type": "code",
   "execution_count": 2,
   "id": "41c0f363-d95f-4d52-a4e3-fa6b7395d29b",
   "metadata": {},
   "outputs": [],
   "source": [
    "# acquire dataset\n",
    "df = pd.read_csv('healthcare-dataset-stroke-data.csv')"
   ]
  },
  {
   "cell_type": "code",
   "execution_count": 3,
   "id": "570cfb35-cf74-4273-9eb4-6bf4981a5ffa",
   "metadata": {},
   "outputs": [],
   "source": [
    "# prepare data using script\n",
    "df = prepare.prep_data(df).drop(columns=['age_range'])"
   ]
  },
  {
   "cell_type": "code",
   "execution_count": 4,
   "id": "bcbf33ca-724f-4c7e-9dbc-d2a6af3b098f",
   "metadata": {},
   "outputs": [
    {
     "name": "stdout",
     "output_type": "stream",
     "text": [
      "<class 'pandas.core.frame.DataFrame'>\n",
      "RangeIndex: 5109 entries, 0 to 5108\n",
      "Data columns (total 11 columns):\n",
      " #   Column             Non-Null Count  Dtype  \n",
      "---  ------             --------------  -----  \n",
      " 0   gender             5109 non-null   object \n",
      " 1   age                5109 non-null   float64\n",
      " 2   hypertension       5109 non-null   object \n",
      " 3   heart_disease      5109 non-null   object \n",
      " 4   ever_married       5109 non-null   object \n",
      " 5   work_type          5109 non-null   object \n",
      " 6   residence_type     5109 non-null   object \n",
      " 7   avg_glucose_level  5109 non-null   float64\n",
      " 8   bmi                5109 non-null   float64\n",
      " 9   smoking_status     5109 non-null   object \n",
      " 10  stroke             5109 non-null   int64  \n",
      "dtypes: float64(3), int64(1), object(7)\n",
      "memory usage: 439.2+ KB\n"
     ]
    }
   ],
   "source": [
    "df.info()"
   ]
  },
  {
   "cell_type": "code",
   "execution_count": 5,
   "id": "a73a4132-199e-4636-aa04-b98706f8e0fc",
   "metadata": {},
   "outputs": [],
   "source": [
    "# split the dataset into train_validate and test\n",
    "train_validate, test = train_test_split(df, test_size=.2, random_state=777)"
   ]
  },
  {
   "cell_type": "code",
   "execution_count": 6,
   "id": "f288cddc-a514-4f8c-804f-729ed157add4",
   "metadata": {},
   "outputs": [],
   "source": [
    "# the second split of train and validate\n",
    "train, validate = train_test_split(train_validate, test_size=.25, random_state=777)"
   ]
  },
  {
   "cell_type": "code",
   "execution_count": 7,
   "id": "05501cd1-1b4e-401b-ba34-b86a1518ae2b",
   "metadata": {},
   "outputs": [
    {
     "data": {
      "text/plain": [
       "((3065, 11), (1022, 11), (1022, 11))"
      ]
     },
     "execution_count": 7,
     "metadata": {},
     "output_type": "execute_result"
    }
   ],
   "source": [
    "# checking the shape of each dataset\n",
    "train.shape, validate.shape, test.shape"
   ]
  },
  {
   "cell_type": "code",
   "execution_count": 8,
   "id": "070f1ca6-335e-4119-8652-7892b94444ac",
   "metadata": {},
   "outputs": [
    {
     "data": {
      "text/html": [
       "<div>\n",
       "<style scoped>\n",
       "    .dataframe tbody tr th:only-of-type {\n",
       "        vertical-align: middle;\n",
       "    }\n",
       "\n",
       "    .dataframe tbody tr th {\n",
       "        vertical-align: top;\n",
       "    }\n",
       "\n",
       "    .dataframe thead th {\n",
       "        text-align: right;\n",
       "    }\n",
       "</style>\n",
       "<table border=\"1\" class=\"dataframe\">\n",
       "  <thead>\n",
       "    <tr style=\"text-align: right;\">\n",
       "      <th></th>\n",
       "      <th>gender</th>\n",
       "      <th>age</th>\n",
       "      <th>hypertension</th>\n",
       "      <th>heart_disease</th>\n",
       "      <th>ever_married</th>\n",
       "      <th>work_type</th>\n",
       "      <th>residence_type</th>\n",
       "      <th>avg_glucose_level</th>\n",
       "      <th>bmi</th>\n",
       "      <th>smoking_status</th>\n",
       "      <th>stroke</th>\n",
       "    </tr>\n",
       "  </thead>\n",
       "  <tbody>\n",
       "    <tr>\n",
       "      <th>531</th>\n",
       "      <td>Male</td>\n",
       "      <td>23.0</td>\n",
       "      <td>0</td>\n",
       "      <td>0</td>\n",
       "      <td>No</td>\n",
       "      <td>Private</td>\n",
       "      <td>Rural</td>\n",
       "      <td>93.74</td>\n",
       "      <td>31.2</td>\n",
       "      <td>never smoked</td>\n",
       "      <td>0</td>\n",
       "    </tr>\n",
       "    <tr>\n",
       "      <th>4885</th>\n",
       "      <td>Female</td>\n",
       "      <td>21.0</td>\n",
       "      <td>0</td>\n",
       "      <td>0</td>\n",
       "      <td>No</td>\n",
       "      <td>Private</td>\n",
       "      <td>Rural</td>\n",
       "      <td>55.12</td>\n",
       "      <td>21.8</td>\n",
       "      <td>never smoked</td>\n",
       "      <td>0</td>\n",
       "    </tr>\n",
       "    <tr>\n",
       "      <th>2820</th>\n",
       "      <td>Female</td>\n",
       "      <td>20.0</td>\n",
       "      <td>0</td>\n",
       "      <td>0</td>\n",
       "      <td>No</td>\n",
       "      <td>Private</td>\n",
       "      <td>Rural</td>\n",
       "      <td>102.42</td>\n",
       "      <td>18.6</td>\n",
       "      <td>never smoked</td>\n",
       "      <td>0</td>\n",
       "    </tr>\n",
       "    <tr>\n",
       "      <th>1492</th>\n",
       "      <td>Female</td>\n",
       "      <td>23.0</td>\n",
       "      <td>0</td>\n",
       "      <td>0</td>\n",
       "      <td>No</td>\n",
       "      <td>Private</td>\n",
       "      <td>Rural</td>\n",
       "      <td>65.90</td>\n",
       "      <td>21.5</td>\n",
       "      <td>never smoked</td>\n",
       "      <td>0</td>\n",
       "    </tr>\n",
       "    <tr>\n",
       "      <th>4417</th>\n",
       "      <td>Male</td>\n",
       "      <td>18.0</td>\n",
       "      <td>0</td>\n",
       "      <td>0</td>\n",
       "      <td>No</td>\n",
       "      <td>Private</td>\n",
       "      <td>Rural</td>\n",
       "      <td>98.07</td>\n",
       "      <td>24.0</td>\n",
       "      <td>never smoked</td>\n",
       "      <td>0</td>\n",
       "    </tr>\n",
       "    <tr>\n",
       "      <th>...</th>\n",
       "      <td>...</td>\n",
       "      <td>...</td>\n",
       "      <td>...</td>\n",
       "      <td>...</td>\n",
       "      <td>...</td>\n",
       "      <td>...</td>\n",
       "      <td>...</td>\n",
       "      <td>...</td>\n",
       "      <td>...</td>\n",
       "      <td>...</td>\n",
       "      <td>...</td>\n",
       "    </tr>\n",
       "    <tr>\n",
       "      <th>2832</th>\n",
       "      <td>Male</td>\n",
       "      <td>24.0</td>\n",
       "      <td>0</td>\n",
       "      <td>0</td>\n",
       "      <td>No</td>\n",
       "      <td>Private</td>\n",
       "      <td>Urban</td>\n",
       "      <td>84.16</td>\n",
       "      <td>37.5</td>\n",
       "      <td>smokes</td>\n",
       "      <td>0</td>\n",
       "    </tr>\n",
       "    <tr>\n",
       "      <th>858</th>\n",
       "      <td>Female</td>\n",
       "      <td>19.0</td>\n",
       "      <td>0</td>\n",
       "      <td>0</td>\n",
       "      <td>No</td>\n",
       "      <td>Private</td>\n",
       "      <td>Rural</td>\n",
       "      <td>77.19</td>\n",
       "      <td>37.4</td>\n",
       "      <td>smokes</td>\n",
       "      <td>0</td>\n",
       "    </tr>\n",
       "    <tr>\n",
       "      <th>3120</th>\n",
       "      <td>Female</td>\n",
       "      <td>23.0</td>\n",
       "      <td>0</td>\n",
       "      <td>0</td>\n",
       "      <td>No</td>\n",
       "      <td>Private</td>\n",
       "      <td>Rural</td>\n",
       "      <td>91.95</td>\n",
       "      <td>23.0</td>\n",
       "      <td>Unknown</td>\n",
       "      <td>0</td>\n",
       "    </tr>\n",
       "    <tr>\n",
       "      <th>4412</th>\n",
       "      <td>Male</td>\n",
       "      <td>21.0</td>\n",
       "      <td>0</td>\n",
       "      <td>0</td>\n",
       "      <td>No</td>\n",
       "      <td>Private</td>\n",
       "      <td>Urban</td>\n",
       "      <td>73.81</td>\n",
       "      <td>19.8</td>\n",
       "      <td>Unknown</td>\n",
       "      <td>0</td>\n",
       "    </tr>\n",
       "    <tr>\n",
       "      <th>3405</th>\n",
       "      <td>Male</td>\n",
       "      <td>24.0</td>\n",
       "      <td>0</td>\n",
       "      <td>0</td>\n",
       "      <td>No</td>\n",
       "      <td>Private</td>\n",
       "      <td>Rural</td>\n",
       "      <td>200.14</td>\n",
       "      <td>37.7</td>\n",
       "      <td>smokes</td>\n",
       "      <td>0</td>\n",
       "    </tr>\n",
       "  </tbody>\n",
       "</table>\n",
       "<p>212 rows × 11 columns</p>\n",
       "</div>"
      ],
      "text/plain": [
       "      gender   age hypertension heart_disease ever_married work_type  \\\n",
       "531     Male  23.0            0             0           No   Private   \n",
       "4885  Female  21.0            0             0           No   Private   \n",
       "2820  Female  20.0            0             0           No   Private   \n",
       "1492  Female  23.0            0             0           No   Private   \n",
       "4417    Male  18.0            0             0           No   Private   \n",
       "...      ...   ...          ...           ...          ...       ...   \n",
       "2832    Male  24.0            0             0           No   Private   \n",
       "858   Female  19.0            0             0           No   Private   \n",
       "3120  Female  23.0            0             0           No   Private   \n",
       "4412    Male  21.0            0             0           No   Private   \n",
       "3405    Male  24.0            0             0           No   Private   \n",
       "\n",
       "     residence_type  avg_glucose_level   bmi smoking_status  stroke  \n",
       "531           Rural              93.74  31.2   never smoked       0  \n",
       "4885          Rural              55.12  21.8   never smoked       0  \n",
       "2820          Rural             102.42  18.6   never smoked       0  \n",
       "1492          Rural              65.90  21.5   never smoked       0  \n",
       "4417          Rural              98.07  24.0   never smoked       0  \n",
       "...             ...                ...   ...            ...     ...  \n",
       "2832          Urban              84.16  37.5         smokes       0  \n",
       "858           Rural              77.19  37.4         smokes       0  \n",
       "3120          Rural              91.95  23.0        Unknown       0  \n",
       "4412          Urban              73.81  19.8        Unknown       0  \n",
       "3405          Rural             200.14  37.7         smokes       0  \n",
       "\n",
       "[212 rows x 11 columns]"
      ]
     },
     "execution_count": 8,
     "metadata": {},
     "output_type": "execute_result"
    }
   ],
   "source": [
    "# viewing only up 18 - 25 age range from the data set\n",
    "mask = (train.age < 25) & (train.age >= 18)\n",
    "train_subset = train[mask]\n",
    "train_subset\n"
   ]
  },
  {
   "cell_type": "code",
   "execution_count": 9,
   "id": "fb9d0aa5-22fd-481f-912e-a569024c7a35",
   "metadata": {},
   "outputs": [],
   "source": [
    "# setting up for boolean masking \n",
    "mask1 = (train_subset.stroke == 0)\n",
    "mask2 = (train_subset.stroke == 1)\n",
    "has_stroke = train_subset[mask2]\n",
    "not_stroke = train_subset[mask1]"
   ]
  },
  {
   "cell_type": "code",
   "execution_count": 10,
   "id": "1cdbdc19-dcfd-4595-a0d2-9ef0177c53fb",
   "metadata": {},
   "outputs": [
    {
     "name": "stderr",
     "output_type": "stream",
     "text": [
      "/opt/homebrew/anaconda3/lib/python3.8/site-packages/scipy/stats/stats.py:7171: RuntimeWarning: divide by zero encountered in double_scalars\n",
      "  z = (bigu - meanrank) / sd\n"
     ]
    },
    {
     "data": {
      "text/plain": [
       "MannwhitneyuResult(statistic=0.0, pvalue=1.0)"
      ]
     },
     "execution_count": 10,
     "metadata": {},
     "output_type": "execute_result"
    }
   ],
   "source": [
    "# perform t-test\n",
    "stats.mannwhitneyu(has_stroke.avg_glucose_level, not_stroke.avg_glucose_level, alternative = \"greater\")\n"
   ]
  },
  {
   "cell_type": "code",
   "execution_count": 11,
   "id": "94ab5183-95c6-412f-9f28-3f3cde842de7",
   "metadata": {},
   "outputs": [
    {
     "data": {
      "text/html": [
       "<div>\n",
       "<style scoped>\n",
       "    .dataframe tbody tr th:only-of-type {\n",
       "        vertical-align: middle;\n",
       "    }\n",
       "\n",
       "    .dataframe tbody tr th {\n",
       "        vertical-align: top;\n",
       "    }\n",
       "\n",
       "    .dataframe thead th {\n",
       "        text-align: right;\n",
       "    }\n",
       "</style>\n",
       "<table border=\"1\" class=\"dataframe\">\n",
       "  <thead>\n",
       "    <tr style=\"text-align: right;\">\n",
       "      <th></th>\n",
       "      <th>gender</th>\n",
       "      <th>age</th>\n",
       "      <th>hypertension</th>\n",
       "      <th>heart_disease</th>\n",
       "      <th>ever_married</th>\n",
       "      <th>work_type</th>\n",
       "      <th>residence_type</th>\n",
       "      <th>avg_glucose_level</th>\n",
       "      <th>bmi</th>\n",
       "      <th>smoking_status</th>\n",
       "      <th>stroke</th>\n",
       "    </tr>\n",
       "  </thead>\n",
       "  <tbody>\n",
       "  </tbody>\n",
       "</table>\n",
       "</div>"
      ],
      "text/plain": [
       "Empty DataFrame\n",
       "Columns: [gender, age, hypertension, heart_disease, ever_married, work_type, residence_type, avg_glucose_level, bmi, smoking_status, stroke]\n",
       "Index: []"
      ]
     },
     "execution_count": 11,
     "metadata": {},
     "output_type": "execute_result"
    }
   ],
   "source": [
    "has_stroke"
   ]
  },
  {
   "cell_type": "code",
   "execution_count": 12,
   "id": "cc4cf6ff-3e7b-450b-861f-b75892a79365",
   "metadata": {},
   "outputs": [
    {
     "data": {
      "text/plain": [
       "0    212\n",
       "Name: stroke, dtype: int64"
      ]
     },
     "execution_count": 12,
     "metadata": {},
     "output_type": "execute_result"
    }
   ],
   "source": [
    "train_subset.stroke.value_counts()"
   ]
  },
  {
   "cell_type": "markdown",
   "id": "8febe0e0-7bca-4fbf-9ea3-c434e2cc086f",
   "metadata": {},
   "source": [
    "### In the age group 18 to 25, there was no incident of stroke"
   ]
  },
  {
   "cell_type": "code",
   "execution_count": 13,
   "id": "62481831-a941-4053-a5fb-4e82f5024e71",
   "metadata": {},
   "outputs": [
    {
     "data": {
      "text/html": [
       "<div>\n",
       "<style scoped>\n",
       "    .dataframe tbody tr th:only-of-type {\n",
       "        vertical-align: middle;\n",
       "    }\n",
       "\n",
       "    .dataframe tbody tr th {\n",
       "        vertical-align: top;\n",
       "    }\n",
       "\n",
       "    .dataframe thead th {\n",
       "        text-align: right;\n",
       "    }\n",
       "</style>\n",
       "<table border=\"1\" class=\"dataframe\">\n",
       "  <thead>\n",
       "    <tr style=\"text-align: right;\">\n",
       "      <th></th>\n",
       "      <th>gender</th>\n",
       "      <th>age</th>\n",
       "      <th>hypertension</th>\n",
       "      <th>heart_disease</th>\n",
       "      <th>ever_married</th>\n",
       "      <th>work_type</th>\n",
       "      <th>residence_type</th>\n",
       "      <th>avg_glucose_level</th>\n",
       "      <th>bmi</th>\n",
       "      <th>smoking_status</th>\n",
       "      <th>stroke</th>\n",
       "    </tr>\n",
       "  </thead>\n",
       "  <tbody>\n",
       "    <tr>\n",
       "      <th>4699</th>\n",
       "      <td>Male</td>\n",
       "      <td>47.0</td>\n",
       "      <td>0</td>\n",
       "      <td>0</td>\n",
       "      <td>Yes</td>\n",
       "      <td>Private</td>\n",
       "      <td>Rural</td>\n",
       "      <td>110.14</td>\n",
       "      <td>30.5</td>\n",
       "      <td>smokes</td>\n",
       "      <td>0</td>\n",
       "    </tr>\n",
       "    <tr>\n",
       "      <th>5035</th>\n",
       "      <td>Male</td>\n",
       "      <td>56.0</td>\n",
       "      <td>0</td>\n",
       "      <td>0</td>\n",
       "      <td>Yes</td>\n",
       "      <td>Self-employed</td>\n",
       "      <td>Rural</td>\n",
       "      <td>125.87</td>\n",
       "      <td>24.6</td>\n",
       "      <td>never smoked</td>\n",
       "      <td>0</td>\n",
       "    </tr>\n",
       "    <tr>\n",
       "      <th>1695</th>\n",
       "      <td>Male</td>\n",
       "      <td>57.0</td>\n",
       "      <td>0</td>\n",
       "      <td>0</td>\n",
       "      <td>Yes</td>\n",
       "      <td>Private</td>\n",
       "      <td>Rural</td>\n",
       "      <td>70.16</td>\n",
       "      <td>25.8</td>\n",
       "      <td>formerly smoked</td>\n",
       "      <td>0</td>\n",
       "    </tr>\n",
       "    <tr>\n",
       "      <th>1459</th>\n",
       "      <td>Female</td>\n",
       "      <td>49.0</td>\n",
       "      <td>0</td>\n",
       "      <td>0</td>\n",
       "      <td>Yes</td>\n",
       "      <td>Govt_job</td>\n",
       "      <td>Rural</td>\n",
       "      <td>83.84</td>\n",
       "      <td>19.3</td>\n",
       "      <td>formerly smoked</td>\n",
       "      <td>0</td>\n",
       "    </tr>\n",
       "    <tr>\n",
       "      <th>166</th>\n",
       "      <td>Female</td>\n",
       "      <td>56.0</td>\n",
       "      <td>0</td>\n",
       "      <td>0</td>\n",
       "      <td>Yes</td>\n",
       "      <td>Govt_job</td>\n",
       "      <td>Rural</td>\n",
       "      <td>162.23</td>\n",
       "      <td>27.3</td>\n",
       "      <td>Unknown</td>\n",
       "      <td>1</td>\n",
       "    </tr>\n",
       "    <tr>\n",
       "      <th>...</th>\n",
       "      <td>...</td>\n",
       "      <td>...</td>\n",
       "      <td>...</td>\n",
       "      <td>...</td>\n",
       "      <td>...</td>\n",
       "      <td>...</td>\n",
       "      <td>...</td>\n",
       "      <td>...</td>\n",
       "      <td>...</td>\n",
       "      <td>...</td>\n",
       "      <td>...</td>\n",
       "    </tr>\n",
       "    <tr>\n",
       "      <th>2156</th>\n",
       "      <td>Female</td>\n",
       "      <td>55.0</td>\n",
       "      <td>0</td>\n",
       "      <td>0</td>\n",
       "      <td>Yes</td>\n",
       "      <td>Self-employed</td>\n",
       "      <td>Urban</td>\n",
       "      <td>59.20</td>\n",
       "      <td>43.8</td>\n",
       "      <td>never smoked</td>\n",
       "      <td>0</td>\n",
       "    </tr>\n",
       "    <tr>\n",
       "      <th>4736</th>\n",
       "      <td>Female</td>\n",
       "      <td>54.0</td>\n",
       "      <td>0</td>\n",
       "      <td>0</td>\n",
       "      <td>Yes</td>\n",
       "      <td>Govt_job</td>\n",
       "      <td>Urban</td>\n",
       "      <td>231.54</td>\n",
       "      <td>29.9</td>\n",
       "      <td>never smoked</td>\n",
       "      <td>0</td>\n",
       "    </tr>\n",
       "    <tr>\n",
       "      <th>1345</th>\n",
       "      <td>Female</td>\n",
       "      <td>47.0</td>\n",
       "      <td>0</td>\n",
       "      <td>0</td>\n",
       "      <td>Yes</td>\n",
       "      <td>Private</td>\n",
       "      <td>Urban</td>\n",
       "      <td>112.09</td>\n",
       "      <td>24.7</td>\n",
       "      <td>smokes</td>\n",
       "      <td>0</td>\n",
       "    </tr>\n",
       "    <tr>\n",
       "      <th>2903</th>\n",
       "      <td>Male</td>\n",
       "      <td>63.0</td>\n",
       "      <td>0</td>\n",
       "      <td>0</td>\n",
       "      <td>Yes</td>\n",
       "      <td>Private</td>\n",
       "      <td>Rural</td>\n",
       "      <td>104.79</td>\n",
       "      <td>24.1</td>\n",
       "      <td>Unknown</td>\n",
       "      <td>0</td>\n",
       "    </tr>\n",
       "    <tr>\n",
       "      <th>1581</th>\n",
       "      <td>Female</td>\n",
       "      <td>44.0</td>\n",
       "      <td>0</td>\n",
       "      <td>0</td>\n",
       "      <td>Yes</td>\n",
       "      <td>Private</td>\n",
       "      <td>Rural</td>\n",
       "      <td>70.58</td>\n",
       "      <td>25.1</td>\n",
       "      <td>never smoked</td>\n",
       "      <td>0</td>\n",
       "    </tr>\n",
       "  </tbody>\n",
       "</table>\n",
       "<p>1151 rows × 11 columns</p>\n",
       "</div>"
      ],
      "text/plain": [
       "      gender   age hypertension heart_disease ever_married      work_type  \\\n",
       "4699    Male  47.0            0             0          Yes        Private   \n",
       "5035    Male  56.0            0             0          Yes  Self-employed   \n",
       "1695    Male  57.0            0             0          Yes        Private   \n",
       "1459  Female  49.0            0             0          Yes       Govt_job   \n",
       "166   Female  56.0            0             0          Yes       Govt_job   \n",
       "...      ...   ...          ...           ...          ...            ...   \n",
       "2156  Female  55.0            0             0          Yes  Self-employed   \n",
       "4736  Female  54.0            0             0          Yes       Govt_job   \n",
       "1345  Female  47.0            0             0          Yes        Private   \n",
       "2903    Male  63.0            0             0          Yes        Private   \n",
       "1581  Female  44.0            0             0          Yes        Private   \n",
       "\n",
       "     residence_type  avg_glucose_level   bmi   smoking_status  stroke  \n",
       "4699          Rural             110.14  30.5           smokes       0  \n",
       "5035          Rural             125.87  24.6     never smoked       0  \n",
       "1695          Rural              70.16  25.8  formerly smoked       0  \n",
       "1459          Rural              83.84  19.3  formerly smoked       0  \n",
       "166           Rural             162.23  27.3          Unknown       1  \n",
       "...             ...                ...   ...              ...     ...  \n",
       "2156          Urban              59.20  43.8     never smoked       0  \n",
       "4736          Urban             231.54  29.9     never smoked       0  \n",
       "1345          Urban             112.09  24.7           smokes       0  \n",
       "2903          Rural             104.79  24.1          Unknown       0  \n",
       "1581          Rural              70.58  25.1     never smoked       0  \n",
       "\n",
       "[1151 rows x 11 columns]"
      ]
     },
     "execution_count": 13,
     "metadata": {},
     "output_type": "execute_result"
    }
   ],
   "source": [
    "# looking at 40 to 65 age group\n",
    "mask3 = (train.age < 65) & (train.age >= 40)\n",
    "train_subset1 = train[mask3]\n",
    "train_subset1"
   ]
  },
  {
   "cell_type": "code",
   "execution_count": 14,
   "id": "e5bc1ec2-57ae-4944-9ab1-060655dd8019",
   "metadata": {},
   "outputs": [
    {
     "data": {
      "text/plain": [
       "0    1099\n",
       "1      52\n",
       "Name: stroke, dtype: int64"
      ]
     },
     "execution_count": 14,
     "metadata": {},
     "output_type": "execute_result"
    }
   ],
   "source": [
    "train_subset1.stroke.value_counts()"
   ]
  },
  {
   "cell_type": "code",
   "execution_count": 15,
   "id": "3f1671a1-6826-451e-8f69-a43904d76a61",
   "metadata": {},
   "outputs": [],
   "source": [
    "mask3 = (train_subset1.stroke == 0)\n",
    "mask4 = (train_subset1.stroke == 1)\n",
    "has_stroke = train_subset1[mask4]\n",
    "not_stroke = train_subset1[mask3]"
   ]
  },
  {
   "cell_type": "code",
   "execution_count": 16,
   "id": "796934a5-8542-482c-a18a-49911680bdd9",
   "metadata": {},
   "outputs": [
    {
     "data": {
      "text/plain": [
       "MannwhitneyuResult(statistic=38430.0, pvalue=1.2900358295000951e-05)"
      ]
     },
     "execution_count": 16,
     "metadata": {},
     "output_type": "execute_result"
    }
   ],
   "source": [
    "stats.mannwhitneyu(has_stroke.avg_glucose_level, not_stroke.avg_glucose_level, alternative = 'greater')\n"
   ]
  },
  {
   "cell_type": "markdown",
   "id": "f0b84d69-ab61-49fd-9efd-9709a65d6033",
   "metadata": {},
   "source": [
    "### takeaway: \n",
    "The age group 40 to 65 that had a stroke has a higer glucose level than those that did not have a stroke.\n"
   ]
  },
  {
   "cell_type": "code",
   "execution_count": 23,
   "id": "22e9d181-51c0-489a-846e-981e7ea20ecd",
   "metadata": {},
   "outputs": [
    {
     "name": "stderr",
     "output_type": "stream",
     "text": [
      "/opt/homebrew/anaconda3/lib/python3.8/site-packages/seaborn/distributions.py:2557: FutureWarning: `distplot` is a deprecated function and will be removed in a future version. Please adapt your code to use either `displot` (a figure-level function with similar flexibility) or `histplot` (an axes-level function for histograms).\n",
      "  warnings.warn(msg, FutureWarning)\n"
     ]
    },
    {
     "data": {
      "text/plain": [
       "<AxesSubplot:xlabel='avg_glucose_level', ylabel='Density'>"
      ]
     },
     "execution_count": 23,
     "metadata": {},
     "output_type": "execute_result"
    },
    {
     "data": {
      "image/png": "[encoded data removed]",
      "text/plain": [
       "<Figure size 432x288 with 1 Axes>"
      ]
     },
     "metadata": {
      "needs_background": "light"
     },
     "output_type": "display_data"
    }
   ],
   "source": [
    "sns.distplot(train_subset1.avg_glucose_level)"
   ]
  },
  {
   "cell_type": "code",
   "execution_count": 17,
   "id": "ee63d441-dfe3-4d9f-b4d7-4dbc24b90e01",
   "metadata": {},
   "outputs": [
    {
     "data": {
      "text/html": [
       "<div>\n",
       "<style scoped>\n",
       "    .dataframe tbody tr th:only-of-type {\n",
       "        vertical-align: middle;\n",
       "    }\n",
       "\n",
       "    .dataframe tbody tr th {\n",
       "        vertical-align: top;\n",
       "    }\n",
       "\n",
       "    .dataframe thead th {\n",
       "        text-align: right;\n",
       "    }\n",
       "</style>\n",
       "<table border=\"1\" class=\"dataframe\">\n",
       "  <thead>\n",
       "    <tr style=\"text-align: right;\">\n",
       "      <th></th>\n",
       "      <th>gender</th>\n",
       "      <th>age</th>\n",
       "      <th>hypertension</th>\n",
       "      <th>heart_disease</th>\n",
       "      <th>ever_married</th>\n",
       "      <th>work_type</th>\n",
       "      <th>residence_type</th>\n",
       "      <th>avg_glucose_level</th>\n",
       "      <th>bmi</th>\n",
       "      <th>smoking_status</th>\n",
       "      <th>stroke</th>\n",
       "    </tr>\n",
       "  </thead>\n",
       "  <tbody>\n",
       "    <tr>\n",
       "      <th>860</th>\n",
       "      <td>Female</td>\n",
       "      <td>46.0</td>\n",
       "      <td>0</td>\n",
       "      <td>0</td>\n",
       "      <td>Yes</td>\n",
       "      <td>Private</td>\n",
       "      <td>Rural</td>\n",
       "      <td>100.15</td>\n",
       "      <td>50.3</td>\n",
       "      <td>smokes</td>\n",
       "      <td>0</td>\n",
       "    </tr>\n",
       "    <tr>\n",
       "      <th>2606</th>\n",
       "      <td>Male</td>\n",
       "      <td>42.0</td>\n",
       "      <td>1</td>\n",
       "      <td>0</td>\n",
       "      <td>Yes</td>\n",
       "      <td>Self-employed</td>\n",
       "      <td>Rural</td>\n",
       "      <td>77.24</td>\n",
       "      <td>41.2</td>\n",
       "      <td>Unknown</td>\n",
       "      <td>0</td>\n",
       "    </tr>\n",
       "    <tr>\n",
       "      <th>2060</th>\n",
       "      <td>Male</td>\n",
       "      <td>59.0</td>\n",
       "      <td>0</td>\n",
       "      <td>0</td>\n",
       "      <td>Yes</td>\n",
       "      <td>Private</td>\n",
       "      <td>Rural</td>\n",
       "      <td>93.90</td>\n",
       "      <td>42.2</td>\n",
       "      <td>never smoked</td>\n",
       "      <td>0</td>\n",
       "    </tr>\n",
       "    <tr>\n",
       "      <th>2111</th>\n",
       "      <td>Male</td>\n",
       "      <td>57.0</td>\n",
       "      <td>1</td>\n",
       "      <td>0</td>\n",
       "      <td>Yes</td>\n",
       "      <td>Private</td>\n",
       "      <td>Urban</td>\n",
       "      <td>80.72</td>\n",
       "      <td>41.5</td>\n",
       "      <td>formerly smoked</td>\n",
       "      <td>0</td>\n",
       "    </tr>\n",
       "    <tr>\n",
       "      <th>2284</th>\n",
       "      <td>Male</td>\n",
       "      <td>52.0</td>\n",
       "      <td>1</td>\n",
       "      <td>0</td>\n",
       "      <td>Yes</td>\n",
       "      <td>Self-employed</td>\n",
       "      <td>Rural</td>\n",
       "      <td>192.37</td>\n",
       "      <td>49.2</td>\n",
       "      <td>never smoked</td>\n",
       "      <td>0</td>\n",
       "    </tr>\n",
       "    <tr>\n",
       "      <th>...</th>\n",
       "      <td>...</td>\n",
       "      <td>...</td>\n",
       "      <td>...</td>\n",
       "      <td>...</td>\n",
       "      <td>...</td>\n",
       "      <td>...</td>\n",
       "      <td>...</td>\n",
       "      <td>...</td>\n",
       "      <td>...</td>\n",
       "      <td>...</td>\n",
       "      <td>...</td>\n",
       "    </tr>\n",
       "    <tr>\n",
       "      <th>834</th>\n",
       "      <td>Female</td>\n",
       "      <td>32.0</td>\n",
       "      <td>0</td>\n",
       "      <td>0</td>\n",
       "      <td>Yes</td>\n",
       "      <td>Private</td>\n",
       "      <td>Rural</td>\n",
       "      <td>85.62</td>\n",
       "      <td>46.1</td>\n",
       "      <td>smokes</td>\n",
       "      <td>0</td>\n",
       "    </tr>\n",
       "    <tr>\n",
       "      <th>4125</th>\n",
       "      <td>Female</td>\n",
       "      <td>42.0</td>\n",
       "      <td>0</td>\n",
       "      <td>0</td>\n",
       "      <td>Yes</td>\n",
       "      <td>Private</td>\n",
       "      <td>Urban</td>\n",
       "      <td>74.80</td>\n",
       "      <td>50.6</td>\n",
       "      <td>Unknown</td>\n",
       "      <td>0</td>\n",
       "    </tr>\n",
       "    <tr>\n",
       "      <th>3343</th>\n",
       "      <td>Male</td>\n",
       "      <td>41.0</td>\n",
       "      <td>0</td>\n",
       "      <td>0</td>\n",
       "      <td>No</td>\n",
       "      <td>Private</td>\n",
       "      <td>Urban</td>\n",
       "      <td>70.55</td>\n",
       "      <td>44.2</td>\n",
       "      <td>Unknown</td>\n",
       "      <td>0</td>\n",
       "    </tr>\n",
       "    <tr>\n",
       "      <th>4224</th>\n",
       "      <td>Female</td>\n",
       "      <td>37.0</td>\n",
       "      <td>0</td>\n",
       "      <td>0</td>\n",
       "      <td>Yes</td>\n",
       "      <td>Private</td>\n",
       "      <td>Rural</td>\n",
       "      <td>77.10</td>\n",
       "      <td>55.9</td>\n",
       "      <td>Unknown</td>\n",
       "      <td>0</td>\n",
       "    </tr>\n",
       "    <tr>\n",
       "      <th>2156</th>\n",
       "      <td>Female</td>\n",
       "      <td>55.0</td>\n",
       "      <td>0</td>\n",
       "      <td>0</td>\n",
       "      <td>Yes</td>\n",
       "      <td>Self-employed</td>\n",
       "      <td>Urban</td>\n",
       "      <td>59.20</td>\n",
       "      <td>43.8</td>\n",
       "      <td>never smoked</td>\n",
       "      <td>0</td>\n",
       "    </tr>\n",
       "  </tbody>\n",
       "</table>\n",
       "<p>239 rows × 11 columns</p>\n",
       "</div>"
      ],
      "text/plain": [
       "      gender   age hypertension heart_disease ever_married      work_type  \\\n",
       "860   Female  46.0            0             0          Yes        Private   \n",
       "2606    Male  42.0            1             0          Yes  Self-employed   \n",
       "2060    Male  59.0            0             0          Yes        Private   \n",
       "2111    Male  57.0            1             0          Yes        Private   \n",
       "2284    Male  52.0            1             0          Yes  Self-employed   \n",
       "...      ...   ...          ...           ...          ...            ...   \n",
       "834   Female  32.0            0             0          Yes        Private   \n",
       "4125  Female  42.0            0             0          Yes        Private   \n",
       "3343    Male  41.0            0             0           No        Private   \n",
       "4224  Female  37.0            0             0          Yes        Private   \n",
       "2156  Female  55.0            0             0          Yes  Self-employed   \n",
       "\n",
       "     residence_type  avg_glucose_level   bmi   smoking_status  stroke  \n",
       "860           Rural             100.15  50.3           smokes       0  \n",
       "2606          Rural              77.24  41.2          Unknown       0  \n",
       "2060          Rural              93.90  42.2     never smoked       0  \n",
       "2111          Urban              80.72  41.5  formerly smoked       0  \n",
       "2284          Rural             192.37  49.2     never smoked       0  \n",
       "...             ...                ...   ...              ...     ...  \n",
       "834           Rural              85.62  46.1           smokes       0  \n",
       "4125          Urban              74.80  50.6          Unknown       0  \n",
       "3343          Urban              70.55  44.2          Unknown       0  \n",
       "4224          Rural              77.10  55.9          Unknown       0  \n",
       "2156          Urban              59.20  43.8     never smoked       0  \n",
       "\n",
       "[239 rows x 11 columns]"
      ]
     },
     "execution_count": 17,
     "metadata": {},
     "output_type": "execute_result"
    }
   ],
   "source": [
    "# looking at 40 to 65 age group for BMI\n",
    "maskb = (train.bmi < 65) & (train.bmi >= 40)\n",
    "train_subset2 = train[maskb]\n",
    "train_subset2"
   ]
  },
  {
   "cell_type": "code",
   "execution_count": 18,
   "id": "f1ebbd77-44d9-4b59-91fd-5cd8607f476b",
   "metadata": {},
   "outputs": [
    {
     "data": {
      "text/plain": [
       "0    227\n",
       "1     12\n",
       "Name: stroke, dtype: int64"
      ]
     },
     "execution_count": 18,
     "metadata": {},
     "output_type": "execute_result"
    }
   ],
   "source": [
    "train_subset2.stroke.value_counts()"
   ]
  },
  {
   "cell_type": "code",
   "execution_count": 19,
   "id": "53a86961-f35f-4f6b-a6f9-674c7d392f39",
   "metadata": {},
   "outputs": [],
   "source": [
    "mask5 = (train_subset2.stroke == 0)\n",
    "mask6 = (train_subset2.stroke == 1)\n",
    "has_stroke = train_subset2[mask6]\n",
    "not_stroke = train_subset2[mask5]"
   ]
  },
  {
   "cell_type": "code",
   "execution_count": 20,
   "id": "32f27778-2de5-4316-a32d-cf5fbcdf3a54",
   "metadata": {},
   "outputs": [
    {
     "data": {
      "text/plain": [
       "MannwhitneyuResult(statistic=1198.0, pvalue=0.759556206993732)"
      ]
     },
     "execution_count": 20,
     "metadata": {},
     "output_type": "execute_result"
    }
   ],
   "source": [
    "stats.mannwhitneyu(has_stroke.bmi, not_stroke.bmi, alternative = 'greater')\n",
    "\n"
   ]
  },
  {
   "cell_type": "code",
   "execution_count": 22,
   "id": "56f6f58d-4fe5-4913-aab2-3cfc1bd05ee1",
   "metadata": {},
   "outputs": [
    {
     "name": "stderr",
     "output_type": "stream",
     "text": [
      "/opt/homebrew/anaconda3/lib/python3.8/site-packages/seaborn/distributions.py:2557: FutureWarning: `distplot` is a deprecated function and will be removed in a future version. Please adapt your code to use either `displot` (a figure-level function with similar flexibility) or `histplot` (an axes-level function for histograms).\n",
      "  warnings.warn(msg, FutureWarning)\n"
     ]
    },
    {
     "data": {
      "text/plain": [
       "<AxesSubplot:xlabel='bmi', ylabel='Density'>"
      ]
     },
     "execution_count": 22,
     "metadata": {},
     "output_type": "execute_result"
    },
    {
     "data": {
      "image/png": "[encoded data removed]",
      "text/plain": [
       "<Figure size 432x288 with 1 Axes>"
      ]
     },
     "metadata": {
      "needs_background": "light"
     },
     "output_type": "display_data"
    }
   ],
   "source": [
    "sns.distplot(train_subset2.bmi)"
   ]
  },
  {
   "cell_type": "code",
   "execution_count": null,
   "id": "a4529818-feb9-4af7-8de4-5b150546fb9c",
   "metadata": {},
   "outputs": [],
   "source": []
  }
 ],
 "metadata": {
  "kernelspec": {
   "display_name": "Python 3",
   "language": "python",
   "name": "python3"
  },
  "language_info": {
   "codemirror_mode": {
    "name": "ipython",
    "version": 3
   },
   "file_extension": ".py",
   "mimetype": "text/x-python",
   "name": "python",
   "nbconvert_exporter": "python",
   "pygments_lexer": "ipython3",
   "version": "3.8.8"
  }
 },
 "nbformat": 4,
 "nbformat_minor": 5
}
