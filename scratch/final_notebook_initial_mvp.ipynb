{
 "cells": [
  {
   "cell_type": "markdown",
   "id": "65e4905e-d7d3-43c5-928e-981c98f398ef",
   "metadata": {},
   "source": [
    "# Stroke Predictors"
   ]
  },
  {
   "cell_type": "code",
   "execution_count": 50,
   "id": "15606bca",
   "metadata": {},
   "outputs": [],
   "source": [
    "import pandas as pd\n",
    "import numpy as np\n",
    "import seaborn as sns\n",
    "import matplotlib.pyplot as plt\n",
    "from scipy import stats\n",
    "\n",
    "\n",
    "from sklearn import svm\n",
    "from sklearn.tree import DecisionTreeClassifier\n",
    "from sklearn.model_selection import train_test_split\n",
    "from sklearn.metrics import PrecisionRecallDisplay, precision_recall_curve\n",
    "\n",
    "import prepare\n",
    "import model\n",
    "\n",
    "from sklearn.metrics import roc_curve, auc, roc_auc_score\n",
    "from sklearn.multiclass import OneVsRestClassifier\n",
    "from sklearn.svm import SVC\n",
    "from sklearn.preprocessing import label_binarize\n",
    "from sklearn.naive_bayes import GaussianNB"
   ]
  },
  {
   "cell_type": "markdown",
   "id": "1f541b7a-748e-412c-981b-f577c554b5fc",
   "metadata": {},
   "source": [
    "# Acquire and Prep"
   ]
  },
  {
   "cell_type": "code",
   "execution_count": 51,
   "id": "ed52da8c",
   "metadata": {
    "tags": []
   },
   "outputs": [],
   "source": [
    "# acquire dataset\n",
    "df = pd.read_csv('healthcare-dataset-stroke-data.csv')"
   ]
  },
  {
   "cell_type": "markdown",
   "id": "7911a478-82ca-49ff-b57f-7646ea5bd0bc",
   "metadata": {},
   "source": [
    "> File originally downloaded from Kaggle.com. A copy is available in our germain-capstone-stoke-prediction repo. "
   ]
  },
  {
   "cell_type": "code",
   "execution_count": 52,
   "id": "50e57e6b-787b-486a-bee6-dec7c6375a60",
   "metadata": {},
   "outputs": [],
   "source": [
    "# prepare data using script\n",
    "df = prepare.prep_data(df).drop(columns=['age_range'])"
   ]
  },
  {
   "cell_type": "markdown",
   "id": "26b4a424-b644-4451-8bfa-52bd100f1231",
   "metadata": {},
   "source": [
    "### Prep Process\n",
    "> - Takes the original Kaggle dataset,\n",
    "> - Drops a row for an outlier in gender and reset index, \n",
    "> - Drop the id column because the index serves the same,\n",
    "> - Converts ordinal columns to objects for one-hot encoding,\n",
    "> - Creates age_range feature for 5-year increments,\n",
    "> - Imputes BMI nulls using average BMI for observation's age range and gender, and\n",
    "> - Returns the prepared dataframe. This does not do model prep work."
   ]
  },
  {
   "cell_type": "code",
   "execution_count": 53,
   "id": "228868f9",
   "metadata": {
    "tags": []
   },
   "outputs": [
    {
     "data": {
      "text/html": [
       "<div>\n",
       "<style scoped>\n",
       "    .dataframe tbody tr th:only-of-type {\n",
       "        vertical-align: middle;\n",
       "    }\n",
       "\n",
       "    .dataframe tbody tr th {\n",
       "        vertical-align: top;\n",
       "    }\n",
       "\n",
       "    .dataframe thead th {\n",
       "        text-align: right;\n",
       "    }\n",
       "</style>\n",
       "<table border=\"1\" class=\"dataframe\">\n",
       "  <thead>\n",
       "    <tr style=\"text-align: right;\">\n",
       "      <th></th>\n",
       "      <th>gender</th>\n",
       "      <th>age</th>\n",
       "      <th>hypertension</th>\n",
       "      <th>heart_disease</th>\n",
       "      <th>ever_married</th>\n",
       "      <th>work_type</th>\n",
       "      <th>residence_type</th>\n",
       "      <th>avg_glucose_level</th>\n",
       "      <th>bmi</th>\n",
       "      <th>smoking_status</th>\n",
       "      <th>stroke</th>\n",
       "    </tr>\n",
       "  </thead>\n",
       "  <tbody>\n",
       "    <tr>\n",
       "      <th>0</th>\n",
       "      <td>Male</td>\n",
       "      <td>67.0</td>\n",
       "      <td>0</td>\n",
       "      <td>1</td>\n",
       "      <td>Yes</td>\n",
       "      <td>Private</td>\n",
       "      <td>Urban</td>\n",
       "      <td>228.69</td>\n",
       "      <td>36.6</td>\n",
       "      <td>formerly smoked</td>\n",
       "      <td>1</td>\n",
       "    </tr>\n",
       "    <tr>\n",
       "      <th>1</th>\n",
       "      <td>Female</td>\n",
       "      <td>61.0</td>\n",
       "      <td>0</td>\n",
       "      <td>0</td>\n",
       "      <td>Yes</td>\n",
       "      <td>Self-employed</td>\n",
       "      <td>Rural</td>\n",
       "      <td>202.21</td>\n",
       "      <td>30.6</td>\n",
       "      <td>never smoked</td>\n",
       "      <td>1</td>\n",
       "    </tr>\n",
       "    <tr>\n",
       "      <th>2</th>\n",
       "      <td>Male</td>\n",
       "      <td>80.0</td>\n",
       "      <td>0</td>\n",
       "      <td>1</td>\n",
       "      <td>Yes</td>\n",
       "      <td>Private</td>\n",
       "      <td>Rural</td>\n",
       "      <td>105.92</td>\n",
       "      <td>32.5</td>\n",
       "      <td>never smoked</td>\n",
       "      <td>1</td>\n",
       "    </tr>\n",
       "    <tr>\n",
       "      <th>3</th>\n",
       "      <td>Female</td>\n",
       "      <td>49.0</td>\n",
       "      <td>0</td>\n",
       "      <td>0</td>\n",
       "      <td>Yes</td>\n",
       "      <td>Private</td>\n",
       "      <td>Urban</td>\n",
       "      <td>171.23</td>\n",
       "      <td>34.4</td>\n",
       "      <td>smokes</td>\n",
       "      <td>1</td>\n",
       "    </tr>\n",
       "    <tr>\n",
       "      <th>4</th>\n",
       "      <td>Female</td>\n",
       "      <td>79.0</td>\n",
       "      <td>1</td>\n",
       "      <td>0</td>\n",
       "      <td>Yes</td>\n",
       "      <td>Self-employed</td>\n",
       "      <td>Rural</td>\n",
       "      <td>174.12</td>\n",
       "      <td>24.0</td>\n",
       "      <td>never smoked</td>\n",
       "      <td>1</td>\n",
       "    </tr>\n",
       "  </tbody>\n",
       "</table>\n",
       "</div>"
      ],
      "text/plain": [
       "   gender   age hypertension heart_disease ever_married      work_type  \\\n",
       "0    Male  67.0            0             1          Yes        Private   \n",
       "1  Female  61.0            0             0          Yes  Self-employed   \n",
       "2    Male  80.0            0             1          Yes        Private   \n",
       "3  Female  49.0            0             0          Yes        Private   \n",
       "4  Female  79.0            1             0          Yes  Self-employed   \n",
       "\n",
       "  residence_type  avg_glucose_level   bmi   smoking_status  stroke  \n",
       "0          Urban             228.69  36.6  formerly smoked       1  \n",
       "1          Rural             202.21  30.6     never smoked       1  \n",
       "2          Rural             105.92  32.5     never smoked       1  \n",
       "3          Urban             171.23  34.4           smokes       1  \n",
       "4          Rural             174.12  24.0     never smoked       1  "
      ]
     },
     "execution_count": 53,
     "metadata": {},
     "output_type": "execute_result"
    }
   ],
   "source": [
    "df.head()"
   ]
  },
  {
   "cell_type": "markdown",
   "id": "b7e3b57e",
   "metadata": {},
   "source": [
    "### Explore plan\n",
    "- Look at distributions\n",
    "- Split\n",
    "- Using Train answer hyptheses"
   ]
  },
  {
   "cell_type": "code",
   "execution_count": 5,
   "id": "3362b930",
   "metadata": {
    "tags": []
   },
   "outputs": [
    {
     "data": {
      "image/png": "[encoded data removed]",
      "text/plain": [
       "<Figure size 432x288 with 1 Axes>"
      ]
     },
     "metadata": {
      "needs_background": "light"
     },
     "output_type": "display_data"
    },
    {
     "data": {
      "image/png": "[encoded data removed]",
      "text/plain": [
       "<Figure size 432x288 with 1 Axes>"
      ]
     },
     "metadata": {
      "needs_background": "light"
     },
     "output_type": "display_data"
    },
    {
     "data": {
      "image/png": "[encoded data removed]",
      "text/plain": [
       "<Figure size 432x288 with 1 Axes>"
      ]
     },
     "metadata": {
      "needs_background": "light"
     },
     "output_type": "display_data"
    },
    {
     "data": {
      "image/png": "[encoded data removed]",
      "text/plain": [
       "<Figure size 432x288 with 1 Axes>"
      ]
     },
     "metadata": {
      "needs_background": "light"
     },
     "output_type": "display_data"
    },
    {
     "data": {
      "image/png": "[encoded data removed]",
      "text/plain": [
       "<Figure size 432x288 with 1 Axes>"
      ]
     },
     "metadata": {
      "needs_background": "light"
     },
     "output_type": "display_data"
    },
    {
     "data": {
      "image/png": "[encoded data removed]",
      "text/plain": [
       "<Figure size 432x288 with 1 Axes>"
      ]
     },
     "metadata": {
      "needs_background": "light"
     },
     "output_type": "display_data"
    },
    {
     "data": {
      "image/png": "[encoded data removed]",
      "text/plain": [
       "<Figure size 432x288 with 1 Axes>"
      ]
     },
     "metadata": {
      "needs_background": "light"
     },
     "output_type": "display_data"
    },
    {
     "data": {
      "image/png": "[encoded data removed]",
      "text/plain": [
       "<Figure size 432x288 with 1 Axes>"
      ]
     },
     "metadata": {
      "needs_background": "light"
     },
     "output_type": "display_data"
    },
    {
     "data": {
      "image/png": "[encoded data removed]",
      "text/plain": [
       "<Figure size 432x288 with 1 Axes>"
      ]
     },
     "metadata": {
      "needs_background": "light"
     },
     "output_type": "display_data"
    },
    {
     "data": {
      "image/png": "[encoded data removed]",
      "text/plain": [
       "<Figure size 432x288 with 1 Axes>"
      ]
     },
     "metadata": {
      "needs_background": "light"
     },
     "output_type": "display_data"
    },
    {
     "data": {
      "image/png": "[encoded data removed]",
      "text/plain": [
       "<Figure size 432x288 with 1 Axes>"
      ]
     },
     "metadata": {
      "needs_background": "light"
     },
     "output_type": "display_data"
    }
   ],
   "source": [
    "# creating the distribution plot for each column\n",
    "for col in df.columns:\n",
    "    sns.histplot(df[col])\n",
    "    plt.show()"
   ]
  },
  {
   "cell_type": "markdown",
   "id": "21f4c4c1",
   "metadata": {},
   "source": [
    "- age is left skewed\n",
    "- average glucose level is right skewed\n",
    "- bmi is close to normally distributed"
   ]
  },
  {
   "cell_type": "markdown",
   "id": "aea79455-ff91-4292-8871-0fe3af367062",
   "metadata": {},
   "source": [
    "# Splits"
   ]
  },
  {
   "cell_type": "code",
   "execution_count": 6,
   "id": "acd6bfbf",
   "metadata": {
    "tags": []
   },
   "outputs": [],
   "source": [
    "# split the dataset into train_validate and test\n",
    "train_validate, test = train_test_split(df, test_size=.2, random_state=777)"
   ]
  },
  {
   "cell_type": "code",
   "execution_count": 7,
   "id": "b076ebdd",
   "metadata": {},
   "outputs": [],
   "source": [
    "# the second split of train and validate\n",
    "train, validate = train_test_split(train_validate, test_size=.25, random_state=777)"
   ]
  },
  {
   "cell_type": "code",
   "execution_count": 8,
   "id": "31142a01",
   "metadata": {
    "tags": []
   },
   "outputs": [
    {
     "data": {
      "text/plain": [
       "((3065, 11), (1022, 11), (1022, 11))"
      ]
     },
     "execution_count": 8,
     "metadata": {},
     "output_type": "execute_result"
    }
   ],
   "source": [
    "# checking the shape of each dataset\n",
    "train.shape, validate.shape, test.shape"
   ]
  },
  {
   "cell_type": "markdown",
   "id": "6d8ad99e-1d66-46fb-9bed-466bcdfb10d4",
   "metadata": {},
   "source": [
    "# Hypothesis Testing"
   ]
  },
  {
   "cell_type": "markdown",
   "id": "6e5f31ee",
   "metadata": {},
   "source": [
    "## Hypothesis 1: There is relationship between average glucose level and BMI.\n",
    "> - $H_0$ : There is no relationship between average glucose level and BMI.\n",
    "> - $H_A$ : There is relationship between average glucose level and BMI.\n",
    "> - Confidence interval is 95%"
   ]
  },
  {
   "cell_type": "code",
   "execution_count": 9,
   "id": "a8d7f5c6",
   "metadata": {},
   "outputs": [],
   "source": [
    "alpha = .05"
   ]
  },
  {
   "cell_type": "code",
   "execution_count": 10,
   "id": "e07f786e",
   "metadata": {},
   "outputs": [
    {
     "data": {
      "text/plain": [
       "<AxesSubplot:xlabel='avg_glucose_level', ylabel='bmi'>"
      ]
     },
     "execution_count": 10,
     "metadata": {},
     "output_type": "execute_result"
    },
    {
     "data": {
      "image/png": "[encoded data removed]",
      "text/plain": [
       "<Figure size 432x288 with 1 Axes>"
      ]
     },
     "metadata": {
      "needs_background": "light"
     },
     "output_type": "display_data"
    }
   ],
   "source": [
    "# creating a scatterplot to show the relationsip between avg glucose level and bmi\n",
    "# hue= and bins= for colorization fanciness\n",
    "sns.regplot(data=train, x=\"avg_glucose_level\", y=\"bmi\",line_kws={'color': 'red'})"
   ]
  },
  {
   "cell_type": "code",
   "execution_count": 11,
   "id": "333e47c7",
   "metadata": {},
   "outputs": [
    {
     "data": {
      "text/plain": [
       "(0.1715344761292883, 1.1366471558585545e-21)"
      ]
     },
     "execution_count": 11,
     "metadata": {},
     "output_type": "execute_result"
    }
   ],
   "source": [
    "# here we conduct a pearson r test \n",
    "corr, p = stats.pearsonr(train.avg_glucose_level, train.bmi)\n",
    "corr, p"
   ]
  },
  {
   "cell_type": "code",
   "execution_count": 12,
   "id": "45ecfd4a",
   "metadata": {},
   "outputs": [
    {
     "name": "stdout",
     "output_type": "stream",
     "text": [
      "There is a relationship between average glucose level and bmi.\n"
     ]
    }
   ],
   "source": [
    "# comparing the p-value to alpha\n",
    "if p < alpha:\n",
    "    print('There is a relationship between average glucose level and bmi.')\n",
    "else:\n",
    "    print('We can not say with 95% confidence that there is a realionship between average glucose level and bmi.')"
   ]
  },
  {
   "cell_type": "markdown",
   "id": "a006daa3-dbc6-4717-9f91-15fd3d6890bb",
   "metadata": {},
   "source": [
    "### Result:\n",
    "> #### We are 95% confident that there is a relationship between average glucose level and BMI."
   ]
  },
  {
   "cell_type": "markdown",
   "id": "f470fe1b",
   "metadata": {},
   "source": [
    "## Hypothesis 2: People over 65 years old are more likely to have a stroke than people under 65.\n",
    "> - $H_0$ : People over 65 years old are not more likely to have a stroke than people under 65.\n",
    "> - $H_A$ : People over 65 years old are more likely to have a stroke than people under 65.\n",
    "> - Confidence interval is 95%"
   ]
  },
  {
   "cell_type": "code",
   "execution_count": 13,
   "id": "3a6bae9a-53a5-4796-b842-f1f9367f82b4",
   "metadata": {},
   "outputs": [],
   "source": [
    "alpha = .05"
   ]
  },
  {
   "cell_type": "code",
   "execution_count": 14,
   "id": "0dd4b72d-f943-42f9-baf2-4c7a8d95195f",
   "metadata": {},
   "outputs": [],
   "source": [
    "# creating samples based on age over or under 65\n",
    "over_65 = train[train.age >= 65]\n",
    "under_65 = train[train.age < 65]"
   ]
  },
  {
   "cell_type": "code",
   "execution_count": 15,
   "id": "df629ae3-433e-4fdd-bef9-6db14518db0e",
   "metadata": {},
   "outputs": [
    {
     "data": {
      "text/plain": [
       "(849465.0, 2.6226245960247797e-39)"
      ]
     },
     "execution_count": 15,
     "metadata": {},
     "output_type": "execute_result"
    }
   ],
   "source": [
    "t, p = stats.mannwhitneyu(over_65.stroke, under_65.stroke, alternative='greater') #nonparametric t-test where the alternative\n",
    "#comparing two sample means\n",
    "#alternative: first subset is significantly greater than the second subset\n",
    "t, p"
   ]
  },
  {
   "cell_type": "code",
   "execution_count": 16,
   "id": "df37b294-380d-4342-9392-79637ad6ecaa",
   "metadata": {},
   "outputs": [
    {
     "data": {
      "image/png": "[encoded data removed]",
      "text/plain": [
       "<Figure size 432x288 with 1 Axes>"
      ]
     },
     "metadata": {
      "needs_background": "light"
     },
     "output_type": "display_data"
    }
   ],
   "source": [
    "heights = [round(over_65.stroke.mean(), 3), round(under_65.stroke.mean(), 3)]\n",
    "x_labels = ['Over 65', 'Under 65']\n",
    "plt.bar(x=x_labels, height=heights)\n",
    "plt.ylabel(\"Mean Stroke Probability\")\n",
    "plt.show()"
   ]
  },
  {
   "cell_type": "code",
   "execution_count": 17,
   "id": "69a9e7bc-d557-4166-8b0e-cd192436e44a",
   "metadata": {},
   "outputs": [
    {
     "name": "stdout",
     "output_type": "stream",
     "text": [
      "People over 65 years old are more likely to have a stroke than people under 65\n"
     ]
    }
   ],
   "source": [
    "# Comparing the p-value to alpha\n",
    "if p < alpha and t > 0:\n",
    "    print('People over 65 years old are more likely to have a stroke than people under 65')\n",
    "else:\n",
    "    print('We can not say with 95% confidence that people over 65 years old are not more likely to have a stroke than people under 65')"
   ]
  },
  {
   "cell_type": "markdown",
   "id": "db6af3fc-4032-421f-89f0-60f9d8cbda2b",
   "metadata": {
    "tags": []
   },
   "source": [
    "### Result:\n",
    "> #### We are 95% confident that people over 65 years old are more likely to have a stroke than people under 65."
   ]
  },
  {
   "cell_type": "markdown",
   "id": "610fe34a-d7c3-46c4-993b-fcfec0b5b8e4",
   "metadata": {},
   "source": [
    "## Hypothesis 3: People that currently smoke have a higher risk of stroke than people that don’t currently smoke.\n",
    "> - $H_0$ : People that currently smoke do not have a higher risk of stroke than people that don’t currently smoke.\n",
    "> - $H_A$ : People that currently smoke have a higher risk of stroke than people that don’t currently smoke.\n",
    "> - Confidence interval is 95%"
   ]
  },
  {
   "cell_type": "code",
   "execution_count": 18,
   "id": "a5453718-1d04-4535-bd10-80d7ed98d6f9",
   "metadata": {},
   "outputs": [],
   "source": [
    "alpha = .05"
   ]
  },
  {
   "cell_type": "code",
   "execution_count": 19,
   "id": "567d9fa5-dcb9-4ce4-b230-5a2f72d427bb",
   "metadata": {},
   "outputs": [
    {
     "data": {
      "text/plain": [
       "never smoked       1124\n",
       "Unknown             940\n",
       "formerly smoked     517\n",
       "smokes              484\n",
       "Name: smoking_status, dtype: int64"
      ]
     },
     "execution_count": 19,
     "metadata": {},
     "output_type": "execute_result"
    }
   ],
   "source": [
    "train.smoking_status.value_counts()"
   ]
  },
  {
   "cell_type": "code",
   "execution_count": 20,
   "id": "9617b447-998b-49c7-ac3e-4076c2ae79cd",
   "metadata": {},
   "outputs": [
    {
     "data": {
      "text/plain": [
       "(637100.0, 0.031009877989108668)"
      ]
     },
     "execution_count": 20,
     "metadata": {},
     "output_type": "execute_result"
    }
   ],
   "source": [
    "active_smoker = train[train.smoking_status == \"smokes\"]\n",
    "not_active_smoker = train[train.smoking_status != \"smokes\"]\n",
    "\n",
    "t, p = stats.mannwhitneyu(active_smoker.stroke, not_active_smoker.stroke, alternative='greater') #nonparametric t-test where the alternative\n",
    "#comparing two sample means\n",
    "#alternative: first subset is significantly greater than the second subset\n",
    "t, p"
   ]
  },
  {
   "cell_type": "code",
   "execution_count": 48,
   "id": "6da5fb9c-0352-49fc-9a75-c10d7fea3e5a",
   "metadata": {},
   "outputs": [
    {
     "data": {
      "image/png": "[encoded data removed]",
      "text/plain": [
       "<Figure size 432x288 with 1 Axes>"
      ]
     },
     "metadata": {
      "needs_background": "light"
     },
     "output_type": "display_data"
    }
   ],
   "source": [
    "heights = [round(active_smoker.stroke.mean(), 3), round(not_active_smoker.stroke.mean(), 3)]\n",
    "x_labels = ['Active Smoker', 'Not Smoker']\n",
    "plt.bar(x=x_labels, height=heights)\n",
    "plt.ylabel(\"Mean Stroke Probability %\")\n",
    "plt.show()"
   ]
  },
  {
   "cell_type": "code",
   "execution_count": 22,
   "id": "08a867d6-d1e4-49d6-92ae-ea2c22153ded",
   "metadata": {},
   "outputs": [
    {
     "name": "stdout",
     "output_type": "stream",
     "text": [
      "People that currently smoke have a higher risk of stroke than people that don’t currently smoke.\n"
     ]
    }
   ],
   "source": [
    "# comparing the p-value to alpha\n",
    "if p < alpha and t>0:\n",
    "    print('People that currently smoke have a higher risk of stroke than people that don’t currently smoke.')\n",
    "else:\n",
    "    print('We can not say with 95% confidence that People that currently smoke have a higher risk of stroke than people that don’t currently smoke.')"
   ]
  },
  {
   "cell_type": "markdown",
   "id": "2ac410b2-81d1-45ca-89fa-f5931890a508",
   "metadata": {},
   "source": [
    "### Result:\n",
    "> #### We are 95% confident that people that currently smoke have a higher risk of stroke than people that don’t currently smoke."
   ]
  },
  {
   "cell_type": "markdown",
   "id": "f5094a11",
   "metadata": {},
   "source": [
    "\n",
    "## Hypothesis 4: Men are more at risk for stroke than women.\n",
    "> - $H_0$ : Men are not more at risk for stroke than women.\n",
    "> - $H_A$ : Men are more at risk for stroke than women.\n",
    "> - Confidence interval is 95%"
   ]
  },
  {
   "cell_type": "code",
   "execution_count": 23,
   "id": "888e31aa-6654-423d-8e0e-c2ab6d4a023c",
   "metadata": {},
   "outputs": [],
   "source": [
    "alpha = .05"
   ]
  },
  {
   "cell_type": "code",
   "execution_count": 24,
   "id": "27807f0e",
   "metadata": {},
   "outputs": [
    {
     "data": {
      "text/plain": [
       "Female    1806\n",
       "Male      1259\n",
       "Name: gender, dtype: int64"
      ]
     },
     "execution_count": 24,
     "metadata": {},
     "output_type": "execute_result"
    }
   ],
   "source": [
    "train.gender.value_counts()"
   ]
  },
  {
   "cell_type": "code",
   "execution_count": 25,
   "id": "0c92d453-d909-44a5-bbc1-2fbf51c49924",
   "metadata": {},
   "outputs": [
    {
     "data": {
      "text/plain": [
       "(1141435.0, 0.30698159499864974)"
      ]
     },
     "execution_count": 25,
     "metadata": {},
     "output_type": "execute_result"
    }
   ],
   "source": [
    "men = train[train.gender == \"Male\"]\n",
    "women = train[train.gender != \"Male\"]\n",
    "\n",
    "t, p = stats.mannwhitneyu(men.stroke, women.stroke, alternative='greater') #nonparametric t-test where the alternative\n",
    "#comparing two sample means\n",
    "#alternative: first subset is significantly greater than the second subset\n",
    "t, p"
   ]
  },
  {
   "cell_type": "code",
   "execution_count": 26,
   "id": "de382d32-ef3b-42a4-bdea-67f2ad28d12d",
   "metadata": {},
   "outputs": [
    {
     "data": {
      "image/png": "[encoded data removed]",
      "text/plain": [
       "<Figure size 432x288 with 1 Axes>"
      ]
     },
     "metadata": {
      "needs_background": "light"
     },
     "output_type": "display_data"
    }
   ],
   "source": [
    "heights = [round(men.stroke.mean(), 3), round(women.stroke.mean(), 3)]\n",
    "x_labels = ['Men', 'Women']\n",
    "plt.bar(x=x_labels, height=heights)\n",
    "plt.ylabel(\"Mean Stroke Probability\")\n",
    "plt.show()"
   ]
  },
  {
   "cell_type": "code",
   "execution_count": 27,
   "id": "7a0b714d-f1c6-416e-b8de-04b04bff6620",
   "metadata": {},
   "outputs": [
    {
     "name": "stdout",
     "output_type": "stream",
     "text": [
      "We can not say with 95% confidence that men are more at risk for stroke than women.\n"
     ]
    }
   ],
   "source": [
    "# comparing the p-value to alpha\n",
    "if p < alpha and t > 0:\n",
    "    print('Men are more at risk for stroke than women.')\n",
    "else:\n",
    "    print('We can not say with 95% confidence that men are more at risk for stroke than women.')"
   ]
  },
  {
   "cell_type": "markdown",
   "id": "f2531720-82c1-4da6-b2f9-75ab70330861",
   "metadata": {},
   "source": [
    "### Result:\n",
    "> #### We can not say with 95% confidence that men are more at risk for stroke than women."
   ]
  },
  {
   "cell_type": "markdown",
   "id": "e20a225c-6492-4eb6-9466-f414665b8a10",
   "metadata": {},
   "source": [
    "# **Takeways**:\n",
    "> - There is a relationship between average glucose level and bmi.\n",
    "> - People over 65 years old are more likely to have a stroke than people under 65\n",
    "> - People that currently smoke have a higher risk of stroke than people that don’t currently smoke.\n",
    "> - We can not say with 95% confidence that Men are more at risk for stroke than women."
   ]
  },
  {
   "cell_type": "code",
   "execution_count": null,
   "id": "b11d7877-4d51-4cf5-9c60-f93e488619ee",
   "metadata": {},
   "outputs": [],
   "source": []
  },
  {
   "cell_type": "code",
   "execution_count": 28,
   "id": "84d444c8",
   "metadata": {},
   "outputs": [],
   "source": [
    "df = pd.read_csv('healthcare-dataset-stroke-data.csv')"
   ]
  },
  {
   "cell_type": "code",
   "execution_count": 29,
   "id": "7f99784a",
   "metadata": {},
   "outputs": [
    {
     "data": {
      "text/plain": [
       "dtype('int64')"
      ]
     },
     "execution_count": 29,
     "metadata": {},
     "output_type": "execute_result"
    }
   ],
   "source": [
    "# prepare data using script\n",
    "df = prepare.prep_data(df).drop(columns=['age_range',])\n",
    "df.stroke.dtype"
   ]
  },
  {
   "cell_type": "code",
   "execution_count": 30,
   "id": "34cfb5e2",
   "metadata": {},
   "outputs": [
    {
     "data": {
      "text/plain": [
       "(5109, 11)"
      ]
     },
     "execution_count": 30,
     "metadata": {},
     "output_type": "execute_result"
    }
   ],
   "source": [
    "# cast stroke column as int\n",
    "df['stroke'] = df['stroke'].astype('int64')\n",
    "# check work\n",
    "df.shape"
   ]
  },
  {
   "cell_type": "code",
   "execution_count": 31,
   "id": "d42bbc40",
   "metadata": {},
   "outputs": [
    {
     "data": {
      "text/html": [
       "<div>\n",
       "<style scoped>\n",
       "    .dataframe tbody tr th:only-of-type {\n",
       "        vertical-align: middle;\n",
       "    }\n",
       "\n",
       "    .dataframe tbody tr th {\n",
       "        vertical-align: top;\n",
       "    }\n",
       "\n",
       "    .dataframe thead th {\n",
       "        text-align: right;\n",
       "    }\n",
       "</style>\n",
       "<table border=\"1\" class=\"dataframe\">\n",
       "  <thead>\n",
       "    <tr style=\"text-align: right;\">\n",
       "      <th></th>\n",
       "      <th>gender</th>\n",
       "      <th>age</th>\n",
       "      <th>hypertension</th>\n",
       "      <th>heart_disease</th>\n",
       "      <th>ever_married</th>\n",
       "      <th>work_type</th>\n",
       "      <th>residence_type</th>\n",
       "      <th>avg_glucose_level</th>\n",
       "      <th>bmi</th>\n",
       "      <th>smoking_status</th>\n",
       "      <th>stroke</th>\n",
       "    </tr>\n",
       "  </thead>\n",
       "  <tbody>\n",
       "    <tr>\n",
       "      <th>0</th>\n",
       "      <td>Male</td>\n",
       "      <td>67.0</td>\n",
       "      <td>0</td>\n",
       "      <td>1</td>\n",
       "      <td>Yes</td>\n",
       "      <td>Private</td>\n",
       "      <td>Urban</td>\n",
       "      <td>228.69</td>\n",
       "      <td>36.6</td>\n",
       "      <td>formerly smoked</td>\n",
       "      <td>1</td>\n",
       "    </tr>\n",
       "    <tr>\n",
       "      <th>1</th>\n",
       "      <td>Female</td>\n",
       "      <td>61.0</td>\n",
       "      <td>0</td>\n",
       "      <td>0</td>\n",
       "      <td>Yes</td>\n",
       "      <td>Self-employed</td>\n",
       "      <td>Rural</td>\n",
       "      <td>202.21</td>\n",
       "      <td>30.6</td>\n",
       "      <td>never smoked</td>\n",
       "      <td>1</td>\n",
       "    </tr>\n",
       "    <tr>\n",
       "      <th>2</th>\n",
       "      <td>Male</td>\n",
       "      <td>80.0</td>\n",
       "      <td>0</td>\n",
       "      <td>1</td>\n",
       "      <td>Yes</td>\n",
       "      <td>Private</td>\n",
       "      <td>Rural</td>\n",
       "      <td>105.92</td>\n",
       "      <td>32.5</td>\n",
       "      <td>never smoked</td>\n",
       "      <td>1</td>\n",
       "    </tr>\n",
       "  </tbody>\n",
       "</table>\n",
       "</div>"
      ],
      "text/plain": [
       "   gender   age hypertension heart_disease ever_married      work_type  \\\n",
       "0    Male  67.0            0             1          Yes        Private   \n",
       "1  Female  61.0            0             0          Yes  Self-employed   \n",
       "2    Male  80.0            0             1          Yes        Private   \n",
       "\n",
       "  residence_type  avg_glucose_level   bmi   smoking_status  stroke  \n",
       "0          Urban             228.69  36.6  formerly smoked       1  \n",
       "1          Rural             202.21  30.6     never smoked       1  \n",
       "2          Rural             105.92  32.5     never smoked       1  "
      ]
     },
     "execution_count": 31,
     "metadata": {},
     "output_type": "execute_result"
    }
   ],
   "source": [
    "# check work\n",
    "df.head(3)"
   ]
  },
  {
   "cell_type": "code",
   "execution_count": 32,
   "id": "b03bdbd3",
   "metadata": {},
   "outputs": [],
   "source": [
    "# set list of columns to one-hot encode\n",
    "col_list = ['gender','ever_married','work_type','residence_type','smoking_status']\n",
    "# apply one-hot encoding using above list\n",
    "df = pd.get_dummies(df, columns=col_list, drop_first=True)"
   ]
  },
  {
   "cell_type": "code",
   "execution_count": 33,
   "id": "d1d7afdb",
   "metadata": {},
   "outputs": [
    {
     "data": {
      "text/plain": [
       "((3065, 16), (1022, 16), (1022, 16))"
      ]
     },
     "execution_count": 33,
     "metadata": {},
     "output_type": "execute_result"
    }
   ],
   "source": [
    "# split using same random state as explore stage\n",
    "trainvalidate, test = train_test_split(df, test_size=.2, random_state=777)\n",
    "train, validate = train_test_split(trainvalidate, test_size=.25, random_state=777)\n",
    "# check work\n",
    "train.shape, validate.shape, test.shape"
   ]
  },
  {
   "cell_type": "code",
   "execution_count": 34,
   "id": "fdd114f6",
   "metadata": {},
   "outputs": [],
   "source": [
    "# isolate target\n",
    "X_train, y_train = train.drop(columns='stroke'), train.stroke\n",
    "X_validate, y_validate = validate.drop(columns='stroke'), validate.stroke\n",
    "X_test, y_test = test.drop(columns='stroke'), test.stroke"
   ]
  },
  {
   "cell_type": "code",
   "execution_count": 35,
   "id": "f17daf01",
   "metadata": {},
   "outputs": [],
   "source": [
    "# apply scaling using a MinMaxScaler\n",
    "scaler, X_train_scaled, X_validate_scaled, X_test_scaled = model.Min_Max_Scaler(X_train, X_validate, X_test)"
   ]
  },
  {
   "cell_type": "code",
   "execution_count": 36,
   "id": "78053528",
   "metadata": {},
   "outputs": [],
   "source": [
    "# build & fit models, append model predictions to the train and validate actuals dataframes\n",
    "y_train_predictions,\\\n",
    "y_validate_predictions = model.classification_shotgun(X_train_scaled, y_train, X_validate_scaled, y_validate)"
   ]
  },
  {
   "cell_type": "code",
   "execution_count": 37,
   "id": "c7af3abb",
   "metadata": {},
   "outputs": [],
   "source": [
    "y_train_predictions,\\\n",
    "y_validate_predictions = model.manual_baseline(y_train_predictions, y_validate_predictions, 1)"
   ]
  },
  {
   "cell_type": "code",
   "execution_count": 57,
   "id": "c23639f6",
   "metadata": {
    "tags": []
   },
   "outputs": [
    {
     "data": {
      "text/html": [
       "<div>\n",
       "<style scoped>\n",
       "    .dataframe tbody tr th:only-of-type {\n",
       "        vertical-align: middle;\n",
       "    }\n",
       "\n",
       "    .dataframe tbody tr th {\n",
       "        vertical-align: top;\n",
       "    }\n",
       "\n",
       "    .dataframe thead th {\n",
       "        text-align: right;\n",
       "    }\n",
       "</style>\n",
       "<table border=\"1\" class=\"dataframe\">\n",
       "  <thead>\n",
       "    <tr style=\"text-align: right;\">\n",
       "      <th></th>\n",
       "      <th>in_actuals</th>\n",
       "      <th>baseline</th>\n",
       "      <th>tree_maxdepth1</th>\n",
       "      <th>tree_maxdepth2</th>\n",
       "      <th>tree_maxdepth3</th>\n",
       "      <th>tree_maxdepth5</th>\n",
       "      <th>tree_maxdepth10</th>\n",
       "      <th>rf_depth1</th>\n",
       "      <th>rf_depth2</th>\n",
       "      <th>rf_depth3</th>\n",
       "      <th>...</th>\n",
       "      <th>nb_vsmooth0.01</th>\n",
       "      <th>nb_vsmooth10</th>\n",
       "      <th>nb_vsmooth100</th>\n",
       "      <th>knn_n3</th>\n",
       "      <th>knn_n5</th>\n",
       "      <th>knn_n10</th>\n",
       "      <th>knn_n25</th>\n",
       "      <th>knn_n75</th>\n",
       "      <th>manual_baseline</th>\n",
       "      <th>nb_best_model</th>\n",
       "    </tr>\n",
       "  </thead>\n",
       "  <tbody>\n",
       "    <tr>\n",
       "      <th>448</th>\n",
       "      <td>0</td>\n",
       "      <td>0</td>\n",
       "      <td>0</td>\n",
       "      <td>0</td>\n",
       "      <td>0</td>\n",
       "      <td>0</td>\n",
       "      <td>0</td>\n",
       "      <td>0</td>\n",
       "      <td>0</td>\n",
       "      <td>0</td>\n",
       "      <td>...</td>\n",
       "      <td>0</td>\n",
       "      <td>0</td>\n",
       "      <td>0</td>\n",
       "      <td>0</td>\n",
       "      <td>0</td>\n",
       "      <td>0</td>\n",
       "      <td>0</td>\n",
       "      <td>0</td>\n",
       "      <td>1</td>\n",
       "      <td>0</td>\n",
       "    </tr>\n",
       "    <tr>\n",
       "      <th>4128</th>\n",
       "      <td>0</td>\n",
       "      <td>0</td>\n",
       "      <td>0</td>\n",
       "      <td>0</td>\n",
       "      <td>0</td>\n",
       "      <td>0</td>\n",
       "      <td>0</td>\n",
       "      <td>0</td>\n",
       "      <td>0</td>\n",
       "      <td>0</td>\n",
       "      <td>...</td>\n",
       "      <td>1</td>\n",
       "      <td>0</td>\n",
       "      <td>0</td>\n",
       "      <td>0</td>\n",
       "      <td>0</td>\n",
       "      <td>0</td>\n",
       "      <td>0</td>\n",
       "      <td>0</td>\n",
       "      <td>1</td>\n",
       "      <td>1</td>\n",
       "    </tr>\n",
       "    <tr>\n",
       "      <th>4699</th>\n",
       "      <td>0</td>\n",
       "      <td>0</td>\n",
       "      <td>0</td>\n",
       "      <td>0</td>\n",
       "      <td>0</td>\n",
       "      <td>0</td>\n",
       "      <td>0</td>\n",
       "      <td>0</td>\n",
       "      <td>0</td>\n",
       "      <td>0</td>\n",
       "      <td>...</td>\n",
       "      <td>0</td>\n",
       "      <td>0</td>\n",
       "      <td>0</td>\n",
       "      <td>0</td>\n",
       "      <td>0</td>\n",
       "      <td>0</td>\n",
       "      <td>0</td>\n",
       "      <td>0</td>\n",
       "      <td>1</td>\n",
       "      <td>0</td>\n",
       "    </tr>\n",
       "    <tr>\n",
       "      <th>5035</th>\n",
       "      <td>0</td>\n",
       "      <td>0</td>\n",
       "      <td>0</td>\n",
       "      <td>0</td>\n",
       "      <td>0</td>\n",
       "      <td>0</td>\n",
       "      <td>0</td>\n",
       "      <td>0</td>\n",
       "      <td>0</td>\n",
       "      <td>0</td>\n",
       "      <td>...</td>\n",
       "      <td>0</td>\n",
       "      <td>0</td>\n",
       "      <td>0</td>\n",
       "      <td>0</td>\n",
       "      <td>0</td>\n",
       "      <td>0</td>\n",
       "      <td>0</td>\n",
       "      <td>0</td>\n",
       "      <td>1</td>\n",
       "      <td>0</td>\n",
       "    </tr>\n",
       "    <tr>\n",
       "      <th>3007</th>\n",
       "      <td>0</td>\n",
       "      <td>0</td>\n",
       "      <td>0</td>\n",
       "      <td>0</td>\n",
       "      <td>0</td>\n",
       "      <td>0</td>\n",
       "      <td>0</td>\n",
       "      <td>0</td>\n",
       "      <td>0</td>\n",
       "      <td>0</td>\n",
       "      <td>...</td>\n",
       "      <td>0</td>\n",
       "      <td>0</td>\n",
       "      <td>0</td>\n",
       "      <td>0</td>\n",
       "      <td>0</td>\n",
       "      <td>0</td>\n",
       "      <td>0</td>\n",
       "      <td>0</td>\n",
       "      <td>1</td>\n",
       "      <td>0</td>\n",
       "    </tr>\n",
       "    <tr>\n",
       "      <th>...</th>\n",
       "      <td>...</td>\n",
       "      <td>...</td>\n",
       "      <td>...</td>\n",
       "      <td>...</td>\n",
       "      <td>...</td>\n",
       "      <td>...</td>\n",
       "      <td>...</td>\n",
       "      <td>...</td>\n",
       "      <td>...</td>\n",
       "      <td>...</td>\n",
       "      <td>...</td>\n",
       "      <td>...</td>\n",
       "      <td>...</td>\n",
       "      <td>...</td>\n",
       "      <td>...</td>\n",
       "      <td>...</td>\n",
       "      <td>...</td>\n",
       "      <td>...</td>\n",
       "      <td>...</td>\n",
       "      <td>...</td>\n",
       "      <td>...</td>\n",
       "    </tr>\n",
       "    <tr>\n",
       "      <th>2925</th>\n",
       "      <td>0</td>\n",
       "      <td>0</td>\n",
       "      <td>0</td>\n",
       "      <td>0</td>\n",
       "      <td>0</td>\n",
       "      <td>0</td>\n",
       "      <td>0</td>\n",
       "      <td>0</td>\n",
       "      <td>0</td>\n",
       "      <td>0</td>\n",
       "      <td>...</td>\n",
       "      <td>0</td>\n",
       "      <td>0</td>\n",
       "      <td>0</td>\n",
       "      <td>0</td>\n",
       "      <td>0</td>\n",
       "      <td>0</td>\n",
       "      <td>0</td>\n",
       "      <td>0</td>\n",
       "      <td>1</td>\n",
       "      <td>0</td>\n",
       "    </tr>\n",
       "    <tr>\n",
       "      <th>2903</th>\n",
       "      <td>0</td>\n",
       "      <td>0</td>\n",
       "      <td>0</td>\n",
       "      <td>0</td>\n",
       "      <td>0</td>\n",
       "      <td>0</td>\n",
       "      <td>0</td>\n",
       "      <td>0</td>\n",
       "      <td>0</td>\n",
       "      <td>0</td>\n",
       "      <td>...</td>\n",
       "      <td>0</td>\n",
       "      <td>0</td>\n",
       "      <td>0</td>\n",
       "      <td>0</td>\n",
       "      <td>0</td>\n",
       "      <td>0</td>\n",
       "      <td>0</td>\n",
       "      <td>0</td>\n",
       "      <td>1</td>\n",
       "      <td>0</td>\n",
       "    </tr>\n",
       "    <tr>\n",
       "      <th>3410</th>\n",
       "      <td>0</td>\n",
       "      <td>0</td>\n",
       "      <td>0</td>\n",
       "      <td>0</td>\n",
       "      <td>0</td>\n",
       "      <td>0</td>\n",
       "      <td>0</td>\n",
       "      <td>0</td>\n",
       "      <td>0</td>\n",
       "      <td>0</td>\n",
       "      <td>...</td>\n",
       "      <td>0</td>\n",
       "      <td>0</td>\n",
       "      <td>0</td>\n",
       "      <td>0</td>\n",
       "      <td>0</td>\n",
       "      <td>0</td>\n",
       "      <td>0</td>\n",
       "      <td>0</td>\n",
       "      <td>1</td>\n",
       "      <td>0</td>\n",
       "    </tr>\n",
       "    <tr>\n",
       "      <th>1581</th>\n",
       "      <td>0</td>\n",
       "      <td>0</td>\n",
       "      <td>0</td>\n",
       "      <td>0</td>\n",
       "      <td>0</td>\n",
       "      <td>0</td>\n",
       "      <td>0</td>\n",
       "      <td>0</td>\n",
       "      <td>0</td>\n",
       "      <td>0</td>\n",
       "      <td>...</td>\n",
       "      <td>0</td>\n",
       "      <td>0</td>\n",
       "      <td>0</td>\n",
       "      <td>0</td>\n",
       "      <td>0</td>\n",
       "      <td>0</td>\n",
       "      <td>0</td>\n",
       "      <td>0</td>\n",
       "      <td>1</td>\n",
       "      <td>0</td>\n",
       "    </tr>\n",
       "    <tr>\n",
       "      <th>4229</th>\n",
       "      <td>0</td>\n",
       "      <td>0</td>\n",
       "      <td>0</td>\n",
       "      <td>0</td>\n",
       "      <td>0</td>\n",
       "      <td>0</td>\n",
       "      <td>0</td>\n",
       "      <td>0</td>\n",
       "      <td>0</td>\n",
       "      <td>0</td>\n",
       "      <td>...</td>\n",
       "      <td>0</td>\n",
       "      <td>0</td>\n",
       "      <td>0</td>\n",
       "      <td>0</td>\n",
       "      <td>0</td>\n",
       "      <td>0</td>\n",
       "      <td>0</td>\n",
       "      <td>0</td>\n",
       "      <td>1</td>\n",
       "      <td>0</td>\n",
       "    </tr>\n",
       "  </tbody>\n",
       "</table>\n",
       "<p>3065 rows × 30 columns</p>\n",
       "</div>"
      ],
      "text/plain": [
       "      in_actuals  baseline  tree_maxdepth1  tree_maxdepth2  tree_maxdepth3  \\\n",
       "448            0         0               0               0               0   \n",
       "4128           0         0               0               0               0   \n",
       "4699           0         0               0               0               0   \n",
       "5035           0         0               0               0               0   \n",
       "3007           0         0               0               0               0   \n",
       "...          ...       ...             ...             ...             ...   \n",
       "2925           0         0               0               0               0   \n",
       "2903           0         0               0               0               0   \n",
       "3410           0         0               0               0               0   \n",
       "1581           0         0               0               0               0   \n",
       "4229           0         0               0               0               0   \n",
       "\n",
       "      tree_maxdepth5  tree_maxdepth10  rf_depth1  rf_depth2  rf_depth3  ...  \\\n",
       "448                0                0          0          0          0  ...   \n",
       "4128               0                0          0          0          0  ...   \n",
       "4699               0                0          0          0          0  ...   \n",
       "5035               0                0          0          0          0  ...   \n",
       "3007               0                0          0          0          0  ...   \n",
       "...              ...              ...        ...        ...        ...  ...   \n",
       "2925               0                0          0          0          0  ...   \n",
       "2903               0                0          0          0          0  ...   \n",
       "3410               0                0          0          0          0  ...   \n",
       "1581               0                0          0          0          0  ...   \n",
       "4229               0                0          0          0          0  ...   \n",
       "\n",
       "      nb_vsmooth0.01  nb_vsmooth10  nb_vsmooth100  knn_n3  knn_n5  knn_n10  \\\n",
       "448                0             0              0       0       0        0   \n",
       "4128               1             0              0       0       0        0   \n",
       "4699               0             0              0       0       0        0   \n",
       "5035               0             0              0       0       0        0   \n",
       "3007               0             0              0       0       0        0   \n",
       "...              ...           ...            ...     ...     ...      ...   \n",
       "2925               0             0              0       0       0        0   \n",
       "2903               0             0              0       0       0        0   \n",
       "3410               0             0              0       0       0        0   \n",
       "1581               0             0              0       0       0        0   \n",
       "4229               0             0              0       0       0        0   \n",
       "\n",
       "      knn_n25  knn_n75  manual_baseline  nb_best_model  \n",
       "448         0        0                1              0  \n",
       "4128        0        0                1              1  \n",
       "4699        0        0                1              0  \n",
       "5035        0        0                1              0  \n",
       "3007        0        0                1              0  \n",
       "...       ...      ...              ...            ...  \n",
       "2925        0        0                1              0  \n",
       "2903        0        0                1              0  \n",
       "3410        0        0                1              0  \n",
       "1581        0        0                1              0  \n",
       "4229        0        0                1              0  \n",
       "\n",
       "[3065 rows x 30 columns]"
      ]
     },
     "execution_count": 57,
     "metadata": {},
     "output_type": "execute_result"
    }
   ],
   "source": [
    "# pd.set_option(\"display.max_rows\", None, \"display.max_columns\", None)\n",
    "pd.reset_option(\"display.max_rows\", \"display.max_columns\")\n",
    "y_train_predictions"
   ]
  },
  {
   "cell_type": "code",
   "execution_count": 39,
   "id": "9b091f46",
   "metadata": {},
   "outputs": [],
   "source": [
    "# calculate accuracy and recall for in- and out-sample predictions\n",
    "running_df = model.print_classification_results(y_train_predictions, y_validate_predictions)"
   ]
  },
  {
   "cell_type": "code",
   "execution_count": 40,
   "id": "f1c9aa1f",
   "metadata": {},
   "outputs": [
    {
     "data": {
      "text/html": [
       "<div>\n",
       "<style scoped>\n",
       "    .dataframe tbody tr th:only-of-type {\n",
       "        vertical-align: middle;\n",
       "    }\n",
       "\n",
       "    .dataframe tbody tr th {\n",
       "        vertical-align: top;\n",
       "    }\n",
       "\n",
       "    .dataframe thead th {\n",
       "        text-align: right;\n",
       "    }\n",
       "</style>\n",
       "<table border=\"1\" class=\"dataframe\">\n",
       "  <thead>\n",
       "    <tr style=\"text-align: right;\">\n",
       "      <th></th>\n",
       "      <th>Model</th>\n",
       "      <th>InSample_Accuracy</th>\n",
       "      <th>OutSample_Accuracy</th>\n",
       "      <th>InSample_Recall</th>\n",
       "      <th>OutSample_Recall</th>\n",
       "    </tr>\n",
       "  </thead>\n",
       "  <tbody>\n",
       "    <tr>\n",
       "      <th>27</th>\n",
       "      <td>manual_baseline</td>\n",
       "      <td>0.049266</td>\n",
       "      <td>0.043053</td>\n",
       "      <td>1.000000</td>\n",
       "      <td>1.000000</td>\n",
       "    </tr>\n",
       "    <tr>\n",
       "      <th>12</th>\n",
       "      <td>nb_vsmooth1e-09</td>\n",
       "      <td>0.351387</td>\n",
       "      <td>0.354207</td>\n",
       "      <td>0.980132</td>\n",
       "      <td>1.000000</td>\n",
       "    </tr>\n",
       "    <tr>\n",
       "      <th>13</th>\n",
       "      <td>nb_vsmooth1e-08</td>\n",
       "      <td>0.377162</td>\n",
       "      <td>0.383562</td>\n",
       "      <td>0.980132</td>\n",
       "      <td>1.000000</td>\n",
       "    </tr>\n",
       "    <tr>\n",
       "      <th>14</th>\n",
       "      <td>nb_vsmooth1e-07</td>\n",
       "      <td>0.424144</td>\n",
       "      <td>0.428571</td>\n",
       "      <td>0.953642</td>\n",
       "      <td>0.931818</td>\n",
       "    </tr>\n",
       "    <tr>\n",
       "      <th>15</th>\n",
       "      <td>nb_vsmooth1e-06</td>\n",
       "      <td>0.497879</td>\n",
       "      <td>0.510763</td>\n",
       "      <td>0.920530</td>\n",
       "      <td>0.909091</td>\n",
       "    </tr>\n",
       "    <tr>\n",
       "      <th>16</th>\n",
       "      <td>nb_vsmooth1e-05</td>\n",
       "      <td>0.578467</td>\n",
       "      <td>0.588063</td>\n",
       "      <td>0.894040</td>\n",
       "      <td>0.886364</td>\n",
       "    </tr>\n",
       "    <tr>\n",
       "      <th>17</th>\n",
       "      <td>nb_vsmooth0.0001</td>\n",
       "      <td>0.688091</td>\n",
       "      <td>0.695695</td>\n",
       "      <td>0.807947</td>\n",
       "      <td>0.795455</td>\n",
       "    </tr>\n",
       "    <tr>\n",
       "      <th>18</th>\n",
       "      <td>nb_vsmooth0.001</td>\n",
       "      <td>0.769984</td>\n",
       "      <td>0.785714</td>\n",
       "      <td>0.695364</td>\n",
       "      <td>0.659091</td>\n",
       "    </tr>\n",
       "    <tr>\n",
       "      <th>19</th>\n",
       "      <td>nb_vsmooth0.01</td>\n",
       "      <td>0.825122</td>\n",
       "      <td>0.839530</td>\n",
       "      <td>0.569536</td>\n",
       "      <td>0.545455</td>\n",
       "    </tr>\n",
       "    <tr>\n",
       "      <th>5</th>\n",
       "      <td>tree_maxdepth10</td>\n",
       "      <td>0.979772</td>\n",
       "      <td>0.947162</td>\n",
       "      <td>0.602649</td>\n",
       "      <td>0.159091</td>\n",
       "    </tr>\n",
       "    <tr>\n",
       "      <th>22</th>\n",
       "      <td>knn_n3</td>\n",
       "      <td>0.956281</td>\n",
       "      <td>0.951076</td>\n",
       "      <td>0.172185</td>\n",
       "      <td>0.022727</td>\n",
       "    </tr>\n",
       "    <tr>\n",
       "      <th>26</th>\n",
       "      <td>knn_n75</td>\n",
       "      <td>0.950734</td>\n",
       "      <td>0.956947</td>\n",
       "      <td>0.000000</td>\n",
       "      <td>0.000000</td>\n",
       "    </tr>\n",
       "    <tr>\n",
       "      <th>25</th>\n",
       "      <td>knn_n25</td>\n",
       "      <td>0.951060</td>\n",
       "      <td>0.956947</td>\n",
       "      <td>0.006623</td>\n",
       "      <td>0.000000</td>\n",
       "    </tr>\n",
       "    <tr>\n",
       "      <th>24</th>\n",
       "      <td>knn_n10</td>\n",
       "      <td>0.951387</td>\n",
       "      <td>0.956947</td>\n",
       "      <td>0.019868</td>\n",
       "      <td>0.000000</td>\n",
       "    </tr>\n",
       "    <tr>\n",
       "      <th>23</th>\n",
       "      <td>knn_n5</td>\n",
       "      <td>0.953670</td>\n",
       "      <td>0.954990</td>\n",
       "      <td>0.086093</td>\n",
       "      <td>0.000000</td>\n",
       "    </tr>\n",
       "    <tr>\n",
       "      <th>21</th>\n",
       "      <td>nb_vsmooth100</td>\n",
       "      <td>0.950734</td>\n",
       "      <td>0.956947</td>\n",
       "      <td>0.000000</td>\n",
       "      <td>0.000000</td>\n",
       "    </tr>\n",
       "    <tr>\n",
       "      <th>20</th>\n",
       "      <td>nb_vsmooth10</td>\n",
       "      <td>0.950734</td>\n",
       "      <td>0.956947</td>\n",
       "      <td>0.000000</td>\n",
       "      <td>0.000000</td>\n",
       "    </tr>\n",
       "    <tr>\n",
       "      <th>4</th>\n",
       "      <td>tree_maxdepth5</td>\n",
       "      <td>0.954323</td>\n",
       "      <td>0.954990</td>\n",
       "      <td>0.119205</td>\n",
       "      <td>0.000000</td>\n",
       "    </tr>\n",
       "    <tr>\n",
       "      <th>1</th>\n",
       "      <td>tree_maxdepth1</td>\n",
       "      <td>0.950734</td>\n",
       "      <td>0.956947</td>\n",
       "      <td>0.000000</td>\n",
       "      <td>0.000000</td>\n",
       "    </tr>\n",
       "    <tr>\n",
       "      <th>2</th>\n",
       "      <td>tree_maxdepth2</td>\n",
       "      <td>0.950734</td>\n",
       "      <td>0.956947</td>\n",
       "      <td>0.000000</td>\n",
       "      <td>0.000000</td>\n",
       "    </tr>\n",
       "    <tr>\n",
       "      <th>3</th>\n",
       "      <td>tree_maxdepth3</td>\n",
       "      <td>0.950734</td>\n",
       "      <td>0.956947</td>\n",
       "      <td>0.000000</td>\n",
       "      <td>0.000000</td>\n",
       "    </tr>\n",
       "    <tr>\n",
       "      <th>11</th>\n",
       "      <td>logit</td>\n",
       "      <td>0.951387</td>\n",
       "      <td>0.956947</td>\n",
       "      <td>0.013245</td>\n",
       "      <td>0.000000</td>\n",
       "    </tr>\n",
       "    <tr>\n",
       "      <th>10</th>\n",
       "      <td>rf_depth10</td>\n",
       "      <td>0.969984</td>\n",
       "      <td>0.955969</td>\n",
       "      <td>0.390728</td>\n",
       "      <td>0.000000</td>\n",
       "    </tr>\n",
       "    <tr>\n",
       "      <th>9</th>\n",
       "      <td>rf_depth5</td>\n",
       "      <td>0.951387</td>\n",
       "      <td>0.956947</td>\n",
       "      <td>0.013245</td>\n",
       "      <td>0.000000</td>\n",
       "    </tr>\n",
       "    <tr>\n",
       "      <th>8</th>\n",
       "      <td>rf_depth3</td>\n",
       "      <td>0.950734</td>\n",
       "      <td>0.956947</td>\n",
       "      <td>0.000000</td>\n",
       "      <td>0.000000</td>\n",
       "    </tr>\n",
       "    <tr>\n",
       "      <th>7</th>\n",
       "      <td>rf_depth2</td>\n",
       "      <td>0.950734</td>\n",
       "      <td>0.956947</td>\n",
       "      <td>0.000000</td>\n",
       "      <td>0.000000</td>\n",
       "    </tr>\n",
       "    <tr>\n",
       "      <th>6</th>\n",
       "      <td>rf_depth1</td>\n",
       "      <td>0.950734</td>\n",
       "      <td>0.956947</td>\n",
       "      <td>0.000000</td>\n",
       "      <td>0.000000</td>\n",
       "    </tr>\n",
       "    <tr>\n",
       "      <th>0</th>\n",
       "      <td>baseline</td>\n",
       "      <td>0.950734</td>\n",
       "      <td>0.956947</td>\n",
       "      <td>0.000000</td>\n",
       "      <td>0.000000</td>\n",
       "    </tr>\n",
       "  </tbody>\n",
       "</table>\n",
       "</div>"
      ],
      "text/plain": [
       "               Model  InSample_Accuracy  OutSample_Accuracy  InSample_Recall  \\\n",
       "27   manual_baseline           0.049266            0.043053         1.000000   \n",
       "12   nb_vsmooth1e-09           0.351387            0.354207         0.980132   \n",
       "13   nb_vsmooth1e-08           0.377162            0.383562         0.980132   \n",
       "14   nb_vsmooth1e-07           0.424144            0.428571         0.953642   \n",
       "15   nb_vsmooth1e-06           0.497879            0.510763         0.920530   \n",
       "16   nb_vsmooth1e-05           0.578467            0.588063         0.894040   \n",
       "17  nb_vsmooth0.0001           0.688091            0.695695         0.807947   \n",
       "18   nb_vsmooth0.001           0.769984            0.785714         0.695364   \n",
       "19    nb_vsmooth0.01           0.825122            0.839530         0.569536   \n",
       "5    tree_maxdepth10           0.979772            0.947162         0.602649   \n",
       "22            knn_n3           0.956281            0.951076         0.172185   \n",
       "26           knn_n75           0.950734            0.956947         0.000000   \n",
       "25           knn_n25           0.951060            0.956947         0.006623   \n",
       "24           knn_n10           0.951387            0.956947         0.019868   \n",
       "23            knn_n5           0.953670            0.954990         0.086093   \n",
       "21     nb_vsmooth100           0.950734            0.956947         0.000000   \n",
       "20      nb_vsmooth10           0.950734            0.956947         0.000000   \n",
       "4     tree_maxdepth5           0.954323            0.954990         0.119205   \n",
       "1     tree_maxdepth1           0.950734            0.956947         0.000000   \n",
       "2     tree_maxdepth2           0.950734            0.956947         0.000000   \n",
       "3     tree_maxdepth3           0.950734            0.956947         0.000000   \n",
       "11             logit           0.951387            0.956947         0.013245   \n",
       "10        rf_depth10           0.969984            0.955969         0.390728   \n",
       "9          rf_depth5           0.951387            0.956947         0.013245   \n",
       "8          rf_depth3           0.950734            0.956947         0.000000   \n",
       "7          rf_depth2           0.950734            0.956947         0.000000   \n",
       "6          rf_depth1           0.950734            0.956947         0.000000   \n",
       "0           baseline           0.950734            0.956947         0.000000   \n",
       "\n",
       "    OutSample_Recall  \n",
       "27          1.000000  \n",
       "12          1.000000  \n",
       "13          1.000000  \n",
       "14          0.931818  \n",
       "15          0.909091  \n",
       "16          0.886364  \n",
       "17          0.795455  \n",
       "18          0.659091  \n",
       "19          0.545455  \n",
       "5           0.159091  \n",
       "22          0.022727  \n",
       "26          0.000000  \n",
       "25          0.000000  \n",
       "24          0.000000  \n",
       "23          0.000000  \n",
       "21          0.000000  \n",
       "20          0.000000  \n",
       "4           0.000000  \n",
       "1           0.000000  \n",
       "2           0.000000  \n",
       "3           0.000000  \n",
       "11          0.000000  \n",
       "10          0.000000  \n",
       "9           0.000000  \n",
       "8           0.000000  \n",
       "7           0.000000  \n",
       "6           0.000000  \n",
       "0           0.000000  "
      ]
     },
     "execution_count": 40,
     "metadata": {},
     "output_type": "execute_result"
    }
   ],
   "source": [
    "# display accuracies and recalls for each model, sorting for best out-sample recall\n",
    "running_df.sort_values(by='OutSample_Recall', ascending=False)"
   ]
  },
  {
   "cell_type": "markdown",
   "id": "0b711dbe-32ea-4a1d-b5bf-a1603783a739",
   "metadata": {},
   "source": [
    "# Test"
   ]
  },
  {
   "cell_type": "code",
   "execution_count": null,
   "id": "17fca023-1c4b-4d96-9216-92833585566c",
   "metadata": {},
   "outputs": [],
   "source": []
  },
  {
   "cell_type": "code",
   "execution_count": 44,
   "id": "ba76b188-947b-4a9a-9bf7-0842c2ac96af",
   "metadata": {},
   "outputs": [],
   "source": [
    "# create naive bayes model\n",
    "nb = GaussianNB(var_smoothing=0.00001).fit(X_train, y_train_predictions.in_actuals)\n",
    "# make predictions in new column\n",
    "y_train_predictions['nb_best_model'] = nb.predict(X_train)\n",
    "y_test = pd.DataFrame(y_test).rename(columns={'stroke':'out_actuals'})\n",
    "y_test['nb_best_model']= nb.predict(X_test)\n"
   ]
  },
  {
   "cell_type": "code",
   "execution_count": null,
   "id": "c27f634a-f265-4113-b178-7cf537b76ead",
   "metadata": {},
   "outputs": [],
   "source": []
  },
  {
   "cell_type": "code",
   "execution_count": 46,
   "id": "9d9575a2-ec7e-43fa-b8bc-e6e22a770315",
   "metadata": {},
   "outputs": [
    {
     "data": {
      "text/html": [
       "<div>\n",
       "<style scoped>\n",
       "    .dataframe tbody tr th:only-of-type {\n",
       "        vertical-align: middle;\n",
       "    }\n",
       "\n",
       "    .dataframe tbody tr th {\n",
       "        vertical-align: top;\n",
       "    }\n",
       "\n",
       "    .dataframe thead th {\n",
       "        text-align: right;\n",
       "    }\n",
       "</style>\n",
       "<table border=\"1\" class=\"dataframe\">\n",
       "  <thead>\n",
       "    <tr style=\"text-align: right;\">\n",
       "      <th></th>\n",
       "      <th>Model</th>\n",
       "      <th>InSample_Accuracy</th>\n",
       "      <th>OutSample_Accuracy</th>\n",
       "      <th>InSample_Recall</th>\n",
       "      <th>OutSample_Recall</th>\n",
       "    </tr>\n",
       "  </thead>\n",
       "  <tbody>\n",
       "    <tr>\n",
       "      <th>0</th>\n",
       "      <td>nb_best_model</td>\n",
       "      <td>0.854812</td>\n",
       "      <td>0.83953</td>\n",
       "      <td>0.490066</td>\n",
       "      <td>0.37037</td>\n",
       "    </tr>\n",
       "  </tbody>\n",
       "</table>\n",
       "</div>"
      ],
      "text/plain": [
       "           Model  InSample_Accuracy  OutSample_Accuracy  InSample_Recall  \\\n",
       "0  nb_best_model           0.854812             0.83953         0.490066   \n",
       "\n",
       "   OutSample_Recall  \n",
       "0           0.37037  "
      ]
     },
     "execution_count": 46,
     "metadata": {},
     "output_type": "execute_result"
    }
   ],
   "source": [
    "model.print_classification_results(y_train_predictions[['in_actuals','nb_best_model']], y_test[['out_actuals','nb_best_model']])"
   ]
  },
  {
   "cell_type": "markdown",
   "id": "fc7414e1-5942-420a-b24f-933519ec52a2",
   "metadata": {},
   "source": [
    "# Model Takeaways:\n",
    "- Our best model was Naive-Bayes with var_smoothing of 0.00001\n",
    "- We outperformed the baseline in OutSample_Accuracy\n",
    "- manual_baseline OutSample_Accuracy = 0.043053, outSample_recall = 1.00\n",
    "- nb_best_model OutSample_Accuracy = 0.83953, OutSample_Recall = 0.37037\n",
    "\n"
   ]
  },
  {
   "cell_type": "code",
   "execution_count": null,
   "id": "02092f12-cad2-43c3-bc31-7a654b28ce1f",
   "metadata": {},
   "outputs": [],
   "source": []
  },
  {
   "cell_type": "code",
   "execution_count": null,
   "id": "8941d831-2c33-4e44-8047-a3e30ab105c0",
   "metadata": {},
   "outputs": [],
   "source": []
  },
  {
   "cell_type": "markdown",
   "id": "99ee7296-36c3-4992-a2bf-46ec7201d59c",
   "metadata": {},
   "source": [
    "# Conclusion"
   ]
  },
  {
   "cell_type": "markdown",
   "id": "c66f2e6c-ca26-4f4c-9b33-48624a645761",
   "metadata": {},
   "source": [
    "### Findings: \n",
    "> - There is a relationship between average glucose level and bmi.\n",
    "> - People over 65 years old are more likely to have a stroke than people under 65\n",
    "> - People that currently smoke have a higher risk of stroke than people that don’t currently smoke.\n",
    "> - We can not say with 95% confidence that Men are more at risk for stroke than women.\n",
    "> - Our best model was Naive-Bayes with var_smoothing of 0.00001\n"
   ]
  },
  {
   "cell_type": "markdown",
   "id": "3fda4dc6-2e13-4d76-b248-bc6eafb38015",
   "metadata": {},
   "source": [
    "# Recommendations:\n",
    "- People who fall into any of the above mentioned categories should be cognizant of their increased risk.\n",
    "- We recommend getting checked regularly by your physician, especially if you are over the age of 65. "
   ]
  },
  {
   "cell_type": "markdown",
   "id": "521f2286-0828-40f6-8b1d-dc47ee83c9a4",
   "metadata": {},
   "source": [
    "# If we had more time...\n",
    "- We would explore different combinations of features that could help predict stroke, and whether or not some are independant of others. \n"
   ]
  },
  {
   "cell_type": "code",
   "execution_count": null,
   "id": "b53a6b14-3200-4f20-a7fc-0de40be97e6a",
   "metadata": {},
   "outputs": [],
   "source": []
  }
 ],
 "metadata": {
  "kernelspec": {
   "display_name": "Python 3",
   "language": "python",
   "name": "python3"
  },
  "language_info": {
   "codemirror_mode": {
    "name": "ipython",
    "version": 3
   },
   "file_extension": ".py",
   "mimetype": "text/x-python",
   "name": "python",
   "nbconvert_exporter": "python",
   "pygments_lexer": "ipython3",
   "version": "3.8.8"
  }
 },
 "nbformat": 4,
 "nbformat_minor": 5
}
