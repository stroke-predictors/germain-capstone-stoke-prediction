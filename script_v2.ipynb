{
 "cells": [
  {
   "cell_type": "code",
   "execution_count": 1,
   "id": "19be226d-4563-4761-90cc-e2dd7f477a95",
   "metadata": {},
   "outputs": [],
   "source": [
    "# Script_v2"
   ]
  },
  {
   "cell_type": "code",
   "execution_count": null,
   "id": "b4b66cb4-1a08-49c4-9ae0-f7cda498850a",
   "metadata": {},
   "outputs": [],
   "source": []
  }
 ],
 "metadata": {
  "kernelspec": {
   "display_name": "Python 3",
   "language": "python",
   "name": "python3"
  },
  "language_info": {
   "codemirror_mode": {
    "name": "ipython",
    "version": 3
   },
   "file_extension": ".py",
   "mimetype": "text/x-python",
   "name": "python",
   "nbconvert_exporter": "python",
   "pygments_lexer": "ipython3",
   "version": "3.8.8"
  }
 },
 "nbformat": 4,
 "nbformat_minor": 5
}
