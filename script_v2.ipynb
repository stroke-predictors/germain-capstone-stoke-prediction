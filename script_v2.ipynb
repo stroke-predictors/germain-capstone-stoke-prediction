{
 "cells": [
  {
   "cell_type": "code",
   "execution_count": 1,
   "id": "19be226d-4563-4761-90cc-e2dd7f477a95",
   "metadata": {},
   "outputs": [],
   "source": [
    "# Script_v2\n",
    "\n",
    "#Make imports\n",
    "# call post_analysis_model_prep()\n",
    "# make model\n",
    "# take user input and put inside dictionary\n",
    "# run user input against model and make a prediction\n",
    "# output prediction"
   ]
  },
  {
   "cell_type": "code",
   "execution_count": 6,
   "id": "1df0b15d-6d7a-455a-b6c1-b61df698aaae",
   "metadata": {},
   "outputs": [],
   "source": [
    "import numpy as np\n",
    "import pandas as pd\n",
    "from sklearn.model_selection import train_test_split\n",
    "from sklearn.tree import DecisionTreeClassifier"
   ]
  },
  {
   "cell_type": "code",
   "execution_count": 3,
   "id": "b4b66cb4-1a08-49c4-9ae0-f7cda498850a",
   "metadata": {},
   "outputs": [],
   "source": [
    "def post_analysis_model_prep():\n",
    "    \"\"\" \n",
    "        Acquires the required data for modeling,\n",
    "        Selects columns chosen from exploration,\n",
    "        Encodes ever_married, hypertension, and heart_disease columns,\n",
    "        Splits data into train (60%), validate (20%), and test (20%),\n",
    "        Isolates target from each split into X and y,\n",
    "        Applies SMOTE+Tomek oversampling to address the class imbalance, and\n",
    "        Returns the dataframes.\n",
    "    \"\"\"\n",
    "    # acquire data\n",
    "    df = pd.read_csv('healthcare-dataset-stroke-data.csv')\n",
    "    # select columns\n",
    "    df = df[['stroke','hypertension','heart_disease','ever_married','avg_glucose_level', 'age']]\n",
    "    # encode columns\n",
    "    df = pd.get_dummies(df, columns=['hypertension','heart_disease','ever_married'])\n",
    "    # split data\n",
    "    trainvalidate, test = train_test_split(df, test_size=.2, random_state=777)\n",
    "    train, validate = train_test_split(trainvalidate, test_size=.25, random_state=777)\n",
    "    # isolate target\n",
    "    X_train, y_train = train.drop(columns='stroke'), train.stroke\n",
    "    X_validate, y_validate = validate.drop(columns='stroke'), validate.stroke\n",
    "    X_test, y_test = test.drop(columns='stroke'), test.stroke\n",
    "    # apply SMOTE+Tomek oversampling\n",
    "    X_train_smtom, y_train_smtom = model.smoter(X_train, y_train)\n",
    "\n",
    "    # return dataframes\n",
    "    return X_train_smtom, y_train_smtom, X_validate, y_validate, X_test, y_test"
   ]
  },
  {
   "cell_type": "code",
   "execution_count": 4,
   "id": "9858559d-8ede-42c2-84a1-91b99d744cee",
   "metadata": {},
   "outputs": [
    {
     "name": "stdout",
     "output_type": "stream",
     "text": [
      "Before SMOTE applied: (3066, 8) (3066,)\n",
      "After SMOTE applied: (5614, 8) (5614,)\n"
     ]
    }
   ],
   "source": [
    "X_train, y_train, X_validate, y_validate, X_test, y_test = post_analysis_model_prep()"
   ]
  },
  {
   "cell_type": "code",
   "execution_count": 5,
   "id": "ce07b99d-f315-46dd-834a-624bc3cf022c",
   "metadata": {},
   "outputs": [
    {
     "data": {
      "text/plain": [
       "((5614, 8), (5614,), (1022, 8), (1022,), (1022, 8), (1022,))"
      ]
     },
     "execution_count": 5,
     "metadata": {},
     "output_type": "execute_result"
    }
   ],
   "source": [
    "X_train.shape, y_train.shape, X_validate.shape, y_validate.shape, X_test.shape, y_test.shape"
   ]
  },
  {
   "cell_type": "code",
   "execution_count": 7,
   "id": "d546f220-ddb7-410f-a4f5-4be64ea1ea7e",
   "metadata": {},
   "outputs": [],
   "source": [
    "tree = DecisionTreeClassifier(max_depth=1, random_state=123).fit(X_train, y_train)"
   ]
  },
  {
   "cell_type": "code",
   "execution_count": 8,
   "id": "acbaf145-9679-424a-ade7-66ec9d022e22",
   "metadata": {},
   "outputs": [],
   "source": [
    "# def decisiontree(X_insample, y_insample, X_outsample, y_outsample):\n",
    "#     \"\"\" Creates decision trees with max_depth 1,2,3,5,10 and random_state=123 \"\"\"\n",
    "#     # set loop list\n",
    "#     max_depths = [1]\n",
    "#     # loop through max depths\n",
    "#     for depth in max_depths:\n",
    "#         # create decision trees\n",
    "#         tree = DecisionTreeClassifier(max_depth=depth, random_state=123)\\\n",
    "#             .fit(X_insample, y_insample.in_actuals)\n",
    "#         # make predictions in new columns\n",
    "#         y_insample['tree_maxdepth' + str(depth)] = tree.predict(X_insample)\n",
    "#         y_outsample['tree_maxdepth' + str(depth)] = tree.predict(X_outsample)\n",
    "\n",
    "#     return y_insample, y_outsample # return dataframe with predictions appended"
   ]
  },
  {
   "cell_type": "code",
   "execution_count": 16,
   "id": "620058fc-cd53-468e-8060-c2bcb6e28b50",
   "metadata": {},
   "outputs": [
    {
     "data": {
      "text/html": [
       "<div>\n",
       "<style scoped>\n",
       "    .dataframe tbody tr th:only-of-type {\n",
       "        vertical-align: middle;\n",
       "    }\n",
       "\n",
       "    .dataframe tbody tr th {\n",
       "        vertical-align: top;\n",
       "    }\n",
       "\n",
       "    .dataframe thead th {\n",
       "        text-align: right;\n",
       "    }\n",
       "</style>\n",
       "<table border=\"1\" class=\"dataframe\">\n",
       "  <thead>\n",
       "    <tr style=\"text-align: right;\">\n",
       "      <th></th>\n",
       "      <th>avg_glucose_level</th>\n",
       "      <th>age</th>\n",
       "      <th>hypertension_0</th>\n",
       "      <th>hypertension_1</th>\n",
       "      <th>heart_disease_0</th>\n",
       "      <th>heart_disease_1</th>\n",
       "      <th>ever_married_No</th>\n",
       "      <th>ever_married_Yes</th>\n",
       "    </tr>\n",
       "  </thead>\n",
       "  <tbody>\n",
       "    <tr>\n",
       "      <th>0</th>\n",
       "      <td>94.77</td>\n",
       "      <td>75.0</td>\n",
       "      <td>1</td>\n",
       "      <td>0</td>\n",
       "      <td>1</td>\n",
       "      <td>0</td>\n",
       "      <td>0</td>\n",
       "      <td>1</td>\n",
       "    </tr>\n",
       "  </tbody>\n",
       "</table>\n",
       "</div>"
      ],
      "text/plain": [
       "   avg_glucose_level   age  hypertension_0  hypertension_1  heart_disease_0  \\\n",
       "0              94.77  75.0               1               0                1   \n",
       "\n",
       "   heart_disease_1  ever_married_No  ever_married_Yes  \n",
       "0                0                0                 1  "
      ]
     },
     "execution_count": 16,
     "metadata": {},
     "output_type": "execute_result"
    }
   ],
   "source": [
    "X_train.head(1)"
   ]
  },
  {
   "cell_type": "code",
   "execution_count": 15,
   "id": "b68bf224-d45c-476e-9499-0c493d49a7bd",
   "metadata": {},
   "outputs": [
    {
     "data": {
      "text/plain": [
       "Index(['avg_glucose_level', 'age', 'hypertension_0', 'hypertension_1',\n",
       "       'heart_disease_0', 'heart_disease_1', 'ever_married_No',\n",
       "       'ever_married_Yes'],\n",
       "      dtype='object')"
      ]
     },
     "execution_count": 15,
     "metadata": {},
     "output_type": "execute_result"
    }
   ],
   "source": [
    "X_train.columns"
   ]
  },
  {
   "cell_type": "code",
   "execution_count": 12,
   "id": "aff72901-898d-4200-b982-e0e2450747a2",
   "metadata": {
    "tags": []
   },
   "outputs": [],
   "source": [
    "user_input = X_train.head(0)"
   ]
  },
  {
   "cell_type": "code",
   "execution_count": 31,
   "id": "6bb7b3c4-19d4-4cc4-9183-62a677496773",
   "metadata": {},
   "outputs": [
    {
     "name": "stdin",
     "output_type": "stream",
     "text": [
      "What is your age? 25\n",
      "What is your glucose level in mg/dL? (0-300) 100\n",
      "Do you have hypertension? yes/no yes\n",
      "Do you have heart disease? yes/no yes\n",
      "Have you ever been married? yes/no no\n"
     ]
    }
   ],
   "source": [
    "age = input('What is your age?') \n",
    "glucose = input('What is your glucose level in mg/dL? (0-300)')\n",
    "ht = input('Do you have hypertension? yes/no')\n",
    "hd = input('Do you have heart disease? yes/no')\n",
    "married = input('Have you ever been married? yes/no')"
   ]
  },
  {
   "cell_type": "code",
   "execution_count": 32,
   "id": "cfdb0ad2-7ee9-43d5-8089-211856471cf9",
   "metadata": {},
   "outputs": [],
   "source": [
    "user_inputdict = {'avg_glucose_level': glucose, \n",
    "                  'age': age, \n",
    "                  'hypertension_0': ht=='no', \n",
    "                  'hypertension_1': ht=='yes',\n",
    "                  'heart_disease_0': hd=='no', \n",
    "                  'heart_disease_1': hd=='yes', \n",
    "                  'ever_married_No': married=='no',\n",
    "                  'ever_married_Yes': married=='yes'\n",
    "                 }"
   ]
  },
  {
   "cell_type": "code",
   "execution_count": 33,
   "id": "eaf02476-7239-4f3a-a997-571692a7ac84",
   "metadata": {},
   "outputs": [
    {
     "data": {
      "text/plain": [
       "{'avg_glucose_level': '100',\n",
       " 'age': '25',\n",
       " 'hypertension_0': False,\n",
       " 'hypertension_1': True,\n",
       " 'heart_disease_0': False,\n",
       " 'heart_disease_1': True,\n",
       " 'ever_married_No': True,\n",
       " 'ever_married_Yes': False}"
      ]
     },
     "execution_count": 33,
     "metadata": {},
     "output_type": "execute_result"
    }
   ],
   "source": [
    "user_inputdict"
   ]
  },
  {
   "cell_type": "code",
   "execution_count": 34,
   "id": "2609066f-2992-4154-9797-692531fda368",
   "metadata": {},
   "outputs": [],
   "source": [
    "user_input1 = user_input.append(user_inputdict, ignore_index=True)"
   ]
  },
  {
   "cell_type": "code",
   "execution_count": 35,
   "id": "61c46148-a7fd-4851-8d6f-1f0eb5dc71e1",
   "metadata": {},
   "outputs": [],
   "source": [
    "pred = tree.predict_proba(user_input1)"
   ]
  },
  {
   "cell_type": "code",
   "execution_count": 36,
   "id": "9443eb35-466b-43aa-bb51-2f9aef16bf49",
   "metadata": {},
   "outputs": [
    {
     "data": {
      "text/plain": [
       "0.10396039603960396"
      ]
     },
     "execution_count": 36,
     "metadata": {},
     "output_type": "execute_result"
    }
   ],
   "source": [
    "pred[0][1]"
   ]
  },
  {
   "cell_type": "code",
   "execution_count": null,
   "id": "370c7443-58f3-4336-b2e1-2b3681fdaa80",
   "metadata": {},
   "outputs": [],
   "source": []
  }
 ],
 "metadata": {
  "kernelspec": {
   "display_name": "Python 3",
   "language": "python",
   "name": "python3"
  },
  "language_info": {
   "codemirror_mode": {
    "name": "ipython",
    "version": 3
   },
   "file_extension": ".py",
   "mimetype": "text/x-python",
   "name": "python",
   "nbconvert_exporter": "python",
   "pygments_lexer": "ipython3",
   "version": "3.8.8"
  }
 },
 "nbformat": 4,
 "nbformat_minor": 5
}
